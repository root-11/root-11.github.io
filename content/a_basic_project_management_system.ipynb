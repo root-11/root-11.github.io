{
 "cells": [
  {
   "attachments": {},
   "cell_type": "markdown",
   "metadata": {},
   "source": [
    "# A very basic project management system\n",
    "\n",
    "Who doesn't need that? Everyone needs something like that at some point in time. \n",
    "\n",
    "So how do you build one?\n",
    "\n",
    "----------\n",
    "\n",
    "Let's start with the nomenclature:\n",
    "\n",
    "**Projects** are directed acyclic graphs (DAGs).\n",
    "\n",
    "DAGs are made of links (indicating dependencies) & nodes (**tasks**).\n",
    "\n",
    "\n",
    "**Tasks & Dependencies** require resources in the form of materials and skills. Skills determine the time for the task to be completed.\n",
    "\n",
    "\n",
    "**Tasks** ...\n",
    "1. have mutually exclusive options. Do task A and B is not required. Dependending on which path is taken, the projects overall completion time may change.\n",
    "2. are repeated. The dependencies allow these to be listed sequentially.\n",
    "3. have deadlines and fines are due if they're exceeded.\n",
    "\n",
    "Projects have a critical path that determines the shortest possible time to completion. \n",
    "\n",
    "\n",
    "**Slack**: Tasks that are not on the critical path have \"slack\" which is the excess time before or after that leads permits earlier or later start(s) without influencing the critical path.\n",
    "\n",
    "\n",
    "**Programmes** programmes are containers of 2 or more projects that must share resources.\n",
    "Multiple programmes do not interwene in one-another. \n"
   ]
  },
  {
   "attachments": {},
   "cell_type": "markdown",
   "metadata": {},
   "source": [
    "At this point we can create programmes, projects and tasks. \n",
    "The next item is then to assure that a cascade of timedeltas are possible, so that the critical path can be calculated.\n",
    "\n",
    "The inconvenient truth is that durations may depend on \"who\" does the task, or more generally, which resources are assigned to the task.\n",
    "This creates a matrix between tasks and resources, and subsequently demands the search for combinations that avoids duplicated assignments.\n",
    "\n",
    "Assuming we have tasks 1,2,3 & 4 and the resources Alice, Bob & Charlie, then we can evaluate how much time each task takes.\n",
    "\n",
    "Let's start with asking ourselves in how many ways Alice, Bob & Charlie can work together?"
   ]
  },
  {
   "cell_type": "code",
   "execution_count": 20,
   "metadata": {},
   "outputs": [],
   "source": [
    "from itertools import chain, combinations\n",
    "\n",
    "def powerset(iterable, min_=0):\n",
    "    \"powerset([1,2,3]) --> (), (1,) (2,) (3,) (1,2) (1,3) (2,3) (1,2,3)\"\n",
    "    s = list(iterable)\n",
    "    return chain.from_iterable(combinations(s, r) for r in range(min_, len(s)+1))"
   ]
  },
  {
   "attachments": {},
   "cell_type": "markdown",
   "metadata": {},
   "source": [
    "Next we ask each of them how much time a task takes:"
   ]
  },
  {
   "cell_type": "code",
   "execution_count": 15,
   "metadata": {},
   "outputs": [],
   "source": [
    "tasks = [1,2,3,4]\n",
    "estimates = {\n",
    "    \"alice\" : [10,11,9,12],  # hours!\n",
    "    \"bob\" : [11,12,11,11],\n",
    "    \"charlie\" : [9,10,9,9]\n",
    "}"
   ]
  },
  {
   "attachments": {},
   "cell_type": "markdown",
   "metadata": {},
   "source": [
    "With assumption is that Alice completes 1/10 task (rate) in the same time that bob complete 1/11 task (also rate), we may estimate how much time would it take if they work together using the harmonic mean."
   ]
  },
  {
   "cell_type": "code",
   "execution_count": 12,
   "metadata": {},
   "outputs": [],
   "source": [
    "def inv_mean(values):\n",
    "    \"\"\"inv_mean([10,11]) --> 5.238 \"\"\"\n",
    "    return 1 / sum(1/n for n in values)"
   ]
  },
  {
   "attachments": {},
   "cell_type": "markdown",
   "metadata": {},
   "source": [
    "So the task may now be computed as:"
   ]
  },
  {
   "cell_type": "code",
   "execution_count": 26,
   "metadata": {},
   "outputs": [
    {
     "name": "stdout",
     "output_type": "stream",
     "text": [
      "1 | 5.2381 | ('alice', 'bob')\n",
      "1 | 4.7368 | ('alice', 'charlie')\n",
      "1 | 4.95 | ('bob', 'charlie')\n",
      "1 | 3.311 | ('alice', 'bob', 'charlie')\n",
      "2 | 5.7391 | ('alice', 'bob')\n",
      "2 | 5.2381 | ('alice', 'charlie')\n",
      "2 | 5.4545 | ('bob', 'charlie')\n",
      "2 | 3.6464 | ('alice', 'bob', 'charlie')\n",
      "3 | 4.95 | ('alice', 'bob')\n",
      "3 | 4.5 | ('alice', 'charlie')\n",
      "3 | 4.95 | ('bob', 'charlie')\n",
      "3 | 3.1935 | ('alice', 'bob', 'charlie')\n",
      "4 | 5.7391 | ('alice', 'bob')\n",
      "4 | 5.1429 | ('alice', 'charlie')\n",
      "4 | 4.95 | ('bob', 'charlie')\n",
      "4 | 3.5044 | ('alice', 'bob', 'charlie')\n"
     ]
    }
   ],
   "source": [
    "team = []\n",
    "for task_index, task in enumerate(tasks):\n",
    "    for person, times in estimates.items():\n",
    "        team.append( (task, times[task_index], (person, )))\n",
    "\n",
    "for task_index, task in enumerate(tasks):\n",
    "    for combination in powerset([\"alice\",\"bob\",\"charlie\"],2):  # (alice, bob)  --> ([10,11,9,12], [11,12,11,11])\n",
    "        times = [estimates[person][task_index] for person in combination]\n",
    "        time = inv_mean(times)\n",
    "        team.append((task, time, combination))\n",
    "        print(task, \"|\", round(time,4), \"|\", combination)"
   ]
  },
  {
   "attachments": {},
   "cell_type": "markdown",
   "metadata": {},
   "source": [
    "If we thereby choose to assign both alice, bob and charlie to the four tasks in the project, we may expect a duration of:"
   ]
  },
  {
   "cell_type": "code",
   "execution_count": 25,
   "metadata": {},
   "outputs": [
    {
     "data": {
      "text/plain": [
       "13.655418794934501"
      ]
     },
     "execution_count": 25,
     "metadata": {},
     "output_type": "execute_result"
    }
   ],
   "source": [
    "sum( [time for task, time, people in team if people == ('alice', 'bob', 'charlie')])"
   ]
  },
  {
   "cell_type": "code",
   "execution_count": 35,
   "metadata": {},
   "outputs": [
    {
     "data": {
      "text/plain": [
       "19.739260869565218"
      ]
     },
     "execution_count": 35,
     "metadata": {},
     "output_type": "execute_result"
    }
   ],
   "source": [
    "sum( [time for task, time, people in team if people == ('alice', 'bob') and task>1]) + 3.311"
   ]
  },
  {
   "attachments": {},
   "cell_type": "markdown",
   "metadata": {},
   "source": [
    "This number is important as this constitutes the lower bound.\n",
    "Likewise the upper upperbound is the worst case assignment:"
   ]
  },
  {
   "cell_type": "code",
   "execution_count": 32,
   "metadata": {},
   "outputs": [
    {
     "name": "stdout",
     "output_type": "stream",
     "text": [
      "1 | bob | 11\n",
      "2 | bob | 12\n",
      "3 | bob | 11\n",
      "4 | alice | 12\n",
      "worst case: 46\n"
     ]
    }
   ],
   "source": [
    "wc = []\n",
    "for task_index, task in enumerate(tasks):\n",
    "    max_value, p_max = 0, None\n",
    "    for person, values in estimates.items():\n",
    "        if values[task_index] > max_value:\n",
    "            max_value = values[task_index]\n",
    "            p_max = person\n",
    "    wc.append( (task, p_max, max_value) )\n",
    "    print(task, \"|\", p_max, \"|\", max_value)\n",
    "\n",
    "print(\"worst case:\", sum( [time for task, person, time in wc]) )"
   ]
  },
  {
   "attachments": {},
   "cell_type": "markdown",
   "metadata": {},
   "source": [
    "Depending on how resources may be assigned to other projects, this is the range by which we have to operate. \n",
    "\n",
    "To great realisation, this also means that the critical path is thereby in the range from $[13.66; 46]$. I'm not sure many project management tools include this aspect. I certainly haven't seen this comparison before."
   ]
  },
  {
   "attachments": {},
   "cell_type": "markdown",
   "metadata": {},
   "source": [
    "The next aspect is then to figure out how to assign resources across the programmes.\n",
    "Let's for simplicity's sake assume that there are 2 programmes: A and B.\n",
    "\n",
    "- A can start anytime, but must finish by time 20.\n",
    "- B can't start before time 5, but has access restriction which means that task 3 must be done in the time interval $[20;25]$.\n",
    "\n",
    "We know that Alice, Bob & Charlie can work on either project and that the most compressed horizon is with all three working full time on either project: $13.66 * 2 = 27.32$\n",
    "\n",
    "If, for example Alice, Bob & Charlie all work on project A, until project B can be started, then the timeline becomes:\n",
    "\n",
    "Project A\n",
    "\n",
    "| task | start | end | team | comment |\n",
    "|---|---|---|---|---|\n",
    "| 1 | 0.000 | 3.311 | A,B,C | |\n",
    "| 2 | 3.311 | 5.000 | A,B,C | Charlie leaves after 1.689 / 3.6464 units of work = 46.32% |\n",
    "| 2 | 5.000 | 8.081 | A,B |  The remaining work is 100% - 46.32% = 53.68%<br>The A+B time is 5.7391, so 53.68% * 5.7391 = 3.081 |\n",
    "| 3 | 8.081 | 13.031 | A,B ||\n",
    "| 4 | 13.031 | 18.7701 | A,B ||\n",
    "\n",
    "\n",
    "Project B\n",
    "\n",
    "| task | start | end | team | comment |\n",
    "|---|---|---|---|---|\n",
    "| 1 | 5.000 | 14.000 | C | |\n",
    "| 2 | 14.000 | 18.7701 | C | A,B joins at 18.7701 <br> C has done 4.7701 / 10 units of work = 47.7% |\n",
    "| 2 | 18.7701 | 20.677 | A,B,C | A+B+C time is 3.6464 * (100% - 47.7%) = 1.907 |\n",
    "| 3 | 20.677 | 23.871 | A,B,C |\n",
    "| 4 | 23.871 | 27.375 | A,B,C | \n",
    "\n",
    "In this way all project constraints are met.\n"
   ]
  },
  {
   "attachments": {},
   "cell_type": "markdown",
   "metadata": {},
   "source": [
    "With this idea solidly settled, the next job is to determine the algorithm that can identify this solution automatically.\n",
    "\n",
    "However as not all resources are infinitely divisible or commutative, we need to distingush these by decoupling our tasks and resources through an intermediary: \n",
    "\n",
    "![](artwork/project_management_resource_sets.png)"
   ]
  },
  {
   "attachments": {},
   "cell_type": "markdown",
   "metadata": {},
   "source": [
    "This allows us to express that Eric has a boolean commitment, e.g. either do or don't do the whole task, whilst Doris may be able to work on the task at integer steps, e.g. whole hours, whilst Alice, Bob and Charlie can shift at any timestep.\n",
    "\n",
    "We also see that members of Resource Set 1 may be combined in any way to solve the task, and note the distinction that only Charlie and Eric are members of two resource sets.\n",
    "\n",
    "The assignment problem is then to iterate through the resource sets to determine a combination of availability and resource type that is valid. This `subset` of all the possible combinations determine what we may refer to as a \"valid assignment\"."
   ]
  },
  {
   "attachments": {},
   "cell_type": "markdown",
   "metadata": {},
   "source": [
    "## Recap\n",
    "\n",
    "Let's revist our observations for a second:\n",
    "\n",
    "**Definitions**\n",
    "\n",
    "- `Projects` and `Resources` belong to `Programmes` \n",
    "- `Projects` have `Tasks` \n",
    "- `Tasks` may depend on other `Tasks` or `Resources`\n",
    "- `Tasks` have calendars that declare when they may be available for work.\n",
    "- `Resources` have `Calendars` that declare their availability to do work.\n",
    "- `ResourceSets` permit combinations of `Resources` so that tasks may be performed.\n",
    "\n",
    "![](artwork/project_management_class_diagram.png)\n",
    "\n",
    "**Problem definition**\n",
    "\n",
    "The assignment problem is to assure that `Resource` assignments can fulfill `Tasks` with overlapping timewindows.\n",
    "\n",
    "**Other aspects**\n",
    "\n",
    "The project timeline is merely view of the collection of tasks.\n"
   ]
  },
  {
   "attachments": {},
   "cell_type": "markdown",
   "metadata": {},
   "source": [
    "## Time for some Python\n",
    "\n",
    "Let's write some `classes`:"
   ]
  },
  {
   "cell_type": "code",
   "execution_count": null,
   "metadata": {},
   "outputs": [],
   "source": [
    "from itertools import count\n",
    "\n",
    "class Task(object):\n",
    "    _ids = count()\n",
    "    def __init__(self, description) -> None:\n",
    "        assert isinstance(description, str)\n",
    "        self.id = next(Task._ids)\n",
    "        self.type = description\n",
    "        self.deadline = None  # must be datetime\n",
    "        self.fine = None  # must be function that takes a datetime\n",
    "        self.duration = None  # must be timedelta or a callable function (CDF).\n",
    "        self.earliest_start = None  # must be datetime\n",
    "        self.latest_start = None  # must be datetime\n",
    "        self.start = None  # must be datetime\n",
    "        self.finish = None  # must be datetime\n",
    "        \n",
    "    def __hash__(self) -> int:\n",
    "        return hash((self.type, self.id))\n",
    "    \n",
    "    def attach(self, *args):\n",
    "        self.resource_sets.update(args)\n",
    "\n",
    "    def determine_valid_assignments(self):\n",
    "        pass  # iterate through resource sets to determine valid assignments within the resource sets."
   ]
  },
  {
   "cell_type": "code",
   "execution_count": 51,
   "metadata": {},
   "outputs": [],
   "source": [
    "class GenericTask(object):\n",
    "    descriptions = set()\n",
    "    def __init__(self, description, divisible=None, resource_sets=None) -> None:\n",
    "        \n",
    "        if description in GenericTask.descriptions:\n",
    "            raise ValueError(\"description already in usage\")\n",
    "        GenericTask.descriptions.add(description)\n",
    "        self.description = description\n",
    "\n",
    "        if divisible is None:\n",
    "            self.divisible = False\n",
    "        elif isinstance(divisible, (float,int,bool)):\n",
    "            self.divisible = divisible\n",
    "        else:\n",
    "            raise TypeError()\n",
    "    \n",
    "        self.resource_sets = set()\n",
    "        if resource_sets is not None:\n",
    "            self.attach(resource_sets)\n",
    "    \n",
    "    def attach(self, *args):\n",
    "        self.resource_sets.update(args)\n",
    "\n",
    "    def __call__(self) -> Task:\n",
    "        return Task(self.description)\n",
    "    \n",
    "    def __hash__(self) -> int:\n",
    "        return hash(self.description)"
   ]
  },
  {
   "cell_type": "code",
   "execution_count": null,
   "metadata": {},
   "outputs": [],
   "source": [
    "from graph import Graph\n",
    "\n",
    "class Project(object):\n",
    "    _ids = count()\n",
    "    def __init__(self) -> None:\n",
    "        self._id = f\"Project-{next(Project._ids)}\"\n",
    "        self.tasks = {}\n",
    "        self.dependencies = Graph()\n",
    "\n",
    "    def add_task(self):\n",
    "        t = Task(project=self)\n",
    "        self.tasks[t.id] = t\n",
    "        return t\n",
    "\n",
    "    def add_dependency(self, task1, task2):\n",
    "        self.dependencies.add_edge(task1.id, task2.id)\n",
    "\n",
    "    def critical_path(self):  # TODO\n",
    "        pass # returns the critical path in the project\n",
    "    \n",
    "    def propagate(self, task):  # TODO\n",
    "        pass # cascades the start time from `task` downstream."
   ]
  },
  {
   "cell_type": "code",
   "execution_count": null,
   "metadata": {},
   "outputs": [],
   "source": [
    "class Programme(object):\n",
    "    def __init__(self, resources=None) -> None:\n",
    "        self.projects = {}\n",
    "        self.resources = set()\n",
    "        if resources is not None:\n",
    "            self.attach(resources)\n",
    "    \n",
    "    def attach(self, *resources):\n",
    "        self.resources.update(set(resources))\n",
    "\n",
    "    def new_project(self):\n",
    "        p = Project()\n",
    "        self.projects[p.id] = p\n",
    "        return p\n",
    "\n",
    "    def schedule():\n",
    "        pass # finds a working schedule."
   ]
  },
  {
   "cell_type": "markdown",
   "metadata": {},
   "source": [
    "We also need to acknowledge that not all resources are available at all times. Alice may for example be away (holiday?) at a particular point in time.\n",
    "This attaches a calendar to each resource (https://github.com/root-11/root-11.github.io/blob/master/content/business_calendar.ipynb)"
   ]
  },
  {
   "cell_type": "code",
   "execution_count": null,
   "metadata": {},
   "outputs": [],
   "source": [
    "from datetime import datetime,date,time,timedelta"
   ]
  },
  {
   "cell_type": "code",
   "execution_count": null,
   "metadata": {},
   "outputs": [],
   "source": [
    "class RangeError(IndexError):\n",
    "    pass\n",
    "\n",
    "\n",
    "class BusinessCalendar(object):\n",
    "    def __init__(self, open_days=[0,1,2,3,4,5,6], open_from=time(0), open_to=time(23,59,59), \n",
    "                 holidays=None, \n",
    "                 valid_from=date(1970,1,1), valid_to=date(2060,1,1)) -> None:\n",
    "        \"\"\"\n",
    "        open_days: integer monday=0 to sunday=6\n",
    "        open_from: datetime.time \n",
    "        open_to: datetime.time\n",
    "        holidays: list of dates\n",
    "        valid_from: start datetime of calendar\n",
    "        valid_to: end datetime of calendar\n",
    "        \"\"\"\n",
    "        if not isinstance(open_days, list) and all(0<=i<=6 for i in open_days):\n",
    "            raise TypeError(\"Expects open_days as a list of integers from 0 to 6.\")\n",
    "        self.open_days = open_days\n",
    "\n",
    "        \n",
    "        if not isinstance(valid_from, (date,datetime)):\n",
    "            raise TypeError\n",
    "        self.valid_from = valid_from\n",
    "\n",
    "        if not isinstance(valid_to, (date,datetime)):\n",
    "            raise TypeError\n",
    "        self.valid_to = valid_to\n",
    "\n",
    "        if not isinstance(open_from, time):\n",
    "            raise TypeError\n",
    "        self.open_from = open_from\n",
    "\n",
    "        if not isinstance(open_to, time):\n",
    "            raise TypeError\n",
    "        self.open_to = open_to\n",
    "\n",
    "        if not isinstance(holidays, list) and all(isinstance(i,date) for i in holidays):\n",
    "            raise TypeError\n",
    "\n",
    "        if holidays is None:\n",
    "            holidays = []\n",
    "        self.holidays = holidays  # consider using https://pypi.org/project/holidays/\n",
    "\n",
    "    def __str__(self) -> str:\n",
    "        return f\"Calendar({self.open_days}, {self.open_from}-{self.open_to} excl. {self.holidays} within {self.valid_from}-{self.valid_to}\"\n",
    "\n",
    "    def is_open(self, now):\n",
    "        if not isinstance(now, datetime):\n",
    "            raise TypeError\n",
    "        return all([\n",
    "           now.weekday() in self.open_days,\n",
    "           now.date() not in self.holidays,\n",
    "           self.open_from <= now.time() < self.open_to,\n",
    "           self.valid_from <= now.date() <= self.valid_to\n",
    "        ])\n",
    "    \n",
    "    def opens_next(self, now):\n",
    "        \"\"\" return datetime when calendar opens next\"\"\"\n",
    "        if self.is_open(now):\n",
    "            return now\n",
    "        if not (self.valid_from <= now.date() < self.valid_to):\n",
    "            raise RangeError(\"outside calendar limit.\")\n",
    "        \n",
    "        new = datetime(now.year, now.month, now.day, self.open_from.hour, self.open_from.minute, self.open_from.second, self.open_from.microsecond)\n",
    "        while True:\n",
    "            if new.date() in self.holidays or new.weekday() not in self.open_days:\n",
    "                new += timedelta(days=1)\n",
    "            else:\n",
    "                break\n",
    "        if self.valid_from <= new.date() < self.valid_to:\n",
    "            return new\n",
    "        else:\n",
    "            raise RangeError(\"Next opening date is outside calendar range\")\n",
    "    \n",
    "    def closes_next(self, now):\n",
    "        \"\"\" returns datetime when calendar closes \"\"\"\n",
    "        now = self.opens_next(now)\n",
    "        return datetime(now.year, now.month, now.day, \n",
    "                        self.open_to.hour, self.open_to.minute, self.open_to.second, \n",
    "                        self.open_to.microsecond)\n",
    "\n"
   ]
  },
  {
   "cell_type": "code",
   "execution_count": null,
   "metadata": {},
   "outputs": [],
   "source": [
    "class BusinessCalendars(object):\n",
    "    def __init__(self, calendars=None) -> None:\n",
    "        self.calendars = calendars if isinstance(calendars, list) and all(isinstance(i, BusinessCalendar) for i in calendars) else []\n",
    "        self.calendars.sort(key=lambda x: x.valid_from)\n",
    "    \n",
    "    def __iadd__(self, other):\n",
    "        if not isinstance(other, BusinessCalendar):\n",
    "            raise TypeError\n",
    "        self.calendars.append(other)\n",
    "        self.calendars.sort(key=lambda x: x.valid_from)\n",
    "\n",
    "    def is_open(self, now):\n",
    "        return any(c.is_open(now) for c in self.calendars)\n",
    "    \n",
    "    def opens_next(self, now):\n",
    "        opens = []\n",
    "        for c in self.calendars:\n",
    "            try:\n",
    "                opens.append(c.open_next(now))\n",
    "            except RangeError:\n",
    "                pass\n",
    "        if not opens:\n",
    "            raise RangeError(f\"{now} not in any Calendars range.\")\n",
    "        return max(opens)\n",
    "    \n",
    "    def closes_next(self, now):\n",
    "        closes = []\n",
    "        for c in self.calendars:\n",
    "            try:\n",
    "                closes.append(c.closes_next(now))\n",
    "            except RangeError:\n",
    "                pass\n",
    "        if not closes:\n",
    "            raise RangeError(f\"{now} not in any Calendars range.\")\n",
    "        return min(closes)\n",
    "\n",
    "    def finish(self, start, duration):\n",
    "        \"\"\"Calculates finish time.\n",
    "\n",
    "        Args:\n",
    "            start (datetime): start time\n",
    "            duration (timedelta): duration\n",
    "\n",
    "        Returns:\n",
    "            datetime: finish time\n",
    "        \"\"\"\n",
    "        if not isinstance(start, datetime):\n",
    "            raise TypeError\n",
    "        if not isinstance(duration, timedelta):\n",
    "            raise TypeError\n",
    "\n",
    "        _remaining_time = duration\n",
    "        _start = self.opens_next(start)\n",
    "        while _remaining_time > 0:\n",
    "            _closes = self.closes_next(_start)\n",
    "            dt = _closes - _start\n",
    "            if _remaining_time > dt:\n",
    "                _start = self.opens_next(_closes)\n",
    "                _remaining_time -= dt\n",
    "            else:\n",
    "                return _start + _remaining_time\n"
   ]
  },
  {
   "cell_type": "code",
   "execution_count": null,
   "metadata": {},
   "outputs": [
    {
     "name": "stdout",
     "output_type": "stream",
     "text": [
      "2022-08-27 00:00:00 open: False --> 2022-08-29 09:00:00 open: True in 2 days\n",
      "2022-08-28 00:00:00 open: False --> 2022-08-29 09:00:00 open: True in 1 days\n",
      "2022-08-29 00:00:00 open: False --> 2022-08-29 09:00:00 open: True in 0 days\n",
      "2022-08-30 00:00:00 open: False --> 2022-08-30 09:00:00 open: True in 0 days\n",
      "2022-08-31 00:00:00 open: False --> 2022-08-31 09:00:00 open: True in 0 days\n",
      "2022-09-01 00:00:00 open: False --> 2022-09-01 10:00:00 open: True in 0 days\n",
      "2022-09-02 00:00:00 open: False --> 2022-09-02 10:00:00 open: True in 0 days\n",
      "2022-09-03 00:00:00 open: False --> 2022-09-05 10:00:00 open: True in 2 days\n",
      "2022-09-04 00:00:00 open: False --> 2022-09-05 10:00:00 open: True in 1 days\n",
      "2022-09-05 00:00:00 open: False --> 2022-09-05 10:00:00 open: True in 0 days\n",
      "2022-09-06 00:00:00 open: False --> 2022-09-06 10:00:00 open: True in 0 days\n",
      "2022-09-07 00:00:00 open: False --> 2022-09-07 10:00:00 open: True in 0 days\n",
      "2022-09-08 00:00:00 open: False --> 2022-09-08 10:00:00 open: True in 0 days\n",
      "2022-09-09 00:00:00 open: False --> 2022-09-09 10:00:00 open: True in 0 days\n",
      "2022-09-10 00:00:00 open: False --> 2022-09-12 10:00:00 open: True in 2 days\n",
      "2022-09-11 00:00:00 open: False --> 2022-09-12 10:00:00 open: True in 1 days\n",
      "2022-09-12 00:00:00 open: False --> 2022-09-12 10:00:00 open: True in 0 days\n",
      "2022-09-13 00:00:00 open: False --> 2022-09-13 10:00:00 open: True in 0 days\n",
      "2022-09-14 00:00:00 open: False --> 2022-09-14 10:00:00 open: True in 0 days\n",
      "2022-09-15 00:00:00 open: False --> 2022-09-15 10:00:00 open: True in 0 days\n"
     ]
    }
   ],
   "source": [
    "summer = BusinessCalendar(open_days=[0,1,2,3,4], open_from=time(9), open_to=time(21), holidays=[], valid_from=date(2022,4,1), valid_to=date(2022,9,1))\n",
    "winter = BusinessCalendar(open_days=[0,1,2,3,4], open_from=time(10), open_to=time(22), holidays=[], valid_from=date(2022,9,1), valid_to=date(2023,4,1))\n",
    "calendars = BusinessCalendars(calendars=[summer,winter])\n",
    "\n",
    "start = datetime(2022,8,27)\n",
    "for ts in range(20):\n",
    "    now = start+timedelta(days=ts)\n",
    "    new = calendars.open_next(now)\n",
    "    print(now, \"open:\", calendars.is_open(now), \"-->\", new, \"open:\", calendars.is_open(new), \"in\", (new-now).days, \"days\")"
   ]
  },
  {
   "cell_type": "markdown",
   "metadata": {},
   "source": [
    "Will 3 shifts of 7 hours work too?\n",
    "\n",
    "|shift| start | end |\n",
    "|---|---|---|\n",
    "|1|0800|1500|\n",
    "|2|1600|2300|\n",
    "|3|0000|0700|\n",
    "\n",
    "1 hour maintenance shutdown between shifts."
   ]
  },
  {
   "cell_type": "code",
   "execution_count": null,
   "metadata": {},
   "outputs": [],
   "source": [
    "shift_1 = BusinessCalendar(open_days=[0,1,2,3,4], open_from=time(8), open_to=time(15), holidays=[], valid_from=date(2022,4,1), valid_to=date(2022,9,1))\n",
    "shift_2 = BusinessCalendar(open_days=[0,1,2,3,4], open_from=time(16), open_to=time(23), holidays=[], valid_from=date(2022,4,1), valid_to=date(2022,9,1))\n",
    "shift_3 = BusinessCalendar(open_days=[0,1,2,3,4], open_from=time(0), open_to=time(7), holidays=[], valid_from=date(2022,4,1), valid_to=date(2022,9,1))\n",
    "\n",
    "calendar = BusinessCalendars([shift_1,shift_2,shift_3])"
   ]
  },
  {
   "cell_type": "code",
   "execution_count": null,
   "metadata": {},
   "outputs": [
    {
     "name": "stdout",
     "output_type": "stream",
     "text": [
      "2022-04-21 07:10:00 is open: False\n",
      "2022-04-21 08:10:00 is open: True\n",
      "2022-04-21 09:10:00 is open: True\n",
      "2022-04-21 10:10:00 is open: True\n",
      "2022-04-21 11:10:00 is open: True\n",
      "2022-04-21 12:10:00 is open: True\n",
      "2022-04-21 13:10:00 is open: True\n",
      "2022-04-21 14:10:00 is open: True\n",
      "2022-04-21 15:10:00 is open: False\n",
      "2022-04-21 16:10:00 is open: True\n",
      "2022-04-21 17:10:00 is open: True\n",
      "2022-04-21 18:10:00 is open: True\n",
      "2022-04-21 19:10:00 is open: True\n",
      "2022-04-21 20:10:00 is open: True\n",
      "2022-04-21 21:10:00 is open: True\n",
      "2022-04-21 22:10:00 is open: True\n",
      "2022-04-21 23:10:00 is open: False\n",
      "2022-04-22 00:10:00 is open: True\n",
      "2022-04-22 01:10:00 is open: True\n",
      "2022-04-22 02:10:00 is open: True\n",
      "2022-04-22 03:10:00 is open: True\n",
      "2022-04-22 04:10:00 is open: True\n",
      "2022-04-22 05:10:00 is open: True\n",
      "2022-04-22 06:10:00 is open: True\n"
     ]
    }
   ],
   "source": [
    "now = datetime(2022,4,21,6,10)\n",
    "for h in range(24):\n",
    "    now += timedelta(hours=1)\n",
    "    print(now, \"is open:\", calendar.is_open(now))"
   ]
  },
  {
   "attachments": {},
   "cell_type": "markdown",
   "metadata": {},
   "source": [
    "Let's test the idea that we want to calculate when something will finish, given the inputs:\n",
    "- a calendar, \n",
    "- a point in time \n",
    "- a duration."
   ]
  },
  {
   "cell_type": "code",
   "execution_count": null,
   "metadata": {},
   "outputs": [],
   "source": [
    "cal = BusinessCalendar(open_days=[0,1,2,3,4], open_from=time(8), open_to=time(16))\n",
    "start=datetime(2022,4,21,0,0,0,0)\n",
    "duration=timedelta(hours=100)\n",
    "finish = cal.finish(start, duration)\n",
    "finish"
   ]
  },
  {
   "cell_type": "code",
   "execution_count": null,
   "metadata": {},
   "outputs": [],
   "source": [
    "def intercept(c1,c2):  # TODO\n",
    "    pass  # calculate the intercept of two calendars as a new calendar."
   ]
  },
  {
   "attachments": {},
   "cell_type": "markdown",
   "metadata": {},
   "source": [
    "### How to get official holidays\n",
    "\n",
    "To get holiday calendars worldwide base tasks on: `pip install workalendar`\n",
    "\n",
    "```python\n",
    ">>> from datetime import date\n",
    ">>> from workalendar.europe import France\n",
    ">>> cal = France()\n",
    ">>> cal.holidays(2012)\n",
    "[(datetime.date(2012, 1, 1), 'New year'),\n",
    " (datetime.date(2012, 4, 9), 'Easter Monday'),\n",
    " (datetime.date(2012, 5, 1), 'Labour Day'),\n",
    " (datetime.date(2012, 5, 8), 'Victory in Europe Day'),\n",
    " (datetime.date(2012, 5, 17), 'Ascension Day'),\n",
    " (datetime.date(2012, 5, 28), 'Whit Monday'),\n",
    " (datetime.date(2012, 7, 14), 'Bastille Day'),\n",
    " (datetime.date(2012, 8, 15), 'Assumption of Mary to Heaven'),\n",
    " (datetime.date(2012, 11, 1), \"All Saints' Day\"),\n",
    " (datetime.date(2012, 11, 11), 'Armistice Day'),\n",
    " (datetime.date(2012, 12, 25), 'Christmas')]\n",
    "```\n",
    "\n",
    "You can get add them using:\n",
    "\n",
    "```python\n",
    ">>> year = 2023\n",
    ">>> cal = BusinessCalendar(holidays=cal.holidays(2023), valid_from=date(2023,1,1), valid_to=date(2023,12,31)\n",
    "```\n"
   ]
  },
  {
   "cell_type": "code",
   "execution_count": null,
   "metadata": {},
   "outputs": [],
   "source": [
    "class Resource(object):\n",
    "    def __init__(self, divisble=None) -> None:\n",
    "        if divisble is None:\n",
    "            self.divisible = False\n",
    "        elif isinstance(divisble, (int, float, bool)):\n",
    "            self.divisible = divisble\n",
    "        else:\n",
    "            raise TypeError\n",
    "        self.availability = BusinessCalendars()\n",
    "        self.estimates = {}\n",
    "        self.schedule = BusinessCalendars()  # a calendar with occupied intervels."
   ]
  },
  {
   "cell_type": "code",
   "execution_count": null,
   "metadata": {},
   "outputs": [],
   "source": [
    "class ResourceSet(object):\n",
    "    def __init__(self, **kwargs) -> None:        \n",
    "        self.resources = {}\n",
    "\n",
    "        for resource, duration in kwargs.items():\n",
    "            if isinstance(resource, Resource):\n",
    "                self.resources[resource] = duration\n",
    "                self.resources[(resource, )] = duration\n",
    "            elif isinstance(resource, tuple):\n",
    "                self.resources[resource] = duration\n",
    "            else:\n",
    "                raise TypeError()\n",
    "                    \n",
    "    def add(self, duration, resource):\n",
    "        if isinstance(resource, Resource):\n",
    "            pass\n",
    "        elif isinstance(resource, tuple):\n",
    "            if all(isinstance(i, Resource) for i in tuple):\n",
    "                pass\n",
    "        else:\n",
    "            raise TypeError()\n",
    "        \n",
    "        self.resources[resource] = duration\n",
    "    \n",
    "    def __getitem__(self, item):\n",
    "        return self.resources.get(item, None)\n",
    "\n",
    "    def __iter__(self):\n",
    "        return self.resources[:]\n"
   ]
  },
  {
   "attachments": {},
   "cell_type": "markdown",
   "metadata": {},
   "source": [
    "Let's add a small test..."
   ]
  },
  {
   "cell_type": "code",
   "execution_count": null,
   "metadata": {},
   "outputs": [],
   "source": [
    "# First create resources\n",
    "alice = Resource(divisble=True)  # has default calendar.\n",
    "bob = Resource(divisble=True)\n",
    "charlie = Resource(divisble=True)\n",
    "doris = Resource(divisble=1.0)\n",
    "eric = Resource()  # defaults to divisible = False\n",
    "\n",
    "all_resources = [alice, bob, charlie, doris, eric]\n",
    "\n",
    "# Then create resource sets and add singular resource estimates\n",
    "rs1 = ResourceSet(**{alice:10, bob:11, charlie:9})  # resource set for task 1.\n",
    "rs2 = ResourceSet(**{alice:11, bob:12, charlie:10})\n",
    "rs3 = ResourceSet(**{alice:9,  bob:11, charlie:9})\n",
    "rs4 = ResourceSet(**{alice:12, bob:11, charlie:9})\n",
    "\n",
    "# doris and eric don't have individual estimates. Only joint estimates:\n",
    "rs5 = ResourceSet(**{(doris, eric): 12.5})\n",
    "rs6 = ResourceSet(**{(charlie, eric): 12.9})  # charlie is leader\n",
    "rs6 = ResourceSet(**{(eric, charlie): 13.1})  # eric is leader\n",
    "\n",
    "# Add joint resource estimates for alice, bob and charlie:\n",
    "for rg in [rs1,rs2,rs3,rs4]:\n",
    "    for combination in powerset([alice,bob,charlie],min_=2):  # (alice, bob)  --> ([10,11,9,12], [11,12,11,11])\n",
    "        times = [ rg[person] for person in combination ]\n",
    "        time = inv_mean(times)\n",
    "        rg.add(time, combination)\n",
    "\n",
    "# Then create generic tasks and link them with resource groups.\n",
    "gt1 = GenericTask('1', divisible=0.001, resource_sets={rs1, rs5})\n",
    "gt2 = GenericTask('2', divisible=0.001, resource_sets={rs2, rs5})\n",
    "gt3 = GenericTask('3', divisible=0.001, resource_sets={rs3, rs6})\n",
    "gt4 = GenericTask('4', divisible=0.001, resource_sets={rs4, rs6})\n",
    "\n",
    "# As the baseline for resource estimates are in place, the next task is to \n",
    "# create the projects with task instances.\n",
    "\n",
    "programme = Programme(resources=all_resources)  # create programme and attach resources\n",
    "project_1 = programme.new_project()\n",
    "project_2 = programme.new_project()\n",
    "\n",
    "for project in [project_1, project_2]:\n",
    "    last_task = None\n",
    "    for generic_task in [gt1, gt2, gt3, gt4]:\n",
    "        project_task = generic_task()  # this task is an independent copy of the generic task\n",
    "        project_1.add_task(project_task)\n",
    "        if last_task is not None:\n",
    "            project.add_dependency(last_task,project_task)\n",
    "        else:\n",
    "            last_task = project_task\n",
    "        \n",
    "# now the programme contains two projects and each project has 4 tasks, but the \n",
    "# constraints are missing:\n",
    "p1t4 = [t for t in project_1.tasks.values() if t.type == '4'][0]\n",
    "p1t4.finish = 20  # project 1 must finish at time 20.\n",
    "\n",
    "p2t3 = [t for t in project_2.tasks.values() if t.type == '3'][0]\n",
    "p2t3.earliest_start = 20  # project 2 task 3 can only happen in t=[20;25]\n",
    "p2t3.latest_finish = 25\n",
    "\n",
    "# TODO:\n",
    "# ------\n",
    "programme.schedule()  # find a working schedule\n",
    "\n",
    "for resource in programme.resources:\n",
    "    for task in resource.task_list:\n",
    "        print(resource, \"|\", task)\n"
   ]
  },
  {
   "attachments": {},
   "cell_type": "markdown",
   "metadata": {},
   "source": [
    "With this outline the next step is to schedule the resources in such a way that all work is leveled as far as possible."
   ]
  }
 ],
 "metadata": {
  "kernelspec": {
   "display_name": "pages310",
   "language": "python",
   "name": "python3"
  },
  "language_info": {
   "codemirror_mode": {
    "name": "ipython",
    "version": 3
   },
   "file_extension": ".py",
   "mimetype": "text/x-python",
   "name": "python",
   "nbconvert_exporter": "python",
   "pygments_lexer": "ipython3",
   "version": "3.10.8"
  },
  "orig_nbformat": 4,
  "vscode": {
   "interpreter": {
    "hash": "6f432a2729e41e111fc68229d0303145971e0c11421dc22cdb03f95edd20be36"
   }
  }
 },
 "nbformat": 4,
 "nbformat_minor": 2
}
