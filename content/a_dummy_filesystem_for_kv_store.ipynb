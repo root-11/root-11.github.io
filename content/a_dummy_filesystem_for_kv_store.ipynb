{
 "cells": [
  {
   "attachments": {},
   "cell_type": "markdown",
   "metadata": {},
   "source": [
    "# A dummy file system using a key-value store\n",
    "\n",
    "For an imaginary \"app\" a key-value store exists as the only persistent layer.\n",
    "\n",
    "The app needs to behave like a file system, which requires:\n",
    "\n",
    "users can:\n",
    "\n",
    "- create project \n",
    "- create folder\n",
    "- move project (into folder)\n",
    "- move folder (into folder e.g. nesting)\n",
    "- close project (archive)\n",
    "- recover project\n",
    "- leave project\n",
    "- add project member\n",
    "- remove project member\n",
    "- checkout project (git clone)\n",
    "\n",
    "The first thing I'll need is a dummy file system so the user can organise data.\n"
   ]
  },
  {
   "attachments": {},
   "cell_type": "markdown",
   "metadata": {},
   "source": [
    "To manage the directories for the user using the linux path system notation and a single dictionary. \n",
    "\n",
    "For this I'll use `path.split('/')` which will look like this:\n",
    "\n",
    "```python\n",
    ">>> '/1/2/project A'.split('/') \n",
    "['', '1', '2', 'project A']\n",
    "```\n",
    "\n",
    "The first empty string is to be thrown away and the last item is the pointer to the project. To avoid indexing and guess, I'll use the `*`-notation when unpacking from `split`:\n",
    "\n",
    "```python\n",
    ">>> _, *route, target = \"/1/2/project A\".split('/')  \n",
    "['1', '2'] project A\n",
    "```\n",
    "\n",
    "As the `start, *middle, end` notation is somewhat unique to python, I'll show how it works here::\n",
    "\n",
    "In this context `_` is a throw-away variable for the first item. `target` receives the last item and `*route` receives everything in between. "
   ]
  },
  {
   "attachments": {},
   "cell_type": "markdown",
   "metadata": {},
   "source": [
    "First, however I need something to verify, so here's my folder structure for now:"
   ]
  },
  {
   "cell_type": "code",
   "execution_count": 1,
   "metadata": {},
   "outputs": [],
   "source": [
    "d = {\n",
    "    '1.1': {\n",
    "        '2.1': {\n",
    "            '3.1': 'inode 1',  # equivalent to a folder structure /1.1/2.1/ where 3.1 points to the project.\n",
    "            '3.2': 'inode 2',\n",
    "            '3.3': 'inode 3'\n",
    "            }\n",
    "        }, \n",
    "    '1.2': 'inode 4',\n",
    "    '1.3': {\n",
    "        '2.2': 'inode 5'\n",
    "        }\n",
    "    }"
   ]
  },
  {
   "cell_type": "code",
   "execution_count": 2,
   "metadata": {},
   "outputs": [
    {
     "name": "stdout",
     "output_type": "stream",
     "text": [
      "├── 1.1\n",
      "│   └── 2.1\n",
      "│       ├── 3.1: inode 1\n",
      "│       ├── 3.2: inode 2\n",
      "│       └── 3.3: inode 3\n",
      "├── 1.2: inode 4\n",
      "└── 1.3\n",
      "    └── 2.2: inode 5\n"
     ]
    }
   ],
   "source": [
    "# prefix components:\n",
    "space =  '    '\n",
    "branch = '│   '\n",
    "# pointers:\n",
    "tee =    '├── '\n",
    "last =   '└── '\n",
    "\n",
    "def tree(d: dict, prefix: str=''):\n",
    "    pointers = [tee] * (len(d)-1) + [last]\n",
    "    for pointer, name, content in zip(pointers, d.keys(), d.values()):\n",
    "        suffix = \"\" if isinstance(content, dict) else f\": {content}\"\n",
    "        print(prefix + pointer + name + suffix)\n",
    "        if isinstance(content, dict):\n",
    "            extension = branch if pointer == tee else space\n",
    "            tree(content, prefix=prefix+extension)\n",
    "        \n",
    "tree(d)"
   ]
  },
  {
   "attachments": {},
   "cell_type": "markdown",
   "metadata": {},
   "source": [
    "This seems acceptable.\n",
    "\n",
    "The next task is to add the support functions to manipulate the file system:\n",
    "\n",
    "- cd\n",
    "- ls\n",
    "- mkdir\n",
    "- rmdir\n",
    "- link path to file\n",
    "- move\n"
   ]
  },
  {
   "cell_type": "code",
   "execution_count": 3,
   "metadata": {},
   "outputs": [],
   "source": [
    "def cd(d, path):\n",
    "    \"\"\" change directory\"\"\"\n",
    "    if path.endswith('/'):\n",
    "        path = path.rstrip('/')\n",
    "    _, *route = path.split('/')\n",
    "    for subdir in route:\n",
    "        d = d[subdir]\n",
    "    return d"
   ]
  },
  {
   "cell_type": "code",
   "execution_count": 4,
   "metadata": {},
   "outputs": [
    {
     "data": {
      "text/plain": [
       "{'3.1': 'inode 1', '3.2': 'inode 2', '3.3': 'inode 3'}"
      ]
     },
     "execution_count": 4,
     "metadata": {},
     "output_type": "execute_result"
    }
   ],
   "source": [
    "cd(d, '/1.1/2.1')"
   ]
  },
  {
   "cell_type": "code",
   "execution_count": 5,
   "metadata": {},
   "outputs": [
    {
     "name": "stdout",
     "output_type": "stream",
     "text": [
      "├── 3.1: inode 1\n",
      "├── 3.2: inode 2\n",
      "└── 3.3: inode 3\n"
     ]
    }
   ],
   "source": [
    "tree(cd(d, '/1.1/2.1'))"
   ]
  },
  {
   "attachments": {},
   "cell_type": "markdown",
   "metadata": {},
   "source": [
    "This also seems reasonable."
   ]
  },
  {
   "cell_type": "code",
   "execution_count": 6,
   "metadata": {},
   "outputs": [],
   "source": [
    "def ls(d, path):\n",
    "    d = cd(d,path)\n",
    "    max_length = max(len(k) for k in d.keys())\n",
    "    for k,v in d.items():\n",
    "        if not isinstance(v, dict):\n",
    "            print(k.ljust(max_length, \" \"), v)\n",
    "        else:\n",
    "            print(k.ljust(max_length, \" \"), \"dir\")"
   ]
  },
  {
   "cell_type": "code",
   "execution_count": 7,
   "metadata": {},
   "outputs": [
    {
     "name": "stdout",
     "output_type": "stream",
     "text": [
      "1.1 dir\n",
      "1.2 inode 4\n",
      "1.3 dir\n",
      "--------\n",
      "2.1 dir\n",
      "--------\n",
      "3.1 inode 1\n",
      "3.2 inode 2\n",
      "3.3 inode 3\n"
     ]
    }
   ],
   "source": [
    "ls(d, '/')\n",
    "print(\"-\" * 8)\n",
    "ls(d, '/1.1')\n",
    "print(\"-\" * 8)\n",
    "ls(d, '/1.1/2.1')"
   ]
  },
  {
   "attachments": {},
   "cell_type": "markdown",
   "metadata": {},
   "source": [
    "This looks reasonable for a `ls` function. \n",
    "\n",
    "Let's continue with `mkdir`"
   ]
  },
  {
   "cell_type": "code",
   "execution_count": 8,
   "metadata": {},
   "outputs": [],
   "source": [
    "def mkdir(d, path):\n",
    "    \"\"\" make directory \"\"\"\n",
    "    _, *route = path.split('/')\n",
    "    for i in route:\n",
    "        if i not in d:\n",
    "            d[i] = {}\n",
    "        d = d[i]"
   ]
  },
  {
   "cell_type": "code",
   "execution_count": 9,
   "metadata": {},
   "outputs": [
    {
     "name": "stdout",
     "output_type": "stream",
     "text": [
      "├── 1.1\n",
      "│   └── 2.1\n",
      "│       ├── 3.1: inode 1\n",
      "│       ├── 3.2: inode 2\n",
      "│       └── 3.3: inode 3\n",
      "├── 1.2: inode 4\n",
      "├── 1.3\n",
      "│   └── 2.2: inode 5\n",
      "└── 1.4\n"
     ]
    }
   ],
   "source": [
    "mkdir(d, '/1.4')\n",
    "tree(d)"
   ]
  },
  {
   "attachments": {},
   "cell_type": "markdown",
   "metadata": {},
   "source": [
    "Yes. Folder `1.4` was added."
   ]
  },
  {
   "cell_type": "code",
   "execution_count": 10,
   "metadata": {},
   "outputs": [
    {
     "name": "stdout",
     "output_type": "stream",
     "text": [
      "├── 1.1\n",
      "│   └── 2.1\n",
      "│       ├── 3.1: inode 1\n",
      "│       ├── 3.2: inode 2\n",
      "│       ├── 3.3: inode 3\n",
      "│       └── 3.4\n",
      "├── 1.2: inode 4\n",
      "├── 1.3\n",
      "│   └── 2.2: inode 5\n",
      "└── 1.4\n"
     ]
    }
   ],
   "source": [
    "mkdir(d, '/1.1/2.1/3.4')\n",
    "tree(d)"
   ]
  },
  {
   "attachments": {},
   "cell_type": "markdown",
   "metadata": {},
   "source": [
    "Also good: Folder `/1.1/2.1/3.4` was added.\n",
    "\n",
    "Let's remove it."
   ]
  },
  {
   "cell_type": "code",
   "execution_count": 11,
   "metadata": {},
   "outputs": [],
   "source": [
    "def rmdir(d, path):\n",
    "    _, *route, target = path.split('/')\n",
    "    for i in route:\n",
    "        d = d[i]\n",
    "    del d[target]"
   ]
  },
  {
   "cell_type": "code",
   "execution_count": 12,
   "metadata": {},
   "outputs": [
    {
     "name": "stdout",
     "output_type": "stream",
     "text": [
      "├── 1.1\n",
      "│   └── 2.1\n",
      "│       ├── 3.1: inode 1\n",
      "│       ├── 3.2: inode 2\n",
      "│       └── 3.3: inode 3\n",
      "├── 1.2: inode 4\n",
      "├── 1.3\n",
      "│   └── 2.2: inode 5\n",
      "└── 1.4\n"
     ]
    }
   ],
   "source": [
    "rmdir(d, '/1.1/2.1/3.4')\n",
    "tree(d)"
   ]
  },
  {
   "attachments": {},
   "cell_type": "markdown",
   "metadata": {},
   "source": [
    "Folder `/1.1/2.1/3.4` was removed as expected.\n",
    "\n",
    "The next item is to put some project pointer into the folder. At OS level I believe it's called \"linking\" of `inode`s to the directory.\n",
    "\n",
    "The link types must then be:\n",
    "\n",
    "- `ln`: creates a link between an existing file (elsewhere on the filesystem) and a given directory.\n",
    "- `touch`: creates a new file and links it immediately."
   ]
  },
  {
   "cell_type": "code",
   "execution_count": 13,
   "metadata": {},
   "outputs": [],
   "source": [
    "def ln(d, path, inode):\n",
    "    \"\"\" links project to path. \"\"\"\n",
    "    if path.endswith('/'): raise ValueError(\"path must be a filename in an existing directory.\")\n",
    "    _, *route, filename = path.split('/')\n",
    "    for i in route:\n",
    "        if i not in d:\n",
    "            d[i] = {}\n",
    "        d = d[i]\n",
    "    d[filename] = inode"
   ]
  },
  {
   "cell_type": "code",
   "execution_count": 14,
   "metadata": {},
   "outputs": [
    {
     "name": "stdout",
     "output_type": "stream",
     "text": [
      "├── 1.1\n",
      "│   └── 2.1\n",
      "│       ├── 3.1: inode 1\n",
      "│       ├── 3.2: inode 2\n",
      "│       └── 3.3: inode 3\n",
      "├── 1.2: inode 4\n",
      "├── 1.3\n",
      "│   └── 2.2: inode 5\n",
      "└── 1.4\n",
      "    └── project blue: inode 6\n"
     ]
    }
   ],
   "source": [
    "ln(d, '/1.4/project blue', 'inode 6')\n",
    "tree(d)"
   ]
  },
  {
   "attachments": {},
   "cell_type": "markdown",
   "metadata": {},
   "source": [
    "This also seems to work as expected.\n",
    "\n",
    "Let's remove the file."
   ]
  },
  {
   "cell_type": "code",
   "execution_count": 15,
   "metadata": {},
   "outputs": [],
   "source": [
    "def rm(d, path):\n",
    "    \"\"\" links project to path. \"\"\"\n",
    "    if path.endswith('/'): raise ValueError(\"path must be a filename in an existing directory.\")\n",
    "    _, *route, filename = path.split('/')\n",
    "    for i in route:\n",
    "        if i not in d:\n",
    "            d[i] = {}\n",
    "        d = d[i]\n",
    "    del d[filename] "
   ]
  },
  {
   "cell_type": "code",
   "execution_count": 16,
   "metadata": {},
   "outputs": [
    {
     "name": "stdout",
     "output_type": "stream",
     "text": [
      "├── 1.1\n",
      "│   └── 2.1\n",
      "│       ├── 3.1: inode 1\n",
      "│       ├── 3.2: inode 2\n",
      "│       └── 3.3: inode 3\n",
      "├── 1.2: inode 4\n",
      "├── 1.3\n",
      "│   └── 2.2: inode 5\n",
      "└── 1.4\n"
     ]
    }
   ],
   "source": [
    "rm(d, '/1.4/project blue')\n",
    "tree(d)"
   ]
  },
  {
   "attachments": {},
   "cell_type": "markdown",
   "metadata": {},
   "source": [
    "Yep. It's clean.\n",
    "\n",
    "The final exercise is now to move parts of the directory structure."
   ]
  },
  {
   "cell_type": "code",
   "execution_count": 17,
   "metadata": {},
   "outputs": [],
   "source": [
    "def mv(d, old, new):\n",
    "    \"\"\" moves old to reside in new \"\"\"\n",
    "    if not new.endswith('/'): raise ValueError(f\"{new} it not a directory\")\n",
    "\n",
    "    if old.endswith('/'):  # is dir:\n",
    "        _, *route = old.split('/')\n",
    "        filename = ''\n",
    "    else:  # is file\n",
    "        _, *route, filename = old.split('/')\n",
    "\n",
    "    d2 = d\n",
    "    for i in route:\n",
    "        d2 = d2[i]\n",
    "\n",
    "    _, *new_route, _ = new.split('/')\n",
    "    d3 = d\n",
    "    for i in new_route:\n",
    "        if i not in d3:\n",
    "            d3[i] = {}\n",
    "        d3 = d3[i]\n",
    "\n",
    "    if old.endswith('/'):  # is dir\n",
    "        d3.update(d2.copy())  # handle names later.\n",
    "        d2.clear()\n",
    "    else:\n",
    "        d3[filename] = d2[filename]\n",
    "        del d2[filename]"
   ]
  },
  {
   "cell_type": "code",
   "execution_count": 18,
   "metadata": {},
   "outputs": [
    {
     "name": "stdout",
     "output_type": "stream",
     "text": [
      "├── 1.1\n",
      "├── 1.2: inode 4\n",
      "├── 1.3\n",
      "│   ├── 2.2: inode 5\n",
      "│   └── 2.1\n",
      "│       ├── 3.1: inode 1\n",
      "│       ├── 3.2: inode 2\n",
      "│       └── 3.3: inode 3\n",
      "└── 1.4\n"
     ]
    }
   ],
   "source": [
    "mv(d, '/1.1/2.1', '/1.3/')\n",
    "tree(d)"
   ]
  },
  {
   "attachments": {},
   "cell_type": "markdown",
   "metadata": {},
   "source": [
    "Yes. All the nodes were moved correctly.\n",
    "\n",
    "Let's reverse it:"
   ]
  },
  {
   "cell_type": "code",
   "execution_count": 19,
   "metadata": {},
   "outputs": [
    {
     "name": "stdout",
     "output_type": "stream",
     "text": [
      "├── 1.1\n",
      "│   └── 2.1\n",
      "│       ├── 3.1: inode 1\n",
      "│       ├── 3.2: inode 2\n",
      "│       └── 3.3: inode 3\n",
      "├── 1.2: inode 4\n",
      "├── 1.3\n",
      "│   └── 2.2: inode 5\n",
      "└── 1.4\n"
     ]
    }
   ],
   "source": [
    "mv(d, '/1.3/2.1', '/1.1/')  # move 3.1 from 1.3/2.1 into 1.1/2.1/\n",
    "tree(d)"
   ]
  },
  {
   "attachments": {},
   "cell_type": "markdown",
   "metadata": {},
   "source": [
    "Let's also move `inode 5` to `/1.1/2.1/`:"
   ]
  },
  {
   "cell_type": "code",
   "execution_count": 20,
   "metadata": {},
   "outputs": [
    {
     "name": "stdout",
     "output_type": "stream",
     "text": [
      "├── 1.1\n",
      "│   └── 2.1\n",
      "│       ├── 3.1: inode 1\n",
      "│       ├── 3.2: inode 2\n",
      "│       ├── 3.3: inode 3\n",
      "│       └── 2.2: inode 5\n",
      "├── 1.2: inode 4\n",
      "├── 1.3\n",
      "└── 1.4\n"
     ]
    }
   ],
   "source": [
    "mv(d, '/1.3/2.2', '/1.1/2.1/')\n",
    "tree(d)"
   ]
  },
  {
   "attachments": {},
   "cell_type": "markdown",
   "metadata": {},
   "source": [
    "At this point I have a decent dummy file system for my app.\n",
    "\n",
    "Now comes the part where I'll arrange the rest.\n",
    "\n",
    "To imitate the key-value store I'll have a simple dictionary, where the keys will have to be meaningful, so they don't get lost.\n",
    "\n",
    "I will also need a number of IDs for quick access:"
   ]
  },
  {
   "cell_type": "code",
   "execution_count": 21,
   "metadata": {},
   "outputs": [],
   "source": [
    "store = {}\n",
    "\n",
    "# reserved keywords:\n",
    "# 'user'\n",
    "# 'user.{uid}.tree\n",
    "# 'email'\n",
    "# 'key'\n",
    "\n",
    "def _new_key(name):\n",
    "    if not name.startswith('key:'): raise ValueError\n",
    "    store[name] = store.get(name,0) + 1\n",
    "    return store[name]\n",
    "\n",
    "def _new_user_id() -> int:\n",
    "    return _new_key('key:max user id')\n",
    "\n",
    "def _new_inode_id() -> int:\n",
    "    return _new_key('key:max inode id')\n",
    "\n",
    "def _new_folder_id() -> int:\n",
    "    return _new_key('key:max folder id')\n"
   ]
  },
  {
   "attachments": {},
   "cell_type": "markdown",
   "metadata": {},
   "source": [
    "You may notice I use the `:` as separator. That's on purpose as is doesn't collide with `.` and `/` from the filesystem. More on that later.\n",
    "\n",
    "Next is to add users. I'll need some globally unique identifier, so why not stick to email addresses?"
   ]
  },
  {
   "cell_type": "code",
   "execution_count": 22,
   "metadata": {},
   "outputs": [],
   "source": [
    "\n",
    "def add_user(email):\n",
    "    if \":\" in email: raise ValueError(\"invalid email.\")\n",
    "    if f'emails:{email}' in store:\n",
    "        raise ValueError(\"email already in use.\")\n",
    "    new_id = _new_user_id()\n",
    "    store[f'user:{new_id}'] = email\n",
    "    store[f'emails:{email}'] = str(new_id)  # reverse lookup.\n",
    "    store[f'fs:{new_id}'] = {'root': {}, 'archive': {}}  # users file system \n",
    "    store[f'projects:{new_id}'] = {}  # {project id : project path}\n",
    "    store[f'settings:{new_id}'] = {}  # other user settings."
   ]
  },
  {
   "attachments": {},
   "cell_type": "markdown",
   "metadata": {},
   "source": [
    "These keys allow me to construct the target key directly as long as I know the user id.\n",
    "\n",
    "Here are a couple of examples:"
   ]
  },
  {
   "cell_type": "code",
   "execution_count": 23,
   "metadata": {},
   "outputs": [],
   "source": [
    "def users():\n",
    "    return {k:v for k,v in store.items() if k.startswith('user')}\n",
    "\n",
    "\n",
    "def home(user_id):\n",
    "    return [f\"fs:{user_id}\"]\n",
    "\n",
    "def _keys():\n",
    "    return {k:v for k,v in store.items() if k.startswith('key')}\n",
    "\n",
    "def view_user(email):\n",
    "    user_id = store[f\"emails:{email}\"]\n",
    "    d = {}\n",
    "    for k,v in store.items():\n",
    "        if \":\" in k:\n",
    "            key, uid = k.split(\":\")\n",
    "            if uid in {user_id, email}:\n",
    "                if isinstance(v, dict):\n",
    "                    d[k] = v.copy()\n",
    "                else:\n",
    "                    d[k] = v\n",
    "    return d\n"
   ]
  },
  {
   "attachments": {},
   "cell_type": "markdown",
   "metadata": {},
   "source": [
    "Let's try this out..."
   ]
  },
  {
   "cell_type": "code",
   "execution_count": 24,
   "metadata": {},
   "outputs": [],
   "source": [
    "alice = 'alice@example.com'"
   ]
  },
  {
   "cell_type": "code",
   "execution_count": 25,
   "metadata": {},
   "outputs": [],
   "source": [
    "add_user(alice)\n",
    "\n",
    "try:\n",
    "    add_user(alice)\n",
    "    assert False, \"adding the email twice is not good.\"\n",
    "except ValueError:\n",
    "    assert True\n"
   ]
  },
  {
   "cell_type": "code",
   "execution_count": 26,
   "metadata": {},
   "outputs": [
    {
     "name": "stdout",
     "output_type": "stream",
     "text": [
      "user:1 alice@example.com\n",
      "emails:alice@example.com 1\n",
      "fs:1 {'root': {}, 'archive': {}}\n",
      "projects:1 {}\n",
      "settings:1 {}\n"
     ]
    }
   ],
   "source": [
    "for k, v in view_user(alice).items():\n",
    "    print(k,v)\n"
   ]
  },
  {
   "cell_type": "code",
   "execution_count": 27,
   "metadata": {},
   "outputs": [
    {
     "data": {
      "text/plain": [
       "{'key:max user id': 1,\n",
       " 'user:1': 'alice@example.com',\n",
       " 'emails:alice@example.com': '1',\n",
       " 'fs:1': {'root': {}, 'archive': {}},\n",
       " 'projects:1': {},\n",
       " 'settings:1': {}}"
      ]
     },
     "execution_count": 27,
     "metadata": {},
     "output_type": "execute_result"
    }
   ],
   "source": [
    "store"
   ]
  },
  {
   "attachments": {},
   "cell_type": "markdown",
   "metadata": {},
   "source": [
    "As the user is linking projects to a directory structure, we obviously need to be able to add projects and put them into the file system."
   ]
  },
  {
   "cell_type": "code",
   "execution_count": 28,
   "metadata": {},
   "outputs": [],
   "source": [
    "def projects(user_id):\n",
    "    return store[f\"projects:{user_id}\"]\n",
    "\n",
    "def new_project(user_id, name, url, path=\"/root\"):\n",
    "    d = store[f'projects:{user_id}']\n",
    "    nid = _new_inode_id()\n",
    "    d[nid] = url  # {node id pointing to project URL}\n",
    "    fs = store[f'fs:{user_id}']  # file system adding project URL to root.\n",
    "    ln(fs, f'{path}/{name}', nid)\n"
   ]
  },
  {
   "cell_type": "code",
   "execution_count": 29,
   "metadata": {},
   "outputs": [
    {
     "name": "stdout",
     "output_type": "stream",
     "text": [
      "{}\n"
     ]
    }
   ],
   "source": [
    "alice_id = store[f\"emails:{alice}\"]\n",
    "print(projects(alice_id))\n",
    "# there should be no projects"
   ]
  },
  {
   "attachments": {},
   "cell_type": "markdown",
   "metadata": {},
   "source": [
    "Let's add a project:"
   ]
  },
  {
   "cell_type": "code",
   "execution_count": 30,
   "metadata": {},
   "outputs": [],
   "source": [
    "new_project(alice_id, \"project 1\", url=\"http://example.com/project1\")"
   ]
  },
  {
   "cell_type": "code",
   "execution_count": 31,
   "metadata": {},
   "outputs": [
    {
     "name": "stdout",
     "output_type": "stream",
     "text": [
      "├── root\n",
      "│   └── project 1: 1\n",
      "└── archive\n"
     ]
    }
   ],
   "source": [
    "fs = store[f'fs:{alice_id}']\n",
    "tree(fs)"
   ]
  },
  {
   "attachments": {},
   "cell_type": "markdown",
   "metadata": {},
   "source": [
    "In the printout above we see that \"project 1\" was added to the root of the file system and below we see the contents of the key-value store:"
   ]
  },
  {
   "cell_type": "code",
   "execution_count": 32,
   "metadata": {},
   "outputs": [
    {
     "data": {
      "text/plain": [
       "{'key:max user id': 1,\n",
       " 'user:1': 'alice@example.com',\n",
       " 'emails:alice@example.com': '1',\n",
       " 'fs:1': {'root': {'project 1': 1}, 'archive': {}},\n",
       " 'projects:1': {1: 'http://example.com/project1'},\n",
       " 'settings:1': {},\n",
       " 'key:max inode id': 1}"
      ]
     },
     "execution_count": 32,
     "metadata": {},
     "output_type": "execute_result"
    }
   ],
   "source": [
    "store"
   ]
  },
  {
   "attachments": {},
   "cell_type": "markdown",
   "metadata": {},
   "source": [
    "At this point it works, but there are some short-comings:\n",
    "\n",
    "- The file system has no rights management, so a user can technically seen delete the `archive` branch, despite that this is unintended.\n",
    "- The user may change email (for example after name change), but this shouldn't corrupt the store or deny alice access to her files.\n",
    "- In case that the store can't take the python `dict` as a value, I would have to use `json.dumps` first. Also a minor thing.\n",
    "\n",
    "I think it's time to pause and ponder about real world restrictions...\n",
    "\n",
    "(to be continued)"
   ]
  },
  {
   "cell_type": "code",
   "execution_count": null,
   "metadata": {},
   "outputs": [],
   "source": []
  }
 ],
 "metadata": {
  "kernelspec": {
   "display_name": "pages310",
   "language": "python",
   "name": "python3"
  },
  "language_info": {
   "codemirror_mode": {
    "name": "ipython",
    "version": 3
   },
   "file_extension": ".py",
   "mimetype": "text/x-python",
   "name": "python",
   "nbconvert_exporter": "python",
   "pygments_lexer": "ipython3",
   "version": "3.10.8"
  },
  "orig_nbformat": 4,
  "vscode": {
   "interpreter": {
    "hash": "6f432a2729e41e111fc68229d0303145971e0c11421dc22cdb03f95edd20be36"
   }
  }
 },
 "nbformat": 4,
 "nbformat_minor": 2
}
