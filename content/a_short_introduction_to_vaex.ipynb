{
 "cells": [
  {
   "cell_type": "markdown",
   "metadata": {
    "pycharm": {
     "name": "#%% md\n"
    }
   },
   "source": [
    "# A Short introduction to vaex\n",
    "\n",
    "vaex is a python package made by [two+](https://github.com/vaexio/vaex/graphs/contributors) really smart cookies: Maarten Breddels & Jovan Veljanoski.\n",
    "\n",
    "Vaex caught my attention a long time ago when I needed to solve a principal problem, best described in this image:\n",
    "\n",
    "![0](artwork/vaex0.png)\n",
    "\n",
    "How do I complete the transition from Source (top) to Sink (botton) with just 12 Gb ram (OS included)?"
   ]
  },
  {
   "cell_type": "markdown",
   "metadata": {
    "pycharm": {
     "name": "#%% md\n"
    }
   },
   "source": [
    "A number of tricks need to be employed.\n",
    "\n",
    "1. The data that passes unchanged through filter-1 and directly to the merge doesn't need any processing, so I can keep the `False` indices of that because (it's shorter than the `True` index).\n",
    "2. The data that passes through filter-2 requires is also used by Repair-1 in an \"inplace\" update, to avoid memory duplication.\n",
    "3. To free up memory after Repair-1 the data is dumped to disk as HDF5.\n",
    "4. The data that passes through filter-3 is also used by Repair-2 in an \"inplace\" update, so that memory duplication is avoided.\n",
    "\n",
    "To generalize further, the typical data cleanup functions are:\n",
    "\n",
    "0. View the data.\n",
    "\n",
    "1. append datasets\n",
    "2. filter datasets\n",
    "3. sort\n",
    "4. groupby\n",
    "5. pivot / reverse pivot\n",
    "6. change datatype (typically string (from csv) to something else)\n",
    "7. join datasets\n",
    "8. lookup\n",
    "9. create charts\n",
    "10. custom functions reading 1 or more columns to generate or replace 1 or more columns.\n",
    "\n"
   ]
  },
  {
   "cell_type": "code",
   "execution_count": 1,
   "metadata": {
    "collapsed": false,
    "jupyter": {
     "outputs_hidden": false
    },
    "pycharm": {
     "name": "#%%\n"
    }
   },
   "outputs": [
    {
     "data": {
      "text/plain": [
       "9"
      ]
     },
     "execution_count": 1,
     "metadata": {},
     "output_type": "execute_result"
    }
   ],
   "source": [
    "2+7"
   ]
  },
  {
   "cell_type": "code",
   "execution_count": 2,
   "metadata": {
    "pycharm": {
     "name": "#%%\n"
    }
   },
   "outputs": [],
   "source": [
    "import vaex\n",
    "import pathlib"
   ]
  },
  {
   "cell_type": "code",
   "execution_count": 3,
   "metadata": {
    "pycharm": {
     "name": "#%%\n"
    }
   },
   "outputs": [],
   "source": [
    "def load(path, **kwargs):\n",
    "    imported_file = path.parent / pathlib.Path(path.name + '.hdf5')\n",
    "    if imported_file.exists():\n",
    "        df = vaex.open(imported_file)\n",
    "    elif path.name.endswith('txt'):\n",
    "        df = vaex.from_csv(path, chunk_size=1_000_000, convert=True, **kwargs)\n",
    "    else:\n",
    "        raise NotImplemented\n",
    "    return df"
   ]
  },
  {
   "cell_type": "code",
   "execution_count": 4,
   "metadata": {
    "pycharm": {
     "name": "#%%\n"
    }
   },
   "outputs": [
    {
     "name": "stdout",
     "output_type": "stream",
     "text": [
      "Converting csv to chunk files\n",
      "Saved chunk #0 to D:\\Newport_Data_DEC-MAR.txt_chunk_0.hdf5\n",
      "Saved chunk #1 to D:\\Newport_Data_DEC-MAR.txt_chunk_1.hdf5\n",
      "Saved chunk #2 to D:\\Newport_Data_DEC-MAR.txt_chunk_2.hdf5\n",
      "Saved chunk #3 to D:\\Newport_Data_DEC-MAR.txt_chunk_3.hdf5\n",
      "Saved chunk #4 to D:\\Newport_Data_DEC-MAR.txt_chunk_4.hdf5\n",
      "Saved chunk #5 to D:\\Newport_Data_DEC-MAR.txt_chunk_5.hdf5\n",
      "Saved chunk #6 to D:\\Newport_Data_DEC-MAR.txt_chunk_6.hdf5\n",
      "Converting 7 chunks into single file D:\\Newport_Data_DEC-MAR.txt.hdf5\n",
      "export(hdf5) [########################################] 100.00% elapsed time  :    72.19s =  1.2m =  0.0h          \n",
      " "
     ]
    }
   ],
   "source": [
    "target_file = pathlib.Path(r\"D:\\Newport_Data_DEC-MAR.txt\")\n",
    "df = load(target_file, delimiter=\"\\t\", progress=True)"
   ]
  },
  {
   "cell_type": "markdown",
   "metadata": {
    "pycharm": {
     "name": "#%% md\n"
    }
   },
   "source": [
    "# View the data"
   ]
  },
  {
   "cell_type": "code",
   "execution_count": 5,
   "metadata": {
    "pycharm": {
     "name": "#%%\n"
    }
   },
   "outputs": [
    {
     "data": {
      "text/html": [
       "<table>\n",
       "<thead>\n",
       "<tr><th>#                                    </th><th>ORIG_UT_ID  </th><th>DST_UT_ID  </th><th>MJR_IT_CD_ID  </th><th>IT_DSC_TX                               </th><th>P_SHP_DT  </th><th>P_SHP_TM  </th><th>DAY_DT    </th><th>ORDR_SRC_CT  </th><th>DAY_TM  </th><th>P_DMD_CT  </th><th>P_XDCK_FLG  </th><th>WRK_CT  </th><th>P_CRT_PRC_CT  </th><th>SHTL_UT_ID  </th><th>MPAK_IT_QT  </th><th>VPAK_IT_QT  </th><th>P_RCV_DT  </th><th>P_RCV_TM  </th><th>P_SELL_BY_DT  </th><th>UCC128_CD_ID  </th><th>PO_NBR_ID  </th><th>TLR_ID  </th><th>TLR_CTNR_TYP_ID  </th><th>P_HDL_CT  </th><th>P_ATL_DVRT_DT  </th><th>P_ATL_DVRT_TM  </th><th>SHP_CTNR_ID  </th><th>SHP_CTNR_TYP_ID  </th><th>P_QT  </th><th>LB_SRL_ID  </th><th>UT_RCT_ID  </th><th>SHTL_FROM_UT_ID  </th><th>UT_RCT_CT  </th><th>LD_ID  </th><th>VDR_ID  </th><th>VDR_NM_TX             </th><th>MPAK_HGT_QT  </th><th>MPAK_WGT_QT  </th><th>MPAK_DPH_QT  </th><th>MPAK_WDTH_QT  </th><th>MPAK_CBE_QT  </th><th>OUTLD_ID  </th><th>TLR_LD_ID  </th><th>UPC_ID     </th><th>VPAK_HGT_QT  </th><th>VPAK_WGT_QT  </th><th>VPAK_DPH_QT  </th><th>VPAK_WDTH_QT  </th><th>VPAK_CBE_QT  </th><th>PKY_ID  </th><th>PKY_DSC_TX  </th><th>P_ID   </th><th>BYR_ID  </th><th>MJR_P_SUB_CT_ID  </th><th>MJR_P_SUB_CT_NM_TX        </th><th>MPAKS_SHIPPED  </th></tr>\n",
       "</thead>\n",
       "<tbody>\n",
       "<tr><td><i style='opacity: 0.6'>0</i>        </td><td>883         </td><td>34         </td><td>121213        </td><td>PC CHOC MILK 1% LOWFAT 1/2 GAL DF       </td><td>1/20/2021 </td><td>182941    </td><td>1/21/2021 </td><td>36           </td><td>60428   </td><td>REG       </td><td>N           </td><td>HSEL    </td><td>HAND          </td><td>0           </td><td>9           </td><td>9           </td><td>1/20/2021 </td><td>21759     </td><td>2/1/2021      </td><td>              </td><td>212050180  </td><td>413250  </td><td>53               </td><td>2         </td><td>1/20/2021      </td><td>182941         </td><td>7761495      </td><td>PL               </td><td>9     </td><td>7761478    </td><td>1748292492 </td><td>0                </td><td>P          </td><td>407501 </td><td>1005419 </td><td>PURPLE COW CREAMERY   </td><td>10.8661      </td><td>578.4        </td><td>12.9134      </td><td>12.6772       </td><td>1778.8032    </td><td>64879     </td><td>413250     </td><td>70882095744</td><td>10.8661      </td><td>578.4        </td><td>12.9134      </td><td>12.6772       </td><td>1778.8032    </td><td>7       </td><td>DAIRY       </td><td>3642330</td><td>7       </td><td>L3-004126        </td><td>MILK PREMIUM RFRG DAIRY   </td><td>1              </td></tr>\n",
       "<tr><td><i style='opacity: 0.6'>1</i>        </td><td>883         </td><td>268        </td><td>479669        </td><td>KRAFT SHRED CHEESE SHARP CHEDDAR 16 OZ  </td><td>12/14/2020</td><td>130748    </td><td>12/15/2020</td><td>36           </td><td>55447   </td><td>REG       </td><td>N           </td><td>HSEL    </td><td>HAND          </td><td>0           </td><td>12          </td><td>12          </td><td>12/10/2020</td><td>62152     </td><td>5/3/2021      </td><td>              </td><td>211924312  </td><td>411115  </td><td>53               </td><td>1         </td><td>12/14/2020     </td><td>130748         </td><td>7810420      </td><td>PL               </td><td>12    </td><td>7810188    </td><td>1591858735 </td><td>0                </td><td>P          </td><td>404683 </td><td>1003132 </td><td>KRAFT FOODS           </td><td>6.8          </td><td>209.6        </td><td>15.9         </td><td>12.1          </td><td>1308.2688    </td><td>61476     </td><td>411115     </td><td>2100005371 </td><td>6.8          </td><td>209.6        </td><td>15.9         </td><td>12.1          </td><td>1308.2688    </td><td>7       </td><td>DAIRY       </td><td>502802 </td><td>717     </td><td>L3-004260        </td><td>SHREDS CHUNKS PKGD CHEESE </td><td>1              </td></tr>\n",
       "<tr><td><i style='opacity: 0.6'>2</i>        </td><td>883         </td><td>55         </td><td>50391         </td><td>DANNON ACTIVIA LT STRAW BANANA PEACH 12/</td><td>12/16/2020</td><td>215157    </td><td>12/17/2020</td><td>36           </td><td>62909   </td><td>REG       </td><td>N           </td><td>HSEL    </td><td>HAND          </td><td>0           </td><td>4           </td><td>4           </td><td>12/8/2020 </td><td>70535     </td><td>1/13/2021     </td><td>              </td><td>211920154  </td><td>411198  </td><td>53               </td><td>2         </td><td>12/16/2020     </td><td>215157         </td><td>7878390      </td><td>PL               </td><td>4     </td><td>7877697    </td><td>966630323  </td><td>0                </td><td>P          </td><td>404520 </td><td>4024    </td><td>DANNON YOGURT         </td><td>5.0          </td><td>212.64       </td><td>16.0         </td><td>9.0           </td><td>720.0576     </td><td>61613     </td><td>411198     </td><td>3663202764 </td><td>5.0          </td><td>212.64       </td><td>16.0         </td><td>9.0           </td><td>720.0576     </td><td>7       </td><td>DAIRY       </td><td>3010581</td><td>707     </td><td>L3-002966        </td><td>YOGURT RFRG DAIRY         </td><td>1              </td></tr>\n",
       "<tr><td><i style='opacity: 0.6'>3</i>        </td><td>882         </td><td>227        </td><td>249608        </td><td>MEIJER CHICKEN BREAST THIN SLICED BS 40 </td><td>2/13/2021 </td><td>140118    </td><td>2/14/2021 </td><td>36           </td><td>142230  </td><td>REG       </td><td>N           </td><td>HSEL    </td><td>BELT          </td><td>0           </td><td>12          </td><td>12          </td><td>2/12/2021 </td><td>23736     </td><td>10/21/2021    </td><td>              </td><td>212113806  </td><td>985927  </td><td>53               </td><td>1         </td><td>2/13/2021      </td><td>140118         </td><td>7490865      </td><td>LD               </td><td>12    </td><td>7490350    </td><td>2023697984 </td><td>0                </td><td>P          </td><td>246224 </td><td>39154   </td><td>TYSON FOODS           </td><td>8.2283       </td><td>588.4755     </td><td>23.2677      </td><td>15.7874       </td><td>3022.5548    </td><td>65594     </td><td>985927     </td><td>70882000167</td><td>8.2283       </td><td>588.4755     </td><td>23.2677      </td><td>15.7874       </td><td>3022.5548    </td><td>2       </td><td>MEAT        </td><td>3298997</td><td>207     </td><td>L3-003085        </td><td>CHICKEN FROZEN            </td><td>1              </td></tr>\n",
       "<tr><td><i style='opacity: 0.6'>4</i>        </td><td>883         </td><td>109        </td><td>34610         </td><td>MEIJER ALL NATURAL SOUR CREAM 16 OZ     </td><td>12/11/2020</td><td>202759    </td><td>12/12/2020</td><td>36           </td><td>63332   </td><td>REG       </td><td>N           </td><td>HSEL    </td><td>HAND          </td><td>0           </td><td>12          </td><td>12          </td><td>12/9/2020 </td><td>33337     </td><td>2/2/2021      </td><td>              </td><td>80199756   </td><td>410910  </td><td>53               </td><td>2         </td><td>12/11/2020     </td><td>202759         </td><td>7807527      </td><td>PL               </td><td>12    </td><td>7806874    </td><td>781801325  </td><td>0                </td><td>S          </td><td>404868 </td><td>0       </td><td>?                     </td><td>6.4          </td><td>207.2        </td><td>13.6         </td><td>9.3           </td><td>809.3952     </td><td>61187     </td><td>410910     </td><td>71928361714</td><td>6.4          </td><td>207.2        </td><td>13.6         </td><td>9.3           </td><td>809.3952     </td><td>7       </td><td>DAIRY       </td><td>504314 </td><td>7       </td><td>L3-002958        </td><td>CULTURED RFRG DAIRY       </td><td>1              </td></tr>\n",
       "<tr><td>...                                  </td><td>...         </td><td>...        </td><td>...           </td><td>...                                     </td><td>...       </td><td>...       </td><td>...       </td><td>...          </td><td>...     </td><td>...       </td><td>...         </td><td>...     </td><td>...           </td><td>...         </td><td>...         </td><td>...         </td><td>...       </td><td>...       </td><td>...           </td><td>...           </td><td>...        </td><td>...     </td><td>...              </td><td>...       </td><td>...            </td><td>...            </td><td>...          </td><td>...              </td><td>...   </td><td>...        </td><td>...        </td><td>...              </td><td>...        </td><td>...    </td><td>...     </td><td>...                   </td><td>...          </td><td>...          </td><td>...          </td><td>...           </td><td>...          </td><td>...       </td><td>...        </td><td>...        </td><td>...          </td><td>...          </td><td>...          </td><td>...           </td><td>...          </td><td>...     </td><td>...         </td><td>...    </td><td>...     </td><td>...              </td><td>...                       </td><td>...            </td></tr>\n",
       "<tr><td><i style='opacity: 0.6'>6,264,700</i></td><td>883         </td><td>27         </td><td>219621        </td><td>TURNIP GREENS BUNCH                     </td><td>1/10/2021 </td><td>191554    </td><td>1/11/2021 </td><td>34           </td><td>55415   </td><td>REG       </td><td>N           </td><td>HSEL    </td><td>HAND          </td><td>0           </td><td>18          </td><td>18          </td><td>1/9/2021  </td><td>90226     </td><td>1/9/2021      </td><td>              </td><td>211984479  </td><td>412647  </td><td>53               </td><td>2         </td><td>1/10/2021      </td><td>191554         </td><td>7684721      </td><td>PL               </td><td>18    </td><td>7684571    </td><td>807001881  </td><td>0                </td><td>P          </td><td>406636 </td><td>40338   </td><td>RIO FRESH INC         </td><td>7.5591       </td><td>266.4        </td><td>19.4488      </td><td>13.3858       </td><td>1967.8464    </td><td>63887     </td><td>412647     </td><td>4619       </td><td>7.5591       </td><td>266.4        </td><td>19.4488      </td><td>13.3858       </td><td>1967.8464    </td><td>3       </td><td>PRODUCE     </td><td>520037 </td><td>330     </td><td>L3-003135        </td><td>WET VEGETABLES            </td><td>1              </td></tr>\n",
       "<tr><td><i style='opacity: 0.6'>6,264,701</i></td><td>883         </td><td>32         </td><td>280054        </td><td>DAISY SOUR CRM LT 16 OZ                 </td><td>12/24/2020</td><td>142339    </td><td>12/25/2020</td><td>36           </td><td>60855   </td><td>REG       </td><td>N           </td><td>HSEL    </td><td>HAND          </td><td>0           </td><td>12          </td><td>12          </td><td>12/4/2020 </td><td>73723     </td><td>3/1/2021      </td><td>              </td><td>211897008  </td><td>411673  </td><td>53               </td><td>2         </td><td>12/24/2020     </td><td>142339         </td><td>7939737      </td><td>PL               </td><td>12    </td><td>7939270    </td><td>1883702765 </td><td>0                </td><td>P          </td><td>404486 </td><td>37695   </td><td>DAISY BRAND           </td><td>4.8          </td><td>210.4        </td><td>15.8         </td><td>11.7          </td><td>887.328      </td><td>62344     </td><td>411673     </td><td>7342000015 </td><td>4.8          </td><td>210.4        </td><td>15.8         </td><td>11.7          </td><td>887.328      </td><td>7       </td><td>DAIRY       </td><td>498754 </td><td>7       </td><td>L3-002958        </td><td>CULTURED RFRG DAIRY       </td><td>1              </td></tr>\n",
       "<tr><td><i style='opacity: 0.6'>6,264,702</i></td><td>883         </td><td>286        </td><td>280430        </td><td>SIMPLY OJ ORIG 89 OZ                    </td><td>2/26/2021 </td><td>124719    </td><td>2/27/2021 </td><td>36           </td><td>63415   </td><td>REG       </td><td>N           </td><td>HSEL    </td><td>HAND          </td><td>0           </td><td>6           </td><td>6           </td><td>2/24/2021 </td><td>41604     </td><td>4/27/2021     </td><td>              </td><td>212150085  </td><td>415567  </td><td>53               </td><td>2         </td><td>2/26/2021      </td><td>124719         </td><td>7690859      </td><td>PL               </td><td>6     </td><td>7690278    </td><td>1841264994 </td><td>0                </td><td>P          </td><td>409504 </td><td>1003128 </td><td>MINUTE MAID CHILLED   </td><td>10.7         </td><td>628.0        </td><td>20.0         </td><td>10.0          </td><td>2139.9552    </td><td>68622     </td><td>415567     </td><td>2500005433 </td><td>10.7         </td><td>628.0        </td><td>20.0         </td><td>10.0          </td><td>2139.9552    </td><td>7       </td><td>DAIRY       </td><td>495132 </td><td>707     </td><td>L3-002962        </td><td>JUICE AND JUICE DRINK RFRG</td><td>1              </td></tr>\n",
       "<tr><td><i style='opacity: 0.6'>6,264,703</i></td><td>883         </td><td>307        </td><td>203189        </td><td>MANGOS LARGE BOX                        </td><td>2/28/2021 </td><td>155542    </td><td>3/1/2021  </td><td>34           </td><td>55636   </td><td>REG       </td><td>N           </td><td>HSEL    </td><td>HAND          </td><td>0           </td><td>24          </td><td>24          </td><td>2/26/2021 </td><td>90227     </td><td>2/26/2021     </td><td>              </td><td>212111389  </td><td>415693  </td><td>53               </td><td>2         </td><td>2/28/2021      </td><td>155542         </td><td>7642414      </td><td>PL               </td><td>24    </td><td>7642160    </td><td>1912790060 </td><td>0                </td><td>P          </td><td>409841 </td><td>1004670 </td><td>AMAZON PRODUCE NETWORK</td><td>4.8          </td><td>360.0        </td><td>15.7         </td><td>23.7          </td><td>1786.0608    </td><td>68857     </td><td>415693     </td><td>4959       </td><td>4.8          </td><td>360.0        </td><td>15.7         </td><td>23.7          </td><td>1786.0608    </td><td>3       </td><td>PRODUCE     </td><td>519597 </td><td>311     </td><td>L3-003133        </td><td>TROPICAL FRUIT            </td><td>1              </td></tr>\n",
       "<tr><td><i style='opacity: 0.6'>6,264,704</i></td><td>883         </td><td>243        </td><td>326002        </td><td>STARBUCKS CREAMER CARAMEL MACCHIATO 28OZ</td><td>12/10/2020</td><td>185457    </td><td>12/11/2020</td><td>36           </td><td>73707   </td><td>REG       </td><td>N           </td><td>HSEL    </td><td>HAND          </td><td>0           </td><td>6           </td><td>6           </td><td>12/8/2020 </td><td>73047     </td><td>5/24/2021     </td><td>              </td><td>211911851  </td><td>410875  </td><td>53               </td><td>2         </td><td>12/10/2020     </td><td>185457         </td><td>7897715      </td><td>PL               </td><td>6     </td><td>7897383    </td><td>1406966480 </td><td>0                </td><td>P          </td><td>404447 </td><td>47061   </td><td>NESTLE USA            </td><td>9.1          </td><td>218.4        </td><td>10.4         </td><td>6.8           </td><td>643.5072     </td><td>61098     </td><td>410875     </td><td>5000038276 </td><td>9.1          </td><td>218.4        </td><td>10.4         </td><td>6.8           </td><td>643.5072     </td><td>7       </td><td>DAIRY       </td><td>4517367</td><td>7       </td><td>L3-002959        </td><td>COFFEE CREAMER RFRG DAIRY </td><td>1              </td></tr>\n",
       "</tbody>\n",
       "</table>"
      ],
      "text/plain": [
       "#          ORIG_UT_ID    DST_UT_ID    MJR_IT_CD_ID    IT_DSC_TX                                 P_SHP_DT    P_SHP_TM    DAY_DT      ORDR_SRC_CT    DAY_TM    P_DMD_CT    P_XDCK_FLG    WRK_CT    P_CRT_PRC_CT    SHTL_UT_ID    MPAK_IT_QT    VPAK_IT_QT    P_RCV_DT    P_RCV_TM    P_SELL_BY_DT    UCC128_CD_ID    PO_NBR_ID    TLR_ID    TLR_CTNR_TYP_ID    P_HDL_CT    P_ATL_DVRT_DT    P_ATL_DVRT_TM    SHP_CTNR_ID    SHP_CTNR_TYP_ID    P_QT    LB_SRL_ID    UT_RCT_ID    SHTL_FROM_UT_ID    UT_RCT_CT    LD_ID    VDR_ID    VDR_NM_TX               MPAK_HGT_QT    MPAK_WGT_QT    MPAK_DPH_QT    MPAK_WDTH_QT    MPAK_CBE_QT    OUTLD_ID    TLR_LD_ID    UPC_ID       VPAK_HGT_QT    VPAK_WGT_QT    VPAK_DPH_QT    VPAK_WDTH_QT    VPAK_CBE_QT    PKY_ID    PKY_DSC_TX    P_ID     BYR_ID    MJR_P_SUB_CT_ID    MJR_P_SUB_CT_NM_TX          MPAKS_SHIPPED\n",
       "0          883           34           121213          PC CHOC MILK 1% LOWFAT 1/2 GAL DF         1/20/2021   182941      1/21/2021   36             60428     REG         N             HSEL      HAND            0             9             9             1/20/2021   21759       2/1/2021                        212050180    413250    53                 2           1/20/2021        182941           7761495        PL                 9       7761478      1748292492   0                  P            407501   1005419   PURPLE COW CREAMERY     10.8661        578.4          12.9134        12.6772         1778.8032      64879       413250       70882095744  10.8661        578.4          12.9134        12.6772         1778.8032      7         DAIRY         3642330  7         L3-004126          MILK PREMIUM RFRG DAIRY     1\n",
       "1          883           268          479669          KRAFT SHRED CHEESE SHARP CHEDDAR 16 OZ    12/14/2020  130748      12/15/2020  36             55447     REG         N             HSEL      HAND            0             12            12            12/10/2020  62152       5/3/2021                        211924312    411115    53                 1           12/14/2020       130748           7810420        PL                 12      7810188      1591858735   0                  P            404683   1003132   KRAFT FOODS             6.8            209.6          15.9           12.1            1308.2688      61476       411115       2100005371   6.8            209.6          15.9           12.1            1308.2688      7         DAIRY         502802   717       L3-004260          SHREDS CHUNKS PKGD CHEESE   1\n",
       "2          883           55           50391           DANNON ACTIVIA LT STRAW BANANA PEACH 12/  12/16/2020  215157      12/17/2020  36             62909     REG         N             HSEL      HAND            0             4             4             12/8/2020   70535       1/13/2021                       211920154    411198    53                 2           12/16/2020       215157           7878390        PL                 4       7877697      966630323    0                  P            404520   4024      DANNON YOGURT           5.0            212.64         16.0           9.0             720.0576       61613       411198       3663202764   5.0            212.64         16.0           9.0             720.0576       7         DAIRY         3010581  707       L3-002966          YOGURT RFRG DAIRY           1\n",
       "3          882           227          249608          MEIJER CHICKEN BREAST THIN SLICED BS 40   2/13/2021   140118      2/14/2021   36             142230    REG         N             HSEL      BELT            0             12            12            2/12/2021   23736       10/21/2021                      212113806    985927    53                 1           2/13/2021        140118           7490865        LD                 12      7490350      2023697984   0                  P            246224   39154     TYSON FOODS             8.2283         588.4755       23.2677        15.7874         3022.5548      65594       985927       70882000167  8.2283         588.4755       23.2677        15.7874         3022.5548      2         MEAT          3298997  207       L3-003085          CHICKEN FROZEN              1\n",
       "4          883           109          34610           MEIJER ALL NATURAL SOUR CREAM 16 OZ       12/11/2020  202759      12/12/2020  36             63332     REG         N             HSEL      HAND            0             12            12            12/9/2020   33337       2/2/2021                        80199756     410910    53                 2           12/11/2020       202759           7807527        PL                 12      7806874      781801325    0                  S            404868   0         ?                       6.4            207.2          13.6           9.3             809.3952       61187       410910       71928361714  6.4            207.2          13.6           9.3             809.3952       7         DAIRY         504314   7         L3-002958          CULTURED RFRG DAIRY         1\n",
       "...        ...           ...          ...             ...                                       ...         ...         ...         ...            ...       ...         ...           ...       ...             ...           ...           ...           ...         ...         ...             ...             ...          ...       ...                ...         ...              ...              ...            ...                ...     ...          ...          ...                ...          ...      ...       ...                     ...            ...            ...            ...             ...            ...         ...          ...          ...            ...            ...            ...             ...            ...       ...           ...      ...       ...                ...                         ...\n",
       "6,264,700  883           27           219621          TURNIP GREENS BUNCH                       1/10/2021   191554      1/11/2021   34             55415     REG         N             HSEL      HAND            0             18            18            1/9/2021    90226       1/9/2021                        211984479    412647    53                 2           1/10/2021        191554           7684721        PL                 18      7684571      807001881    0                  P            406636   40338     RIO FRESH INC           7.5591         266.4          19.4488        13.3858         1967.8464      63887       412647       4619         7.5591         266.4          19.4488        13.3858         1967.8464      3         PRODUCE       520037   330       L3-003135          WET VEGETABLES              1\n",
       "6,264,701  883           32           280054          DAISY SOUR CRM LT 16 OZ                   12/24/2020  142339      12/25/2020  36             60855     REG         N             HSEL      HAND            0             12            12            12/4/2020   73723       3/1/2021                        211897008    411673    53                 2           12/24/2020       142339           7939737        PL                 12      7939270      1883702765   0                  P            404486   37695     DAISY BRAND             4.8            210.4          15.8           11.7            887.328        62344       411673       7342000015   4.8            210.4          15.8           11.7            887.328        7         DAIRY         498754   7         L3-002958          CULTURED RFRG DAIRY         1\n",
       "6,264,702  883           286          280430          SIMPLY OJ ORIG 89 OZ                      2/26/2021   124719      2/27/2021   36             63415     REG         N             HSEL      HAND            0             6             6             2/24/2021   41604       4/27/2021                       212150085    415567    53                 2           2/26/2021        124719           7690859        PL                 6       7690278      1841264994   0                  P            409504   1003128   MINUTE MAID CHILLED     10.7           628.0          20.0           10.0            2139.9552      68622       415567       2500005433   10.7           628.0          20.0           10.0            2139.9552      7         DAIRY         495132   707       L3-002962          JUICE AND JUICE DRINK RFRG  1\n",
       "6,264,703  883           307          203189          MANGOS LARGE BOX                          2/28/2021   155542      3/1/2021    34             55636     REG         N             HSEL      HAND            0             24            24            2/26/2021   90227       2/26/2021                       212111389    415693    53                 2           2/28/2021        155542           7642414        PL                 24      7642160      1912790060   0                  P            409841   1004670   AMAZON PRODUCE NETWORK  4.8            360.0          15.7           23.7            1786.0608      68857       415693       4959         4.8            360.0          15.7           23.7            1786.0608      3         PRODUCE       519597   311       L3-003133          TROPICAL FRUIT              1\n",
       "6,264,704  883           243          326002          STARBUCKS CREAMER CARAMEL MACCHIATO 28OZ  12/10/2020  185457      12/11/2020  36             73707     REG         N             HSEL      HAND            0             6             6             12/8/2020   73047       5/24/2021                       211911851    410875    53                 2           12/10/2020       185457           7897715        PL                 6       7897383      1406966480   0                  P            404447   47061     NESTLE USA              9.1            218.4          10.4           6.8             643.5072       61098       410875       5000038276   9.1            218.4          10.4           6.8             643.5072       7         DAIRY         4517367  7         L3-002959          COFFEE CREAMER RFRG DAIRY   1"
      ]
     },
     "execution_count": 5,
     "metadata": {},
     "output_type": "execute_result"
    }
   ],
   "source": [
    "df"
   ]
  },
  {
   "cell_type": "code",
   "execution_count": 6,
   "metadata": {
    "pycharm": {
     "name": "#%%\n"
    }
   },
   "outputs": [
    {
     "name": "stdout",
     "output_type": "stream",
     "text": [
      "6264705 rows, 56 columns\n",
      "['ORIG_UT_ID', 'DST_UT_ID', 'MJR_IT_CD_ID', 'IT_DSC_TX', 'P_SHP_DT', 'P_SHP_TM', 'DAY_DT', 'ORDR_SRC_CT', 'DAY_TM', 'P_DMD_CT', 'P_XDCK_FLG', 'WRK_CT', 'P_CRT_PRC_CT', 'SHTL_UT_ID', 'MPAK_IT_QT', 'VPAK_IT_QT', 'P_RCV_DT', 'P_RCV_TM', 'P_SELL_BY_DT', 'UCC128_CD_ID', 'PO_NBR_ID', 'TLR_ID', 'TLR_CTNR_TYP_ID', 'P_HDL_CT', 'P_ATL_DVRT_DT', 'P_ATL_DVRT_TM', 'SHP_CTNR_ID', 'SHP_CTNR_TYP_ID', 'P_QT', 'LB_SRL_ID', 'UT_RCT_ID', 'SHTL_FROM_UT_ID', 'UT_RCT_CT', 'LD_ID', 'VDR_ID', 'VDR_NM_TX', 'MPAK_HGT_QT', 'MPAK_WGT_QT', 'MPAK_DPH_QT', 'MPAK_WDTH_QT', 'MPAK_CBE_QT', 'OUTLD_ID', 'TLR_LD_ID', 'UPC_ID', 'VPAK_HGT_QT', 'VPAK_WGT_QT', 'VPAK_DPH_QT', 'VPAK_WDTH_QT', 'VPAK_CBE_QT', 'PKY_ID', 'PKY_DSC_TX', 'P_ID', 'BYR_ID', 'MJR_P_SUB_CT_ID', 'MJR_P_SUB_CT_NM_TX', 'MPAKS_SHIPPED']\n"
     ]
    }
   ],
   "source": [
    "print(f\"{len(df)} rows, {len(list(df))} columns\\n{list(df)}\")  # find columns using __iter__"
   ]
  },
  {
   "cell_type": "markdown",
   "metadata": {
    "pycharm": {
     "name": "#%% md\n"
    }
   },
   "source": [
    "## select a subset of columns"
   ]
  },
  {
   "cell_type": "code",
   "execution_count": 7,
   "metadata": {
    "collapsed": false,
    "jupyter": {
     "outputs_hidden": false
    },
    "pycharm": {
     "name": "#%%\n"
    }
   },
   "outputs": [
    {
     "data": {
      "text/html": [
       "<table>\n",
       "<thead>\n",
       "<tr><th>#                                    </th><th>ORIG_UT_ID  </th><th>DST_UT_ID  </th><th>P_SHP_DT  </th><th>PO_NBR_ID  </th><th>VPAK_WDTH_QT  </th><th>VPAK_CBE_QT  </th><th>PKY_ID  </th><th>PKY_DSC_TX  </th><th>P_ID   </th><th>BYR_ID  </th><th>MPAKS_SHIPPED  </th></tr>\n",
       "</thead>\n",
       "<tbody>\n",
       "<tr><td><i style='opacity: 0.6'>0</i>        </td><td>883         </td><td>34         </td><td>1/20/2021 </td><td>212050180  </td><td>12.6772       </td><td>1778.8032    </td><td>7       </td><td>DAIRY       </td><td>3642330</td><td>7       </td><td>1              </td></tr>\n",
       "<tr><td><i style='opacity: 0.6'>1</i>        </td><td>883         </td><td>268        </td><td>12/14/2020</td><td>211924312  </td><td>12.1          </td><td>1308.2688    </td><td>7       </td><td>DAIRY       </td><td>502802 </td><td>717     </td><td>1              </td></tr>\n",
       "<tr><td><i style='opacity: 0.6'>2</i>        </td><td>883         </td><td>55         </td><td>12/16/2020</td><td>211920154  </td><td>9.0           </td><td>720.0576     </td><td>7       </td><td>DAIRY       </td><td>3010581</td><td>707     </td><td>1              </td></tr>\n",
       "<tr><td><i style='opacity: 0.6'>3</i>        </td><td>882         </td><td>227        </td><td>2/13/2021 </td><td>212113806  </td><td>15.7874       </td><td>3022.5548    </td><td>2       </td><td>MEAT        </td><td>3298997</td><td>207     </td><td>1              </td></tr>\n",
       "<tr><td><i style='opacity: 0.6'>4</i>        </td><td>883         </td><td>109        </td><td>12/11/2020</td><td>80199756   </td><td>9.3           </td><td>809.3952     </td><td>7       </td><td>DAIRY       </td><td>504314 </td><td>7       </td><td>1              </td></tr>\n",
       "<tr><td>...                                  </td><td>...         </td><td>...        </td><td>...       </td><td>...        </td><td>...           </td><td>...          </td><td>...     </td><td>...         </td><td>...    </td><td>...     </td><td>...            </td></tr>\n",
       "<tr><td><i style='opacity: 0.6'>6,264,700</i></td><td>883         </td><td>27         </td><td>1/10/2021 </td><td>211984479  </td><td>13.3858       </td><td>1967.8464    </td><td>3       </td><td>PRODUCE     </td><td>520037 </td><td>330     </td><td>1              </td></tr>\n",
       "<tr><td><i style='opacity: 0.6'>6,264,701</i></td><td>883         </td><td>32         </td><td>12/24/2020</td><td>211897008  </td><td>11.7          </td><td>887.328      </td><td>7       </td><td>DAIRY       </td><td>498754 </td><td>7       </td><td>1              </td></tr>\n",
       "<tr><td><i style='opacity: 0.6'>6,264,702</i></td><td>883         </td><td>286        </td><td>2/26/2021 </td><td>212150085  </td><td>10.0          </td><td>2139.9552    </td><td>7       </td><td>DAIRY       </td><td>495132 </td><td>707     </td><td>1              </td></tr>\n",
       "<tr><td><i style='opacity: 0.6'>6,264,703</i></td><td>883         </td><td>307        </td><td>2/28/2021 </td><td>212111389  </td><td>23.7          </td><td>1786.0608    </td><td>3       </td><td>PRODUCE     </td><td>519597 </td><td>311     </td><td>1              </td></tr>\n",
       "<tr><td><i style='opacity: 0.6'>6,264,704</i></td><td>883         </td><td>243        </td><td>12/10/2020</td><td>211911851  </td><td>6.8           </td><td>643.5072     </td><td>7       </td><td>DAIRY       </td><td>4517367</td><td>7       </td><td>1              </td></tr>\n",
       "</tbody>\n",
       "</table>"
      ],
      "text/plain": [
       "#          ORIG_UT_ID    DST_UT_ID    P_SHP_DT    PO_NBR_ID    VPAK_WDTH_QT    VPAK_CBE_QT    PKY_ID    PKY_DSC_TX    P_ID     BYR_ID    MPAKS_SHIPPED\n",
       "0          883           34           1/20/2021   212050180    12.6772         1778.8032      7         DAIRY         3642330  7         1\n",
       "1          883           268          12/14/2020  211924312    12.1            1308.2688      7         DAIRY         502802   717       1\n",
       "2          883           55           12/16/2020  211920154    9.0             720.0576       7         DAIRY         3010581  707       1\n",
       "3          882           227          2/13/2021   212113806    15.7874         3022.5548      2         MEAT          3298997  207       1\n",
       "4          883           109          12/11/2020  80199756     9.3             809.3952       7         DAIRY         504314   7         1\n",
       "...        ...           ...          ...         ...          ...             ...            ...       ...           ...      ...       ...\n",
       "6,264,700  883           27           1/10/2021   211984479    13.3858         1967.8464      3         PRODUCE       520037   330       1\n",
       "6,264,701  883           32           12/24/2020  211897008    11.7            887.328        7         DAIRY         498754   7         1\n",
       "6,264,702  883           286          2/26/2021   212150085    10.0            2139.9552      7         DAIRY         495132   707       1\n",
       "6,264,703  883           307          2/28/2021   212111389    23.7            1786.0608      3         PRODUCE       519597   311       1\n",
       "6,264,704  883           243          12/10/2020  211911851    6.8             643.5072       7         DAIRY         4517367  7         1"
      ]
     },
     "execution_count": 7,
     "metadata": {},
     "output_type": "execute_result"
    }
   ],
   "source": [
    "selection = df[\n",
    "    ['ORIG_UT_ID', 'DST_UT_ID', 'P_SHP_DT', 'PO_NBR_ID','VPAK_WDTH_QT', 'VPAK_CBE_QT', 'PKY_ID', 'PKY_DSC_TX', 'P_ID', 'BYR_ID', 'MPAKS_SHIPPED']\n",
    "]\n",
    "selection"
   ]
  },
  {
   "cell_type": "markdown",
   "metadata": {
    "pycharm": {
     "name": "#%% md\n"
    }
   },
   "source": [
    "## append datasets (1/10)"
   ]
  },
  {
   "cell_type": "code",
   "execution_count": 8,
   "metadata": {
    "collapsed": false,
    "jupyter": {
     "outputs_hidden": false
    },
    "pycharm": {
     "name": "#%%\n"
    }
   },
   "outputs": [
    {
     "data": {
      "text/plain": [
       "(12529410, 6264705)"
      ]
     },
     "execution_count": 8,
     "metadata": {},
     "output_type": "execute_result"
    }
   ],
   "source": [
    "df_2x = selection.concat(selection)\n",
    "len(df_2x), len(df)"
   ]
  },
  {
   "cell_type": "markdown",
   "metadata": {},
   "source": [
    "## filter datasets (2/10)"
   ]
  },
  {
   "cell_type": "code",
   "execution_count": 9,
   "metadata": {
    "collapsed": false,
    "jupyter": {
     "outputs_hidden": false
    },
    "pycharm": {
     "name": "#%%\n"
    }
   },
   "outputs": [
    {
     "data": {
      "text/html": [
       "<table>\n",
       "<thead>\n",
       "<tr><th>#                                    </th><th>ORIG_UT_ID  </th><th>DST_UT_ID  </th><th>P_SHP_DT  </th><th>PO_NBR_ID  </th><th>VPAK_WDTH_QT  </th><th>VPAK_CBE_QT  </th><th>PKY_ID  </th><th>PKY_DSC_TX  </th><th>P_ID   </th><th>BYR_ID  </th><th>MPAKS_SHIPPED  </th></tr>\n",
       "</thead>\n",
       "<tbody>\n",
       "<tr><td><i style='opacity: 0.6'>0</i>        </td><td>883         </td><td>34         </td><td>1/20/2021 </td><td>212050180  </td><td>12.6772       </td><td>1778.8032    </td><td>7       </td><td>DAIRY       </td><td>3642330</td><td>7       </td><td>1              </td></tr>\n",
       "<tr><td><i style='opacity: 0.6'>1</i>        </td><td>883         </td><td>268        </td><td>12/14/2020</td><td>211924312  </td><td>12.1          </td><td>1308.2688    </td><td>7       </td><td>DAIRY       </td><td>502802 </td><td>717     </td><td>1              </td></tr>\n",
       "<tr><td><i style='opacity: 0.6'>2</i>        </td><td>883         </td><td>55         </td><td>12/16/2020</td><td>211920154  </td><td>9.0           </td><td>720.0576     </td><td>7       </td><td>DAIRY       </td><td>3010581</td><td>707     </td><td>1              </td></tr>\n",
       "<tr><td><i style='opacity: 0.6'>3</i>        </td><td>882         </td><td>227        </td><td>2/13/2021 </td><td>212113806  </td><td>15.7874       </td><td>3022.5548    </td><td>2       </td><td>MEAT        </td><td>3298997</td><td>207     </td><td>1              </td></tr>\n",
       "<tr><td><i style='opacity: 0.6'>4</i>        </td><td>883         </td><td>109        </td><td>12/11/2020</td><td>80199756   </td><td>9.3           </td><td>809.3952     </td><td>7       </td><td>DAIRY       </td><td>504314 </td><td>7       </td><td>1              </td></tr>\n",
       "<tr><td>...                                  </td><td>...         </td><td>...        </td><td>...       </td><td>...        </td><td>...           </td><td>...          </td><td>...     </td><td>...         </td><td>...    </td><td>...     </td><td>...            </td></tr>\n",
       "<tr><td><i style='opacity: 0.6'>6,264,700</i></td><td>883         </td><td>27         </td><td>1/10/2021 </td><td>211984479  </td><td>13.3858       </td><td>1967.8464    </td><td>3       </td><td>PRODUCE     </td><td>520037 </td><td>330     </td><td>1              </td></tr>\n",
       "<tr><td><i style='opacity: 0.6'>6,264,701</i></td><td>883         </td><td>32         </td><td>12/24/2020</td><td>211897008  </td><td>11.7          </td><td>887.328      </td><td>7       </td><td>DAIRY       </td><td>498754 </td><td>7       </td><td>1              </td></tr>\n",
       "<tr><td><i style='opacity: 0.6'>6,264,702</i></td><td>883         </td><td>286        </td><td>2/26/2021 </td><td>212150085  </td><td>10.0          </td><td>2139.9552    </td><td>7       </td><td>DAIRY       </td><td>495132 </td><td>707     </td><td>1              </td></tr>\n",
       "<tr><td><i style='opacity: 0.6'>6,264,703</i></td><td>883         </td><td>307        </td><td>2/28/2021 </td><td>212111389  </td><td>23.7          </td><td>1786.0608    </td><td>3       </td><td>PRODUCE     </td><td>519597 </td><td>311     </td><td>1              </td></tr>\n",
       "<tr><td><i style='opacity: 0.6'>6,264,704</i></td><td>883         </td><td>243        </td><td>12/10/2020</td><td>211911851  </td><td>6.8           </td><td>643.5072     </td><td>7       </td><td>DAIRY       </td><td>4517367</td><td>7       </td><td>1              </td></tr>\n",
       "</tbody>\n",
       "</table>"
      ],
      "text/plain": [
       "#          ORIG_UT_ID    DST_UT_ID    P_SHP_DT    PO_NBR_ID    VPAK_WDTH_QT    VPAK_CBE_QT    PKY_ID    PKY_DSC_TX    P_ID     BYR_ID    MPAKS_SHIPPED\n",
       "0          883           34           1/20/2021   212050180    12.6772         1778.8032      7         DAIRY         3642330  7         1\n",
       "1          883           268          12/14/2020  211924312    12.1            1308.2688      7         DAIRY         502802   717       1\n",
       "2          883           55           12/16/2020  211920154    9.0             720.0576       7         DAIRY         3010581  707       1\n",
       "3          882           227          2/13/2021   212113806    15.7874         3022.5548      2         MEAT          3298997  207       1\n",
       "4          883           109          12/11/2020  80199756     9.3             809.3952       7         DAIRY         504314   7         1\n",
       "...        ...           ...          ...         ...          ...             ...            ...       ...           ...      ...       ...\n",
       "6,264,700  883           27           1/10/2021   211984479    13.3858         1967.8464      3         PRODUCE       520037   330       1\n",
       "6,264,701  883           32           12/24/2020  211897008    11.7            887.328        7         DAIRY         498754   7         1\n",
       "6,264,702  883           286          2/26/2021   212150085    10.0            2139.9552      7         DAIRY         495132   707       1\n",
       "6,264,703  883           307          2/28/2021   212111389    23.7            1786.0608      3         PRODUCE       519597   311       1\n",
       "6,264,704  883           243          12/10/2020  211911851    6.8             643.5072       7         DAIRY         4517367  7         1"
      ]
     },
     "execution_count": 9,
     "metadata": {},
     "output_type": "execute_result"
    }
   ],
   "source": [
    "selection[selection.PKY_ID > 3 & selection.PKY_ID < 50]"
   ]
  },
  {
   "cell_type": "markdown",
   "metadata": {},
   "source": [
    "## sort (3/10)"
   ]
  },
  {
   "cell_type": "code",
   "execution_count": 10,
   "metadata": {
    "collapsed": false,
    "jupyter": {
     "outputs_hidden": false
    },
    "pycharm": {
     "name": "#%%\n"
    }
   },
   "outputs": [
    {
     "data": {
      "text/html": [
       "<table>\n",
       "<thead>\n",
       "<tr><th>#                                    </th><th>ORIG_UT_ID  </th><th>DST_UT_ID  </th><th>P_SHP_DT  </th><th>PO_NBR_ID  </th><th>VPAK_WDTH_QT  </th><th>VPAK_CBE_QT  </th><th>PKY_ID  </th><th>PKY_DSC_TX      </th><th>P_ID   </th><th>BYR_ID  </th><th>MPAKS_SHIPPED  </th></tr>\n",
       "</thead>\n",
       "<tbody>\n",
       "<tr><td><i style='opacity: 0.6'>0</i>        </td><td>883         </td><td>117        </td><td>2/19/2021 </td><td>210410037  </td><td>0.0           </td><td>273.024      </td><td>214     </td><td>BABY CONSUMABLES</td><td>4420409</td><td>218     </td><td>1              </td></tr>\n",
       "<tr><td><i style='opacity: 0.6'>1</i>        </td><td>883         </td><td>122        </td><td>12/4/2020 </td><td>210239047  </td><td>0.0           </td><td>181.44       </td><td>214     </td><td>BABY CONSUMABLES</td><td>4671127</td><td>218     </td><td>1              </td></tr>\n",
       "<tr><td><i style='opacity: 0.6'>2</i>        </td><td>883         </td><td>308        </td><td>12/29/2020</td><td>211969568  </td><td>0.0           </td><td>181.44       </td><td>214     </td><td>BABY CONSUMABLES</td><td>4671126</td><td>218     </td><td>1              </td></tr>\n",
       "<tr><td><i style='opacity: 0.6'>3</i>        </td><td>883         </td><td>115        </td><td>2/5/2021  </td><td>210410004  </td><td>0.0           </td><td>273.024      </td><td>214     </td><td>BABY CONSUMABLES</td><td>4420416</td><td>218     </td><td>1              </td></tr>\n",
       "<tr><td><i style='opacity: 0.6'>4</i>        </td><td>883         </td><td>34         </td><td>12/4/2020 </td><td>210239047  </td><td>0.0           </td><td>273.024      </td><td>214     </td><td>BABY CONSUMABLES</td><td>4420415</td><td>218     </td><td>1              </td></tr>\n",
       "<tr><td>...                                  </td><td>...         </td><td>...        </td><td>...       </td><td>...        </td><td>...           </td><td>...          </td><td>...     </td><td>...             </td><td>...    </td><td>...     </td><td>...            </td></tr>\n",
       "<tr><td><i style='opacity: 0.6'>6,264,700</i></td><td>883         </td><td>65         </td><td>2/9/2021  </td><td>212090772  </td><td>7.5           </td><td>483.84       </td><td>1       </td><td>DRY GROCERY     </td><td>4398117</td><td>12      </td><td>1              </td></tr>\n",
       "<tr><td><i style='opacity: 0.6'>6,264,701</i></td><td>883         </td><td>32         </td><td>12/16/2020</td><td>211818117  </td><td>7.5           </td><td>483.84       </td><td>1       </td><td>DRY GROCERY     </td><td>4398116</td><td>12      </td><td>1              </td></tr>\n",
       "<tr><td><i style='opacity: 0.6'>6,264,702</i></td><td>883         </td><td>237        </td><td>1/1/2021  </td><td>211859147  </td><td>7.5           </td><td>483.84       </td><td>1       </td><td>DRY GROCERY     </td><td>4398117</td><td>12      </td><td>1              </td></tr>\n",
       "<tr><td><i style='opacity: 0.6'>6,264,703</i></td><td>883         </td><td>222        </td><td>12/16/2020</td><td>211818117  </td><td>7.5           </td><td>483.84       </td><td>1       </td><td>DRY GROCERY     </td><td>4398116</td><td>12      </td><td>1              </td></tr>\n",
       "<tr><td><i style='opacity: 0.6'>6,264,704</i></td><td>883         </td><td>45         </td><td>12/15/2020</td><td>211818117  </td><td>7.5           </td><td>483.84       </td><td>1       </td><td>DRY GROCERY     </td><td>4398117</td><td>12      </td><td>1              </td></tr>\n",
       "</tbody>\n",
       "</table>"
      ],
      "text/plain": [
       "#          ORIG_UT_ID    DST_UT_ID    P_SHP_DT    PO_NBR_ID    VPAK_WDTH_QT    VPAK_CBE_QT    PKY_ID    PKY_DSC_TX        P_ID     BYR_ID    MPAKS_SHIPPED\n",
       "0          883           117          2/19/2021   210410037    0.0             273.024        214       BABY CONSUMABLES  4420409  218       1\n",
       "1          883           122          12/4/2020   210239047    0.0             181.44         214       BABY CONSUMABLES  4671127  218       1\n",
       "2          883           308          12/29/2020  211969568    0.0             181.44         214       BABY CONSUMABLES  4671126  218       1\n",
       "3          883           115          2/5/2021    210410004    0.0             273.024        214       BABY CONSUMABLES  4420416  218       1\n",
       "4          883           34           12/4/2020   210239047    0.0             273.024        214       BABY CONSUMABLES  4420415  218       1\n",
       "...        ...           ...          ...         ...          ...             ...            ...       ...               ...      ...       ...\n",
       "6,264,700  883           65           2/9/2021    212090772    7.5             483.84         1         DRY GROCERY       4398117  12        1\n",
       "6,264,701  883           32           12/16/2020  211818117    7.5             483.84         1         DRY GROCERY       4398116  12        1\n",
       "6,264,702  883           237          1/1/2021    211859147    7.5             483.84         1         DRY GROCERY       4398117  12        1\n",
       "6,264,703  883           222          12/16/2020  211818117    7.5             483.84         1         DRY GROCERY       4398116  12        1\n",
       "6,264,704  883           45           12/15/2020  211818117    7.5             483.84         1         DRY GROCERY       4398117  12        1"
      ]
     },
     "execution_count": 10,
     "metadata": {},
     "output_type": "execute_result"
    }
   ],
   "source": [
    "unsorted_selection = selection.extract()  # first extract to freeze the DF.\n",
    "sorted_selection = unsorted_selection.sort(selection.PKY_ID, ascending=False)  # then sort the frozen DF\n",
    "sorted_selection  # show."
   ]
  },
  {
   "cell_type": "code",
   "execution_count": 11,
   "metadata": {
    "collapsed": false,
    "jupyter": {
     "outputs_hidden": false
    },
    "pycharm": {
     "name": "#%%\n"
    }
   },
   "outputs": [],
   "source": [
    "# alternatively use numpy to obtain a multi-criteria sort index.\n",
    "import numpy as np"
   ]
  },
  {
   "cell_type": "code",
   "execution_count": 12,
   "metadata": {
    "collapsed": false,
    "jupyter": {
     "outputs_hidden": false
    },
    "pycharm": {
     "name": "#%%\n"
    }
   },
   "outputs": [
    {
     "ename": "ValueError",
     "evalue": "Cannot cast 'ORIG_UT_ID' (of type int64) to dtype([])",
     "output_type": "error",
     "traceback": [
      "\u001b[1;31m---------------------------------------------------------------------------\u001b[0m",
      "\u001b[1;31mValueError\u001b[0m                                Traceback (most recent call last)",
      "\u001b[1;32mc:\\Data\\github\\github-pages\\content\\a_short_introduction_to_vaex.ipynb Cell 19'\u001b[0m in \u001b[0;36m<cell line: 3>\u001b[1;34m()\u001b[0m\n\u001b[0;32m      <a href='vscode-notebook-cell:/c%3A/Data/github/github-pages/content/a_short_introduction_to_vaex.ipynb#ch0000018?line=0'>1</a>\u001b[0m names \u001b[39m=\u001b[39m unsorted_selection\u001b[39m.\u001b[39mget_names(hidden\u001b[39m=\u001b[39m\u001b[39mFalse\u001b[39;00m)\n\u001b[1;32m----> <a href='vscode-notebook-cell:/c%3A/Data/github/github-pages/content/a_short_introduction_to_vaex.ipynb#ch0000018?line=2'>3</a>\u001b[0m arr \u001b[39m=\u001b[39m np\u001b[39m.\u001b[39;49marray(unsorted_selection, dtype\u001b[39m=\u001b[39;49m[])\n",
      "File \u001b[1;32mc:\\Data\\venv\\github-pages-39\\lib\\site-packages\\vaex\\dataframe.py:6079\u001b[0m, in \u001b[0;36mDataFrameLocal.__array__\u001b[1;34m(self, dtype, parallel)\u001b[0m\n\u001b[0;32m   <a href='file:///c%3A/Data/venv/github-pages-39/lib/site-packages/vaex/dataframe.py?line=6076'>6077</a>\u001b[0m     \u001b[39mif\u001b[39;00m \u001b[39mnot\u001b[39;00m np\u001b[39m.\u001b[39mcan_cast(column_type, dtype):\n\u001b[0;32m   <a href='file:///c%3A/Data/venv/github-pages-39/lib/site-packages/vaex/dataframe.py?line=6077'>6078</a>\u001b[0m         \u001b[39mif\u001b[39;00m column_type \u001b[39m!=\u001b[39m dtype:\n\u001b[1;32m-> <a href='file:///c%3A/Data/venv/github-pages-39/lib/site-packages/vaex/dataframe.py?line=6078'>6079</a>\u001b[0m             \u001b[39mraise\u001b[39;00m \u001b[39mValueError\u001b[39;00m(\u001b[39m\"\u001b[39m\u001b[39mCannot cast \u001b[39m\u001b[39m%r\u001b[39;00m\u001b[39m (of type \u001b[39m\u001b[39m%r\u001b[39;00m\u001b[39m) to \u001b[39m\u001b[39m%r\u001b[39;00m\u001b[39m\"\u001b[39m \u001b[39m%\u001b[39m (name, \u001b[39mself\u001b[39m\u001b[39m.\u001b[39mdata_type(name), dtype))\n\u001b[0;32m   <a href='file:///c%3A/Data/venv/github-pages-39/lib/site-packages/vaex/dataframe.py?line=6079'>6080</a>\u001b[0m chunks \u001b[39m=\u001b[39m \u001b[39mself\u001b[39m\u001b[39m.\u001b[39mevaluate(column_names, parallel\u001b[39m=\u001b[39mparallel, array_type\u001b[39m=\u001b[39m\u001b[39m'\u001b[39m\u001b[39mnumpy\u001b[39m\u001b[39m'\u001b[39m)\n\u001b[0;32m   <a href='file:///c%3A/Data/venv/github-pages-39/lib/site-packages/vaex/dataframe.py?line=6080'>6081</a>\u001b[0m \u001b[39mif\u001b[39;00m \u001b[39many\u001b[39m(np\u001b[39m.\u001b[39mma\u001b[39m.\u001b[39misMaskedArray(chunk) \u001b[39mfor\u001b[39;00m chunk \u001b[39min\u001b[39;00m chunks):\n",
      "\u001b[1;31mValueError\u001b[0m: Cannot cast 'ORIG_UT_ID' (of type int64) to dtype([])"
     ]
    }
   ],
   "source": [
    "# THIS NEEDS MORE WORK.\n",
    "names = unsorted_selection.get_names(hidden=False)\n",
    "arr = np.array(unsorted_selection, dtype=[])"
   ]
  },
  {
   "cell_type": "code",
   "execution_count": 24,
   "metadata": {
    "collapsed": false,
    "jupyter": {
     "outputs_hidden": false
    },
    "pycharm": {
     "name": "#%%\n"
    }
   },
   "outputs": [
    {
     "ename": "ValueError",
     "evalue": "Cannot specify order when the array has no fields.",
     "output_type": "error",
     "traceback": [
      "\u001b[1;31m---------------------------------------------------------------------------\u001b[0m",
      "\u001b[1;31mValueError\u001b[0m                                Traceback (most recent call last)",
      "Input \u001b[1;32mIn [24]\u001b[0m, in \u001b[0;36m<module>\u001b[1;34m\u001b[0m\n\u001b[1;32m----> 1\u001b[0m \u001b[43mnp\u001b[49m\u001b[38;5;241;43m.\u001b[39;49m\u001b[43msort\u001b[49m\u001b[43m(\u001b[49m\u001b[43marr\u001b[49m\u001b[43m,\u001b[49m\u001b[43m \u001b[49m\u001b[43morder\u001b[49m\u001b[38;5;241;43m=\u001b[39;49m\u001b[43m[\u001b[49m\u001b[38;5;124;43m\"\u001b[39;49m\u001b[38;5;124;43m5\u001b[39;49m\u001b[38;5;124;43m\"\u001b[39;49m\u001b[43m,\u001b[49m\u001b[38;5;124;43m\"\u001b[39;49m\u001b[38;5;124;43m3\u001b[39;49m\u001b[38;5;124;43m\"\u001b[39;49m\u001b[43m]\u001b[49m\u001b[43m)\u001b[49m\n",
      "File \u001b[1;32m<__array_function__ internals>:5\u001b[0m, in \u001b[0;36msort\u001b[1;34m(*args, **kwargs)\u001b[0m\n",
      "File \u001b[1;32md:\\venv\\github_pages_py39\\lib\\site-packages\\numpy\\core\\fromnumeric.py:998\u001b[0m, in \u001b[0;36msort\u001b[1;34m(a, axis, kind, order)\u001b[0m\n\u001b[0;32m    996\u001b[0m \u001b[38;5;28;01melse\u001b[39;00m:\n\u001b[0;32m    997\u001b[0m     a \u001b[38;5;241m=\u001b[39m asanyarray(a)\u001b[38;5;241m.\u001b[39mcopy(order\u001b[38;5;241m=\u001b[39m\u001b[38;5;124m\"\u001b[39m\u001b[38;5;124mK\u001b[39m\u001b[38;5;124m\"\u001b[39m)\n\u001b[1;32m--> 998\u001b[0m \u001b[43ma\u001b[49m\u001b[38;5;241;43m.\u001b[39;49m\u001b[43msort\u001b[49m\u001b[43m(\u001b[49m\u001b[43maxis\u001b[49m\u001b[38;5;241;43m=\u001b[39;49m\u001b[43maxis\u001b[49m\u001b[43m,\u001b[49m\u001b[43m \u001b[49m\u001b[43mkind\u001b[49m\u001b[38;5;241;43m=\u001b[39;49m\u001b[43mkind\u001b[49m\u001b[43m,\u001b[49m\u001b[43m \u001b[49m\u001b[43morder\u001b[49m\u001b[38;5;241;43m=\u001b[39;49m\u001b[43morder\u001b[49m\u001b[43m)\u001b[49m\n\u001b[0;32m    999\u001b[0m \u001b[38;5;28;01mreturn\u001b[39;00m a\n",
      "\u001b[1;31mValueError\u001b[0m: Cannot specify order when the array has no fields."
     ]
    }
   ],
   "source": [
    "np.sort(arr, order=[\"5\",\"3\"])"
   ]
  },
  {
   "cell_type": "markdown",
   "metadata": {},
   "source": [
    "## groupby (4/10)\n",
    "\n",
    "Supported groupby functions\n",
    "\n",
    "- count: Number of elements in a group\n",
    "- first: The first element in a group\n",
    "- max: The largest value in a group\n",
    "- min: The smallest value in a group\n",
    "- sum: The sum of a group\n",
    "- mean: The mean value of a group\n",
    "- std: The standard deviation of a group\n",
    "- var: The variance of a group\n",
    "- nunique: Number of unique elements in a group"
   ]
  },
  {
   "cell_type": "code",
   "execution_count": 36,
   "metadata": {},
   "outputs": [
    {
     "data": {
      "text/html": [
       "<table>\n",
       "<thead>\n",
       "<tr><th>#                             </th><th>P_SHP_DT  </th><th>MPAKS_SHIPPED  </th></tr>\n",
       "</thead>\n",
       "<tbody>\n",
       "<tr><td><i style='opacity: 0.6'>0</i> </td><td>2/17/2021 </td><td>64298          </td></tr>\n",
       "<tr><td><i style='opacity: 0.6'>1</i> </td><td>1/17/2021 </td><td>72176          </td></tr>\n",
       "<tr><td><i style='opacity: 0.6'>2</i> </td><td>12/16/2020</td><td>97609          </td></tr>\n",
       "<tr><td><i style='opacity: 0.6'>3</i> </td><td>2/1/2021  </td><td>81184          </td></tr>\n",
       "<tr><td><i style='opacity: 0.6'>4</i> </td><td>2/9/2021  </td><td>71759          </td></tr>\n",
       "<tr><td>...                           </td><td>...       </td><td>...            </td></tr>\n",
       "<tr><td><i style='opacity: 0.6'>87</i></td><td>2/28/2021 </td><td>73358          </td></tr>\n",
       "<tr><td><i style='opacity: 0.6'>88</i></td><td>1/19/2021 </td><td>108443         </td></tr>\n",
       "<tr><td><i style='opacity: 0.6'>89</i></td><td>1/11/2021 </td><td>89584          </td></tr>\n",
       "<tr><td><i style='opacity: 0.6'>90</i></td><td>1/20/2021 </td><td>83162          </td></tr>\n",
       "<tr><td><i style='opacity: 0.6'>91</i></td><td>2/7/2021  </td><td>66666          </td></tr>\n",
       "</tbody>\n",
       "</table>"
      ],
      "text/plain": [
       "#    P_SHP_DT    MPAKS_SHIPPED\n",
       "0    2/17/2021   64298\n",
       "1    1/17/2021   72176\n",
       "2    12/16/2020  97609\n",
       "3    2/1/2021    81184\n",
       "4    2/9/2021    71759\n",
       "...  ...         ...\n",
       "87   2/28/2021   73358\n",
       "88   1/19/2021   108443\n",
       "89   1/11/2021   89584\n",
       "90   1/20/2021   83162\n",
       "91   2/7/2021    66666"
      ]
     },
     "execution_count": 36,
     "metadata": {},
     "output_type": "execute_result"
    }
   ],
   "source": [
    "# Groupby P_SHP_DT, sum (MPAKS_SHIPPED)\n",
    "selection.groupby(by=\"P_SHP_DT\").agg({'MPAKS_SHIPPED': 'sum'})"
   ]
  },
  {
   "cell_type": "markdown",
   "metadata": {},
   "source": [
    "## pivot / reverse pivot (5/10)"
   ]
  },
  {
   "cell_type": "code",
   "execution_count": 14,
   "metadata": {},
   "outputs": [],
   "source": [
    "# Pivot the data? A groupby that is displayed as a sparse matrix."
   ]
  },
  {
   "cell_type": "markdown",
   "metadata": {},
   "source": [
    "## change datatype (6/10)\n",
    "typically string (from csv) to something else"
   ]
  },
  {
   "cell_type": "code",
   "execution_count": 31,
   "metadata": {},
   "outputs": [],
   "source": [
    "import pyarrow"
   ]
  },
  {
   "cell_type": "code",
   "execution_count": 34,
   "metadata": {},
   "outputs": [],
   "source": [
    "def show(df):\n",
    "    for col_name, data in df.columns.items():\n",
    "        print(col_name, end=' ')\n",
    "        if isinstance(data, np.ndarray):\n",
    "            print(data.dtype.name)\n",
    "        elif isinstance(data, pyarrow.lib.StringArray):\n",
    "            print('str')\n",
    "        else:\n",
    "            print(type(col_name))"
   ]
  },
  {
   "cell_type": "code",
   "execution_count": 35,
   "metadata": {},
   "outputs": [
    {
     "name": "stdout",
     "output_type": "stream",
     "text": [
      "ORIG_UT_ID int64\n",
      "DST_UT_ID int64\n",
      "P_SHP_DT str\n",
      "PO_NBR_ID int64\n",
      "VPAK_WDTH_QT float64\n",
      "VPAK_CBE_QT float64\n",
      "PKY_ID int64\n",
      "PKY_DSC_TX str\n",
      "P_ID int64\n",
      "BYR_ID int64\n",
      "MPAKS_SHIPPED int64\n"
     ]
    }
   ],
   "source": [
    "\n",
    "show(selection)"
   ]
  },
  {
   "cell_type": "markdown",
   "metadata": {},
   "source": [
    "# Convert string to datetime"
   ]
  },
  {
   "cell_type": "code",
   "execution_count": 15,
   "metadata": {
    "collapsed": false,
    "jupyter": {
     "outputs_hidden": false
    },
    "pycharm": {
     "name": "#%%\n"
    }
   },
   "outputs": [
    {
     "data": {
      "text/plain": [
       "Expression = P_SHP_DT\n",
       "Length: 6,264,705 dtype: string (column)\n",
       "----------------------------------------\n",
       "      0   1/20/2021\n",
       "      1  12/14/2020\n",
       "      2  12/16/2020\n",
       "      3   2/13/2021\n",
       "      4  12/11/2020\n",
       "        ...        \n",
       "6264700   1/10/2021\n",
       "6264701  12/24/2020\n",
       "6264702   2/26/2021\n",
       "6264703   2/28/2021\n",
       "6264704  12/10/2020"
      ]
     },
     "execution_count": 15,
     "metadata": {},
     "output_type": "execute_result"
    }
   ],
   "source": [
    "selection['P_SHP_DT']"
   ]
  },
  {
   "cell_type": "code",
   "execution_count": 16,
   "metadata": {
    "collapsed": false,
    "jupyter": {
     "outputs_hidden": false
    },
    "pycharm": {
     "name": "#%%\n"
    }
   },
   "outputs": [],
   "source": [
    "def f(i):\n",
    "    m,d,y = i.split(\"/\")\n",
    "    return f\"{y}-{m.zfill(2)}-{d.zfill(2)}\""
   ]
  },
  {
   "cell_type": "code",
   "execution_count": 17,
   "metadata": {
    "collapsed": false,
    "jupyter": {
     "outputs_hidden": false
    },
    "pycharm": {
     "name": "#%%\n"
    }
   },
   "outputs": [],
   "source": [
    "assert f(\"1/1/2018\") == \"2018-01-01\""
   ]
  },
  {
   "cell_type": "code",
   "execution_count": 18,
   "metadata": {
    "collapsed": false,
    "jupyter": {
     "outputs_hidden": false
    },
    "pycharm": {
     "name": "#%%\n"
    }
   },
   "outputs": [],
   "source": [
    "selection['P_SHP_DT2'] = selection['P_SHP_DT'].apply(f)"
   ]
  },
  {
   "cell_type": "code",
   "execution_count": 19,
   "metadata": {
    "collapsed": false,
    "jupyter": {
     "outputs_hidden": false
    },
    "pycharm": {
     "name": "#%%\n"
    }
   },
   "outputs": [
    {
     "data": {
      "text/plain": [
       "Expression = P_SHP_DT2\n",
       "Length: 6,264,705 dtype: string (column)\n",
       "----------------------------------------\n",
       "      0  2021-01-20\n",
       "      1  2020-12-14\n",
       "      2  2020-12-16\n",
       "      3  2021-02-13\n",
       "      4  2020-12-11\n",
       "        ...        \n",
       "6264700  2021-01-10\n",
       "6264701  2020-12-24\n",
       "6264702  2021-02-26\n",
       "6264703  2021-02-28\n",
       "6264704  2020-12-10"
      ]
     },
     "execution_count": 19,
     "metadata": {},
     "output_type": "execute_result"
    }
   ],
   "source": [
    "selection['P_SHP_DT2']"
   ]
  },
  {
   "cell_type": "code",
   "execution_count": 20,
   "metadata": {
    "collapsed": false,
    "jupyter": {
     "outputs_hidden": false
    },
    "pycharm": {
     "name": "#%%\n"
    }
   },
   "outputs": [],
   "source": [
    "selection['P_SHP_DT3'] = selection['P_SHP_DT2'].astype('datetime64')"
   ]
  },
  {
   "cell_type": "code",
   "execution_count": 21,
   "metadata": {
    "collapsed": false,
    "jupyter": {
     "outputs_hidden": false
    },
    "pycharm": {
     "name": "#%%\n"
    }
   },
   "outputs": [
    {
     "data": {
      "text/plain": [
       "Expression = P_SHP_DT3\n",
       "Length: 6,264,705 dtype: datetime64[D] (column)\n",
       "-----------------------------------------------\n",
       "      0  2021-01-20\n",
       "      1  2020-12-14\n",
       "      2  2020-12-16\n",
       "      3  2021-02-13\n",
       "      4  2020-12-11\n",
       "        ...        \n",
       "6264700  2021-01-10\n",
       "6264701  2020-12-24\n",
       "6264702  2021-02-26\n",
       "6264703  2021-02-28\n",
       "6264704  2020-12-10"
      ]
     },
     "execution_count": 21,
     "metadata": {},
     "output_type": "execute_result"
    }
   ],
   "source": [
    "selection['P_SHP_DT3']"
   ]
  },
  {
   "cell_type": "markdown",
   "metadata": {},
   "source": [
    "The process above can be wrapped as:\n",
    "```python\n",
    "def f(i):\n",
    "    m,d,y = i.split(\"/\")\n",
    "    return f\"{y}-{m.zfill(2)}-{d.zfill(2)}\"\n",
    "\n",
    "df[col] = df[col].apply(f).astype('datetime64')\n",
    "```\n"
   ]
  },
  {
   "cell_type": "code",
   "execution_count": 22,
   "metadata": {
    "collapsed": false,
    "jupyter": {
     "outputs_hidden": false
    },
    "pycharm": {
     "is_executing": true,
     "name": "#%%\n"
    }
   },
   "outputs": [
    {
     "data": {
      "text/html": [
       "<table>\n",
       "<thead>\n",
       "<tr><th>#                                    </th><th>ORIG_UT_ID  </th><th>DST_UT_ID  </th><th>P_SHP_DT  </th><th>PO_NBR_ID  </th><th>VPAK_WDTH_QT  </th><th>VPAK_CBE_QT  </th><th>PKY_ID  </th><th>PKY_DSC_TX  </th><th>P_ID   </th><th>BYR_ID  </th><th>MPAKS_SHIPPED  </th><th>P_SHP_DT2  </th><th>P_SHP_DT3  </th></tr>\n",
       "</thead>\n",
       "<tbody>\n",
       "<tr><td><i style='opacity: 0.6'>0</i>        </td><td>883         </td><td>145        </td><td>12/29/2020</td><td>211953964  </td><td>6.5           </td><td>449.28       </td><td>47      </td><td>DELI        </td><td>4062411</td><td>473     </td><td>1              </td><td>2020-12-29 </td><td>2020-12-29 </td></tr>\n",
       "<tr><td><i style='opacity: 0.6'>1</i>        </td><td>883         </td><td>34         </td><td>2/11/2021 </td><td>212109664  </td><td>9.2           </td><td>1376.352     </td><td>3       </td><td>PRODUCE     </td><td>4701397</td><td>380     </td><td>1              </td><td>2021-02-11 </td><td>2021-02-11 </td></tr>\n",
       "<tr><td><i style='opacity: 0.6'>2</i>        </td><td>883         </td><td>315        </td><td>12/15/2020</td><td>211892077  </td><td>6.7           </td><td>327.456      </td><td>7       </td><td>DAIRY       </td><td>498508 </td><td>717     </td><td>1              </td><td>2020-12-15 </td><td>2020-12-15 </td></tr>\n",
       "<tr><td><i style='opacity: 0.6'>3</i>        </td><td>883         </td><td>53         </td><td>12/31/2020</td><td>80190035   </td><td>12.8          </td><td>1799.8848    </td><td>7       </td><td>DAIRY       </td><td>509508 </td><td>7       </td><td>1              </td><td>2020-12-31 </td><td>2020-12-31 </td></tr>\n",
       "<tr><td><i style='opacity: 0.6'>4</i>        </td><td>883         </td><td>63         </td><td>2/2/2021  </td><td>212017456  </td><td>9.4           </td><td>649.3824     </td><td>7       </td><td>DAIRY       </td><td>502567 </td><td>717     </td><td>1              </td><td>2021-02-02 </td><td>2021-02-02 </td></tr>\n",
       "<tr><td>...                                  </td><td>...         </td><td>...        </td><td>...       </td><td>...        </td><td>...           </td><td>...          </td><td>...     </td><td>...         </td><td>...    </td><td>...     </td><td>...            </td><td>...        </td><td>...        </td></tr>\n",
       "<tr><td><i style='opacity: 0.6'>6,264,695</i></td><td>883         </td><td>27         </td><td>1/10/2021 </td><td>211984479  </td><td>13.3858       </td><td>1967.8464    </td><td>3       </td><td>PRODUCE     </td><td>520037 </td><td>330     </td><td>1              </td><td>2021-01-10 </td><td>2021-01-10 </td></tr>\n",
       "<tr><td><i style='opacity: 0.6'>6,264,696</i></td><td>883         </td><td>32         </td><td>12/24/2020</td><td>211897008  </td><td>11.7          </td><td>887.328      </td><td>7       </td><td>DAIRY       </td><td>498754 </td><td>7       </td><td>1              </td><td>2020-12-24 </td><td>2020-12-24 </td></tr>\n",
       "<tr><td><i style='opacity: 0.6'>6,264,697</i></td><td>883         </td><td>286        </td><td>2/26/2021 </td><td>212150085  </td><td>10.0          </td><td>2139.9552    </td><td>7       </td><td>DAIRY       </td><td>495132 </td><td>707     </td><td>1              </td><td>2021-02-26 </td><td>2021-02-26 </td></tr>\n",
       "<tr><td><i style='opacity: 0.6'>6,264,698</i></td><td>883         </td><td>307        </td><td>2/28/2021 </td><td>212111389  </td><td>23.7          </td><td>1786.0608    </td><td>3       </td><td>PRODUCE     </td><td>519597 </td><td>311     </td><td>1              </td><td>2021-02-28 </td><td>2021-02-28 </td></tr>\n",
       "<tr><td><i style='opacity: 0.6'>6,264,699</i></td><td>883         </td><td>243        </td><td>12/10/2020</td><td>211911851  </td><td>6.8           </td><td>643.5072     </td><td>7       </td><td>DAIRY       </td><td>4517367</td><td>7       </td><td>1              </td><td>2020-12-10 </td><td>2020-12-10 </td></tr>\n",
       "</tbody>\n",
       "</table>"
      ],
      "text/plain": [
       "#          ORIG_UT_ID    DST_UT_ID    P_SHP_DT    PO_NBR_ID    VPAK_WDTH_QT    VPAK_CBE_QT    PKY_ID    PKY_DSC_TX    P_ID     BYR_ID    MPAKS_SHIPPED    P_SHP_DT2    P_SHP_DT3\n",
       "0          883           145          12/29/2020  211953964    6.5             449.28         47        DELI          4062411  473       1                2020-12-29   2020-12-29\n",
       "1          883           34           2/11/2021   212109664    9.2             1376.352       3         PRODUCE       4701397  380       1                2021-02-11   2021-02-11\n",
       "2          883           315          12/15/2020  211892077    6.7             327.456        7         DAIRY         498508   717       1                2020-12-15   2020-12-15\n",
       "3          883           53           12/31/2020  80190035     12.8            1799.8848      7         DAIRY         509508   7         1                2020-12-31   2020-12-31\n",
       "4          883           63           2/2/2021    212017456    9.4             649.3824       7         DAIRY         502567   717       1                2021-02-02   2021-02-02\n",
       "...        ...           ...          ...         ...          ...             ...            ...       ...           ...      ...       ...              ...          ...\n",
       "6,264,695  883           27           1/10/2021   211984479    13.3858         1967.8464      3         PRODUCE       520037   330       1                2021-01-10   2021-01-10\n",
       "6,264,696  883           32           12/24/2020  211897008    11.7            887.328        7         DAIRY         498754   7         1                2020-12-24   2020-12-24\n",
       "6,264,697  883           286          2/26/2021   212150085    10.0            2139.9552      7         DAIRY         495132   707       1                2021-02-26   2021-02-26\n",
       "6,264,698  883           307          2/28/2021   212111389    23.7            1786.0608      3         PRODUCE       519597   311       1                2021-02-28   2021-02-28\n",
       "6,264,699  883           243          12/10/2020  211911851    6.8             643.5072       7         DAIRY         4517367  7         1                2020-12-10   2020-12-10"
      ]
     },
     "execution_count": 22,
     "metadata": {},
     "output_type": "execute_result"
    }
   ],
   "source": [
    "selection[5:]"
   ]
  },
  {
   "cell_type": "markdown",
   "metadata": {},
   "source": [
    "## join datasets (7/10)"
   ]
  },
  {
   "cell_type": "code",
   "execution_count": 37,
   "metadata": {},
   "outputs": [
    {
     "data": {
      "text/html": [
       "<table>\n",
       "<thead>\n",
       "<tr><th>#                            </th><th>a  </th><th style=\"text-align: right;\">  x</th></tr>\n",
       "</thead>\n",
       "<tbody>\n",
       "<tr><td><i style='opacity: 0.6'>0</i></td><td>a  </td><td style=\"text-align: right;\">  1</td></tr>\n",
       "<tr><td><i style='opacity: 0.6'>1</i></td><td>b  </td><td style=\"text-align: right;\">  2</td></tr>\n",
       "<tr><td><i style='opacity: 0.6'>2</i></td><td>c  </td><td style=\"text-align: right;\">  3</td></tr>\n",
       "</tbody>\n",
       "</table>"
      ],
      "text/plain": [
       "  #  a      x\n",
       "  0  a      1\n",
       "  1  b      2\n",
       "  2  c      3"
      ]
     },
     "execution_count": 37,
     "metadata": {},
     "output_type": "execute_result"
    }
   ],
   "source": [
    "a = np.array(['a', 'b', 'c'])\n",
    "x = np.arange(1,4)\n",
    "df1 = vaex.from_arrays(a=a, x=x)\n",
    "df1"
   ]
  },
  {
   "cell_type": "code",
   "execution_count": 38,
   "metadata": {},
   "outputs": [
    {
     "data": {
      "text/html": [
       "<table>\n",
       "<thead>\n",
       "<tr><th>#                            </th><th>b  </th><th style=\"text-align: right;\">  y</th></tr>\n",
       "</thead>\n",
       "<tbody>\n",
       "<tr><td><i style='opacity: 0.6'>0</i></td><td>a  </td><td style=\"text-align: right;\">  1</td></tr>\n",
       "<tr><td><i style='opacity: 0.6'>1</i></td><td>b  </td><td style=\"text-align: right;\">  4</td></tr>\n",
       "<tr><td><i style='opacity: 0.6'>2</i></td><td>d  </td><td style=\"text-align: right;\">  9</td></tr>\n",
       "</tbody>\n",
       "</table>"
      ],
      "text/plain": [
       "  #  b      y\n",
       "  0  a      1\n",
       "  1  b      4\n",
       "  2  d      9"
      ]
     },
     "execution_count": 38,
     "metadata": {},
     "output_type": "execute_result"
    }
   ],
   "source": [
    "b = np.array(['a', 'b', 'd'])\n",
    "y = x**2\n",
    "df2 = vaex.from_arrays(b=b, y=y)\n",
    "df2"
   ]
  },
  {
   "cell_type": "code",
   "execution_count": 39,
   "metadata": {},
   "outputs": [
    {
     "data": {
      "text/html": [
       "<table>\n",
       "<thead>\n",
       "<tr><th>#                            </th><th>a  </th><th style=\"text-align: right;\">  x</th><th>b  </th><th>y  </th></tr>\n",
       "</thead>\n",
       "<tbody>\n",
       "<tr><td><i style='opacity: 0.6'>0</i></td><td>a  </td><td style=\"text-align: right;\">  1</td><td>a  </td><td>1  </td></tr>\n",
       "<tr><td><i style='opacity: 0.6'>1</i></td><td>b  </td><td style=\"text-align: right;\">  2</td><td>b  </td><td>4  </td></tr>\n",
       "<tr><td><i style='opacity: 0.6'>2</i></td><td>c  </td><td style=\"text-align: right;\">  3</td><td>-- </td><td>-- </td></tr>\n",
       "</tbody>\n",
       "</table>"
      ],
      "text/plain": [
       "  #  a      x  b    y\n",
       "  0  a      1  a    1\n",
       "  1  b      2  b    4\n",
       "  2  c      3  --   --"
      ]
     },
     "execution_count": 39,
     "metadata": {},
     "output_type": "execute_result"
    }
   ],
   "source": [
    "df1.join(df2, left_on='a', right_on='b')"
   ]
  },
  {
   "cell_type": "code",
   "execution_count": 40,
   "metadata": {},
   "outputs": [
    {
     "data": {
      "text/html": [
       "<table>\n",
       "<thead>\n",
       "<tr><th>#                            </th><th>b  </th><th style=\"text-align: right;\">  y</th><th>a  </th><th>x  </th></tr>\n",
       "</thead>\n",
       "<tbody>\n",
       "<tr><td><i style='opacity: 0.6'>0</i></td><td>a  </td><td style=\"text-align: right;\">  1</td><td>a  </td><td>1  </td></tr>\n",
       "<tr><td><i style='opacity: 0.6'>1</i></td><td>b  </td><td style=\"text-align: right;\">  4</td><td>b  </td><td>2  </td></tr>\n",
       "<tr><td><i style='opacity: 0.6'>2</i></td><td>d  </td><td style=\"text-align: right;\">  9</td><td>-- </td><td>-- </td></tr>\n",
       "</tbody>\n",
       "</table>"
      ],
      "text/plain": [
       "  #  b      y  a    x\n",
       "  0  a      1  a    1\n",
       "  1  b      4  b    2\n",
       "  2  d      9  --   --"
      ]
     },
     "execution_count": 40,
     "metadata": {},
     "output_type": "execute_result"
    }
   ],
   "source": [
    "df1.join(df2, left_on='a', right_on='b', how='right')"
   ]
  },
  {
   "cell_type": "code",
   "execution_count": 41,
   "metadata": {},
   "outputs": [
    {
     "data": {
      "text/html": [
       "<table>\n",
       "<thead>\n",
       "<tr><th>#                            </th><th>a  </th><th style=\"text-align: right;\">  x</th><th>b  </th><th style=\"text-align: right;\">  y</th></tr>\n",
       "</thead>\n",
       "<tbody>\n",
       "<tr><td><i style='opacity: 0.6'>0</i></td><td>a  </td><td style=\"text-align: right;\">  1</td><td>a  </td><td style=\"text-align: right;\">  1</td></tr>\n",
       "<tr><td><i style='opacity: 0.6'>1</i></td><td>b  </td><td style=\"text-align: right;\">  2</td><td>b  </td><td style=\"text-align: right;\">  4</td></tr>\n",
       "</tbody>\n",
       "</table>"
      ],
      "text/plain": [
       "  #  a      x  b      y\n",
       "  0  a      1  a      1\n",
       "  1  b      2  b      4"
      ]
     },
     "execution_count": 41,
     "metadata": {},
     "output_type": "execute_result"
    }
   ],
   "source": [
    "df1.join(df2, left_on='a', right_on='b', how='inner')"
   ]
  },
  {
   "cell_type": "markdown",
   "metadata": {},
   "source": [
    "## lookup (8/10)\n",
    "\n",
    "Lookup is probably best processed as a nested loop, where LEFT is target and RIGHT is source\n",
    "\n",
    "1. make the data in RIGHT available to all compute cores.\n",
    "2. with processpool split the work in LEFT equally and start the search.\n",
    "3. assemble the results."
   ]
  },
  {
   "cell_type": "markdown",
   "metadata": {},
   "source": [
    "## create charts (9/10)"
   ]
  },
  {
   "cell_type": "markdown",
   "metadata": {},
   "source": [
    "## custom functions (10/10)\n",
    "\n",
    "custom functions reading 1 or more columns to generate or replace 1 or more columns."
   ]
  },
  {
   "cell_type": "raw",
   "metadata": {},
   "source": [
    "# test replace values.\n",
    "df_ops = df.add_column()\n",
    "dic = {0:{0:44}, 1:{3}:67}\n",
    "df_ops = df_ops.update(**dic)"
   ]
  },
  {
   "cell_type": "raw",
   "metadata": {},
   "source": [
    "import dapi  # Yuk!\n",
    "\n",
    "df_ops_3 = dapi.Operations(df_ops, [\n",
    "    inner_per_outer(L=df.Length, W=df.Width, H=df.Height, L2=1.2, W2=0.8, H2=1.6),\n",
    "    inner_per_outer(L=df.Length, W=df.Width, H=df.Height, L2=1.2, W2=1.0, H2=2.0)\n",
    "])"
   ]
  },
  {
   "cell_type": "markdown",
   "metadata": {},
   "source": [
    "Custom operations"
   ]
  },
  {
   "cell_type": "code",
   "execution_count": 7,
   "metadata": {
    "pycharm": {
     "name": "#%%\n"
    }
   },
   "outputs": [
    {
     "data": {
      "text/plain": [
       "['ORIG_UT_ID',\n",
       " 'DST_UT_ID',\n",
       " 'MJR_IT_CD_ID',\n",
       " 'IT_DSC_TX',\n",
       " 'P_SHP_DT',\n",
       " 'P_SHP_TM',\n",
       " 'DAY_DT',\n",
       " 'ORDR_SRC_CT',\n",
       " 'DAY_TM',\n",
       " 'P_DMD_CT',\n",
       " 'P_XDCK_FLG',\n",
       " 'WRK_CT',\n",
       " 'P_CRT_PRC_CT',\n",
       " 'SHTL_UT_ID',\n",
       " 'MPAK_IT_QT',\n",
       " 'VPAK_IT_QT',\n",
       " 'P_RCV_DT',\n",
       " 'P_RCV_TM',\n",
       " 'P_SELL_BY_DT',\n",
       " 'UCC128_CD_ID',\n",
       " 'PO_NBR_ID',\n",
       " 'TLR_ID',\n",
       " 'TLR_CTNR_TYP_ID',\n",
       " 'P_HDL_CT',\n",
       " 'P_ATL_DVRT_DT',\n",
       " 'P_ATL_DVRT_TM',\n",
       " 'SHP_CTNR_ID',\n",
       " 'SHP_CTNR_TYP_ID',\n",
       " 'P_QT',\n",
       " 'LB_SRL_ID',\n",
       " 'UT_RCT_ID',\n",
       " 'SHTL_FROM_UT_ID',\n",
       " 'UT_RCT_CT',\n",
       " 'LD_ID',\n",
       " 'VDR_ID',\n",
       " 'VDR_NM_TX',\n",
       " 'MPAK_HGT_QT',\n",
       " 'MPAK_WGT_QT',\n",
       " 'MPAK_DPH_QT',\n",
       " 'MPAK_WDTH_QT',\n",
       " 'MPAK_CBE_QT',\n",
       " 'OUTLD_ID',\n",
       " 'TLR_LD_ID',\n",
       " 'UPC_ID',\n",
       " 'VPAK_HGT_QT',\n",
       " 'VPAK_WGT_QT',\n",
       " 'VPAK_DPH_QT',\n",
       " 'VPAK_WDTH_QT',\n",
       " 'VPAK_CBE_QT',\n",
       " 'PKY_ID',\n",
       " 'PKY_DSC_TX',\n",
       " 'P_ID',\n",
       " 'BYR_ID',\n",
       " 'MJR_P_SUB_CT_ID',\n",
       " 'MJR_P_SUB_CT_NM_TX',\n",
       " 'MPAKS_SHIPPED']"
      ]
     },
     "execution_count": 7,
     "metadata": {},
     "output_type": "execute_result"
    }
   ],
   "source": [
    "df.get_column_names(virtual=True, strings=True, hidden=False, regex=None) # Return a list of column names\n",
    "df.get_names(hidden=False)  # Return a list of column names and variable names."
   ]
  },
  {
   "cell_type": "code",
   "execution_count": 25,
   "metadata": {
    "pycharm": {
     "name": "#%%\n"
    }
   },
   "outputs": [
    {
     "ename": "NameError",
     "evalue": "name 'items' is not defined",
     "output_type": "error",
     "traceback": [
      "\u001b[1;31m---------------------------------------------------------------------------\u001b[0m",
      "\u001b[1;31mNameError\u001b[0m                                 Traceback (most recent call last)",
      "Input \u001b[1;32mIn [25]\u001b[0m, in \u001b[0;36m<module>\u001b[1;34m\u001b[0m\n\u001b[1;32m----> 1\u001b[0m vaex\u001b[38;5;241m.\u001b[39mfrom_items(\u001b[38;5;241m*\u001b[39m\u001b[43mitems\u001b[49m)\n\u001b[0;32m      2\u001b[0m vaex\u001b[38;5;241m.\u001b[39mfrom_dict(data)\n",
      "\u001b[1;31mNameError\u001b[0m: name 'items' is not defined"
     ]
    }
   ],
   "source": [
    "vaex.from_items(*items)\n",
    "vaex.from_dict(data)\n",
    "vaex.from_json\n",
    "vaex.vconstant\n",
    "vaex.vrange(start, stop, step=1, dtype='f8')"
   ]
  },
  {
   "cell_type": "markdown",
   "metadata": {
    "pycharm": {
     "name": "#%% md\n"
    }
   },
   "source": [
    "## Custom operations and lazy evaluations"
   ]
  },
  {
   "cell_type": "code",
   "execution_count": 30,
   "metadata": {
    "pycharm": {
     "name": "#%%\n"
    }
   },
   "outputs": [],
   "source": [
    "import vaex\n",
    "import numpy as np\n",
    "df = vaex.from_dict(\n",
    "    {\n",
    "        'id': np.array([1, 2, 3, 4]),\n",
    "        'name': np.array(['Sally', 'Tom', 'Maria', 'John'])\n",
    "    })\n",
    "\n",
    "df2 = df[df.id > 2]  # lazy filter."
   ]
  },
  {
   "cell_type": "code",
   "execution_count": 32,
   "metadata": {
    "pycharm": {
     "name": "#%%\n"
    }
   },
   "outputs": [
    {
     "data": {
      "text/html": [
       "<table>\n",
       "<thead>\n",
       "<tr><th>#                            </th><th style=\"text-align: right;\">  id</th><th>name  </th></tr>\n",
       "</thead>\n",
       "<tbody>\n",
       "<tr><td><i style='opacity: 0.6'>0</i></td><td style=\"text-align: right;\">   3</td><td>Maria </td></tr>\n",
       "<tr><td><i style='opacity: 0.6'>1</i></td><td style=\"text-align: right;\">   4</td><td>John  </td></tr>\n",
       "</tbody>\n",
       "</table>"
      ],
      "text/plain": [
       "  #    id  name\n",
       "  0     3  Maria\n",
       "  1     4  John"
      ]
     },
     "execution_count": 32,
     "metadata": {},
     "output_type": "execute_result"
    }
   ],
   "source": [
    "df2  # this unmaterialized"
   ]
  },
  {
   "cell_type": "code",
   "execution_count": 33,
   "metadata": {
    "pycharm": {
     "name": "#%%\n"
    }
   },
   "outputs": [
    {
     "name": "stdout",
     "output_type": "stream",
     "text": [
      "Array is of length 2, while the length of the DataFrame is 2 due to the filtering, the (unfiltered) length is 4.\n"
     ]
    }
   ],
   "source": [
    "try:\n",
    "    df2['age'] = np.array([27, 29])  # add new column on unmaterialized data will fail.\n",
    "except ValueError as e:\n",
    "    print(e)"
   ]
  },
  {
   "cell_type": "code",
   "execution_count": 34,
   "metadata": {
    "pycharm": {
     "name": "#%%\n"
    }
   },
   "outputs": [
    {
     "data": {
      "text/html": [
       "<table>\n",
       "<thead>\n",
       "<tr><th>#                            </th><th style=\"text-align: right;\">  id</th><th>name  </th><th style=\"text-align: right;\">  age</th></tr>\n",
       "</thead>\n",
       "<tbody>\n",
       "<tr><td><i style='opacity: 0.6'>0</i></td><td style=\"text-align: right;\">   3</td><td>Maria </td><td style=\"text-align: right;\">   27</td></tr>\n",
       "<tr><td><i style='opacity: 0.6'>1</i></td><td style=\"text-align: right;\">   4</td><td>John  </td><td style=\"text-align: right;\">   29</td></tr>\n",
       "</tbody>\n",
       "</table>"
      ],
      "text/plain": [
       "  #    id  name      age\n",
       "  0     3  Maria      27\n",
       "  1     4  John       29"
      ]
     },
     "execution_count": 34,
     "metadata": {},
     "output_type": "execute_result"
    }
   ],
   "source": [
    "df2 = df2.extract()  # alias from \"materialize lazy compute\"\n",
    "df2['age'] = np.array([27, 29])  # Now I can add the data.\n",
    "df2"
   ]
  },
  {
   "cell_type": "code",
   "execution_count": null,
   "metadata": {
    "pycharm": {
     "name": "#%%\n"
    }
   },
   "outputs": [],
   "source": [
    "add_column(name, f_or_array, dtype=None)\n",
    "add_variable(name, expression, overwrite=True, unique=True)\n",
    "add_virtual_column(name, expression, unique=False)\n",
    "apply(f, arguments=None, vectorize=False, multiprocessing=True)\n",
    "drop(columns, inplace=False, check=True)\n",
    "drop_filter(inplace=False)\n",
    "\n",
    "#df.close()  #  Close any possible open file handles or other resources, the DataFrame will not be in a usable state afterwards.\n",
    "describe(strings=True, virtual=True, selection=None)  # descriptive statistics.\n",
    "dropinf(column_names=None)\n",
    "dropmissing(column_names=None)\n",
    "dropna(column_names=None)\n",
    "dropnan(column_names=None)"
   ]
  },
  {
   "cell_type": "code",
   "execution_count": null,
   "metadata": {
    "pycharm": {
     "name": "#%%\n"
    }
   },
   "outputs": [],
   "source": [
    "df.filter(expression, mode='and')"
   ]
  },
  {
   "cell_type": "code",
   "execution_count": null,
   "metadata": {
    "pycharm": {
     "name": "#%%\n"
    }
   },
   "outputs": [],
   "source": [
    "evaluate(expression, i1=None, i2=None, out=None, selection=None, filtered=True, array_type=None, parallel=True, chunk_size=None, progress=None)\n",
    "evaluate_iterator(expression, s1=None, s2=None, out=None, selection=None, filtered=True, array_type=None, parallel=True, chunk_size=None, prefetch=True, progress=None)\n",
    "# >>> import vaex\n",
    "# >>> df = vaex.example()\n",
    "# >>> for i1, i2, chunk in df.evaluate_iterator(df.x, chunk_size=100_000):\n",
    "# ...     print(f\"Total of {i1} to {i2} = {chunk.sum()}\")"
   ]
  },
  {
   "cell_type": "code",
   "execution_count": null,
   "metadata": {
    "pycharm": {
     "name": "#%%\n"
    }
   },
   "outputs": [],
   "source": [
    "execute()  # Execute all delayed jobs.\n",
    "extract()  # materialize"
   ]
  },
  {
   "cell_type": "code",
   "execution_count": 48,
   "metadata": {
    "pycharm": {
     "name": "#%%\n"
    }
   },
   "outputs": [
    {
     "ename": "AttributeError",
     "evalue": "module 'vaex' has no attribute 'get_private_dir'",
     "output_type": "error",
     "traceback": [
      "\u001b[1;31m---------------------------------------------------------------------------\u001b[0m",
      "\u001b[1;31mAttributeError\u001b[0m                            Traceback (most recent call last)",
      "Input \u001b[1;32mIn [48]\u001b[0m, in \u001b[0;36m<module>\u001b[1;34m\u001b[0m\n\u001b[1;32m----> 1\u001b[0m \u001b[43mvaex\u001b[49m\u001b[38;5;241;43m.\u001b[39;49m\u001b[43mget_private_dir\u001b[49m(create\u001b[38;5;241m=\u001b[39m\u001b[38;5;28;01mFalse\u001b[39;00m)\n",
      "\u001b[1;31mAttributeError\u001b[0m: module 'vaex' has no attribute 'get_private_dir'"
     ]
    }
   ],
   "source": [
    "vaex.get_private_dir(create=False)  #Each DataFrame has a directory where files are stored for metadata etc."
   ]
  },
  {
   "cell_type": "code",
   "execution_count": null,
   "metadata": {
    "pycharm": {
     "name": "#%%\n"
    }
   },
   "outputs": [],
   "source": []
  }
 ],
 "metadata": {
  "kernelspec": {
   "display_name": "Python 3 (ipykernel)",
   "language": "python",
   "name": "python3"
  },
  "language_info": {
   "codemirror_mode": {
    "name": "ipython",
    "version": 3
   },
   "file_extension": ".py",
   "mimetype": "text/x-python",
   "name": "python",
   "nbconvert_exporter": "python",
   "pygments_lexer": "ipython3",
   "version": "3.9.10"
  }
 },
 "nbformat": 4,
 "nbformat_minor": 4
}
