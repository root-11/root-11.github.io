{
 "cells": [
  {
   "cell_type": "markdown",
   "metadata": {},
   "source": [
    "# What is the fastest method to prove that an assignment problem is not solvable?\n",
    "\n",
    "A number of passengers need to be assigned to a seat in a vehicle.\n",
    "The passengers have preferences, f.x.\n",
    "\n",
    "    A = {1,2}, B = {2,3}, C = {1,2,3}\n",
    "    A = {1,2}, B = {1,3}, C = {1}\n",
    "\n",
    "What is the most effective way to prove that a collection of sets will NOT be assignable,\n",
    "such as for the case:\n",
    "\n",
    "    A = {1,2}, B = {1,2}, C = {1}\n",
    "\n",
    "?\n",
    "\n",
    "Here's a guess:"
   ]
  },
  {
   "cell_type": "code",
   "execution_count": 1,
   "metadata": {},
   "outputs": [],
   "source": [
    "def is_ap_solveable(preferences):\n",
    "    \"\"\" \n",
    "    Checks if assignment problem is solveable.\n",
    "\n",
    "    :param: preferences: dict with agents mapped to set of preferences\n",
    "    :returns: bool\n",
    "    \"\"\"\n",
    "    seats = set().union(*preferences.values())\n",
    "\n",
    "    passenger_assignment = {}\n",
    "\n",
    "    for passenger, _preferences in sorted(preferences.items(), key=lambda x: len(x[-1])):\n",
    "        options = _preferences.intersection(seats)\n",
    "        if not options:\n",
    "            return False\n",
    "        choosen_seat = options.pop()\n",
    "        seats.remove(choosen_seat)\n",
    "        passenger_assignment[passenger] = choosen_seat\n",
    "    return True"
   ]
  },
  {
   "cell_type": "code",
   "execution_count": 2,
   "metadata": {
    "pycharm": {
     "name": "#%%\n"
    }
   },
   "outputs": [],
   "source": [
    "\n",
    "passengers = {\n",
    "    'A': {1, 2},\n",
    "    'B': {1, 2},\n",
    "    'C': {1}\n",
    "}\n",
    "\n",
    "assert not is_ap_solveable(passengers)"
   ]
  }
 ],
 "metadata": {
  "kernelspec": {
   "display_name": "pages310",
   "language": "python",
   "name": "python3"
  },
  "language_info": {
   "codemirror_mode": {
    "name": "ipython",
    "version": 3
   },
   "file_extension": ".py",
   "mimetype": "text/x-python",
   "name": "python",
   "nbconvert_exporter": "python",
   "pygments_lexer": "ipython3",
   "version": "3.11.6"
  },
  "orig_nbformat": 4,
  "vscode": {
   "interpreter": {
    "hash": "6f432a2729e41e111fc68229d0303145971e0c11421dc22cdb03f95edd20be36"
   }
  }
 },
 "nbformat": 4,
 "nbformat_minor": 2
}
