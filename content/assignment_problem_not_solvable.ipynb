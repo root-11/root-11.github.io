{
 "cells": [
  {
   "cell_type": "markdown",
   "metadata": {},
   "source": [
    "# What is the fastest method to prove that an assignment problem is not solvable?\n",
    "\n",
    "A number of passengers need to be assigned to a seat in a vehicle.\n",
    "The passengers have preferences, f.x.\n",
    "\n",
    "    A = {1,2}, B = {2,3}, C = {1,2,3}\n",
    "    A = {1,2}, B = {1,3}, C = {1}\n",
    "\n",
    "What is the most effective way to prove that a collection of sets will NOT be assignable,\n",
    "such as for the case:\n",
    "\n",
    "    A = {1,2}, B = {1,2}, C = {1}\n",
    "\n",
    "?\n",
    "\n",
    "Here's a guess:"
   ]
  },
  {
   "cell_type": "code",
   "execution_count": null,
   "metadata": {},
   "outputs": [],
   "source": [
    "def check(preferences):\n",
    "    \"\"\" \n",
    "    raises if the assignment is not possible.\n",
    "\n",
    "    :param: preferences: dict with agents mapped to set of preferences\n",
    "    \"\"\"\n",
    "    seats = set().union(*passengers.values())\n",
    "\n",
    "    passenger_assignment = {}\n",
    "\n",
    "    for passenger, preferences in sorted(passengers.items(), key=lambda x: len(x[-1])):\n",
    "        options = preferences.intersection(seats)\n",
    "        if not options:\n",
    "            raise ValueError(\"Assignment not possible.\")\n",
    "        choosen_seat = options.pop()\n",
    "        seats.remove(choosen_seat)\n",
    "        passenger_assignment[passenger] = choosen_seat"
   ]
  },
  {
   "cell_type": "code",
   "execution_count": null,
   "metadata": {},
   "outputs": [],
   "source": [
    "\n",
    "passengers = {\n",
    "    'A': {1, 2},\n",
    "    'B': {1, 2},\n",
    "    'C': {1}\n",
    "}\n",
    "\n",
    "check(passenger) # will raise!\n",
    "\n"
   ]
  }
 ],
 "metadata": {
  "language_info": {
   "name": "plaintext"
  },
  "orig_nbformat": 4
 },
 "nbformat": 4,
 "nbformat_minor": 2
}
