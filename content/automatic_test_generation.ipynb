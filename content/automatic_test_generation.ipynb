{
 "cells": [
  {
   "cell_type": "markdown",
   "metadata": {},
   "source": [
    "# Automatic Test Generation\n",
    "\n",
    "When writing tests by hand, it's often a challenge to cover all combinations of inputs.\n",
    "So don't. Let python do that for you.\n",
    "\n",
    "Here's an example.  \n",
    "I have a function that I'd like to test for various inputs. It works for what I intended, \n",
    "but I'd like to check all the cases where the code raises an exception.\n"
   ]
  },
  {
   "cell_type": "code",
   "execution_count": 1,
   "metadata": {},
   "outputs": [],
   "source": [
    "\n",
    "def adder(a, b):  # function to test.\n",
    "    \"\"\" adds a to b\"\"\"\n",
    "    return a + b\n"
   ]
  },
  {
   "cell_type": "markdown",
   "metadata": {},
   "source": [
    "\n",
    " \n",
    "The input options are integers, floats, lists and strings:\n"
   ]
  },
  {
   "cell_type": "code",
   "execution_count": 2,
   "metadata": {},
   "outputs": [],
   "source": [
    "\n",
    "options = [9, 9.0, [9], \"9\"] \n"
   ]
  },
  {
   "cell_type": "markdown",
   "metadata": {},
   "source": [
    "\n",
    "I also need a template that reflects the test I would write, should I have written it by hand:\n"
   ]
  },
  {
   "cell_type": "code",
   "execution_count": 3,
   "metadata": {},
   "outputs": [],
   "source": [
    "\n",
    "test_template = \"\"\"\n",
    "def test_adder_{}():\n",
    "    _ = adder{}\n",
    "\"\"\"\n"
   ]
  },
  {
   "cell_type": "markdown",
   "metadata": {},
   "source": [
    "\n",
    "With these three components, I can now generate my tests automatically and write any that fail out automatically.\n",
    " \n"
   ]
  },
  {
   "cell_type": "code",
   "execution_count": 4,
   "metadata": {},
   "outputs": [],
   "source": [
    "from itertools import product\n",
    "\n",
    "\n",
    "def test_discovery():\n",
    "    test_number = 0\n",
    "    for c in product(*[options, options]):  # the cartesian product of all inputs.\n",
    "        test_number += 1  \n",
    "        try:  \n",
    "            adder(*c)  # the exercise of my target function\n",
    "        except Exception:\n",
    "            new_test = test_template.format(test_number, c)   # formatting of the test template to a test.\n",
    "            print(new_test)\n"
   ]
  },
  {
   "cell_type": "markdown",
   "metadata": {},
   "source": [
    "\n",
    "\n",
    "When the function `test_discovery`, above, is called, it will **append** the tests that \n",
    "raise `exception`, like this:\n"
   ]
  },
  {
   "cell_type": "code",
   "execution_count": 5,
   "metadata": {},
   "outputs": [
    {
     "name": "stdout",
     "output_type": "stream",
     "text": [
      "\n",
      "def test_adder_3():\n",
      "    _ = adder(9, [9])\n",
      "\n",
      "\n",
      "def test_adder_4():\n",
      "    _ = adder(9, '9')\n",
      "\n",
      "\n",
      "def test_adder_7():\n",
      "    _ = adder(9.0, [9])\n",
      "\n",
      "\n",
      "def test_adder_8():\n",
      "    _ = adder(9.0, '9')\n",
      "\n",
      "\n",
      "def test_adder_9():\n",
      "    _ = adder([9], 9)\n",
      "\n",
      "\n",
      "def test_adder_10():\n",
      "    _ = adder([9], 9.0)\n",
      "\n",
      "\n",
      "def test_adder_12():\n",
      "    _ = adder([9], '9')\n",
      "\n",
      "\n",
      "def test_adder_13():\n",
      "    _ = adder('9', 9)\n",
      "\n",
      "\n",
      "def test_adder_14():\n",
      "    _ = adder('9', 9.0)\n",
      "\n",
      "\n",
      "def test_adder_15():\n",
      "    _ = adder('9', [9])\n",
      "\n"
     ]
    }
   ],
   "source": [
    "\n",
    "test_discovery() \n",
    "\n",
    "\n"
   ]
  },
  {
   "cell_type": "markdown",
   "metadata": {},
   "source": [
    "\n",
    "\n",
    "As you may notice, the test name numbers are not chronological, as the tests that \n",
    "pass have not been written.\n",
    "\n",
    "Neat he? \n",
    "\n",
    "\n",
    "\n",
    "\n"
   ]
  }
 ],
 "metadata": {
  "interpreter": {
   "hash": "c4df837ac4477c7435bbd736fb9ba2c8df232961013baf2c3c9d338fc856bbbf"
  },
  "kernelspec": {
   "display_name": "Python 3.6.7 64-bit ('python36': conda)",
   "name": "python3"
  },
  "language_info": {
   "codemirror_mode": {
    "name": "ipython",
    "version": 3
   },
   "file_extension": ".py",
   "mimetype": "text/x-python",
   "name": "python",
   "nbconvert_exporter": "python",
   "pygments_lexer": "ipython3",
   "version": "3.6.7"
  },
  "orig_nbformat": 4
 },
 "nbformat": 4,
 "nbformat_minor": 2
}
