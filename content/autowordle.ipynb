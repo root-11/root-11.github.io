{
 "cells": [
  {
   "cell_type": "markdown",
   "metadata": {
    "collapsed": true,
    "pycharm": {
     "name": "#%% md\n"
    }
   },
   "source": [
    "# Wordle?\n",
    "\n",
    "> Any CS student should be able to create a wordle solver.\n",
    "\n",
    "I've lost track of how many said this on Twitter and I completely agree. But as [1blue3brown](https://youtu.be/v68zYyaEmEA) showed in a recent video, there is a information-theoretic upper limit to what the best wordle solver can score, and it generally boils down to the probabilities between the frequency of the particular word appearing in the language and the wordle games selection of words.\n",
    "\n",
    "But what if all probabilities are equal?\n",
    "\n",
    "Let's ask the computer to answer this question..."
   ]
  },
  {
   "cell_type": "code",
   "execution_count": 5,
   "metadata": {
    "pycharm": {
     "name": "#%%\n"
    }
   },
   "outputs": [],
   "source": [
    "import pathlib\n",
    "import random\n",
    "words = pathlib.Path('wordle_words.txt').read_text('utf-8').split('\\n')\n",
    "\n",
    "def play():\n",
    "    print(\"(q) to quit, (r) for random word\")\n",
    "    ans = None\n",
    "    while ans != 'q':\n",
    "        ans = input(\"Enter the secret word >>>\")\n",
    "        if ans == 'r':\n",
    "            ans = random.choice(words)\n",
    "        elif ans == 'q':\n",
    "            break\n",
    "        \n",
    "        if ans not in words:\n",
    "            print(f\"{ans} is not an english 5 letter word\")\n",
    "        else:\n",
    "            autowordle(secret_word=ans)\n",
    "\n",
    "def autowordle(secret_word):\n",
    "    # computer tries to guess.\n",
    "    options = words[:]\n",
    "    while 1:\n",
    "        guess = random.choice(options)\n",
    "        if guess == secret_word:\n",
    "            print(f\"{guess} is correct!\")\n",
    "            break\n",
    "        L = []\n",
    "        for ix, (a, b) in enumerate(zip(guess, secret_word)):\n",
    "            if a == b:\n",
    "                L.append(a.upper())\n",
    "                options = [w for w in options if w[ix] == a]\n",
    "            elif a in secret_word:\n",
    "                L.append(a.lower())\n",
    "                options = [w for w in options if a in w]\n",
    "            else:  # a not in b:\n",
    "                L.append('-')\n",
    "                options = [w for w in options if a not in w]\n",
    "        print(guess, \"-->\", \"\".join(L))"
   ]
  },
  {
   "cell_type": "code",
   "execution_count": 6,
   "metadata": {
    "pycharm": {
     "name": "#%%\n"
    }
   },
   "outputs": [
    {
     "name": "stdout",
     "output_type": "stream",
     "text": [
      "(q) to quit, (r) for random word\n",
      "Enter the secret word >>>CRANE\n",
      "JURDI --> --r--\n",
      "FREAM --> -Rea-\n",
      "GRATE --> -RA-E\n",
      "CRAYE --> CRA-E\n",
      "CRANE is correct!\n",
      "Enter the secret word >>>r\n",
      "BOONE --> -Oo--\n",
      "SOAPY --> -Oa--\n",
      "KOKIA --> -O--A\n",
      "LOTHA --> -O--A\n",
      "MOCOA --> mO-oA\n",
      "MOMMA --> mOmMA\n",
      "DOGMA --> -O-MA\n",
      "FORMA is correct!\n",
      "Enter the secret word >>>q\n"
     ]
    }
   ],
   "source": [
    "play()"
   ]
  },
  {
   "cell_type": "markdown",
   "metadata": {
    "pycharm": {
     "name": "#%% md\n"
    }
   },
   "source": [
    "## Here's the normal wordle game ..."
   ]
  },
  {
   "cell_type": "code",
   "execution_count": 8,
   "metadata": {
    "pycharm": {
     "name": "#%%\n"
    }
   },
   "outputs": [
    {
     "name": "stdout",
     "output_type": "stream",
     "text": [
      "secret word has been chosen. Your turn...\n",
      ">>>CRANE\n",
      "CRANE --> c----\n",
      ">>>r\n",
      "OPHIC --> ---ic\n",
      ">>>r\n",
      "DNCRI --> --C-i\n",
      ">>>r\n",
      "PICKS --> -IC-S\n",
      ">>>r\n",
      "RICES --> -IC-S\n",
      ">>>r\n",
      "TICKS --> -IC-S\n",
      ">>>r\n",
      "MICAS --> -IC-S\n",
      ">>>r\n",
      "DICES --> -IC-S\n",
      ">>>r\n",
      "RICKS --> -IC-S\n",
      ">>>r\n",
      "BICES --> -IC-S\n",
      ">>>r\n",
      "NICKS --> -IC-S\n",
      ">>>r\n",
      "SICES --> sIC-S\n",
      ">>>r\n",
      "OICKS --> -IC-S\n",
      ">>>r\n",
      "PICAS --> -IC-S\n",
      ">>>r\n",
      "SICKS --> sIC-S\n",
      ">>>r\n",
      "VICES --> -IC-S\n",
      ">>>r\n",
      "WICKS --> -IC-S\n",
      ">>>r\n",
      "VICUS --> -ICUS\n",
      ">>>r\n",
      "FICUS is correct!\n"
     ]
    }
   ],
   "source": [
    "import pathlib\n",
    "import random\n",
    "words = pathlib.Path('wordle_words.txt').read_text('utf-8').split('\\n')\n",
    "\n",
    "secret_word = random.choice(words)\n",
    "print(\"secret word has been chosen. Your turn...\")\n",
    "while 1:\n",
    "    guess = input(\">>>\")\n",
    "    if guess == 'q':\n",
    "        break\n",
    "    if guess == 'r':\n",
    "        guess = random.choice(options)\n",
    "    \n",
    "    if guess not in words:\n",
    "        print(guess, \"is not a word\")\n",
    "        continue\n",
    "        \n",
    "    if guess == secret_word:\n",
    "        print(f\"{guess} is correct!\")\n",
    "        break\n",
    "    options = words[:]\n",
    "    L = []\n",
    "    for ix, (a, b) in enumerate(zip(guess, secret_word)):\n",
    "        if a == b:\n",
    "            L.append(a.upper())\n",
    "            options = [w for w in options if w[ix]==a]\n",
    "        elif a in secret_word:\n",
    "            L.append(a.lower())\n",
    "            options = [w for w in options if a in w]\n",
    "        else:  # a not in b:\n",
    "            L.append(\"-\")\n",
    "            options = [w for w in options if a not in w]\n",
    "\n",
    "    print(guess, \"-->\",\"\".join(L))"
   ]
  },
  {
   "cell_type": "code",
   "execution_count": null,
   "metadata": {},
   "outputs": [],
   "source": []
  }
 ],
 "metadata": {
  "kernelspec": {
   "display_name": "Python 3 (ipykernel)",
   "language": "python",
   "name": "python3"
  },
  "language_info": {
   "codemirror_mode": {
    "name": "ipython",
    "version": 3
   },
   "file_extension": ".py",
   "mimetype": "text/x-python",
   "name": "python",
   "nbconvert_exporter": "python",
   "pygments_lexer": "ipython3",
   "version": "3.9.7"
  }
 },
 "nbformat": 4,
 "nbformat_minor": 1
}