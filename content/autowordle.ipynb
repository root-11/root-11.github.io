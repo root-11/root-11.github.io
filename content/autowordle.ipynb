{
 "cells": [
  {
   "cell_type": "markdown",
   "metadata": {
    "collapsed": true,
    "pycharm": {
     "name": "#%% md\n"
    }
   },
   "source": [
    "# Wordle?\n",
    "\n",
    "> Any CS student should be able to create a wordle solver.\n",
    "\n",
    "I've lost track of how many said this on Twitter and I completely agree. But as [1blue3brown](https://youtu.be/v68zYyaEmEA) showed in a recent video, there is a information-theoretic upper limit to what the best wordle solver can score, and it generally boils down to the probabilities between the frequency of the particular word appearing in the language and the wordle games selection of words.\n",
    "\n",
    "But what if all probabilities are equal?\n",
    "\n",
    "Let's ask the computer to answer this question..."
   ]
  },
  {
   "cell_type": "code",
   "execution_count": 1,
   "metadata": {
    "pycharm": {
     "name": "#%%\n"
    }
   },
   "outputs": [],
   "source": [
    "import pathlib\n",
    "import random\n",
    "words = pathlib.Path('wordle_words.txt').read_text('utf-8').split('\\n')\n",
    "\n",
    "def play():\n",
    "    print(\"(q) to quit, (r) for random word\")\n",
    "    ans = None\n",
    "    while ans != 'q':\n",
    "        ans = input(\"Enter the secret word >>>\")\n",
    "        if ans == 'r':\n",
    "            ans = random.choice(words)\n",
    "        elif ans == 'q':\n",
    "            break\n",
    "        \n",
    "        if ans not in words:\n",
    "            print(f\"{ans} is not an english 5 letter word\")\n",
    "        else:\n",
    "            autowordle(secret_word=ans)"
   ]
  },
  {
   "cell_type": "code",
   "execution_count": 2,
   "metadata": {},
   "outputs": [],
   "source": [
    "def compare(guess, secret):\n",
    "    L = list(guess.lower())\n",
    "    # compare:\n",
    "    a,b = {},{}\n",
    "    for ix,(A,B) in enumerate(zip(guess, secret)):\n",
    "        if A == B:\n",
    "            L[ix] = A\n",
    "        elif A not in secret:\n",
    "            L[ix] = '-'\n",
    "        else:\n",
    "            pass\n",
    "        a[A] = 1 if A not in a else a[A]+1  # momma --> {'m': 3, ...}\n",
    "        b[B] = 1 if B not in b else b[B]+1  # forma --> {'m':1, ...}\n",
    "\n",
    "    for ix, A in enumerate(L):\n",
    "        if A == '-': continue\n",
    "        if A == secret[ix]: continue\n",
    "\n",
    "        if a[A.upper()] > b.get(A.upper(),0):\n",
    "            a[A.upper()] -= 1\n",
    "            L[ix] = '-'\n",
    "    return \"\".join(L)"
   ]
  },
  {
   "cell_type": "code",
   "execution_count": 3,
   "metadata": {},
   "outputs": [
    {
     "data": {
      "text/plain": [
       "'-O-MA'"
      ]
     },
     "execution_count": 3,
     "metadata": {},
     "output_type": "execute_result"
    }
   ],
   "source": [
    "compare('MOMMA', 'FORMA')"
   ]
  },
  {
   "cell_type": "code",
   "execution_count": 4,
   "metadata": {},
   "outputs": [],
   "source": [
    "def could_match(guess, word):\n",
    "    # hard match\n",
    "    for ix,c in enumerate(guess):\n",
    "        if c == '-':\n",
    "            continue\n",
    "        if c.isupper():\n",
    "            if word[ix] != c:  # the letter is upper and NOT in right position.\n",
    "                return False\n",
    "            else:  # if c.isupper() and word[ix] == c: \n",
    "                continue\n",
    "        if c.islower():  # lowercase letter in the exact position IS a match\n",
    "            if word[ix] == c.upper():\n",
    "                continue\n",
    "            if guess.count(c.upper()) > word.count(c.upper()):\n",
    "                return False\n",
    "    return True"
   ]
  },
  {
   "cell_type": "code",
   "execution_count": 5,
   "metadata": {},
   "outputs": [],
   "source": [
    "assert could_match('-O-MA', \"FORMA\")"
   ]
  },
  {
   "cell_type": "code",
   "execution_count": 6,
   "metadata": {},
   "outputs": [],
   "source": [
    "def autowordle(secret_word):\n",
    "    # computer tries to guess.\n",
    "    options = words[:]\n",
    "    eliminate, keep = set(), set()\n",
    "    guesses = 0\n",
    "    while 1:\n",
    "        guess = random.choice(options)\n",
    "        guesses += 1\n",
    "        if guess == secret_word:\n",
    "            print(guesses, \":\", f\"{guess} is correct!\")\n",
    "            break\n",
    "        options.remove(guess)\n",
    "\n",
    "        word = compare(guess, secret_word)\n",
    "        \n",
    "        keep.update({c.upper() for c in word if c != '-'})\n",
    "        eliminate.update({c for c in guess if c not in keep})\n",
    "\n",
    "        options = [w for w in options if not any(c in w for c in eliminate)]\n",
    "        if keep:\n",
    "            options = [w for w in options if keep.issubset(set(w))]\n",
    "        options = [w for w in options if could_match(word,w)]\n",
    "                \n",
    "        print(guesses,\":\", guess, \"-->\", word)\n",
    "    return guesses"
   ]
  },
  {
   "cell_type": "code",
   "execution_count": 7,
   "metadata": {},
   "outputs": [
    {
     "name": "stdout",
     "output_type": "stream",
     "text": [
      "1 : NODUS --> ----s\n",
      "2 : CHAMS --> ----s\n",
      "3 : VIBES --> -i--s\n",
      "4 : TIPIS --> t--is\n",
      "5 : FISTS --> fi-ts\n",
      "6 : LIFTS --> -ifts\n",
      "7 : FRITS --> f-Its\n",
      "8 : SWIFT is correct!\n"
     ]
    },
    {
     "data": {
      "text/plain": [
       "8"
      ]
     },
     "execution_count": 7,
     "metadata": {},
     "output_type": "execute_result"
    }
   ],
   "source": [
    "autowordle('SWIFT')"
   ]
  },
  {
   "cell_type": "code",
   "execution_count": 8,
   "metadata": {
    "pycharm": {
     "name": "#%%\n"
    }
   },
   "outputs": [
    {
     "name": "stdout",
     "output_type": "stream",
     "text": [
      "(q) to quit, (r) for random word\n",
      "1 : DOYST --> -----\n",
      "2 : AREEK --> ar---\n",
      "3 : BURMA --> burmA\n",
      "4 : RUMBA --> rumbA\n",
      "5 : UMBRA is correct!\n"
     ]
    }
   ],
   "source": [
    "play()"
   ]
  },
  {
   "cell_type": "markdown",
   "metadata": {
    "pycharm": {
     "name": "#%% md\n"
    }
   },
   "source": [
    "## Here's the normal wordle game ..."
   ]
  },
  {
   "cell_type": "code",
   "execution_count": 9,
   "metadata": {
    "pycharm": {
     "name": "#%%\n"
    }
   },
   "outputs": [
    {
     "name": "stdout",
     "output_type": "stream",
     "text": [
      "secret word has been chosen. Your turn...\n",
      "1 : SWIFT --> --i-t\n",
      "2 : TIMMI --> TI---\n",
      " is not a word\n",
      "['TIANA', 'TIANG', 'TIARA', 'TIBBY', 'TIBBU', 'TIBEY', 'TIBER', 'TIBET', 'TIBIA', 'TIBUR', 'TICAL', 'TICCA']\n",
      "4 : TIBBY --> TI---\n",
      "5 : TICCA --> TI--A\n",
      "['TIANA', 'TIARA', 'TIENA', 'TIGUA', 'TIKKA', 'TILDA', 'TILIA', 'TILLA', 'TINEA', 'TINIA', 'TINTA', 'TIOGA']\n",
      "6 : TIOGA --> TI--A\n",
      "7 : TINEA --> TI--A\n",
      "8 : TIARA --> TI--A\n",
      "9 : TILDA --> TIL-A\n",
      "TILLA is correct!\n"
     ]
    }
   ],
   "source": [
    "import pathlib\n",
    "import random\n",
    "words = pathlib.Path('wordle_words.txt').read_text('utf-8').split('\\n')\n",
    "\n",
    "secret_word = random.choice(words)\n",
    "keep, eliminate, guesses = set(),set(), 0\n",
    "print(\"secret word has been chosen. Your turn...\")\n",
    "options = words[:]\n",
    "while 1:\n",
    "    guess = input(\">>>\")\n",
    "    if guess == 'q':\n",
    "        break\n",
    "    if guess == 'r':\n",
    "        guess = random.choice(options)\n",
    "    if guess == 'h':\n",
    "        print(options[:12])\n",
    "        continue\n",
    "\n",
    "    guesses += 1\n",
    "    if guess not in words:\n",
    "        print(guess, \"is not a word\")\n",
    "        continue\n",
    "        \n",
    "    if guess == secret_word:\n",
    "        print(f\"{guess} is correct!\")\n",
    "        break\n",
    "    \n",
    "    options.remove(guess)\n",
    "    word = compare(guess, secret_word)\n",
    "    \n",
    "    keep.update({c.upper() for c in word if c != '-'})\n",
    "    eliminate.update({c for c in guess if c not in keep})\n",
    "\n",
    "    options = [w for w in options if not any(c in w for c in eliminate)]\n",
    "    if keep:\n",
    "        options = [w for w in options if keep.issubset(set(w))]\n",
    "    options = [w for w in options if could_match(word,w)]\n",
    "    print(guesses,\":\", guess, \"-->\", word)\n"
   ]
  },
  {
   "cell_type": "code",
   "execution_count": null,
   "metadata": {},
   "outputs": [],
   "source": []
  }
 ],
 "metadata": {
  "kernelspec": {
   "display_name": "Python 3 (ipykernel)",
   "language": "python",
   "name": "python3"
  },
  "language_info": {
   "codemirror_mode": {
    "name": "ipython",
    "version": 3
   },
   "file_extension": ".py",
   "mimetype": "text/x-python",
   "name": "python",
   "nbconvert_exporter": "python",
   "pygments_lexer": "ipython3",
   "version": "3.9.10"
  }
 },
 "nbformat": 4,
 "nbformat_minor": 1
}
