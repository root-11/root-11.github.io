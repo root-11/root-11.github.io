{
 "cells": [
  {
   "cell_type": "markdown",
   "metadata": {},
   "source": [
    "# Intersection of polygons in 2D space\n",
    "\n",
    "I need a simple method for detecting overlap between polygons in 2D space. For this I need:\n",
    "\n",
    "- Points, (obviously)\n",
    "- A Triangle, as the fastest way to determine how far a point is from a line, is by calculating the 0.5 * area / base of the triangle.\n",
    "- A Line, as line-2-line intersection will tell me if a line from one polygon's boundary crosses anothers.\n",
    "- A Circle to do fast evaluation of whether two polygons _could_ intersect\n",
    "- and a Polygon to hold a collection of Points\n",
    "\n",
    "Aside from these classes there's not much more to say really."
   ]
  },
  {
   "cell_type": "code",
   "execution_count": 1,
   "metadata": {},
   "outputs": [],
   "source": [
    "class Point:\n",
    "    __slots__ = ['x','y']\n",
    "    def __init__(self, x, y):\n",
    "        self.x = x\n",
    "        self.y = y\n",
    "    def __repr__(self):\n",
    "        return f\"Point({self.x},{self.y})\"\n",
    "    def distance(self, other):\n",
    "        return (abs(self.x - other.x) ** 2 + abs(self.y - other.y) ** 2) ** (1 / 2)\n",
    "    def __iter__(self):\n",
    "        return iter((self.x,self.y))\n",
    "    def move(self,x,y):\n",
    "        self.x+=x\n",
    "        self.y+=y\n",
    "        return self\n",
    "    def __hash__(self) -> int:\n",
    "        return hash((self.x,self.y))\n",
    "    def __eq__(self, __value: object) -> bool:\n",
    "        assert isinstance(__value, Point)\n",
    "        return self.x==__value.x and self.y == __value.y"
   ]
  },
  {
   "cell_type": "code",
   "execution_count": 2,
   "metadata": {},
   "outputs": [],
   "source": [
    "p1 = Point(1,2)\n",
    "p2 = Point(2,1)\n",
    "\n",
    "assert p1.distance(p2) == p2.distance(p1) != 0\n",
    "\n",
    "p3 = Point(0,0)\n",
    "assert p1 != p3\n",
    "p3.move(1,2)\n",
    "assert p1 == p3\n"
   ]
  },
  {
   "cell_type": "code",
   "execution_count": 3,
   "metadata": {},
   "outputs": [],
   "source": [
    "class Triangle:\n",
    "    def __init__(self, A, B, C) -> None:\n",
    "        assert all(isinstance(i, Point) for i in (A,B,C))\n",
    "        self.A, self.B, self.C = A,B,C\n",
    "    \n",
    "    @property\n",
    "    def area(self):\n",
    "        a, b, c = self.A, self.B, self.C\n",
    "        return 1/2 * abs(a.x*(b.y-c.y) + b.x*(c.y-a.y) + c.x*(a.y-b.y))\n",
    "\n",
    "    def __contains__(self, other):\n",
    "        if isinstance(other, Point):\n",
    "            a,b,c,p = self.A, self.B,self.C, other\n",
    "            if other in [a,b,c]:\n",
    "                return True\n",
    "            \n",
    "            area = self.area\n",
    "            s = 1/(2*area)*(a.y*c.x - a.x*c.y + (c.y - a.y) * p.x + (a.x - c.x)*p.y)\n",
    "            t = 1/(2*area)*(a.x*b.y - a.y*b.x + (a.y - b.y)*p.x + (b.x - a.x)*p.y)\n",
    "            return s > 0 and t > 0 and 1-s-t>0"
   ]
  },
  {
   "cell_type": "code",
   "execution_count": 4,
   "metadata": {},
   "outputs": [],
   "source": [
    "def cog(x,y):\n",
    "    n = len(x)\n",
    "    x = sum(x) / n\n",
    "    y = sum(y) / n\n",
    "    return Point(x, y)"
   ]
  },
  {
   "cell_type": "code",
   "execution_count": 5,
   "metadata": {},
   "outputs": [],
   "source": [
    "t1 = Triangle(p1,p2, Point(2,2))\n",
    "assert t1.area == 0.5, t1.area\n",
    "x,y = zip(*[t1.A, t1.B,t1.C])\n",
    "p4 = cog(x,y)\n",
    "assert p4 in t1\n",
    "assert p1 in t1\n",
    "assert p2 in t1"
   ]
  },
  {
   "cell_type": "code",
   "execution_count": 6,
   "metadata": {},
   "outputs": [],
   "source": [
    "class Line:\n",
    "    def __init__(self, p1, p2) -> None:\n",
    "        assert isinstance(p1, Point)\n",
    "        assert isinstance(p2, Point)\n",
    "        assert p1 != p2, p1\n",
    "        self.p1 = p1\n",
    "        self.p2 = p2\n",
    "        self.length = p1.distance(p2)\n",
    "\n",
    "    def __mul__(self, other):\n",
    "        if not 0 <= other <= 1:\n",
    "            raise ValueError(\"the line index should be in the range [0:1]\")\n",
    "        x = self.p1.x + (self.p2.x - self.p1.x) * other\n",
    "        y = self.p1.y + (self.p2.y - self.p1.y) * other\n",
    "        return Point(x, y)\n",
    "\n",
    "    def intersect(self, other):\n",
    "        \"\"\" https://bryceboe.com/2006/10/23/line-segment-intersection-algorithm/\"\"\"\n",
    "        def ccw(A,B,C):\n",
    "            return (C.y-A.y)*(B.x-A.x) > (B.y-A.y)*(C.x-A.x)\n",
    "\n",
    "        A,B,C,D = self.p1,self.p2, other.p1, other.p2\n",
    "        return ccw(A,C,D) != ccw(B,C,D) and ccw(A,B,C) != ccw(A,B,D)\n",
    "\n",
    "    def distance(self, other):\n",
    "        if isinstance(other, Point):  #A = 1/2h*B --> h = 2A/B\n",
    "            return 2 * Triangle(self.p1,self.p2,other).area / self.length\n",
    "        raise NotImplementedError()"
   ]
  },
  {
   "cell_type": "code",
   "execution_count": 7,
   "metadata": {},
   "outputs": [],
   "source": [
    "a,b,c,d,e,f = Point(-1,0), Point(1,0), Point(0,1), Point(0,-1), Point(2,1), Point(2,-1)\n",
    "\n",
    "line1 = Line(a,b)\n",
    "assert line1.length == 2, line1.length\n",
    "line2 = Line(c,d)\n",
    "line3 = Line(e,f)\n",
    "assert line1.intersect(line2)\n",
    "assert not line1.intersect(line3)\n",
    "assert line1.distance(Point(0,0)) == 0\n",
    "assert line1.distance(Point(0,1)) == 1"
   ]
  },
  {
   "cell_type": "code",
   "execution_count": 8,
   "metadata": {},
   "outputs": [],
   "source": [
    "class Circle:\n",
    "    def __init__(self, center, radius) -> None:\n",
    "        assert isinstance(center, Point)\n",
    "        assert isinstance(radius, (float,int)) and radius >= 0\n",
    "        self.center = center\n",
    "        self.radius = radius\n",
    "\n",
    "    def __contains__(self, point):\n",
    "        return self.center.distance(point) <= self.radius"
   ]
  },
  {
   "cell_type": "code",
   "execution_count": 9,
   "metadata": {},
   "outputs": [],
   "source": [
    "c = Circle(Point(0,0), radius=1)\n",
    "assert Point(0,0) in c\n",
    "assert Point(1,0) in c\n",
    "assert Point(2,0) not in c"
   ]
  },
  {
   "cell_type": "code",
   "execution_count": 10,
   "metadata": {},
   "outputs": [],
   "source": [
    "class Polygon(object):\n",
    "    def __init__(self, *points) -> None:\n",
    "        self.points = points\n",
    "        self._hull = None\n",
    "        self._cog = None\n",
    "    def __repr__(self):\n",
    "        return f\"Polygon{self.points}\"\n",
    "    def move(self,x,y):\n",
    "        for p in self.points:\n",
    "            p.move(x,y)\n",
    "        if self._cog:\n",
    "            self._cog.move(x,y)\n",
    "        \n",
    "    @property   \n",
    "    def area(self):\n",
    "        \"\"\"https://en.wikipedia.org/wiki/Shoelace_formula\"\"\"\n",
    "        x, y = zip(*[(p.x, p.y) for p in self.hull])\n",
    "        \"Assumes x,y points go around the polygon in one direction\"\n",
    "        return abs(sum(x[i - 1] * y[i] - x[i] * y[i - 1] for i in range(len(x)))) / 2.0\n",
    "\n",
    "    @property\n",
    "    def cog(self):\n",
    "        \"\"\"center of gravity\"\"\"\n",
    "        if self._cog is None:\n",
    "            x, y = zip(*[(p.x, p.y) for p in self.hull])\n",
    "            self._cog = cog(x,y)\n",
    "        return self._cog        \n",
    "\n",
    "    @property\n",
    "    def hull(self):\n",
    "        if self._hull is None:\n",
    "            self._hull = self._convex_hull()\n",
    "        return self._hull\n",
    "\n",
    "    def _convex_hull(self):\n",
    "        assert len(self.points) >= 3, \"can't have a hull with less than 3 points.\"\n",
    "        points = sorted(self.points, key=lambda p: (p.x, p.y))\n",
    "\n",
    "        def right_turn(A, B, C):\n",
    "            dxAC, dyAC = C.x - A.x, C.y - A.y\n",
    "            dxAB, dyAB = B.x - A.x, B.y - A.y\n",
    "            if dxAC == 0:\n",
    "                aAC = float(\"inf\")\n",
    "            else:\n",
    "                aAC = dyAC / dxAC\n",
    "            if dxAB == 0:\n",
    "                aAB = float(\"inf\")\n",
    "            else:\n",
    "                aAB = dyAB / dxAB\n",
    "\n",
    "            if aAB > aAC:  # right\n",
    "                return True\n",
    "            elif aAB < aAC:  # left\n",
    "                return False\n",
    "            else:  # straight\n",
    "                return None\n",
    "\n",
    "        upper_hull = []\n",
    "        lower_hull = []\n",
    "        for point in points:\n",
    "            upper_hull.append(point)\n",
    "            while len(upper_hull) >= 3:\n",
    "                a, b, c = upper_hull[-3:]\n",
    "                if right_turn(a, b, c) is True:\n",
    "                    break\n",
    "                else:\n",
    "                    upper_hull.remove(b)\n",
    "\n",
    "            lower_hull.append(point) \n",
    "            while len(lower_hull) >= 3:\n",
    "                a, b, c = lower_hull[-3:]\n",
    "                if right_turn(a, b, c) is False:\n",
    "                    break\n",
    "                else:\n",
    "                    lower_hull.remove(b)\n",
    "\n",
    "        return upper_hull[:-1] + lower_hull[::-1]\n",
    "\n",
    "    def __contains__(self, other):\n",
    "        if isinstance(other, Point):\n",
    "            hull = self.hull\n",
    "            cog = self.cog\n",
    "            for a,b in zip(hull[-1:] + hull[:-1], hull):\n",
    "                triangle = Triangle(a,b,cog)\n",
    "                if other in triangle:\n",
    "                    return True\n",
    "            return False\n",
    "        raise NotImplementedError()\n",
    "\n",
    "\n",
    "    def intersects(self, other):\n",
    "        if isinstance(other, Polygon):\n",
    "            # quick checks:\n",
    "            c1 = self.cog\n",
    "            d1s = [c1.distance(p) for p in self.hull]\n",
    "            c2 = other.cog\n",
    "            d2s = [c2.distance(p) for p in other.hull]\n",
    "\n",
    "            d = c1.distance(c2)\n",
    "            if d > max(d1s) + max(d2s):  # d is greater than a circle around both polygons.\n",
    "                return False\n",
    "            if d < min(d1s) or d < min(d2s):  # d is smaller than the inner circle.\n",
    "                return True\n",
    "            \n",
    "            # check if any segment cuts any other segment.\n",
    "            for a,b in zip(self.hull[:-1], self.hull[1:]):\n",
    "                for c,d in zip(other.hull[:-1], other.hull[1:]):\n",
    "                    if Line(a,b).intersect(Line(c,d)):\n",
    "                        return True\n",
    "            return False\n",
    "        raise NotImplementedError()\n"
   ]
  },
  {
   "cell_type": "code",
   "execution_count": 11,
   "metadata": {},
   "outputs": [],
   "source": [
    "a,b,c,d,e,f = Point(-1,0), Point(1,0), Point(0,1), Point(0,-1), Point(2,1), Point(2,-1)\n",
    "g,h,i,j = Point(0,0), Point(0,2), Point(2,2), Point(2,0)\n",
    "\n",
    "pg1 = Polygon(a,b,c,d,e,f)\n",
    "pg2 = Polygon(g,h,i,j)"
   ]
  },
  {
   "cell_type": "code",
   "execution_count": 12,
   "metadata": {},
   "outputs": [
    {
     "name": "stdout",
     "output_type": "stream",
     "text": [
      "Polygon(Point(-1,0), Point(1,0), Point(0,1), Point(0,-1), Point(2,1), Point(2,-1)) \n",
      " - cog:  Point(0.3333333333333333,0.0) \n",
      " - area: 5.0\n",
      "Polygon(Point(0,0), Point(0,2), Point(2,2), Point(2,0)) \n",
      " - cog:  Point(0.8,0.8) \n",
      " - area: 4.0\n",
      "True\n"
     ]
    }
   ],
   "source": [
    "print(pg1, \"\\n - cog: \", pg1.cog, \"\\n - area:\", pg1.area)\n",
    "print(pg2, \"\\n - cog: \", pg2.cog, \"\\n - area:\",pg2.area)\n",
    "print(pg1.intersects(pg2))"
   ]
  },
  {
   "cell_type": "code",
   "execution_count": 13,
   "metadata": {},
   "outputs": [],
   "source": [
    "assert pg2.hull == [Point(0,0), Point(0,2), Point(2,2), Point(2,0), Point(0,0)]\n",
    "pg2.move(0,1)\n",
    "assert pg2.hull== [Point(0,1), Point(0,3), Point(2,3), Point(2,1), Point(0,1)]\n",
    "assert pg2.cog == Point(0.8,1.8)\n",
    "assert pg1.intersects(pg2), \"edges touch!\"\n",
    "pg2.move(0,1)\n",
    "assert pg2.cog == Point(0.8,2.8)\n",
    "assert pg2.hull == [Point(0,2), Point(0,4), Point(2,4), Point(2,2), Point(0,2)]\n",
    "assert not pg1.intersects(pg2)\n"
   ]
  },
  {
   "cell_type": "markdown",
   "metadata": {},
   "source": [
    "Next I'm placing a tiny square inside pg2:"
   ]
  },
  {
   "cell_type": "code",
   "execution_count": 14,
   "metadata": {},
   "outputs": [
    {
     "data": {
      "text/plain": [
       "Polygon(Point(1,3), Point(1,3.1), Point(1.1,3.1), Point(1.1,3))"
      ]
     },
     "execution_count": 14,
     "metadata": {},
     "output_type": "execute_result"
    }
   ],
   "source": [
    "pg3 = Polygon(*[Point(*ab) for ab in [(1,3), (1,3.1), (1.1, 3.1), (1.1,3)]])\n",
    "pg3"
   ]
  },
  {
   "cell_type": "code",
   "execution_count": 15,
   "metadata": {},
   "outputs": [
    {
     "data": {
      "text/plain": [
       "True"
      ]
     },
     "execution_count": 15,
     "metadata": {},
     "output_type": "execute_result"
    }
   ],
   "source": [
    "pg2.intersects(pg3)"
   ]
  },
  {
   "cell_type": "markdown",
   "metadata": {},
   "source": [
    "In short: It works."
   ]
  }
 ],
 "metadata": {
  "kernelspec": {
   "display_name": "pages310",
   "language": "python",
   "name": "python3"
  },
  "language_info": {
   "codemirror_mode": {
    "name": "ipython",
    "version": 3
   },
   "file_extension": ".py",
   "mimetype": "text/x-python",
   "name": "python",
   "nbconvert_exporter": "python",
   "pygments_lexer": "ipython3",
   "version": "3.10.11"
  },
  "orig_nbformat": 4
 },
 "nbformat": 4,
 "nbformat_minor": 2
}
