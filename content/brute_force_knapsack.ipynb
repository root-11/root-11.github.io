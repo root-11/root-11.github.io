{
 "cells": [
  {
   "cell_type": "markdown",
   "metadata": {},
   "source": [
    "# BRUTE FORCE SOLUTION TO THE KNAPSACK PROBLEM\n",
    "\n",
    "Computing the brute force solution is rarely the best way to go except when checking other solvers. However, as running the test suite can be time-consuming, it's nice to have tools that run reasonably quickly.\n",
    "\n",
    "The knapsack problem is an optimisation problem where a combination of items must respect weight or volume constraints and have the highest possible value.\n",
    "\n",
    "To test a solver for the knapsack problem it is helpful to generate all unique combinations of items, so that the evalution is exhaustive. I will refer to this set as the unique_powerset. Here's an example:"
   ]
  },
  {
   "cell_type": "markdown",
   "metadata": {
    "pycharm": {
     "name": "#%% md\n"
    }
   },
   "source": [
    "\n",
    "    unique_powerset([1,1,1,2,2,3]) --> [\n",
    "            (1,), (1, 1), (1, 1, 1), (2,), (2, 2), (3,),\n",
    "            (1, 2), (1, 1, 2), (1, 1, 1, 2),\n",
    "            (1, 2, 2), (1, 1, 2, 2), (1, 1, 1, 2, 2),\n",
    "            (1, 3), (1, 1, 3), (1, 1, 1, 3),\n",
    "            (2, 3), (2, 2, 3), (1, 2, 3),\n",
    "            (1, 1, 2, 3), (1, 1, 1, 2, 3),\n",
    "            (1, 2, 2, 3), (1, 1, 2, 2, 3),\n",
    "            (1, 1, 1, 2, 2, 3)\n",
    "        ] # 23 records"
   ]
  },
  {
   "cell_type": "markdown",
   "metadata": {},
   "source": [
    "This should be viewed in contrast to the powerset which would generate repeated values:\n",
    "\n"
   ]
  },
  {
   "cell_type": "markdown",
   "metadata": {
    "pycharm": {
     "name": "#%% md\n"
    }
   },
   "source": [
    "    powerset([1,1,1,2,2,3]) --> [\n",
    "            (),\n",
    "            (1,), (1,), (1,),\n",
    "            (2,), (2,),\n",
    "            (3,),\n",
    "            (1, 1), (1, 1), (1, 1),\n",
    "            (1, 2), (1, 2), (1, 2), (1, 2), (1, 2), (1, 2),\n",
    "            (1, 3), (1, 3), (1, 3),\n",
    "            ... cut for brevity ...\n",
    "            (1, 1, 1, 2, 2), (1, 1, 1, 2, 3), (1, 1, 1, 2, 3),\n",
    "            (1, 1, 2, 2, 3), (1, 1, 2, 2, 3), (1, 1, 2, 2, 3)\n",
    "        ] # 63 records."
   ]
  },
  {
   "cell_type": "markdown",
   "metadata": {},
   "source": [
    "As the number of duplicate values grow, the number of redundant options grows exponentially if using powerset. In the example above the powerset generates 63 vs the 23 unique options generated in the unique_powerset.\n",
    "\n",
    "The assertion set(powerset(iterable)) == unique_powerset(iterable) must always be true, and whilst the former method is available, powerset of any iterables longer than 20 items, become intolerable except for the most patient programmers.\n",
    "\n",
    "The trick is therefore the generate the unique powerset without having to filter the duplicates. This calls for some combinatorial tricks, but explaining these without the context they're applied in, would be rather pointless.\n",
    "\n",
    "So without further ado, this is the full code:"
   ]
  },
  {
   "cell_type": "code",
   "metadata": {
    "pycharm": {
     "name": "#%%\n"
    }
   },
   "source": [
    "from itertools import combinations"
   ],
   "execution_count": 12,
   "outputs": []
  },
  {
   "cell_type": "code",
   "execution_count": 13,
   "outputs": [],
   "source": [
    "def unique_powerset(iterable):\n",
    "    # first we summarize the iterable into blocks of identical values. Example:\n",
    "    # [1,1,1,2,2,3] -->\n",
    "    # d = {\n",
    "    #     1: [[1],[1,1],[1,1,1]],\n",
    "    #     2: [[2],[2,2]],\n",
    "    #     3: [[3]]\n",
    "    #     }\n",
    "    d = {i: iterable.count(i) for i in set(iterable)}\n",
    "    blocks = {i: [] for i in set(iterable)}\n",
    "    for k, v in d.items():\n",
    "        for i in range(1, v + 1):\n",
    "            blocks[k].append([k] * i)\n",
    "\n",
    "    # Next we generate the powersets of the unique values only:\n",
    "    for r in range(1, len(blocks) + 1):\n",
    "        for clusters in combinations(blocks, r):\n",
    "            # each 'cluster' is now an element from the powerset of the\n",
    "            # unique elements --> (1,) (2,) (3,) (1,2) (1,3) (2,3) (1,2,3)\n",
    "\n",
    "            # first we set indices for the accessing the first element in\n",
    "            # the clusters values:\n",
    "            c_index = [0 for _ in clusters]\n",
    "            # this allows us to increment each index in values of each block.\n",
    "            # Hereby c_index = [0,1,0] on the cluster (1,2,3) becomes [1,2,2,3].\n",
    "\n",
    "            # next we set the upper limit to control the incremental iteration\n",
    "            c_limit = [len(blocks[i]) for i in clusters]\n",
    "\n",
    "            while not all(a == b for a, b in zip(c_index, c_limit)):\n",
    "                # harvest combination\n",
    "                result = []\n",
    "                for idx, grp in enumerate(clusters):  # (1,2,3)\n",
    "                    values = blocks[grp]  # v = 1:[[1],[1,1]. [1,1,1]]\n",
    "                    value_idx = c_index[idx]  # [0,0,0]\n",
    "                    value = values[value_idx]\n",
    "                    result.extend(value)\n",
    "                yield tuple(result)\n",
    "\n",
    "                # update the indices:\n",
    "                reset_idx = None\n",
    "                for i in range(len(clusters)):  # counter position.\n",
    "                    if c_index[i] < c_limit[i]:\n",
    "                        c_index[i] += 1  # counter value\n",
    "\n",
    "                    if c_index[i] == c_limit[i]:\n",
    "                        reset_idx = i\n",
    "                    else:\n",
    "                        break\n",
    "\n",
    "                # reset the preceding values in indices if the counter position\n",
    "                # has incremented.\n",
    "                if reset_idx is not None and reset_idx + 1 < len(clusters):\n",
    "                    for j in range(reset_idx + 1):\n",
    "                        c_index[j] = 0"
   ],
   "metadata": {
    "collapsed": false,
    "pycharm": {
     "name": "#%%\n"
    }
   }
  },
  {
   "cell_type": "code",
   "execution_count": 14,
   "outputs": [
    {
     "name": "stdout",
     "output_type": "stream",
     "text": [
      "23 entries\n"
     ]
    }
   ],
   "source": [
    "L = list(unique_powerset([1,1,1,2,2,3]))\n",
    "print(len(L), \"entries\")"
   ],
   "metadata": {
    "collapsed": false,
    "pycharm": {
     "name": "#%%\n"
    }
   }
  },
  {
   "cell_type": "code",
   "execution_count": 15,
   "outputs": [
    {
     "name": "stdout",
     "output_type": "stream",
     "text": [
      "(1,)\n",
      "(1, 1)\n",
      "(1, 1, 1)\n",
      "(2,)\n",
      "(2, 2)\n",
      "(3,)\n",
      "(1, 2)\n",
      "(1, 1, 2)\n",
      "(1, 1, 1, 2)\n",
      "(1, 2, 2)\n",
      "(1, 1, 2, 2)\n",
      "(1, 1, 1, 2, 2)\n",
      "(1, 3)\n",
      "(1, 1, 3)\n",
      "(1, 1, 1, 3)\n",
      "(2, 3)\n",
      "(2, 2, 3)\n",
      "(1, 2, 3)\n",
      "(1, 1, 2, 3)\n",
      "(1, 1, 1, 2, 3)\n",
      "(1, 2, 2, 3)\n",
      "(1, 1, 2, 2, 3)\n",
      "(1, 1, 1, 2, 2, 3)\n"
     ]
    }
   ],
   "source": [
    "for i in L:\n",
    "    print(i)"
   ],
   "metadata": {
    "collapsed": false,
    "pycharm": {
     "name": "#%%\n"
    }
   }
  },
  {
   "cell_type": "markdown",
   "metadata": {},
   "source": [
    "End."
   ]
  }
 ],
 "metadata": {
  "language_info": {
   "name": "python"
  },
  "orig_nbformat": 4
 },
 "nbformat": 4,
 "nbformat_minor": 2
}