{
 "cells": [
  {
   "cell_type": "markdown",
   "metadata": {},
   "source": [
    "# Business calendars.\n",
    "\n",
    "It's saturday 2022/09/04 at 20:30 local time. You need to order something. Is the business open? "
   ]
  },
  {
   "cell_type": "code",
   "execution_count": 1,
   "metadata": {},
   "outputs": [],
   "source": [
    "from datetime import datetime,date,time,timedelta"
   ]
  },
  {
   "cell_type": "code",
   "execution_count": 2,
   "metadata": {},
   "outputs": [],
   "source": [
    "class BusinessCalendar(object):\n",
    "    def __init__(self, open_days=[0,1,2,3,4,5,6], open_from=time(8), open_to=time(18), holidays=None, valid_from=date(1970,1,1), valid_to=date(2060,1,1), ) -> None:\n",
    "        \"\"\"\n",
    "        open_days: integer monday=0 to sunday=6\n",
    "        open_from: datetime.time \n",
    "        open_to: datetime.time\n",
    "        holidays: list of dates\n",
    "        valid_from: start datetime of calendar\n",
    "        valid_to: start datetime of calendar\n",
    "        \"\"\"\n",
    "        if not isinstance(open_days, list) and all(0<=i<=6 for i in open_days):\n",
    "            raise TypeError(\"Expects open_days as a list of integers from 0 to 6.\")\n",
    "        self.open_days = open_days\n",
    "\n",
    "        \n",
    "        if not isinstance(valid_from, (date,datetime)):\n",
    "            raise TypeError\n",
    "        self.valid_from = valid_from\n",
    "\n",
    "        if not isinstance(valid_to, (date,datetime)):\n",
    "            raise TypeError\n",
    "        self.valid_to = valid_to\n",
    "\n",
    "        if not isinstance(open_from, time):\n",
    "            raise TypeError\n",
    "        self.open_from = open_from\n",
    "\n",
    "        if not isinstance(open_to, time):\n",
    "            raise TypeError\n",
    "        self.open_to = open_to\n",
    "\n",
    "        if not isinstance(holidays, list) and all(isinstance(i,date) for i in holidays):\n",
    "            raise TypeError\n",
    "\n",
    "        if holidays is None:\n",
    "            holidays = []\n",
    "        self.holidays = holidays  # consider using https://pypi.org/project/holidays/\n",
    "\n",
    "    def __str__(self) -> str:\n",
    "        return f\"Calendar({self.open_days}, {self.open_from}-{self.open_to} excl. {self.holidays} within {self.valid_from}-{self.valid_to}\"\n",
    "\n",
    "    def is_open(self, now):\n",
    "        if not isinstance(now, datetime):\n",
    "            raise TypeError\n",
    "        return all([\n",
    "           now.weekday() in self.open_days,\n",
    "           now.date() not in self.holidays,\n",
    "           self.open_from <= now.time() < self.open_to,\n",
    "           self.valid_from <= now.date() <= self.valid_to\n",
    "        ])\n",
    "        \n",
    "    def open_next(self, now):\n",
    "        if self.is_open(now):\n",
    "            return now\n",
    "        if not (self.valid_from <= now.date() < self.valid_to):\n",
    "            return None  # outside calendar limit.\n",
    "        \n",
    "        new = datetime(now.year, now.month, now.day, self.open_from.hour, self.open_from.minute)\n",
    "        while True:\n",
    "            if new.date() in self.holidays or new.weekday() not in self.open_days:\n",
    "                new += timedelta(days=1)\n",
    "            else:\n",
    "                break\n",
    "        if self.valid_from <= new.date() < self.valid_to:\n",
    "            return new\n",
    "        return None"
   ]
  },
  {
   "cell_type": "markdown",
   "metadata": {},
   "source": [
    "Let's check it."
   ]
  },
  {
   "cell_type": "code",
   "execution_count": 3,
   "metadata": {},
   "outputs": [],
   "source": [
    "calendar = BusinessCalendar(open_days=[0,1,2,3,4,5], open_from=time(10), open_to=time(20,30), holidays=[date(2022,9,24)])\n"
   ]
  },
  {
   "cell_type": "code",
   "execution_count": 4,
   "metadata": {},
   "outputs": [
    {
     "data": {
      "text/plain": [
       "True"
      ]
     },
     "execution_count": 4,
     "metadata": {},
     "output_type": "execute_result"
    }
   ],
   "source": [
    "calendar.is_open(now=datetime(2022,9,24,20,0)) == False  # it's a holiday"
   ]
  },
  {
   "cell_type": "code",
   "execution_count": 5,
   "metadata": {},
   "outputs": [
    {
     "data": {
      "text/plain": [
       "True"
      ]
     },
     "execution_count": 5,
     "metadata": {},
     "output_type": "execute_result"
    }
   ],
   "source": [
    "calendar.open_next(now=datetime(2022,9,24,20,0)) == datetime(2022,9,26,10)  # 10am on Monday the 26th."
   ]
  },
  {
   "cell_type": "markdown",
   "metadata": {},
   "source": [
    "Ok. that works. Let's have multiple calendars: Off season and in season"
   ]
  },
  {
   "cell_type": "code",
   "execution_count": 6,
   "metadata": {},
   "outputs": [],
   "source": [
    "class BusinessCalendars(object):\n",
    "    def __init__(self, calendars=None) -> None:\n",
    "        self.calendars = calendars if isinstance(calendars, list) and all(isinstance(i, BusinessCalendar) for i in calendars) else []\n",
    "        self.calendars.sort(key=lambda x: x.valid_from)\n",
    "    \n",
    "    def __iadd__(self, other):\n",
    "        if not isinstance(other, BusinessCalendar):\n",
    "            raise TypeError\n",
    "        self.calendars.append(other)\n",
    "        self.calendars.sort(key=lambda x: x.valid_from)\n",
    "\n",
    "    def is_open(self, now):\n",
    "        return any(c.is_open(now) for c in self.calendars)\n",
    "    \n",
    "    def open_next(self, now):\n",
    "        for c in self.calendars:\n",
    "            n = c.open_next(now)\n",
    "            if n is not None:\n",
    "                return n"
   ]
  },
  {
   "cell_type": "code",
   "execution_count": 7,
   "metadata": {},
   "outputs": [
    {
     "name": "stdout",
     "output_type": "stream",
     "text": [
      "2022-08-27 00:00:00 open: False --> 2022-08-29 09:00:00 open: True in 2 days\n",
      "2022-08-28 00:00:00 open: False --> 2022-08-29 09:00:00 open: True in 1 days\n",
      "2022-08-29 00:00:00 open: False --> 2022-08-29 09:00:00 open: True in 0 days\n",
      "2022-08-30 00:00:00 open: False --> 2022-08-30 09:00:00 open: True in 0 days\n",
      "2022-08-31 00:00:00 open: False --> 2022-08-31 09:00:00 open: True in 0 days\n",
      "2022-09-01 00:00:00 open: False --> 2022-09-01 10:00:00 open: True in 0 days\n",
      "2022-09-02 00:00:00 open: False --> 2022-09-02 10:00:00 open: True in 0 days\n",
      "2022-09-03 00:00:00 open: False --> 2022-09-05 10:00:00 open: True in 2 days\n",
      "2022-09-04 00:00:00 open: False --> 2022-09-05 10:00:00 open: True in 1 days\n",
      "2022-09-05 00:00:00 open: False --> 2022-09-05 10:00:00 open: True in 0 days\n",
      "2022-09-06 00:00:00 open: False --> 2022-09-06 10:00:00 open: True in 0 days\n",
      "2022-09-07 00:00:00 open: False --> 2022-09-07 10:00:00 open: True in 0 days\n",
      "2022-09-08 00:00:00 open: False --> 2022-09-08 10:00:00 open: True in 0 days\n",
      "2022-09-09 00:00:00 open: False --> 2022-09-09 10:00:00 open: True in 0 days\n",
      "2022-09-10 00:00:00 open: False --> 2022-09-12 10:00:00 open: True in 2 days\n",
      "2022-09-11 00:00:00 open: False --> 2022-09-12 10:00:00 open: True in 1 days\n",
      "2022-09-12 00:00:00 open: False --> 2022-09-12 10:00:00 open: True in 0 days\n",
      "2022-09-13 00:00:00 open: False --> 2022-09-13 10:00:00 open: True in 0 days\n",
      "2022-09-14 00:00:00 open: False --> 2022-09-14 10:00:00 open: True in 0 days\n",
      "2022-09-15 00:00:00 open: False --> 2022-09-15 10:00:00 open: True in 0 days\n"
     ]
    }
   ],
   "source": [
    "summer = BusinessCalendar(open_days=[0,1,2,3,4], open_from=time(9), open_to=time(21), holidays=[], valid_from=date(2022,4,1), valid_to=date(2022,9,1))\n",
    "winter = BusinessCalendar(open_days=[0,1,2,3,4], open_from=time(10), open_to=time(22), holidays=[], valid_from=date(2022,9,1), valid_to=date(2023,4,1))\n",
    "calendars = BusinessCalendars(calendars=[summer,winter])\n",
    "\n",
    "start = datetime(2022,8,27)\n",
    "for ts in range(20):\n",
    "    now = start+timedelta(days=ts)\n",
    "    new = calendars.open_next(now)\n",
    "    print(now, \"open:\", calendars.is_open(now), \"-->\", new, \"open:\", calendars.is_open(new), \"in\", (new-now).days, \"days\")"
   ]
  },
  {
   "cell_type": "markdown",
   "metadata": {},
   "source": [
    "Will 3 shifts of 7 hours work too?\n",
    "\n",
    "|shift| start | end |\n",
    "|---|---|---|\n",
    "|1|0800|1500|\n",
    "|2|1600|2300|\n",
    "|3|0000|0700|\n",
    "\n",
    "1 hour maintenance shutdown between shifts."
   ]
  },
  {
   "cell_type": "code",
   "execution_count": 8,
   "metadata": {},
   "outputs": [],
   "source": [
    "shift_1 = BusinessCalendar(open_days=[0,1,2,3,4], open_from=time(8), open_to=time(15), holidays=[], valid_from=date(2022,4,1), valid_to=date(2022,9,1))\n",
    "shift_2 = BusinessCalendar(open_days=[0,1,2,3,4], open_from=time(16), open_to=time(23), holidays=[], valid_from=date(2022,4,1), valid_to=date(2022,9,1))\n",
    "shift_3 = BusinessCalendar(open_days=[0,1,2,3,4], open_from=time(0), open_to=time(7), holidays=[], valid_from=date(2022,4,1), valid_to=date(2022,9,1))\n",
    "\n",
    "calendar = BusinessCalendars([shift_1,shift_2,shift_3])"
   ]
  },
  {
   "cell_type": "code",
   "execution_count": 9,
   "metadata": {},
   "outputs": [
    {
     "name": "stdout",
     "output_type": "stream",
     "text": [
      "2022-04-21 07:10:00 is open: False\n",
      "2022-04-21 08:10:00 is open: True\n",
      "2022-04-21 09:10:00 is open: True\n",
      "2022-04-21 10:10:00 is open: True\n",
      "2022-04-21 11:10:00 is open: True\n",
      "2022-04-21 12:10:00 is open: True\n",
      "2022-04-21 13:10:00 is open: True\n",
      "2022-04-21 14:10:00 is open: True\n",
      "2022-04-21 15:10:00 is open: False\n",
      "2022-04-21 16:10:00 is open: True\n",
      "2022-04-21 17:10:00 is open: True\n",
      "2022-04-21 18:10:00 is open: True\n",
      "2022-04-21 19:10:00 is open: True\n",
      "2022-04-21 20:10:00 is open: True\n",
      "2022-04-21 21:10:00 is open: True\n",
      "2022-04-21 22:10:00 is open: True\n",
      "2022-04-21 23:10:00 is open: False\n",
      "2022-04-22 00:10:00 is open: True\n",
      "2022-04-22 01:10:00 is open: True\n",
      "2022-04-22 02:10:00 is open: True\n",
      "2022-04-22 03:10:00 is open: True\n",
      "2022-04-22 04:10:00 is open: True\n",
      "2022-04-22 05:10:00 is open: True\n",
      "2022-04-22 06:10:00 is open: True\n"
     ]
    }
   ],
   "source": [
    "now = datetime(2022,4,21,6,10)\n",
    "for h in range(24):\n",
    "    now += timedelta(hours=1)\n",
    "    print(now, \"is open:\", calendar.is_open(now))"
   ]
  },
  {
   "cell_type": "code",
   "execution_count": null,
   "metadata": {},
   "outputs": [],
   "source": []
  }
 ],
 "metadata": {
  "kernelspec": {
   "display_name": "Python 3.10.5 ('pages310')",
   "language": "python",
   "name": "python3"
  },
  "language_info": {
   "codemirror_mode": {
    "name": "ipython",
    "version": 3
   },
   "file_extension": ".py",
   "mimetype": "text/x-python",
   "name": "python",
   "nbconvert_exporter": "python",
   "pygments_lexer": "ipython3",
   "version": "3.10.5"
  },
  "orig_nbformat": 4,
  "vscode": {
   "interpreter": {
    "hash": "6f432a2729e41e111fc68229d0303145971e0c11421dc22cdb03f95edd20be36"
   }
  }
 },
 "nbformat": 4,
 "nbformat_minor": 2
}
