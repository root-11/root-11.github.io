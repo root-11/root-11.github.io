{
 "cells": [
  {
   "cell_type": "markdown",
   "metadata": {},
   "source": [
    "# Classes for configs\n",
    "\n",
    "It's sometimes nice to be able to send `class`es around as global configurations for various algorithms, so here's an example that works for multiprocessing.\n",
    "\n",
    "Below are two parts: The first sits in `__main__`, whilst the second could sit in `__mp_main__`.\n"
   ]
  },
  {
   "cell_type": "code",
   "execution_count": null,
   "metadata": {},
   "outputs": [],
   "source": [
    "\n",
    "class Config(object):\n",
    "    A = True\n",
    "    B = 42\n",
    "\n",
    "# in main\n",
    "\n",
    "config = Config()  # creating instance\n",
    "\n",
    "config.B = 21\n",
    "\n",
    "assert Config.B == 42  # class is the same.\n",
    "assert config.B == 21  # instance changed.\n",
    "\n",
    "# in sub processes:\n",
    "# reverse loading the class during multiprocessing\n",
    "for k,v in config.__dict__.items():\n",
    "    setattr(Config, k,v)\n",
    "\n",
    "assert Config.B == 21\n",
    "\n",
    "\n"
   ]
  }
 ],
 "metadata": {
  "language_info": {
   "name": "python"
  },
  "orig_nbformat": 4
 },
 "nbformat": 4,
 "nbformat_minor": 2
}
