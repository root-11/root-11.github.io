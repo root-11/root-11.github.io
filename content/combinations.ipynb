{
 "cells": [
  {
   "cell_type": "markdown",
   "metadata": {
    "collapsed": true,
    "pycharm": {
     "name": "#%% md\n"
    }
   },
   "source": [
    "# Combinations...!\n",
    "\n",
    "So here's a little challenge I need a generator for testing that produces all combinations of inputs from a number of lists. For example:"
   ]
  },
  {
   "cell_type": "code",
   "source": [
    "a,b,c = [1,2], [1,2,3], [1,2]"
   ],
   "metadata": {
    "collapsed": false,
    "pycharm": {
     "name": "#%%\n"
    }
   },
   "execution_count": 16,
   "outputs": []
  },
  {
   "cell_type": "markdown",
   "source": [
    "So how do we go about that?\n",
    "\n",
    "Python's `itertools.combinations` can't help us because it won't allow multiple lists as inputs.\n",
    "We need `itertools.product` instead:"
   ],
   "metadata": {
    "collapsed": false
   }
  },
  {
   "cell_type": "code",
   "execution_count": 17,
   "outputs": [],
   "source": [
    "import itertools"
   ],
   "metadata": {
    "collapsed": false,
    "pycharm": {
     "name": "#%%\n"
    }
   }
  },
  {
   "cell_type": "code",
   "execution_count": 18,
   "outputs": [
    {
     "name": "stdout",
     "output_type": "stream",
     "text": [
      "(1, 1, 1)\n",
      "(1, 1, 2)\n",
      "(1, 2, 1)\n",
      "(1, 2, 2)\n",
      "(1, 3, 1)\n",
      "(1, 3, 2)\n",
      "(2, 1, 1)\n",
      "(2, 1, 2)\n",
      "(2, 2, 1)\n",
      "(2, 2, 2)\n",
      "(2, 3, 1)\n",
      "(2, 3, 2)\n"
     ]
    }
   ],
   "source": [
    "for combination in itertools.product(*[a,b,c]):\n",
    "    print(combination)"
   ],
   "metadata": {
    "collapsed": false,
    "pycharm": {
     "name": "#%%\n"
    }
   }
  },
  {
   "cell_type": "markdown",
   "source": [
    "So how does it work?\n",
    "\n",
    "The simplest implementation I can come up with is to create a list of keys, and increment them step by step.\n",
    "\n",
    "Then, when the key reaches it's maximum index, we reset the values up to it."
   ],
   "metadata": {
    "collapsed": false,
    "pycharm": {
     "name": "#%% md\n"
    }
   }
  },
  {
   "cell_type": "code",
   "execution_count": 19,
   "outputs": [],
   "source": [
    "def product(scales):\n",
    "    keys = [0 for _ in scales]\n",
    "    counter = 1\n",
    "    for sub_scale in scales:\n",
    "        counter *= len(sub_scale)\n",
    "\n",
    "    for c in range(counter):\n",
    "        v = [sub_scale[ix] for ix, sub_scale in zip(keys, scales)]\n",
    "        yield v\n",
    "\n",
    "        for pointer, sub_scale in enumerate(scales):\n",
    "            if keys[pointer] + 1 == len(sub_scale):\n",
    "                keys[pointer] = 0\n",
    "            else:\n",
    "                keys[pointer] += 1\n",
    "                break"
   ],
   "metadata": {
    "collapsed": false,
    "pycharm": {
     "name": "#%%\n"
    }
   }
  },
  {
   "cell_type": "code",
   "execution_count": 20,
   "outputs": [
    {
     "name": "stdout",
     "output_type": "stream",
     "text": [
      "[1, 1, 1]\n",
      "[2, 1, 1]\n",
      "[1, 2, 1]\n",
      "[2, 2, 1]\n",
      "[1, 3, 1]\n",
      "[2, 3, 1]\n",
      "[1, 1, 2]\n",
      "[2, 1, 2]\n",
      "[1, 2, 2]\n",
      "[2, 2, 2]\n",
      "[1, 3, 2]\n",
      "[2, 3, 2]\n"
     ]
    }
   ],
   "source": [
    "for combination in product([a,b,c]):\n",
    "    print(combination)"
   ],
   "metadata": {
    "collapsed": false,
    "pycharm": {
     "name": "#%%\n"
    }
   }
  },
  {
   "cell_type": "markdown",
   "source": [],
   "metadata": {
    "collapsed": false,
    "pycharm": {
     "name": "#%% md\n"
    }
   }
  }
 ],
 "metadata": {
  "kernelspec": {
   "display_name": "Python 3",
   "language": "python",
   "name": "python3"
  },
  "language_info": {
   "codemirror_mode": {
    "name": "ipython",
    "version": 2
   },
   "file_extension": ".py",
   "mimetype": "text/x-python",
   "name": "python",
   "nbconvert_exporter": "python",
   "pygments_lexer": "ipython2",
   "version": "2.7.6"
  }
 },
 "nbformat": 4,
 "nbformat_minor": 0
}