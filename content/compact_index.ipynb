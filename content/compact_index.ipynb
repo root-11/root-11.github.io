{
 "cells": [
  {
   "cell_type": "markdown",
   "metadata": {
    "collapsed": true,
    "pycharm": {
     "name": "#%% md\n"
    }
   },
   "source": [
    "# Compact Indexing and Composite Ranges\n",
    "\n",
    "In my recent post \"A short introduction to vaex\" I presented a problem of processing a lot of data that requires a significant amount of indexing.\n",
    "\n",
    "Of the documentation I've read, databases stick to sending an array of booleans to communicate what the mask looks like.\n",
    "\n",
    "```\n",
    "> mask = [1010111010111010111010111010111010111010111...1110101]\n",
    "> len(mask)\n",
    "42648123\n",
    "```\n",
    "\n",
    "42,648,123 bits = 5,331,016 bytes = 5.3Mb. So I wondered - Could I somehow shrink that? \n",
    "Could, for example, a few ranges treated as sets describe the same index?\n",
    "\n",
    "```\n",
    "> mask1 = [1 1 1 1 1 1 1 1 1 1 1 1 1 1 1 1 1 1 1 1 1 1...1 1 1 1]  # range(1, len(mask), step=2)\n",
    "> mask2 = [     1     1     1     1     1     1     1 ... 1     ]  # range(6, len(mask), step=6)\n",
    "> mask1 + mask2\n",
    "[1 1 111 1 111 1 111 1 111 1 111 1 111 1 111...111 1 1]\n",
    "> mask1 + mask2 == mask\n",
    "True\n",
    "```\n",
    "\n",
    "*Proposal*\n",
    "\n",
    "Assuming for now that all the world's number theorists are onto some sort of theory of ranges, it seems\n",
    "plausible to treat my indexing problem as sets.\n",
    "\n",
    "> Represents a set of integers. Can be called as Range(stop), Range(start, stop), or Range(start, stop, step); when step is not given it defaults to 1.\n",
    "> Range(stop) is the same as Range(0,stop,1) and the stop value (just as for Python ranges) is not included in the Range values.\n",
    "\n",
    "While it annoys me that `stop` is not included, I appreciate that `__len__` only returns a sensible result if stop is omitted in an implementation where `start` defaults to zero.\n",
    "\n",
    "I'll need to make range functions behave like sets, such that the following arithmetic is valid:\n",
    "\n",
    "```\n",
    "A,B = range, range\n",
    "A in B\n",
    "A is subset of B\n",
    "A is superset of B\n",
    "A==B\n",
    "A!=B\n",
    "A < B\n",
    "A <= B\n",
    "A.intersect(B)\n",
    "```\n",
    "\n",
    "I will also need to have a way of representing collection of sets, despite that collections are not\n",
    "enumerated. For example:\n",
    "\n",
    "```\n",
    "A,B = range(1,n,3), range(6,n,6)\n",
    "C = A+B  # composite set where multiple of A and B only appear once.\n",
    "```\n",
    "\n",
    "This is of course only interesting if I can verify using `__iter__`:\n",
    "\n",
    "```\n",
    "list(C) = sorted(list(A)+list(B))\n",
    "```\n",
    "\n",
    "Since I'm including addition, it seems valid to use subtraction as well:\n",
    "\n",
    "```\n",
    "B = C-A\n",
    "```\n",
    "\n",
    "Multiplication or division however, do not make sense and neither does repetition or chaining of sets.\n",
    "\n",
    "This leaves the problem of inferring the range object from a list of values.\n",
    "\n",
    "```\n",
    "> C = Range.infer([1,3,4,5,7,8,9,11,12])\n",
    "> type(C)\n",
    "CompositeRange(Range(1,2,11),Range(4,4,12))\n",
    "```\n",
    "\n",
    "I'm sure that someone will try to test these ideas with some auto-incrementing sequence only to see if the memory footprint\n",
    "of using CompositeRange will be worse that the source of numbers is worse that the source itself as a set.\n",
    "\n",
    "```\n",
    "> L = []\n",
    "> i, j=1, 3\n",
    "> for _ in range(12):\n",
    ">     L.append(i)\n",
    ">     i,j = j,i+j\n",
    ">\n",
    "[1,3,4,7,11,18,29,47,76,123,199,322]\n",
    ">\n",
    "> C = Range.infer(L)\n",
    "CompositeRange({1,3,4,7,11,18,29,47,76,123,199,322})\n",
    "```\n",
    "\n",
    "So having an escape hatch if there is obvious pattern to detect detection, seems only sensible.\n",
    "\n",
    "\n",
    "### limitations\n",
    "\n",
    "I'll hold off from including floating point numbers due to the round off error.\n",
    "\n",
    "```\n",
    "A,B = Range(-4,4.8,0.1), Range(0, math.tau, math.pi)  # Not included!\n",
    "```\n",
    "\n",
    "Whilst trying to stick to Python's range attribute, I refuse to implement `count`. Yes. range actually has a `count(x)` method. As range is a set of numbers,\n",
    "this would only ever return KeyError or 1. I see no point.\n",
    "\n",
    "\n",
    "Time to write some code..."
   ]
  },
  {
   "cell_type": "code",
   "execution_count": 6,
   "outputs": [
    {
     "data": {
      "text/plain": "['__bool__',\n '__class__',\n '__contains__',\n '__delattr__',\n '__dir__',\n '__doc__',\n '__eq__',\n '__format__',\n '__ge__',\n '__getattribute__',\n '__getitem__',\n '__gt__',\n '__hash__',\n '__init__',\n '__init_subclass__',\n '__iter__',\n '__le__',\n '__len__',\n '__lt__',\n '__ne__',\n '__new__',\n '__reduce__',\n '__reduce_ex__',\n '__repr__',\n '__reversed__',\n '__setattr__',\n '__sizeof__',\n '__str__',\n '__subclasshook__',\n 'count',\n 'index',\n 'start',\n 'step',\n 'stop']"
     },
     "execution_count": 6,
     "metadata": {},
     "output_type": "execute_result"
    }
   ],
   "source": [
    "dir(range(1))"
   ],
   "metadata": {
    "collapsed": false,
    "pycharm": {
     "name": "#%%\n"
    }
   }
  },
  {
   "cell_type": "code",
   "execution_count": 4,
   "outputs": [
    {
     "data": {
      "text/plain": "['__and__',\n '__class__',\n '__class_getitem__',\n '__contains__',\n '__delattr__',\n '__dir__',\n '__doc__',\n '__eq__',\n '__format__',\n '__ge__',\n '__getattribute__',\n '__gt__',\n '__hash__',\n '__iand__',\n '__init__',\n '__init_subclass__',\n '__ior__',\n '__isub__',\n '__iter__',\n '__ixor__',\n '__le__',\n '__len__',\n '__lt__',\n '__ne__',\n '__new__',\n '__or__',\n '__rand__',\n '__reduce__',\n '__reduce_ex__',\n '__repr__',\n '__ror__',\n '__rsub__',\n '__rxor__',\n '__setattr__',\n '__sizeof__',\n '__str__',\n '__sub__',\n '__subclasshook__',\n '__xor__',\n 'add',\n 'clear',\n 'copy',\n 'difference',\n 'difference_update',\n 'discard',\n 'intersection',\n 'intersection_update',\n 'isdisjoint',\n 'issubset',\n 'issuperset',\n 'pop',\n 'remove',\n 'symmetric_difference',\n 'symmetric_difference_update',\n 'union',\n 'update']"
     },
     "execution_count": 4,
     "metadata": {},
     "output_type": "execute_result"
    }
   ],
   "source": [
    "dir(set())"
   ],
   "metadata": {
    "collapsed": false,
    "pycharm": {
     "name": "#%%\n"
    }
   }
  },
  {
   "cell_type": "code",
   "execution_count": 8,
   "outputs": [],
   "source": [
    "class CompositeRange(object):\n",
    "    def __init__(self, start=0,stop=None,step=1,*args):\n",
    "        if start,stop,step and not args:\n",
    "            pass # it's a range\n",
    "        if args and stop is None:\n",
    "            pass # it's a composite construct\n",
    "        self.start = start\n",
    "        self.stop = stop\n",
    "        self.step = step\n",
    "\n",
    "    def __index__(self, value):\n",
    "        pass # returns the index of a number or index error\n",
    "\n",
    "    def __bool__(self):\n",
    "        pass  # returns non-empty.\n",
    "\n"
   ],
   "metadata": {
    "collapsed": false,
    "pycharm": {
     "name": "#%%\n"
    }
   }
  },
  {
   "cell_type": "code",
   "execution_count": 12,
   "outputs": [],
   "source": [
    "\n"
   ],
   "metadata": {
    "collapsed": false,
    "pycharm": {
     "name": "#%%\n"
    }
   }
  },
  {
   "cell_type": "code",
   "execution_count": 13,
   "outputs": [
    {
     "data": {
      "text/plain": "1"
     },
     "execution_count": 13,
     "metadata": {},
     "output_type": "execute_result"
    }
   ],
   "source": [],
   "metadata": {
    "collapsed": false,
    "pycharm": {
     "name": "#%%\n"
    }
   }
  },
  {
   "cell_type": "code",
   "execution_count": null,
   "outputs": [],
   "source": [],
   "metadata": {
    "collapsed": false,
    "pycharm": {
     "name": "#%%\n"
    }
   }
  }
 ],
 "metadata": {
  "kernelspec": {
   "display_name": "Python 3",
   "language": "python",
   "name": "python3"
  },
  "language_info": {
   "codemirror_mode": {
    "name": "ipython",
    "version": 2
   },
   "file_extension": ".py",
   "mimetype": "text/x-python",
   "name": "python",
   "nbconvert_exporter": "python",
   "pygments_lexer": "ipython2",
   "version": "2.7.6"
  }
 },
 "nbformat": 4,
 "nbformat_minor": 0
}