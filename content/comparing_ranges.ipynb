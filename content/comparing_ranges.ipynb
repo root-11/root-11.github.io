{
 "cells": [
  {
   "cell_type": "markdown",
   "metadata": {},
   "source": [
    "### Finding the intersect of pythons ranges\n",
    "\n",
    "I have a lot data in paginated memory blocks. Each page is generally of a block size but can vary due to inserts and deletes.\n",
    "\n",
    "My challenge: Determine whether the contents of a page needs to be loaded to answer a users query for slice.\n",
    "\n",
    "Here's a simplistic example:\n",
    "\n",
    "```\n",
    "page = range(500,700,1)\n",
    "user = range(10,1000,30)\n",
    "userdata = []\n",
    "for row in intercept(page,user):\n",
    "      userdata.append(row)\n",
    "```\n",
    "\n",
    "Here is the solution:"
   ]
  },
  {
   "cell_type": "code",
   "execution_count": 1,
   "metadata": {},
   "outputs": [],
   "source": [
    "\n",
    "import math"
   ]
  },
  {
   "cell_type": "code",
   "execution_count": 2,
   "metadata": {},
   "outputs": [],
   "source": [
    "def intercept(A,B):\n",
    "    \"\"\"\n",
    "    A: range\n",
    "    B: range\n",
    "    returns range as intercept of ranges A and B.\n",
    "    \"\"\"\n",
    "    assert isinstance(A, range)\n",
    "    if A.step < 0: # turn the range around\n",
    "        A = range(A.stop, A.start, abs(A.step))\n",
    "    assert isinstance(B, range)\n",
    "    if B.step < 0:  # turn the range around\n",
    "        B = range(B.stop, B.start, abs(B.step))\n",
    "    \n",
    "    boundaries = [A.start, A.stop, B.start, B.stop]\n",
    "    boundaries.sort()\n",
    "    a,b,c,d = boundaries\n",
    "    if [A.start, A.stop] in [[a,b],[c,d]]:\n",
    "        return range(0) # then there is no intercept\n",
    "    # else: The inner range (subset) is b,c, limited by the first shared step.\n",
    "    A_start_steps = math.ceil((b - A.start) / A.step)\n",
    "    A_start = A_start_steps * A.step + A.start\n",
    "\n",
    "    B_start_steps = math.ceil((b - B.start) / B.step)\n",
    "    B_start = B_start_steps * B.step + B.start\n",
    "\n",
    "    if A.step == 1 or B.step == 1:\n",
    "        start = max(A_start,B_start)\n",
    "        step = B.step if A.step==1 else A.step\n",
    "        end = c\n",
    "    else:\n",
    "        intersection = set(range(A_start, c, A.step)).intersection(set(range(B_start, c, B.step)))\n",
    "        if not intersection:\n",
    "            return range(0)\n",
    "        start = min(intersection)\n",
    "        end = max(c, max(intersection))\n",
    "        intersection.remove(start)\n",
    "        step = min(intersection) - start\n",
    "    \n",
    "    return range(start, end, step)"
   ]
  },
  {
   "cell_type": "code",
   "execution_count": 3,
   "metadata": {},
   "outputs": [],
   "source": [
    "A = range(500,700,3)\n",
    "B = range(520,700,3)\n",
    "C = range(10,1000,30)\n",
    "\n",
    "assert intercept(A,C) == range(0)\n",
    "assert set(intercept(B,C)) == set(B).intersection(set(C))\n",
    "\n",
    "A = range(500_000, 700_000, 1)\n",
    "B = range(10, 10_000_000, 1000)\n",
    "\n",
    "assert set(intercept(A,B)) == set(A).intersection(set(B))\n",
    "\n",
    "A = range(500_000, 700_000, 1)\n",
    "B = range(10, 10_000_000, 1)\n",
    "\n",
    "assert set(intercept(A,B)) == set(A).intersection(set(B))"
   ]
  },
  {
   "cell_type": "code",
   "execution_count": 4,
   "metadata": {},
   "outputs": [],
   "source": [
    "\n",
    "\n",
    "A = range(500_000, 700_000, 1)\n",
    "B = range(10, 10_000_000, 1000)"
   ]
  },
  {
   "cell_type": "code",
   "execution_count": 5,
   "metadata": {},
   "outputs": [
    {
     "name": "stdout",
     "output_type": "stream",
     "text": [
      "1.38 µs ± 50 ns per loop (mean ± std. dev. of 7 runs, 1,000,000 loops each)\n"
     ]
    }
   ],
   "source": [
    "%timeit intercept(A,B)"
   ]
  },
  {
   "cell_type": "markdown",
   "metadata": {},
   "source": []
  },
  {
   "cell_type": "markdown",
   "metadata": {},
   "source": [
    "That's fast enough for me."
   ]
  },
  {
   "cell_type": "markdown",
   "metadata": {},
   "source": []
  }
 ],
 "metadata": {
  "interpreter": {
   "hash": "61a3023062a2a7108c02edf8835ac49c5d963400c87b32d9059418f672949d6e"
  },
  "kernelspec": {
   "display_name": "Python 3.9.10 ('github-pages-39')",
   "language": "python",
   "name": "python3"
  },
  "language_info": {
   "codemirror_mode": {
    "name": "ipython",
    "version": 3
   },
   "file_extension": ".py",
   "mimetype": "text/x-python",
   "name": "python",
   "nbconvert_exporter": "python",
   "pygments_lexer": "ipython3",
   "version": "3.9.10"
  },
  "orig_nbformat": 4
 },
 "nbformat": 4,
 "nbformat_minor": 2
}
