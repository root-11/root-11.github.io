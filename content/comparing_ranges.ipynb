{
 "cells": [
  {
   "cell_type": "markdown",
   "metadata": {},
   "source": [
    "### Finding the intersect of pythons ranges\n",
    "\n",
    "I have a lot data in paginated memory blocks. Each page is generally of a block size but can vary due to inserts and deletes.\n",
    "\n",
    "My challenge: Determine whether the contents of a page needs to be loaded to answer a users query for slice.\n",
    "\n",
    "Here's a simplistic example:\n",
    "\n",
    "```\n",
    "page = range(500,700,1)\n",
    "user = range(10,1000,30)\n",
    "userdata = []\n",
    "for row in intercept(page,user):\n",
    "      userdata.append(row)\n",
    "```\n",
    "\n",
    "Here is the solution:"
   ]
  },
  {
   "cell_type": "code",
   "execution_count": 1,
   "metadata": {},
   "outputs": [],
   "source": [
    "import math"
   ]
  },
  {
   "cell_type": "code",
   "execution_count": 2,
   "metadata": {},
   "outputs": [],
   "source": [
    "def intercept(A, B):\n",
    "    \"\"\"Enables calculation of the intercept of two range objects.\n",
    "    Used to determine if a datablock contains a slice.\n",
    "\n",
    "    Args:\n",
    "        A: range\n",
    "        B: range\n",
    "\n",
    "    Returns:\n",
    "        range: The intercept of ranges A and B.\n",
    "    \"\"\"\n",
    "    if A.step < 1:\n",
    "        A = range(A.stop + 1, A.start + 1, 1)\n",
    "    if B.step < 1:\n",
    "        B = range(B.stop + 1, B.start + 1, 1)\n",
    "\n",
    "    if len(A) == 0:\n",
    "        return range(0)\n",
    "    if len(B) == 0:\n",
    "        return range(0)\n",
    "\n",
    "    if A.stop <= B.start:\n",
    "        return range(0)\n",
    "    if A.start >= B.stop:\n",
    "        return range(0)\n",
    "\n",
    "    if A.start <= B.start:\n",
    "        if A.stop <= B.stop:\n",
    "            start, end = B.start, A.stop\n",
    "        elif A.stop > B.stop:\n",
    "            start, end = B.start, B.stop\n",
    "        else:\n",
    "            raise ValueError(\"bad logic\")\n",
    "    elif A.start < B.stop:\n",
    "        if A.stop <= B.stop:\n",
    "            start, end = A.start, A.stop\n",
    "        elif A.stop > B.stop:\n",
    "            start, end = A.start, B.stop\n",
    "        else:\n",
    "            raise ValueError(\"bad logic\")\n",
    "    else:\n",
    "        raise ValueError(\"bad logic\")\n",
    "\n",
    "    a_steps = math.ceil((start - A.start) / A.step)\n",
    "    a_start = (a_steps * A.step) + A.start\n",
    "\n",
    "    b_steps = math.ceil((start - B.start) / B.step)\n",
    "    b_start = (b_steps * B.step) + B.start\n",
    "\n",
    "    if A.step == 1 or B.step == 1:\n",
    "        start = max(a_start, b_start)\n",
    "        step = max(A.step, B.step)\n",
    "        return range(start, end, step)\n",
    "    elif A.step == B.step:\n",
    "        a, b = min(A.start, B.start), max(A.start, B.start)\n",
    "        if (b - a) % A.step != 0:  # then the ranges are offset.\n",
    "            return range(0)\n",
    "        else:\n",
    "            return range(b, end, step)\n",
    "    else:\n",
    "        # determine common step size:\n",
    "        step = max(A.step, B.step) if math.gcd(A.step, B.step) != 1 else A.step * B.step\n",
    "        # examples:\n",
    "        # 119 <-- 17 if 1 != 1 else 119 <-- max(7, 17) if math.gcd(7, 17) != 1 else 7 * 17\n",
    "        #  30 <-- 30 if 3 != 1 else 90 <-- max(3, 30) if math.gcd(3, 30) != 1 else 3*30\n",
    "        if A.step < B.step:\n",
    "            for n in range(a_start, end, A.step):  # increment in smallest step to identify the first common value.\n",
    "                if n < b_start:\n",
    "                    continue\n",
    "                elif (n - b_start) % B.step == 0:\n",
    "                    return range(n, end, step)  # common value found.\n",
    "        else:\n",
    "            for n in range(b_start, end, B.step):\n",
    "                if n < a_start:\n",
    "                    continue\n",
    "                elif (n - a_start) % A.step == 0:\n",
    "                    return range(n, end, step)\n",
    "\n",
    "        return range(0)"
   ]
  },
  {
   "cell_type": "code",
   "execution_count": 3,
   "metadata": {},
   "outputs": [],
   "source": [
    "A = range(500,700,3)\n",
    "B = range(520,700,3)\n",
    "C = range(10,1000,30)\n",
    "\n",
    "assert intercept(A,C) == range(0)\n",
    "assert set(intercept(B,C)) == set(B).intersection(set(C))\n",
    "\n",
    "A = range(500_000, 700_000, 1)\n",
    "B = range(10, 10_000_000, 1000)\n",
    "\n",
    "assert set(intercept(A,B)) == set(A).intersection(set(B))\n",
    "\n",
    "A = range(500_000, 700_000, 1)\n",
    "B = range(10, 10_000_000, 1)\n",
    "\n",
    "assert set(intercept(A,B)) == set(A).intersection(set(B))"
   ]
  },
  {
   "cell_type": "code",
   "execution_count": 4,
   "metadata": {},
   "outputs": [],
   "source": [
    "A = range(500_000, 700_000, 1)\n",
    "B = range(10, 10_000_000, 1000)"
   ]
  },
  {
   "cell_type": "code",
   "execution_count": 5,
   "metadata": {},
   "outputs": [
    {
     "name": "stdout",
     "output_type": "stream",
     "text": [
      "834 ns ± 12.3 ns per loop (mean ± std. dev. of 7 runs, 1,000,000 loops each)\n"
     ]
    }
   ],
   "source": [
    "%timeit intercept(A,B)"
   ]
  },
  {
   "cell_type": "markdown",
   "metadata": {},
   "source": []
  },
  {
   "cell_type": "markdown",
   "metadata": {},
   "source": [
    "That's fast enough for me."
   ]
  },
  {
   "cell_type": "markdown",
   "metadata": {},
   "source": []
  }
 ],
 "metadata": {
  "interpreter": {
   "hash": "61a3023062a2a7108c02edf8835ac49c5d963400c87b32d9059418f672949d6e"
  },
  "kernelspec": {
   "display_name": "Python 3.9.10 ('github-pages-39')",
   "language": "python",
   "name": "python3"
  },
  "language_info": {
   "codemirror_mode": {
    "name": "ipython",
    "version": 3
   },
   "file_extension": ".py",
   "mimetype": "text/x-python",
   "name": "python",
   "nbconvert_exporter": "python",
   "pygments_lexer": "ipython3",
   "version": "3.10.8"
  },
  "orig_nbformat": 4
 },
 "nbformat": 4,
 "nbformat_minor": 2
}
