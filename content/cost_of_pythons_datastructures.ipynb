{
 "cells": [
  {
   "cell_type": "markdown",
   "metadata": {},
   "source": [
    "# Pythons internal constructor\n",
    "\n",
    "I want to find the fastest way to update a data structure, so here are 3 experiments:\n",
    "\n",
    "1. read variables from a message\n",
    "2. read the message, then make the new data structure\n",
    "3. have the datastructure as a class and update it."
   ]
  },
  {
   "cell_type": "code",
   "execution_count": 1,
   "metadata": {},
   "outputs": [],
   "source": [
    "class message:\n",
    "    sender = 1\n",
    "    receiver = 2\n",
    "    topic = 3\n",
    "\n",
    "\n",
    "def test1():\n",
    "    combinations = [\n",
    "        (message.sender, None, None),\n",
    "        (None, message.receiver, None),\n",
    "        (None, None, message.topic),\n",
    "        (message.sender, message.receiver, None),\n",
    "        (message.sender, None, message.topic),\n",
    "        (None, message.receiver, message.topic),\n",
    "        (message.sender, message.receiver, message.topic),\n",
    "    ]"
   ]
  },
  {
   "cell_type": "code",
   "execution_count": 2,
   "metadata": {},
   "outputs": [
    {
     "data": {
      "text/plain": [
       "3.7583975000015926"
      ]
     },
     "execution_count": 2,
     "metadata": {},
     "output_type": "execute_result"
    }
   ],
   "source": [
    "import timeit\n",
    "n = 10_000_000\n",
    "t1: float = timeit.timeit(stmt=\"test1()\", globals=globals(), number=n)"
   ]
  },
  {
   "cell_type": "code",
   "execution_count": 3,
   "metadata": {},
   "outputs": [],
   "source": [
    "def test2():\n",
    "    a, b, c = message.sender, message.receiver, message.topic\n",
    "\n",
    "    combinations = [\n",
    "        (a, None, None),\n",
    "        (None, b, None),\n",
    "        (None, None, c),\n",
    "        (a, b, None),\n",
    "        (a, None, c),\n",
    "        (None, b, c),\n",
    "        (a, b, c),\n",
    "    ]"
   ]
  },
  {
   "cell_type": "code",
   "execution_count": 4,
   "metadata": {},
   "outputs": [
    {
     "data": {
      "text/plain": [
       "2.5389978000021074"
      ]
     },
     "execution_count": 4,
     "metadata": {},
     "output_type": "execute_result"
    }
   ],
   "source": [
    "t2: float = timeit.timeit(stmt=\"test2()\", globals=globals(), number=n)"
   ]
  },
  {
   "cell_type": "code",
   "execution_count": 5,
   "metadata": {},
   "outputs": [],
   "source": [
    "class Template:\n",
    "    a = int(0)\n",
    "    b = int(0)\n",
    "    c = int(0)\n",
    "    combinations = [\n",
    "        (a, None, None),\n",
    "        (None, b, None),\n",
    "        (None, None, c),\n",
    "        (a, b, None),\n",
    "        (a, None, c),\n",
    "        (None, b, c),\n",
    "        (a, b, c),\n",
    "    ]\n",
    "\n",
    "\n",
    "def test3():\n",
    "    Template.a = 1\n",
    "    Template.b = 2\n",
    "    Template.c = 3\n",
    "\n",
    "    combinations = Template.combinations"
   ]
  },
  {
   "cell_type": "code",
   "execution_count": 6,
   "metadata": {},
   "outputs": [
    {
     "data": {
      "text/plain": [
       "1.6774922000040533"
      ]
     },
     "execution_count": 6,
     "metadata": {},
     "output_type": "execute_result"
    }
   ],
   "source": [
    "t3: float = timeit.timeit(stmt=\"test3()\", globals=globals(), number=n)"
   ]
  },
  {
   "cell_type": "markdown",
   "metadata": {},
   "source": [
    "So in comparison it is twice as fast to keep the datastructure and merely update it, rather than doing multiple reads.\n",
    "\n",
    "|test|time|\n",
    "|---|---|\n",
    "|t1|3.7583975000015926|\n",
    "|t2|2.5389978000021074|\n",
    "|t3|1.6774922000040533|"
   ]
  },
  {
   "cell_type": "markdown",
   "metadata": {},
   "source": []
  }
 ],
 "metadata": {
  "kernelspec": {
   "display_name": "pages310",
   "language": "python",
   "name": "python3"
  },
  "language_info": {
   "codemirror_mode": {
    "name": "ipython",
    "version": 3
   },
   "file_extension": ".py",
   "mimetype": "text/x-python",
   "name": "python",
   "nbconvert_exporter": "python",
   "pygments_lexer": "ipython3",
   "version": "3.10.11"
  },
  "orig_nbformat": 4
 },
 "nbformat": 4,
 "nbformat_minor": 2
}
