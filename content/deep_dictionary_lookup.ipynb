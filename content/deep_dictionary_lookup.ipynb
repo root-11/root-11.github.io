{
 "cells": [
  {
   "cell_type": "markdown",
   "metadata": {
    "pycharm": {
     "name": "#%%\n"
    }
   },
   "source": [
    "# deep `dictionary` lookup\n",
    "Sometimes dirty tools are required for dirty JSON.\n",
    "\n",
    "Here is an oldie but goodie:"
   ]
  },
  {
   "cell_type": "code",
   "execution_count": 4,
   "metadata": {
    "pycharm": {
     "name": "#%%\n"
    }
   },
   "outputs": [],
   "source": [
    "def d_get(d, keylist):\n",
    "    \"\"\"\n",
    "    A helper function that permits lookup into nested dictionaries.\n",
    "    :param d: dictionary or nested set of dictionaries.\n",
    "    :param keylist: list of keywords\n",
    "    :return: Returns the item at the end of the keylist from d.\n",
    "    Raises a KeyError if key is not in the map.\n",
    "    Examples:\n",
    "\n",
    "    d = {'order': {'time_created': 'some data'},        'product' : {'item': {'length' : 1,        'width': 2,        'height': 3}}}\n",
    "\n",
    "    >>> d_get(d, ['order', 'time_created'])\n",
    "    'some data'\n",
    "\n",
    "    >>> d_get(d, ['product', 'item', 'length'])\n",
    "    1\n",
    "    \"\"\"\n",
    "    while keylist:\n",
    "        key = keylist.pop(0)\n",
    "        try:\n",
    "            d = d[key]\n",
    "        except KeyError:\n",
    "            raise KeyError(\"key {} not found in {}\".format(key, d.keys()))\n",
    "    return d"
   ]
  },
  {
   "cell_type": "markdown",
   "metadata": {
    "pycharm": {
     "name": "#%% md\n"
    }
   },
   "source": [
    "Now we can read nested junk like this (below) with an optimistic attitude:"
   ]
  },
  {
   "cell_type": "code",
   "execution_count": 5,
   "metadata": {
    "pycharm": {
     "name": "#%%\n"
    }
   },
   "outputs": [],
   "source": [
    "d = {'order': {'time_created': 'some data'},\n",
    "     'product': {'item': {'length': 1,\n",
    "                          'width': 2,\n",
    "                          'height': 3}}}\n"
   ]
  },
  {
   "cell_type": "code",
   "execution_count": 6,
   "metadata": {
    "pycharm": {
     "name": "#%%\n"
    }
   },
   "outputs": [
    {
     "data": {
      "text/plain": [
       "1"
      ]
     },
     "execution_count": 6,
     "metadata": {},
     "output_type": "execute_result"
    }
   ],
   "source": [
    "d_get(d, ['product', 'item', 'length'])"
   ]
  }
 ],
 "metadata": {
  "kernelspec": {
   "display_name": "Python 3 (ipykernel)",
   "language": "python",
   "name": "python3"
  },
  "language_info": {
   "codemirror_mode": {
    "name": "ipython",
    "version": 3
   },
   "file_extension": ".py",
   "mimetype": "text/x-python",
   "name": "python",
   "nbconvert_exporter": "python",
   "pygments_lexer": "ipython3",
   "version": "3.9.7"
  },
  "pycharm": {
   "stem_cell": {
    "cell_type": "raw",
    "metadata": {
     "collapsed": false
    },
    "source": [
     "# deep `dictionary` lookup\n",
     "Sometimes dirty tools are required for dirty JSON.\n",
     "Here's an oldie but goodie:\n",
     "\n",
     "```\n",
     "    def d_get(d, keylist):\n",
     "        \"\"\"\n",
     "        A helper function that permits lookup into nested dictionaries.\n",
     "        :param d: dictionary or nested set of dictionaries.\n",
     "        :param keylist: list of keywords\n",
     "        :return: Returns the item at the end of the keylist from d.\n",
     "        Raises a KeyError if key is not in the map.</p>\n",
     "Examples:\n",
     "\n",
     "    d = {'order': {'time_created': 'some data'},\n",
     "    'product' : {'item': {'length' : 1,\n",
     "    'width': 2,\n",
     "    'height': 3}}}\n",
     "\n",
     "    &gt;&gt;&gt; d_get(d, ['order', 'time_created'])\n",
     "    'some data'\n",
     "\n",
     "    &gt;&gt;&gt; d_get(d, ['product', 'item', 'length'])\n",
     "    1\n",
     "    \"\"\"\n",
     "    assert isinstance(d, dict)\n",
     "    assert hasattr(keylist, 'pop')\n",
     "    while keylist:\n",
     "        key = keylist.pop(0)\n",
     "        try:\n",
     "            d = d[key]\n",
     "        except KeyError:\n",
     "            raise KeyError(\"key {} not found in {}\".format(key, d.keys()))\n",
     "    return d\n",
     "</code></pre>\n",
     "<p>```</p>\n",
     "<p>Now we can read nested junk like this (below) with an optimistic attitude:</p>\n",
     "<p><code>d = {'order': {'time_created': 'some data'},\n",
     "     'product': {'item': {'length': 1,\n",
     "                          'width': 2,\n",
     "                          'height': 3}}}\n",
     "print(d_get(d, ['product', 'item', 'length']))</code></p>\n",
     "\n",
     "</body>\n",
     "</html>\n",
     "\n"
    ]
   }
  }
 },
 "nbformat": 4,
 "nbformat_minor": 1
}