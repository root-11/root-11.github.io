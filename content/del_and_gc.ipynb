{
 "cells": [
  {
   "cell_type": "markdown",
   "metadata": {},
   "source": [
    "# `del`, `__del__` and garbage collection.\n",
    "\n",
    "> I can't get my test to pass. `del X` doesn't work...\n",
    "\n",
    "I think there's an aspect that often is omitted from python posts: garbage collection.\n",
    "\n",
    "Let's say you're managing material that has to reside on disk - out of memory for example - but where it speeds things up massively by having a reference to data. Your code can then search using the python objects whilst the body of the data sits on disk:"
   ]
  },
  {
   "cell_type": "code",
   "execution_count": null,
   "metadata": {
    "vscode": {
     "languageId": "plaintext"
    }
   },
   "outputs": [],
   "source": [
    "from itertools import count\n",
    "from pathlib import Path\n",
    "pages = count(1)\n",
    "cachedir = Path('cache')  \n",
    "\n",
    "class Table(object):\n",
    "    def __init__(self, data):  # bytes\n",
    "         self.page = cachedir / f\"{next(pages)}.dat\"\n",
    "         with open(cache, 'wb') as fo:\n",
    "             fo.write(data)\n",
    "\n",
    "    def __del__(self):\n",
    "        self.page.unlink()"
   ]
  },
  {
   "cell_type": "markdown",
   "metadata": {},
   "source": [
    "And I'm using the code like this:"
   ]
  },
  {
   "cell_type": "code",
   "execution_count": null,
   "metadata": {
    "vscode": {
     "languageId": "plaintext"
    }
   },
   "outputs": [],
   "source": [
    "t = Table(b'123')\n",
    "# do something with the data.\n",
    "del t"
   ]
  },
  {
   "cell_type": "markdown",
   "metadata": {},
   "source": [
    "if you run this in a script, you'll see that the file isn't removed due to garbage collection being delayed by reference counts in the garbage collector pointing to the object. And then you ask yourself: \"Why did I use `del` at all?\n",
    "\n",
    "To see the real effect of your implementation using `del` to invoke `Table.__del__(self)` during debug may require the garbage collector to be called.\n",
    "\n",
    "Here is how I chase down the bug:\n",
    "\n",
    "### Step 1: check that your code is correct when called EXPLICITLY.\n"
   ]
  },
  {
   "cell_type": "code",
   "execution_count": null,
   "metadata": {
    "vscode": {
     "languageId": "plaintext"
    }
   },
   "outputs": [],
   "source": [
    "t = Table(b'123')\n",
    "path = str(t.page)\n",
    "t.__del__()  # explicit call will work.\n",
    "assert not Path(path).exists()"
   ]
  },
  {
   "cell_type": "markdown",
   "metadata": {},
   "source": [
    "### Step 2: Check that your code is correct when invoked IMPLICITLY.\n"
   ]
  },
  {
   "cell_type": "code",
   "execution_count": null,
   "metadata": {
    "vscode": {
     "languageId": "plaintext"
    }
   },
   "outputs": [],
   "source": [
    "t = Table(b'123')\n",
    "path = str(t.page)\n",
    "import gc\n",
    "gc.collect()\n",
    "del t\n",
    "gc.collect()\n",
    "assert not Path(path).exists()"
   ]
  },
  {
   "cell_type": "markdown",
   "metadata": {},
   "source": [
    "### Step 3: Understand that this will not work if there are reference counts from the testing harness:\n"
   ]
  },
  {
   "cell_type": "code",
   "execution_count": null,
   "metadata": {
    "vscode": {
     "languageId": "plaintext"
    }
   },
   "outputs": [],
   "source": [
    "t = Table(b'123')\n",
    "path = str(t.page)\n",
    "del t  # \n",
    "assert not Path(path).exists() # WILL PROBABLY RAISE!"
   ]
  },
  {
   "cell_type": "markdown",
   "metadata": {},
   "source": [
    "\n",
    "### Step 4: Rewrite the test to accept that the test harness\n"
   ]
  },
  {
   "cell_type": "code",
   "execution_count": null,
   "metadata": {
    "vscode": {
     "languageId": "plaintext"
    }
   },
   "outputs": [],
   "source": [
    "\n",
    "t = Table(b'123')\n",
    "\n",
    "path = str(t.page)\n",
    "\n",
    "del t\n",
    "\n",
    "if path.exists():\n",
    "   import gc\n",
    "   gc.collect()\n",
    "if path.exists():\n",
    "   raise AttributeError()\n",
    "\n"
   ]
  },
  {
   "cell_type": "markdown",
   "metadata": {},
   "source": [
    "My conclusion: Do read the [python datamodel](https://docs.python.org/3/reference/datamodel.html?highlight=__del__#object.__del__) !\n",
    "\n",
    "\n",
    "\n"
   ]
  },
  {
   "cell_type": "code",
   "execution_count": null,
   "metadata": {
    "vscode": {
     "languageId": "plaintext"
    }
   },
   "outputs": [],
   "source": []
  }
 ],
 "metadata": {
  "language_info": {
   "name": "python"
  },
  "orig_nbformat": 4
 },
 "nbformat": 4,
 "nbformat_minor": 2
}
