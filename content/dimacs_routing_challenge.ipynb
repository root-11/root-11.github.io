{
 "cells": [
  {
   "cell_type": "markdown",
   "metadata": {},
   "source": [
    "The \"Centre for Discrete Mathematics & Theoretical Computer Science\" issued _the 9th DIMACS Implementation Challenge - Shortest Paths_ in 2005/2006. Since then the data set from the challenges have become the defacto standard for algorithmic analysis.\n",
    "\n",
    "> Shortest path problems are ones of the most fundamental combinatorial optimization problems with many applications, both direct and as subroutines in other combinatorial optimization algorithms. Algorithms for these problems have been studied since 1950's and still remain an active area of research.\n",
    ">\n",
    "> One goal of this Challenge is to create a reproducible picture of the state of the art in the area of shortest path algorithms. To this end we are identifying a standard set of benchmark instances and generators, as well as benchmark implementations of well-known shortest path algorithms.\n",
    ">\n",
    "> Another goal is to enable current researchers to compare their codes with each other, in hopes of identifying the more effective of the recent algorithmic innovations that have been proposed.\n",
    ">\n",
    "> The final goal is to publish proceedings containing results presented at the Challenge workshop, and a book containing the best of the proceedings papers.\n",
    "\n",
    "Read more here: http://www.diag.uniroma1.it//~challenge9/papers.shtml\n"
   ]
  },
  {
   "cell_type": "code",
   "execution_count": 2,
   "metadata": {},
   "outputs": [],
   "source": [
    "import gzip\n",
    "import pathlib"
   ]
  },
  {
   "cell_type": "code",
   "execution_count": 6,
   "metadata": {},
   "outputs": [],
   "source": [
    "co = pathlib.Path(\"dimacs_routing_challenge/USA-road-d.NY.co.gz\")\n",
    "gr = pathlib.Path(\"dimacs_routing_challenge/USA-road-d.NY.gr.gz\")\n",
    "with gzip.open(co,'rb') as fi:\n",
    "    coordinates = fi.read().split(b'\\n')\n",
    "with gzip.open(gr, 'rb') as fi:\n",
    "    graph = fi.read().split(b'\\n')\n"
   ]
  },
  {
   "cell_type": "code",
   "execution_count": 7,
   "metadata": {},
   "outputs": [
    {
     "data": {
      "text/plain": [
       "[b'c 9th DIMACS Implementation Challenge: Shortest Paths',\n",
       " b'c http://www.dis.uniroma1.it/~challenge9',\n",
       " b'c TIGER/Line nodes coords for graph USA-road-d.NY',\n",
       " b'c',\n",
       " b'p aux sp co 264346',\n",
       " b'c graph contains 264346 nodes',\n",
       " b'c',\n",
       " b'v 1 -73530767 41085396',\n",
       " b'v 2 -73530538 41086098',\n",
       " b'v 3 -73519366 41048796']"
      ]
     },
     "execution_count": 7,
     "metadata": {},
     "output_type": "execute_result"
    }
   ],
   "source": [
    "coordinates[:10]"
   ]
  },
  {
   "cell_type": "code",
   "execution_count": null,
   "metadata": {},
   "outputs": [],
   "source": []
  }
 ],
 "metadata": {
  "kernelspec": {
   "display_name": "Python 3.10.5 ('pages310')",
   "language": "python",
   "name": "python3"
  },
  "language_info": {
   "codemirror_mode": {
    "name": "ipython",
    "version": 3
   },
   "file_extension": ".py",
   "mimetype": "text/x-python",
   "name": "python",
   "nbconvert_exporter": "python",
   "pygments_lexer": "ipython3",
   "version": "3.10.5"
  },
  "orig_nbformat": 4,
  "vscode": {
   "interpreter": {
    "hash": "6f432a2729e41e111fc68229d0303145971e0c11421dc22cdb03f95edd20be36"
   }
  }
 },
 "nbformat": 4,
 "nbformat_minor": 2
}
