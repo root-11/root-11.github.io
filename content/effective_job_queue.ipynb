{
 "cells": [
  {
   "cell_type": "markdown",
   "metadata": {},
   "source": [
    "# Effective job queue\n",
    "\n",
    "When creating job queues I have two requirements:\n",
    "\n",
    "1. Quick pop of the task\n",
    "2. Insertion of new tasks in some topological order.\n",
    "   \n",
    "As `list.pop()` isn't very fast, my goto alternative is `insort` and `deque`. Here's an example:"
   ]
  },
  {
   "cell_type": "code",
   "execution_count": 1,
   "metadata": {},
   "outputs": [],
   "source": [
    "from bisect import insort\n",
    "from collections import deque"
   ]
  },
  {
   "cell_type": "code",
   "execution_count": 2,
   "metadata": {},
   "outputs": [
    {
     "name": "stdout",
     "output_type": "stream",
     "text": [
      "deque([(7, 'a')])\n",
      "deque([(3, 'b'), (7, 'a')])\n",
      "deque([(3, 'b'), (4, 'c'), (7, 'a')])\n",
      "deque([(3, 'b'), (4, 'c'), (5, 'd'), (7, 'a')])\n",
      "deque([(3, 'b'), (4, 'c'), (5, 'd'), (6, 'e'), (7, 'a')])\n",
      "deque([(2, 'f'), (3, 'b'), (4, 'c'), (5, 'd'), (6, 'e'), (7, 'a')])\n",
      "deque([(1, 'g'), (2, 'f'), (3, 'b'), (4, 'c'), (5, 'd'), (6, 'e'), (7, 'a')])\n",
      "deque([(1, 'g'), (2, 'f'), (3, 'b'), (3, 'h'), (4, 'c'), (5, 'd'), (6, 'e'), (7, 'a')])\n",
      "deque([(1, 'g'), (2, 'f'), (3, 'b'), (3, 'h'), (3, 'i'), (4, 'c'), (5, 'd'), (6, 'e'), (7, 'a')])\n"
     ]
    }
   ],
   "source": [
    "priorities = [7, 3, 4, 5, 6, 2, 1, 3, 3]  \n",
    "tasks = list('abcdefghi')  # tasks\n",
    "\n",
    "job_queue = deque()\n",
    "for k, v in zip(priorities, tasks):\n",
    "    insort(job_queue, (k, v))\n",
    "    print(job_queue)"
   ]
  },
  {
   "cell_type": "markdown",
   "metadata": {},
   "source": [
    "As you can see from the printout, the jobs are inserted according to the priorities using `insort`. This saves the usage of `list.sort`, although that method could be used at the end after loading the jobs."
   ]
  },
  {
   "cell_type": "code",
   "execution_count": 3,
   "metadata": {},
   "outputs": [
    {
     "name": "stdout",
     "output_type": "stream",
     "text": [
      "deque([(2, 'f'), (3, 'b'), (3, 'h'), (3, 'i'), (4, 'c'), (5, 'd'), (6, 'e'), (7, 'a')])\n",
      "deque([(3, 'b'), (3, 'h'), (3, 'i'), (4, 'c'), (5, 'd'), (6, 'e'), (7, 'a')])\n",
      "deque([(3, 'h'), (3, 'i'), (4, 'c'), (5, 'd'), (6, 'e'), (7, 'a')])\n",
      "deque([(3, 'i'), (4, 'c'), (5, 'd'), (6, 'e'), (7, 'a')])\n",
      "deque([(4, 'c'), (5, 'd'), (6, 'e'), (7, 'a')])\n",
      "deque([(5, 'd'), (6, 'e'), (7, 'a')])\n",
      "deque([(6, 'e'), (7, 'a')])\n",
      "deque([(7, 'a')])\n",
      "deque([])\n"
     ]
    }
   ],
   "source": [
    "while job_queue:\n",
    "    k,v = job_queue.popleft()\n",
    "    print(job_queue)"
   ]
  }
 ],
 "metadata": {
  "kernelspec": {
   "display_name": "Python 3.10.8 ('pages310')",
   "language": "python",
   "name": "python3"
  },
  "language_info": {
   "codemirror_mode": {
    "name": "ipython",
    "version": 3
   },
   "file_extension": ".py",
   "mimetype": "text/x-python",
   "name": "python",
   "nbconvert_exporter": "python",
   "pygments_lexer": "ipython3",
   "version": "3.10.8"
  },
  "orig_nbformat": 4,
  "vscode": {
   "interpreter": {
    "hash": "6f432a2729e41e111fc68229d0303145971e0c11421dc22cdb03f95edd20be36"
   }
  }
 },
 "nbformat": 4,
 "nbformat_minor": 2
}
