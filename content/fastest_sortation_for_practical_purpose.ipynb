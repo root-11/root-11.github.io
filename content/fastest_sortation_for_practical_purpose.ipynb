{
 "cells": [
  {
   "attachments": {},
   "cell_type": "markdown",
   "metadata": {},
   "source": [
    "# Sort it.\n",
    "\n",
    "In maslite there's an alarm clock, that tracks new messages for their alarms. This \"admin\" should of course have as little overhead as possible, so an effective implementation is of course important.\n",
    "\n",
    "The question is then: What IS faster?\n",
    "\n",
    "Let's start with the baseline:"
   ]
  },
  {
   "cell_type": "code",
   "execution_count": 1,
   "metadata": {},
   "outputs": [],
   "source": [
    "import heapq\n",
    "from collections import defaultdict, deque\n",
    "from itertools import count\n",
    "import bisect\n",
    "import time\n",
    "import random\n",
    "random.seed(43)"
   ]
  },
  {
   "cell_type": "code",
   "execution_count": 2,
   "metadata": {},
   "outputs": [],
   "source": [
    "class ListAlarm(object):\n",
    "    def __init__(self) -> None:\n",
    "        self.alarms = []\n",
    "    \n",
    "    def set_alarm(self, t, msg):\n",
    "        self.alarms.append((t, msg))\n",
    "    \n",
    "    def get_alarms(self, now):\n",
    "        release = [(t,m) for t,m in self.alarms if t <= now]\n",
    "        release.sort(key=lambda x:x[0])\n",
    "        release = [m for t,m in release]\n",
    "        self.alarms = [(t,m) for t,m in self.alarms if t > now]\n",
    "        return release"
   ]
  },
  {
   "cell_type": "code",
   "execution_count": 3,
   "metadata": {},
   "outputs": [],
   "source": [
    "class DefaultDictAlarm(object):\n",
    "    def __init__(self) -> None:\n",
    "        self.alarms = defaultdict(list)\n",
    "    \n",
    "    def set_alarm(self, t, msg):\n",
    "        self.alarms[t].append(msg)\n",
    "    \n",
    "    def get_alarms(self, now):\n",
    "        keys = [k for k in self.alarms.keys() if k <= now]\n",
    "        release = []\n",
    "        for k in sorted(keys):\n",
    "            release.extend(self.alarms.pop(k))\n",
    "        return release"
   ]
  },
  {
   "cell_type": "code",
   "execution_count": 4,
   "metadata": {},
   "outputs": [],
   "source": [
    "class HeapqAlarm(object):\n",
    "    def __init__(self) -> None:\n",
    "        self.arrival_order = count()\n",
    "        self.alarms = []\n",
    "    \n",
    "    def set_alarm(self, t, msg):\n",
    "        heapq.heappush(self.alarms, (t, next(self.arrival_order), msg))\n",
    "    \n",
    "    def get_alarms(self, now):\n",
    "        release = []\n",
    "        t = -1\n",
    "        while t <= now and self.alarms:\n",
    "            t, o, m = heapq.heappop(self.alarms)\n",
    "            if t < now:\n",
    "                release.append(m)\n",
    "            else:\n",
    "                self.alarms.push((t,o,m))\n",
    "                break\n",
    "        return release"
   ]
  },
  {
   "cell_type": "code",
   "execution_count": 5,
   "metadata": {},
   "outputs": [],
   "source": [
    "class InsortListAlarm(object):\n",
    "    def __init__(self) -> None:\n",
    "        self.arrival_order = count()\n",
    "        self.alarms = []\n",
    "    \n",
    "    def set_alarm(self, t, msg):\n",
    "        bisect.insort(self.alarms, (t, next(self.arrival_order), msg))  # https://docs.python.org/3/library/bisect.html\n",
    "    \n",
    "    def get_alarms(self, now):\n",
    "        index = bisect.bisect(self.alarms, (now, 0, \"\") )\n",
    "        release = self.alarms[:index]\n",
    "        self.alarms = self.alarms[index:]\n",
    "        return [m for t,o,m in release]"
   ]
  },
  {
   "cell_type": "code",
   "execution_count": 6,
   "metadata": {},
   "outputs": [],
   "source": [
    "class InsortDequeAlarm(object):\n",
    "    def __init__(self) -> None:\n",
    "        self.arrival_order = count()\n",
    "        self.alarms = deque()\n",
    "    \n",
    "    def set_alarm(self, t, msg):\n",
    "        bisect.insort(self.alarms, (t, next(self.arrival_order), msg))\n",
    "    \n",
    "    def get_alarms(self, now):\n",
    "        index = bisect.bisect(self.alarms, (now, 0, \"\"))\n",
    "        return [m for t,o,m in [self.alarms.popleft() for _ in range(index)]]\n"
   ]
  },
  {
   "cell_type": "code",
   "execution_count": 7,
   "metadata": {},
   "outputs": [
    {
     "name": "stdout",
     "output_type": "stream",
     "text": [
      "ListAlarm 0.07317479999619536\n",
      "DefaultDictAlarm 0.14283020000584656\n",
      "HeapqAlarm 0.1602705999976024\n",
      "InsortListAlarm 0.8610735999973258\n",
      "InsortDequeAlarm 2.182989799999632\n"
     ]
    }
   ],
   "source": [
    "# data used for comparison\n",
    "alarms = 100_000\n",
    "timesteps = 1000\n",
    "\n",
    "sample = []\n",
    "for i in range(alarms):\n",
    "    t = round(random .random() * timesteps, 3) \n",
    "    sample.append((t, f\"message no {i} for t:{t}\" ))\n",
    "\n",
    "checklist = [m for t,m in (sorted(sample, key=lambda x: x[0]))]\n",
    "\n",
    "for cls_ in [\n",
    "    ListAlarm, \n",
    "    DefaultDictAlarm, \n",
    "    HeapqAlarm,\n",
    "    InsortListAlarm, \n",
    "    InsortDequeAlarm\n",
    "    ]:\n",
    "     \n",
    "    alarm = cls_()\n",
    "    start = time.perf_counter()  \n",
    "\n",
    "    for item in sample:\n",
    "        alarm.set_alarm(*item)  \n",
    "\n",
    "    all_alarms = []\n",
    "    for timestep in range(timesteps, alarms+timesteps, timesteps):  # 1000, 2000, ... 100_000, 101_000\n",
    "        items = alarm.get_alarms(timestep)\n",
    "        all_alarms.extend(items)\n",
    "\n",
    "    end = time.perf_counter()\n",
    "    assert all_alarms == checklist, f\"{cls_.__name__} did not sort the messages\"\n",
    "    print(cls_.__name__, end-start)"
   ]
  },
  {
   "attachments": {},
   "cell_type": "markdown",
   "metadata": {},
   "source": [
    "So far it looks like ListAlarm is the fastest."
   ]
  },
  {
   "cell_type": "markdown",
   "metadata": {},
   "source": []
  }
 ],
 "metadata": {
  "kernelspec": {
   "display_name": "pages310",
   "language": "python",
   "name": "python3"
  },
  "language_info": {
   "codemirror_mode": {
    "name": "ipython",
    "version": 3
   },
   "file_extension": ".py",
   "mimetype": "text/x-python",
   "name": "python",
   "nbconvert_exporter": "python",
   "pygments_lexer": "ipython3",
   "version": "3.10.8"
  },
  "orig_nbformat": 4,
  "vscode": {
   "interpreter": {
    "hash": "6f432a2729e41e111fc68229d0303145971e0c11421dc22cdb03f95edd20be36"
   }
  }
 },
 "nbformat": 4,
 "nbformat_minor": 2
}
