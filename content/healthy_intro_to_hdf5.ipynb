{
 "cells": [
  {
   "cell_type": "markdown",
   "metadata": {
    "collapsed": true,
    "pycharm": {
     "name": "#%% md\n"
    }
   },
   "source": [
    "# A healthy intro to HDF5\n",
    "\n",
    "Inspired by notes from [Christopher Lovell](https://www.christopherlovell.co.uk/blog/2016/04/27/h5py-intro.html) and [Andrew Colette](https://www.oreilly.com/library/view/python-and-hdf5/9781491944981/)\n",
    "\n",
    "\n",
    "Install h5py with `%pip install h5py`"
   ]
  },
  {
   "cell_type": "code",
   "execution_count": 3,
   "outputs": [],
   "source": [
    "import h5py"
   ],
   "metadata": {
    "collapsed": false,
    "pycharm": {
     "name": "#%%\n"
    }
   }
  },
  {
   "cell_type": "code",
   "execution_count": 8,
   "outputs": [
    {
     "data": {
      "text/plain": "<HDF5 dataset \"column2\": shape (10,), type \"|O\">"
     },
     "execution_count": 8,
     "metadata": {},
     "output_type": "execute_result"
    }
   ],
   "source": [
    "hf = h5py.File('data.h5', 'w')  # Create file, truncate if exists"
   ],
   "metadata": {
    "collapsed": false,
    "pycharm": {
     "name": "#%%\n"
    }
   }
  },
  {
   "cell_type": "markdown",
   "source": [
    "`hf = h5py.File('data.h5', 'x')` tries to create file, but will fail if the file exists.\n",
    "`hf = h5py.File('data.h5', 'a')` tries read/write if exists, otherwise creates the file.\n",
    "[source](https://docs.h5py.org/en/stable/high/file.html?highlight=w%20#opening-creating-files)"
   ],
   "metadata": {
    "collapsed": false,
    "pycharm": {
     "name": "#%% md\n"
    }
   }
  },
  {
   "cell_type": "code",
   "execution_count": null,
   "outputs": [],
   "source": [
    "hf.create_dataset('tbl_1/column1', data=list(range(10)))"
   ],
   "metadata": {
    "collapsed": false,
    "pycharm": {
     "name": "#%%\n"
    }
   }
  },
  {
   "cell_type": "markdown",
   "source": [
    "to use compression use:\n",
    "\n",
    "`hf.create_dataset('tbl_1/column1', data=list(range(10)), compression=\"lzf\",)`\n",
    "\n",
    "The benefit _may_ be limited, so measure the effect. For LZF compression on\n",
    "\n",
    "| type               | compress time | decompress time | compression |\n",
    "|:-------------------|--------------:|----------------:|------------:|\n",
    "| trivial data       |       18.6 ms |         17.8 ms |      96.65% |\n",
    "| sine wave w. noise |       65.5 ms |         24.4 ms |      15.53% |\n",
    "| random data        |       67.8 ms |         24.8 ms |       8.94% |\n",
    "\n",
    "Source: Python and HDF5: Unlocking Scientific Data, By Andrew Collette\n"
   ],
   "metadata": {
    "collapsed": false,
    "pycharm": {
     "name": "#%% md\n"
    }
   }
  },
  {
   "cell_type": "code",
   "execution_count": null,
   "outputs": [],
   "source": [
    "hf.create_dataset('tbl_1/column2', data=[str(i) for i  in range(10)])"
   ],
   "metadata": {
    "collapsed": false,
    "pycharm": {
     "name": "#%%\n"
    }
   }
  },
  {
   "cell_type": "code",
   "execution_count": 9,
   "outputs": [],
   "source": [
    "hf.close()"
   ],
   "metadata": {
    "collapsed": false,
    "pycharm": {
     "name": "#%%\n"
    }
   }
  },
  {
   "cell_type": "code",
   "execution_count": 10,
   "outputs": [],
   "source": [
    "hf = h5py.File('data.h5', 'r')  # Readonly, file must exist (default)"
   ],
   "metadata": {
    "collapsed": false,
    "pycharm": {
     "name": "#%%\n"
    }
   }
  },
  {
   "cell_type": "code",
   "execution_count": 11,
   "outputs": [
    {
     "data": {
      "text/plain": "<KeysViewHDF5 ['tbl_1']>"
     },
     "execution_count": 11,
     "metadata": {},
     "output_type": "execute_result"
    }
   ],
   "source": [
    "hf.keys()"
   ],
   "metadata": {
    "collapsed": false,
    "pycharm": {
     "name": "#%%\n"
    }
   }
  },
  {
   "cell_type": "code",
   "execution_count": 14,
   "outputs": [
    {
     "data": {
      "text/plain": "[0, 1, 2, 3, 4, 5, 6, 7, 8, 9]"
     },
     "execution_count": 14,
     "metadata": {},
     "output_type": "execute_result"
    }
   ],
   "source": [
    "c1 = hf.get('tbl_1/column1')\n",
    "list(c1)"
   ],
   "metadata": {
    "collapsed": false,
    "pycharm": {
     "name": "#%%\n"
    }
   }
  },
  {
   "cell_type": "code",
   "execution_count": 17,
   "outputs": [
    {
     "data": {
      "text/plain": "['0', '1', '2', '3', '4', '5', '6', '7', '8', '9']"
     },
     "execution_count": 17,
     "metadata": {},
     "output_type": "execute_result"
    }
   ],
   "source": [
    "c2 = hf.get('tbl_1/column2')\n",
    "[i.decode(\"utf-8\") for i in c2]"
   ],
   "metadata": {
    "collapsed": false,
    "pycharm": {
     "name": "#%%\n"
    }
   }
  },
  {
   "cell_type": "code",
   "execution_count": 18,
   "outputs": [],
   "source": [
    "hf.close()"
   ],
   "metadata": {
    "collapsed": false,
    "pycharm": {
     "name": "#%%\n"
    }
   }
  },
  {
   "cell_type": "markdown",
   "source": [
    "Time to append some data..."
   ],
   "metadata": {
    "collapsed": false,
    "pycharm": {
     "name": "#%% md\n"
    }
   }
  },
  {
   "cell_type": "code",
   "execution_count": 20,
   "outputs": [],
   "source": [
    "hf = h5py.File('data.h5', 'r+')  #Read/write, file must exist"
   ],
   "metadata": {
    "collapsed": false,
    "pycharm": {
     "name": "#%%\n"
    }
   }
  },
  {
   "cell_type": "code",
   "execution_count": 21,
   "outputs": [
    {
     "data": {
      "text/plain": "<HDF5 dataset \"column3\": shape (10,), type \"|O\">"
     },
     "execution_count": 21,
     "metadata": {},
     "output_type": "execute_result"
    }
   ],
   "source": [
    "hf.create_dataset('tbl_1/column3', data=[str(i*10) for i  in range(10)])"
   ],
   "metadata": {
    "collapsed": false,
    "pycharm": {
     "name": "#%%\n"
    }
   }
  },
  {
   "cell_type": "code",
   "execution_count": 54,
   "outputs": [
    {
     "data": {
      "text/plain": "[b'2022-02-05T17:35:08',\n b'2022-02-06T17:35:08',\n b'2022-02-07T17:35:08',\n b'2022-02-08T17:35:08',\n b'2022-02-09T17:35:08',\n b'2022-02-10T17:35:08',\n b'2022-02-11T17:35:08',\n b'2022-02-12T17:35:08',\n b'2022-02-13T17:35:08',\n b'2022-02-14T17:35:08']"
     },
     "execution_count": 54,
     "metadata": {},
     "output_type": "execute_result"
    }
   ],
   "source": [
    "from datetime import datetime, timedelta\n",
    "now = datetime.now()\n",
    "\n",
    "hf.create_dataset('tbl_1/column4', data=[(now.replace(microsecond=0) + timedelta(days=i)).isoformat() for i in range(10)])\n",
    "list(hf['tbl_1/column4'])"
   ],
   "metadata": {
    "collapsed": false,
    "pycharm": {
     "name": "#%%\n"
    }
   }
  },
  {
   "cell_type": "code",
   "execution_count": 55,
   "outputs": [
    {
     "data": {
      "text/plain": "<KeysViewHDF5 ['tbl_1']>"
     },
     "execution_count": 55,
     "metadata": {},
     "output_type": "execute_result"
    }
   ],
   "source": [
    "hf.keys()"
   ],
   "metadata": {
    "collapsed": false,
    "pycharm": {
     "name": "#%%\n"
    }
   }
  },
  {
   "cell_type": "code",
   "execution_count": 56,
   "outputs": [
    {
     "name": "stdout",
     "output_type": "stream",
     "text": [
      "column1 [0, 1, 2, 3, 4]\n",
      "column2 [b'0', b'1', b'2', b'3', b'4']\n",
      "column3 [b'0', b'10', b'20', b'30', b'40']\n",
      "column4 [b'2022-02-05T17:35:08', b'2022-02-06T17:35:08', b'2022-02-07T17:35:08', b'2022-02-08T17:35:08', b'2022-02-09T17:35:08']\n"
     ]
    }
   ],
   "source": [
    "for k,v in hf['/tbl_1'].items():\n",
    "    print(k,list(v[:5]))"
   ],
   "metadata": {
    "collapsed": false,
    "pycharm": {
     "name": "#%%\n"
    }
   }
  },
  {
   "cell_type": "code",
   "execution_count": 57,
   "outputs": [
    {
     "name": "stdout",
     "output_type": "stream",
     "text": [
      "(0, b'0', b'0', b'2022-02-05T17:35:08')\n",
      "(1, b'1', b'10', b'2022-02-06T17:35:08')\n",
      "(2, b'2', b'20', b'2022-02-07T17:35:08')\n",
      "(3, b'3', b'30', b'2022-02-08T17:35:08')\n",
      "(4, b'4', b'40', b'2022-02-09T17:35:08')\n"
     ]
    }
   ],
   "source": [
    "L = []\n",
    "for k, v in hf['/tbl_1'].items():\n",
    "    L.append(v[:5])\n",
    "\n",
    "def rotate(L):\n",
    "    for row_ix,_ in enumerate(L[0]):\n",
    "        yield tuple(L[col_ix][row_ix] for col_ix,_ in enumerate(L))\n",
    "\n",
    "for row in rotate(L):\n",
    "    print(row)"
   ],
   "metadata": {
    "collapsed": false,
    "pycharm": {
     "name": "#%%\n"
    }
   }
  },
  {
   "cell_type": "markdown",
   "source": [
    "Finally - always remember:"
   ],
   "metadata": {
    "collapsed": false,
    "pycharm": {
     "name": "#%% md\n"
    }
   }
  },
  {
   "cell_type": "code",
   "execution_count": 58,
   "outputs": [],
   "source": [
    "hf.close()"
   ],
   "metadata": {
    "collapsed": false,
    "pycharm": {
     "name": "#%%\n"
    }
   }
  }
 ],
 "metadata": {
  "kernelspec": {
   "display_name": "Python 3",
   "language": "python",
   "name": "python3"
  },
  "language_info": {
   "codemirror_mode": {
    "name": "ipython",
    "version": 2
   },
   "file_extension": ".py",
   "mimetype": "text/x-python",
   "name": "python",
   "nbconvert_exporter": "python",
   "pygments_lexer": "ipython2",
   "version": "2.7.6"
  }
 },
 "nbformat": 4,
 "nbformat_minor": 0
}