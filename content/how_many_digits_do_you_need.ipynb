{
 "cells": [
  {
   "cell_type": "markdown",
   "metadata": {
    "collapsed": true,
    "pycharm": {
     "name": "#%% md\n"
    }
   },
   "source": [
    "# how many digits do you need?\n",
    "\n",
    "on the [JPL archive from 2016](https://www.jpl.nasa.gov/edu/news/2016/3/16/how-many-decimals-of-pi-do-we-really-need/?platform=hootsuite) I found a nice article of the same name, but I'd really like to check the numbers for a terrestrial context:\n",
    "- pi with [100 digits](http://www.math.com/tables/constants/pi.htm).\n",
    "- Earth."
   ]
  },
  {
   "cell_type": "code",
   "execution_count": 1,
   "outputs": [],
   "source": [
    "import math"
   ],
   "metadata": {
    "collapsed": false,
    "pycharm": {
     "name": "#%%\n"
    }
   }
  },
  {
   "cell_type": "code",
   "execution_count": 2,
   "outputs": [
    {
     "name": "stdout",
     "output_type": "stream",
     "text": [
      "15 digits 0.0 km =  0.0 m =  0.0 mm\n",
      "14 digits 0.0 km =  0.0 m =  0.0 mm\n",
      "13 digits -0.0 km =  -0.0 m =  -0.0 mm\n",
      "12 digits -0.0 km =  -0.0 m =  -0.0 mm\n",
      "11 digits -0.0 km =  -0.0 m =  -0.0 mm\n",
      "10 digits -0.0 km =  -0.0 m =  -0.13 mm\n",
      "9 digits -0.0 km =  -0.01 m =  -5.23 mm\n",
      "8 digits 0.0 km =  0.05 m =  45.74 mm\n",
      "7 digits -0.0 km =  -0.59 m =  -591.36 mm\n",
      "6 digits -0.0 km =  -4.41 m =  -4413.96 mm\n",
      "5 digits 0.03 km =  33.81 m =  33812.04 mm\n",
      "4 digits -0.09 km =  -93.61 m =  -93607.96 mm\n",
      "3 digits -5.19 km =  -5190.41 m =  -5190407.96 mm\n",
      "2 digits 20.29 km =  20293.59 m =  20293592.04 mm\n"
     ]
    }
   ],
   "source": [
    "diameter_of_earth = 12742 # km\n",
    "un_rounded_circumference = math.pi * diameter_of_earth\n",
    "\n",
    "for precision in range(15,1,-1):\n",
    "    rounded_circumference = round(math.pi, precision) * diameter_of_earth\n",
    "    error = un_rounded_circumference - rounded_circumference\n",
    "    print(precision, \"digits\", round(error,2), \"km = \", round(error * 1e3,2), \"m = \", round(error * 1e6,2), \"mm\")"
   ],
   "metadata": {
    "collapsed": false,
    "pycharm": {
     "name": "#%%\n"
    }
   }
  },
  {
   "cell_type": "markdown",
   "source": [
    "Conclusion: 15 digits are more than enough."
   ],
   "metadata": {
    "collapsed": false,
    "pycharm": {
     "name": "#%% md\n"
    }
   }
  }
 ],
 "metadata": {
  "kernelspec": {
   "name": "pycharm-d2eb47b4",
   "language": "python",
   "display_name": "PyCharm (github-pages)"
  },
  "language_info": {
   "codemirror_mode": {
    "name": "ipython",
    "version": 2
   },
   "file_extension": ".py",
   "mimetype": "text/x-python",
   "name": "python",
   "nbconvert_exporter": "python",
   "pygments_lexer": "ipython2",
   "version": "2.7.6"
  }
 },
 "nbformat": 4,
 "nbformat_minor": 0
}