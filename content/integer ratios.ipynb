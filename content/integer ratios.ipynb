{
 "cells": [
  {
   "cell_type": "markdown",
   "metadata": {},
   "source": [
    "# INTEGER RATIOS\n",
    "\n",
    "To my great surprise I couldn't find a python package that presented a solution\n",
    "to reduce a list of floating-point values or fractions to their smallest common ratio.\n",
    "\n",
    "Say for example I have a list of decimal point values as a part of a pair of equations I need to solve, like:\n"
   ]
  },
  {
   "cell_type": "code",
   "execution_count": 2,
   "metadata": {},
   "outputs": [],
   "source": [
    "L = [8.1, -32.4, 20.25, 72.9]\n"
   ]
  },
  {
   "cell_type": "markdown",
   "metadata": {},
   "source": [
    "All values are reducible with 4.05 to [2, -8, 5, 18] but getting to the result was a blur.\n",
    "\n",
    "The function itself is as simple as computing the greatest common divisor after dealing with the floating-point issue:"
   ]
  },
  {
   "cell_type": "code",
   "execution_count": 3,
   "metadata": {},
   "outputs": [],
   "source": [
    "from math import gcd\n",
    "from itertools import combinations\n",
    "\n",
    "def integer_ratio(values):\n",
    "    if any(isinstance(i, float) for i in values):\n",
    "        factor = 10 ** max([len(str(v)) - str(v).index('.') for v in values if isinstance(v, float)])\n",
    "    else:\n",
    "        factor = 1\n",
    "\n",
    "    z = {int(factor * v) for v in values}\n",
    "    while len(z) > 1:\n",
    "        z = {gcd(a, b) for a, b in combinations(z, 2)}\n",
    "    common = z.pop()\n",
    "\n",
    "    return [int(factor * i) // common for i in values]"
   ]
  },
  {
   "cell_type": "markdown",
   "metadata": {},
   "source": [
    "Examples"
   ]
  },
  {
   "cell_type": "code",
   "execution_count": 4,
   "metadata": {},
   "outputs": [],
   "source": [
    "assert integer_ratio([1, 2, 3, 4]) == [1, 2, 3, 4]\n",
    "assert integer_ratio([8.1, -32.4, 20.25, 72.9]) == [2, -8, 5, 18]\n",
    "assert integer_ratio([1, 10, 100, 1000]) == [1, 10, 100, 1000]\n"
   ]
  },
  {
   "cell_type": "markdown",
   "metadata": {},
   "source": [
    "Problem solved. "
   ]
  }
 ],
 "metadata": {
  "interpreter": {
   "hash": "c4df837ac4477c7435bbd736fb9ba2c8df232961013baf2c3c9d338fc856bbbf"
  },
  "kernelspec": {
   "display_name": "Python 3.6.7 64-bit ('python36': conda)",
   "name": "python3"
  },
  "language_info": {
   "codemirror_mode": {
    "name": "ipython",
    "version": 3
   },
   "file_extension": ".py",
   "mimetype": "text/x-python",
   "name": "python",
   "nbconvert_exporter": "python",
   "pygments_lexer": "ipython3",
   "version": "3.6.7"
  },
  "orig_nbformat": 4
 },
 "nbformat": 4,
 "nbformat_minor": 2
}
