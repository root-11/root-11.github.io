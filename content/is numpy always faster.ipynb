{
 "cells": [
  {
   "cell_type": "markdown",
   "metadata": {},
   "source": [
    "# Is numpy always faster?\n",
    "\n",
    "I have a the simple task of calculating the cross-product of two vectors."
   ]
  },
  {
   "cell_type": "code",
   "execution_count": 1,
   "metadata": {},
   "outputs": [],
   "source": [
    "v1 = [1, 2, 3]\n",
    "v2 = [2.4, 3, -1]"
   ]
  },
  {
   "cell_type": "markdown",
   "metadata": {},
   "source": [
    "\n",
    "In the first I choose regular cPython"
   ]
  },
  {
   "cell_type": "code",
   "execution_count": 2,
   "metadata": {},
   "outputs": [],
   "source": [
    "def pyX(v1, v2):  \n",
    "    a1, a2, a3 = v1\n",
    "    b1, b2, b3 = v2\n",
    "    return [a2 * b3 - a3 * b2, -(a1 * b3 - a3 * b1), a1 * b2 - a2 * b1]"
   ]
  },
  {
   "cell_type": "markdown",
   "metadata": {},
   "source": [
    "In the second I choose numpy:"
   ]
  },
  {
   "cell_type": "code",
   "execution_count": 3,
   "metadata": {},
   "outputs": [],
   "source": [
    "import numpy as np\n",
    "\n",
    "def npX(v1, v2):  \n",
    "    return list(np.cross(v1, v2))"
   ]
  },
  {
   "cell_type": "markdown",
   "metadata": {},
   "source": [
    "And then I compare them with timeit:"
   ]
  },
  {
   "cell_type": "code",
   "execution_count": 5,
   "metadata": {},
   "outputs": [
    {
     "name": "stdout",
     "output_type": "stream",
     "text": [
      "38.4 ms ± 2.09 ms per loop (mean ± std. dev. of 7 runs, 10 loops each)\n"
     ]
    }
   ],
   "source": [
    "%timeit  for _ in range(100_000): pyX(v1,v2)"
   ]
  },
  {
   "cell_type": "code",
   "execution_count": 6,
   "metadata": {},
   "outputs": [
    {
     "name": "stdout",
     "output_type": "stream",
     "text": [
      "3.83 s ± 53.8 ms per loop (mean ± std. dev. of 7 runs, 1 loop each)\n"
     ]
    }
   ],
   "source": [
    "%timeit  for _ in range(100_000): npX(v1,v2)"
   ]
  },
  {
   "cell_type": "markdown",
   "metadata": {},
   "source": [
    "`npX` - the numpy function - claims 3,830ms in contrast to 38.4ms for `pyX` - the pure python function.\n",
    "\n",
    "So the answer to the question \"Is numpy always faster?\" then becomes \"it depends on the usage\", \n",
    "and on this particular occasion it depends on how much numerical computing you're actaully doing as the overhead of leaving python to call numpy is far in excess to doing the calculation purely in python.\n",
    "\n",
    "`numpy` needs to guess what datatype it is being given, the shape of the vectors required for calculating the cross product, etc.\n",
    "\n",
    "So the old ade to \"specialised functions will always beat generic ones\" certainly applies here.\n",
    "\n",
    "A classic."
   ]
  },
  {
   "cell_type": "markdown",
   "metadata": {},
   "source": []
  }
 ],
 "metadata": {
  "interpreter": {
   "hash": "c4df837ac4477c7435bbd736fb9ba2c8df232961013baf2c3c9d338fc856bbbf"
  },
  "kernelspec": {
   "display_name": "Python 3.6.7 64-bit ('python36': conda)",
   "name": "python3"
  },
  "language_info": {
   "codemirror_mode": {
    "name": "ipython",
    "version": 3
   },
   "file_extension": ".py",
   "mimetype": "text/x-python",
   "name": "python",
   "nbconvert_exporter": "python",
   "pygments_lexer": "ipython3",
   "version": "3.6.7"
  },
  "orig_nbformat": 4
 },
 "nbformat": 4,
 "nbformat_minor": 2
}
