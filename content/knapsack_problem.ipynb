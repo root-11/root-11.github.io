{
 "cells": [
  {
   "attachments": {},
   "cell_type": "markdown",
   "metadata": {},
   "source": [
    "# Solving the knapsack problem in 3 ways\n",
    "\n",
    "1. brute force\n",
    "2. dynamic programming\n",
    "3. recursion"
   ]
  },
  {
   "cell_type": "code",
   "execution_count": 7,
   "metadata": {},
   "outputs": [],
   "source": [
    "from itertools import combinations\n",
    "\n",
    "\n",
    "def brute_force(items, capacity):\n",
    "    # https://rosettacode.org/wiki/Knapsack_problem/0-1#Brute_force_algorithm\n",
    "    def anycomb(items):\n",
    "        \"return combinations of any length from the items\"\n",
    "        return (comb for r in range(1, len(items) + 1) for comb in combinations(items, r))\n",
    "\n",
    "    def totalvalue(comb):\n",
    "        \"Totalise a particular combination of items\"\n",
    "        totwt = totval = 0\n",
    "        for item, wt, val in comb:\n",
    "            totwt += wt\n",
    "            totval += val\n",
    "        return (totval, -totwt) if totwt <= capacity else (0, 0)\n",
    "\n",
    "    bagged = max(anycomb(items), key=totalvalue)  # max val or min wt if values equal\n",
    "    val, wt = totalvalue(bagged)\n",
    "    return val, -wt, bagged"
   ]
  },
  {
   "cell_type": "code",
   "execution_count": 8,
   "metadata": {},
   "outputs": [],
   "source": [
    "def dynamic_programming(items, capacity):\n",
    "    # https://rosettacode.org/wiki/Knapsack_problem/0-1#Dynamic_programming_solution\n",
    "\n",
    "    def totalvalue(comb):\n",
    "        \"Totalise a particular combination of items\"\n",
    "        totwt = totval = 0\n",
    "        for item, wt, val in comb:\n",
    "            totwt += wt\n",
    "            totval += val\n",
    "        return (totval, -totwt) if totwt <= 400 else (0, 0)\n",
    "\n",
    "    def knapsack01_dp(items, limit):\n",
    "        table = [[0 for w in range(limit + 1)] for j in range(len(items) + 1)]\n",
    "\n",
    "        for j in range(1, len(items) + 1):\n",
    "            item, wt, val = items[j - 1]\n",
    "            for w in range(1, limit + 1):\n",
    "                if wt > w:\n",
    "                    table[j][w] = table[j - 1][w]\n",
    "                else:\n",
    "                    table[j][w] = max(table[j - 1][w], table[j - 1][w - wt] + val)\n",
    "\n",
    "        result = []\n",
    "        w = limit\n",
    "        for j in range(len(items), 0, -1):\n",
    "            was_added = table[j][w] != table[j - 1][w]\n",
    "\n",
    "            if was_added:\n",
    "                item, wt, val = items[j - 1]\n",
    "                result.append(items[j - 1])\n",
    "                w -= wt\n",
    "\n",
    "        return result\n",
    "\n",
    "    bagged = knapsack01_dp(items, capacity)\n",
    "    val, wt = totalvalue(bagged)\n",
    "    return val, -wt, bagged"
   ]
  },
  {
   "cell_type": "code",
   "execution_count": 9,
   "metadata": {},
   "outputs": [],
   "source": [
    "\n",
    "def recursion(items, capacity):\n",
    "    # https://rosettacode.org/wiki/Knapsack_problem/0-1#Recursive_dynamic_programming_algorithm\n",
    "    def total_value(items, max_weight):\n",
    "        return sum([x[2] for x in items]) if sum([x[1] for x in items]) <= max_weight else 0\n",
    "\n",
    "    cache = {}\n",
    "\n",
    "    def solve(items, max_weight):\n",
    "        if not items:\n",
    "            return ()\n",
    "        if (items, max_weight) not in cache:\n",
    "            head = items[0]\n",
    "            tail = items[1:]\n",
    "            include = (head,) + solve(tail, max_weight - head[1])\n",
    "            dont_include = solve(tail, max_weight)\n",
    "            if total_value(include, max_weight) > total_value(dont_include, max_weight):\n",
    "                answer = include\n",
    "            else:\n",
    "                answer = dont_include\n",
    "            cache[(items, max_weight)] = answer\n",
    "        return cache[(items, max_weight)]\n",
    "\n",
    "    solution = solve(items, capacity)\n",
    "    val = total_value(solution, capacity)\n",
    "    wt = sum([x[1] for x in solution])\n",
    "    return val, wt, solution"
   ]
  },
  {
   "cell_type": "code",
   "execution_count": 10,
   "metadata": {},
   "outputs": [],
   "source": [
    "def solve(items, capacity, method=\"dp\"):\n",
    "    methods = {\"dp\": dynamic_programming, \"bf\": brute_force, \"r\": recursion}\n",
    "    m = methods.get(method)\n",
    "    return m(items, capacity)"
   ]
  },
  {
   "cell_type": "code",
   "execution_count": 11,
   "metadata": {},
   "outputs": [
    {
     "name": "stdout",
     "output_type": "stream",
     "text": [
      "3.304391 s brute_force\n",
      "0.002093 s dynamic_programming\n",
      "0.01933 s recursion\n"
     ]
    }
   ],
   "source": [
    "items = (\n",
    "        (\"map\", 9, 150),\n",
    "        (\"compass\", 13, 35),\n",
    "        (\"water\", 153, 200),\n",
    "        (\"sandwich\", 50, 160),\n",
    "        (\"glucose\", 15, 60),\n",
    "        (\"tin\", 68, 45),\n",
    "        (\"banana\", 27, 60),\n",
    "        (\"apple\", 39, 40),\n",
    "        (\"cheese\", 23, 30),\n",
    "        (\"beer\", 52, 10),\n",
    "        (\"suntan cream\", 11, 70),\n",
    "        (\"camera\", 32, 30),\n",
    "        (\"t-shirt\", 24, 15),\n",
    "        (\"trousers\", 48, 10),\n",
    "        (\"umbrella\", 73, 40),\n",
    "        (\"waterproof trousers\", 42, 70),\n",
    "        (\"waterproof overclothes\", 43, 75),\n",
    "        (\"note-case\", 22, 80),\n",
    "        (\"sunglasses\", 7, 20),\n",
    "        (\"towel\", 18, 12),\n",
    "        (\"socks\", 4, 50),\n",
    "        (\"book\", 30, 10),\n",
    "    )\n",
    "capacity = 400\n",
    "\n",
    "import time\n",
    "\n",
    "a = time.perf_counter()\n",
    "val1, wt1, items1 = solve(items, capacity, \"bf\")\n",
    "b = time.perf_counter()\n",
    "print(round(b - a, 6), \"s\", brute_force.__name__)\n",
    "val2, wt2, items2 = solve(items, capacity, \"dp\")\n",
    "c = time.perf_counter()\n",
    "print(round(c - b, 6), \"s\", dynamic_programming.__name__)\n",
    "val3, wt3, items3 = solve(items, capacity, \"r\")\n",
    "d = time.perf_counter()\n",
    "print(round(d - c, 6), \"s\", recursion.__name__)\n",
    "assert val1 == val2 == val3\n",
    "assert wt1 == wt2 == wt3\n",
    "assert sorted(items1) == sorted(items2) == sorted(items3)"
   ]
  }
 ],
 "metadata": {
  "kernelspec": {
   "display_name": "pages310",
   "language": "python",
   "name": "python3"
  },
  "language_info": {
   "codemirror_mode": {
    "name": "ipython",
    "version": 3
   },
   "file_extension": ".py",
   "mimetype": "text/x-python",
   "name": "python",
   "nbconvert_exporter": "python",
   "pygments_lexer": "ipython3",
   "version": "3.10.8"
  },
  "orig_nbformat": 4,
  "vscode": {
   "interpreter": {
    "hash": "6f432a2729e41e111fc68229d0303145971e0c11421dc22cdb03f95edd20be36"
   }
  }
 },
 "nbformat": 4,
 "nbformat_minor": 2
}
