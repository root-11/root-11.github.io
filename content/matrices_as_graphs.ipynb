{
 "cells": [
  {
   "cell_type": "markdown",
   "metadata": {},
   "source": [
    "# Matrices & Probabilities as Graphs | \n",
    "\n",
    "[Tai-Danae Bradley](https://www.math3ma.com/about) wrote a nice tutorial on [viewing matrices & probabilities as graphs](https://www.math3ma.com/blog/matrices-probability-graphs) in March 2019. \n",
    "I'm going to replicate a lot of it here with the view of comparing a graph implementation with the various alternate implementations.\n",
    "\n",
    "Julia's standard library has a [number of specialized datastructures](https://docs.julialang.org/en/v1/stdlib/LinearAlgebra/#Special-matrices) for [linear algebra](https://docs.julialang.org/en/v1/stdlib/LinearAlgebra/) as this permits the specialization of routines (for each particular matrix types) whereby computational overhead can be minimised. I have no doubt that researchers have spent enormous amounts of time on these problems, yet I find the optimization of the representation of a graph rather intriguing.\n",
    "\n",
    "Perhaps this is because most matrix computation is focused on two dimensions - X,Y - which in general only require the subset of graphs that are bi-partite. \n",
    "\n",
    "the matrix:\n",
    "```\n",
    "M = [\n",
    "    [-1, 0],\n",
    "    [ 4,-3],\n",
    "    [ 0, 2]\n",
    "]\n",
    "```\n",
    "is clearly more familiar in plain text form than the graph representation:\n",
    "```\n",
    "g = {\n",
    "    'x1': {'y1': -1          },\n",
    "    'x2': {'y1':  4, 'y2': -3},\n",
    "    'x3': {          'y2':  2}\n",
    "}\n",
    "```\n"
   ]
  },
  {
   "cell_type": "markdown",
   "metadata": {},
   "source": [
    "\n",
    "However when density of the matrix drops, the number of zeros in conventional matrix redundant:\n",
    "```\n",
    "M = [\n",
    "    [10, 20,  0,  0,  0,  0]\n",
    "    [ 0, 30,  0, 40,  0,  0]\n",
    "    [ 0,  0, 50, 60, 70,  0]\n",
    "    [ 0,  0,  0,  0,  0, 80]\n",
    "] (24 elements)\n",
    "```\n",
    "\n",
    "```\n",
    "g = {\n",
    "    'x1': {'y1': 10, 'y2': 20                                       },\n",
    "    'x2': {          'y2': 30,           'y4': 40                   },\n",
    "    'x3': {                    'y3': 50, 'y4': 60, 'y5': 70         },\n",
    "    'x4': {                                                 'y6': 80}\n",
    "} (20 elements)\n",
    "```\n"
   ]
  },
  {
   "cell_type": "markdown",
   "metadata": {},
   "source": [
    "\n",
    "The compressed sparse matrix form `M = [ [data], [row], [col] ]` is probably compact enough for the general case, even though this example doesn't do it any favour:\n",
    "```\n",
    "M = [\n",
    "    [10, 20, 30, 40, 50, 60, 70, 80],\n",
    "    [ 0,  0,  1,  1,  2,  2,  2,  3],\n",
    "    [ 0,  1,  1,  3,  2,  3,  4,  5],\n",
    "] (24 elements)\n",
    "```\n",
    "\n",
    "The linear address style where the width of the matrix is declared as `M = [ dimensionality , [values], [indices] ]`, e.g.:\n",
    "\n",
    "```\n",
    "M = [ \n",
    "    (4, 6), \n",
    "    [10, 20, 30, 40, 50, 60, 70, 80],\n",
    "    [ 0,  1,  7,  9, 14, 15, 16, 23]\n",
    "] (18 elements)\n",
    "```\n",
    "\n",
    "may at first seem attractive, but additional computation is required to determine locations:\n",
    "\n",
    "- row of `60`: `15 // 6 = 2`\n",
    "- col of `60`: `15 - row * 6 = 3`\n",
    "\n",
    "So where am I at? I think using graphs to `explain` matrix operations is great, but when it comes to computation the compressed sparse matrix will win."
   ]
  }
 ],
 "metadata": {
  "kernelspec": {
   "display_name": "Python 3.10.5 ('pages310')",
   "language": "python",
   "name": "python3"
  },
  "language_info": {
   "codemirror_mode": {
    "name": "ipython",
    "version": 3
   },
   "file_extension": ".py",
   "mimetype": "text/x-python",
   "name": "python",
   "nbconvert_exporter": "python",
   "pygments_lexer": "ipython3",
   "version": "3.10.5"
  },
  "orig_nbformat": 4,
  "vscode": {
   "interpreter": {
    "hash": "6f432a2729e41e111fc68229d0303145971e0c11421dc22cdb03f95edd20be36"
   }
  }
 },
 "nbformat": 4,
 "nbformat_minor": 2
}
