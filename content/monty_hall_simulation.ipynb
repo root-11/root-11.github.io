{
 "cells": [
  {
   "cell_type": "markdown",
   "metadata": {
    "collapsed": true
   },
   "source": [
    "# Monty Hall problem\n",
    "\n",
    "The Monty Hall problem is named for its similarity to the Let's Make a Deal television game show hosted by Monty Hall. The problem is stated as follows. Assume that a room is equipped with three doors. Behind two are goats, and behind the third is a shiny new car. You are asked to pick a door, and will win whatever is behind it. Let's say you pick door 1. Before the door is opened, however, someone who knows what's behind the doors (Monty Hall) opens one of the other two doors, revealing a goat, and asks you if you wish to change your selection to the third door (i.e., the door which neither you picked nor he opened). The Monty Hall problem is deciding whether you do.\n",
    "\n",
    "Proposition:\n",
    "\n",
    "The correct answer is that you do want to switch. If you do not switch, you have the expected 1/3 chance of winning the car, since no matter whether you initially picked the correct door, Monty will show you a door with a goat. But after Monty has eliminated one of the doors for you, you obviously do not improve your chances of winning to better than 1/3 by sticking with your original choice. If you now switch doors, however, there is a 2/3 chance you will win the car (counterintuitive though it seems).\n",
    "\n",
    "| d1 | d2 | win |\n",
    "|:---|:---|---:|\n",
    "|pick|stick| 1/3 |\n",
    "|pick|switch| 2/3 |\n",
    "\n",
    "[1](http://mathworld.wolfram.com/MontyHallProblem.html)\n"
   ]
  },
  {
   "cell_type": "code",
   "execution_count": null,
   "metadata": {},
   "outputs": [],
   "source": [
    "import random\n",
    "number_of_games = 10 ** 6\n",
    "# winners\n",
    "do_switch, dont_switch = 0, 0\n",
    "\n",
    "for i in range(number_of_games):\n",
    "    car = random.randint(1, 3)\n",
    "    my_guess_1 = random.randint(1, 3)\n",
    "    goat = list({1, 2, 3} - {car, my_guess_1})[0]\n",
    "    switch = list({1, 2, 3} - {goat, my_guess_1})[0]\n",
    "    assert my_guess_1 != switch\n",
    "    if car == my_guess_1:\n",
    "        dont_switch += 1\n",
    "    elif car == switch:\n",
    "        do_switch += 1\n",
    "\n",
    "print(\"win rates:\")\n",
    "print(\"do switch:\", do_switch)\n",
    "print(\"dont switch:\", dont_switch)"
   ]
  },
  {
   "cell_type": "markdown",
   "metadata": {},
   "source": [
    "win rates:\n",
    "do switch: 667022\n",
    "dont switch: 332978"
   ]
  }
 ],
 "metadata": {
  "kernelspec": {
   "display_name": "Python 2",
   "language": "python",
   "name": "python2"
  },
  "language_info": {
   "codemirror_mode": {
    "name": "ipython",
    "version": 2
   },
   "file_extension": ".py",
   "mimetype": "text/x-python",
   "name": "python",
   "nbconvert_exporter": "python",
   "pygments_lexer": "ipython2",
   "version": "2.7.6"
  }
 },
 "nbformat": 4,
 "nbformat_minor": 0
}