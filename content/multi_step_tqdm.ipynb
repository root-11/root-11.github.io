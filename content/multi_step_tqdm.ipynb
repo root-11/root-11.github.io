{
 "cells": [
  {
   "cell_type": "markdown",
   "metadata": {},
   "source": [
    "# How to update tqdm with multiprocessing \n",
    "\n",
    "*when you don't know how many steps are required?*\n",
    "\n",
    "Answer: Use `float`s.\n"
   ]
  },
  {
   "cell_type": "code",
   "execution_count": null,
   "metadata": {},
   "outputs": [],
   "source": [
    "\n",
    "import time\n",
    "\n",
    "\n",
    "def func(x):\n",
    "    time.sleep(0.2)\n",
    "    return x * x\n",
    "\n",
    "\n",
    "def test5():\n",
    "    from mplite import TaskManager, Task\n",
    "    from tqdm import tqdm as _tqdm\n",
    "\n",
    "    tasks = []\n",
    "    for i in range(5):\n",
    "        tasks.append(Task(func, i))\n",
    "\n",
    "    pbar = _tqdm(total=1, desc=\"join\")\n",
    "    pbar.update(0)\n",
    "\n",
    "    class MyPbar(object):\n",
    "        def update(self, n):\n",
    "            pbar.update(n / len(tasks))\n",
    "\n",
    "    with TaskManager(cpu_count=2) as tm:\n",
    "        results = tm.execute(tasks, pbar=MyPbar())\n",
    "\n",
    "    pbar.close()\n",
    "\n",
    "    print(results)\n",
    "\n",
    "\n",
    "if __name__ == \"__main__\":\n",
    "    test5()\n"
   ]
  }
 ],
 "metadata": {
  "language_info": {
   "name": "python"
  }
 },
 "nbformat": 4,
 "nbformat_minor": 2
}
