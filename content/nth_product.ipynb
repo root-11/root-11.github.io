{
 "cells": [
  {
   "cell_type": "markdown",
   "metadata": {},
   "source": [
    "# Finding the nth product\n",
    "\n",
    "To perform a fast scan of a large solution landscape, it can be convenient to use a \"comb\" that samples N items.\n",
    "\n",
    "Here's an example:"
   ]
  },
  {
   "cell_type": "code",
   "execution_count": 1,
   "metadata": {},
   "outputs": [
    {
     "name": "stdout",
     "output_type": "stream",
     "text": [
      "0 (1, 1, 1, 1)\n",
      "1 (1, 1, 1, 2)\n",
      "2 (1, 1, 1, 3)\n",
      "3 (1, 1, 1, 4)\n",
      "4 (1, 1, 1, 5)\n",
      "444 (4, 1, 4, 4)\n",
      "837 (6, 5, 4, 5)\n",
      "838 (6, 5, 4, 6)\n",
      "839 (6, 5, 4, 7)\n"
     ]
    }
   ],
   "source": [
    "import itertools\n",
    "\n",
    "a,b,c,d = [1,2,3,4,5,6], [1,2,3,4,5],[1,2,3,4], [1,2,3,4,5,6,7]\n",
    "\n",
    "for i,comb in enumerate(itertools.product(*[a,b,c,d])):\n",
    "    if i < 5 or i > 836 or i == 444:\n",
    "        print(i, comb)\n",
    "    "
   ]
  },
  {
   "cell_type": "markdown",
   "metadata": {},
   "source": [
    "Now let's say I don't want to iterate over all these combinations, so something like this would be convenient:\n",
    "\n",
    "```python\n",
    "nth_product(444, a,b,c,d)\n",
    "```"
   ]
  },
  {
   "cell_type": "code",
   "execution_count": 2,
   "metadata": {},
   "outputs": [],
   "source": [
    "import math\n",
    "def nth_product(idx, *args):\n",
    "    \"\"\"returns the nth product of the given iterables.\n",
    "\n",
    "    Args:\n",
    "        idx (int): the index.\n",
    "        *args: the iterables.\n",
    "    \"\"\"\n",
    "    if not isinstance(idx, int):\n",
    "        raise TypeError(f\"Expected int, not {type(idx)}\")\n",
    "    elements = ()\n",
    "    for i in range(len(args)):\n",
    "        offset = math.prod([len(a) for a in args[i:]]) // len(args[i])\n",
    "        index = idx // offset\n",
    "        elements += (args[i][index],)\n",
    "        idx -= index * offset\n",
    "    return elements\n"
   ]
  },
  {
   "cell_type": "markdown",
   "metadata": {},
   "source": [
    "Example:"
   ]
  },
  {
   "cell_type": "code",
   "execution_count": 3,
   "metadata": {},
   "outputs": [
    {
     "data": {
      "text/plain": [
       "(4, 1, 4, 4)"
      ]
     },
     "execution_count": 3,
     "metadata": {},
     "output_type": "execute_result"
    }
   ],
   "source": [
    "nth_product(444, a,b,c,d)"
   ]
  },
  {
   "cell_type": "code",
   "execution_count": 4,
   "metadata": {},
   "outputs": [],
   "source": [
    "for i,comb in enumerate(itertools.product(*[a,b,c,d])):\n",
    "    assert comb == nth_product(i, a,b,c,d)"
   ]
  },
  {
   "cell_type": "markdown",
   "metadata": {},
   "source": [
    "So now can select a sample for the solution landscape using the `nth_product` as follows:"
   ]
  },
  {
   "cell_type": "code",
   "execution_count": 5,
   "metadata": {},
   "outputs": [
    {
     "name": "stdout",
     "output_type": "stream",
     "text": [
      "start: 10 step 40 total: 840\n",
      "1 | 10 : (1, 1, 2, 4)\n",
      "2 | 50 : (1, 2, 4, 2)\n",
      "3 | 90 : (1, 4, 1, 7)\n",
      "4 | 130 : (1, 5, 3, 5)\n",
      "5 | 170 : (2, 2, 1, 3)\n",
      "6 | 210 : (2, 3, 3, 1)\n",
      "7 | 250 : (2, 4, 4, 6)\n",
      "8 | 290 : (3, 1, 2, 4)\n",
      "9 | 330 : (3, 2, 4, 2)\n",
      "10 | 370 : (3, 4, 1, 7)\n",
      "11 | 410 : (3, 5, 3, 5)\n",
      "12 | 450 : (4, 2, 1, 3)\n",
      "13 | 490 : (4, 3, 3, 1)\n",
      "14 | 530 : (4, 4, 4, 6)\n",
      "15 | 570 : (5, 1, 2, 4)\n",
      "16 | 610 : (5, 2, 4, 2)\n",
      "17 | 650 : (5, 4, 1, 7)\n",
      "18 | 690 : (5, 5, 3, 5)\n",
      "19 | 730 : (6, 2, 1, 3)\n",
      "20 | 770 : (6, 3, 3, 1)\n",
      "21 | 810 : (6, 4, 4, 6)\n"
     ]
    }
   ],
   "source": [
    "combinations = math.prod([len(a) for a in [a,b,c,d]])\n",
    "sample_size = 21\n",
    "step_size = combinations // sample_size\n",
    "offset = 10\n",
    "print(\"start:\", offset, \"step\", step_size, \"total:\", combinations)\n",
    "\n",
    "cnt = itertools.count(start=1)\n",
    "for i in range(offset, combinations, step_size):\n",
    "    print(next(cnt), \"|\", i, \":\", nth_product(i, a,b,c,d))\n"
   ]
  },
  {
   "cell_type": "markdown",
   "metadata": {},
   "source": [
    "QED, thanks for reading."
   ]
  }
 ],
 "metadata": {
  "kernelspec": {
   "display_name": "pages310",
   "language": "python",
   "name": "python3"
  },
  "language_info": {
   "codemirror_mode": {
    "name": "ipython",
    "version": 3
   },
   "file_extension": ".py",
   "mimetype": "text/x-python",
   "name": "python",
   "nbconvert_exporter": "python",
   "pygments_lexer": "ipython3",
   "version": "3.10.11"
  }
 },
 "nbformat": 4,
 "nbformat_minor": 2
}
