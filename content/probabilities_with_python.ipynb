{
 "cells": [
  {
   "cell_type": "markdown",
   "metadata": {
    "collapsed": true,
    "pycharm": {
     "name": "#%% md\n"
    }
   },
   "source": [
    "# Solving problems with probabilities\n",
    "Source: [Twitter.com/raymondh](Twitter.com/raymondh)\n",
    "\n",
    "A conference has 750 people and 2 rooms with a\n",
    "500 person capacity. One talk is about Python and the other about Ruby.\n",
    "\n",
    "Historically, 65% of the attendees preferred to listen to #Python talks.  What is the probability that the Python room will stay within its capacity limits?\n",
    "\n",
    "Here are the parameters:"
   ]
  },
  {
   "cell_type": "code",
   "execution_count": 1,
   "outputs": [],
   "source": [
    "n = 750             # Number of attendees\n",
    "p = 0.65            # Preference for Python\n",
    "q = 1.0 - p         # Preference for Ruby\n",
    "k = 500             # Room capacity"
   ],
   "metadata": {
    "collapsed": false,
    "pycharm": {
     "name": "#%%\n"
    }
   }
  },
  {
   "cell_type": "markdown",
   "source": [
    "Try it yourself before looking at the three difference solutions that follow.\n",
    "\n",
    "Solution 1:  Cumulative binomial distribution"
   ],
   "metadata": {
    "collapsed": false,
    "pycharm": {
     "name": "#%% md\n"
    }
   }
  },
  {
   "cell_type": "code",
   "execution_count": 2,
   "outputs": [
    {
     "data": {
      "text/plain": "0.8402"
     },
     "execution_count": 2,
     "metadata": {},
     "output_type": "execute_result"
    }
   ],
   "source": [
    "from math import comb, fsum\n",
    "\n",
    "round(fsum(comb(n, r) * p**r * q**(n-r) for r in range(k+1)), 4)"
   ],
   "metadata": {
    "collapsed": false,
    "pycharm": {
     "name": "#%%\n"
    }
   }
  },
  {
   "cell_type": "markdown",
   "source": [
    "Solution 2:  Approximation with a normal distribution"
   ],
   "metadata": {
    "collapsed": false,
    "pycharm": {
     "name": "#%% md\n"
    }
   }
  },
  {
   "cell_type": "code",
   "execution_count": 3,
   "outputs": [
    {
     "data": {
      "text/plain": "0.8402"
     },
     "execution_count": 3,
     "metadata": {},
     "output_type": "execute_result"
    }
   ],
   "source": [
    "from statistics import NormalDist\n",
    "from math import sqrt\n",
    "\n",
    "round(NormalDist(mu=n*p, sigma=sqrt(n*p*q)).cdf(k + 0.5), 4)"
   ],
   "metadata": {
    "collapsed": false,
    "pycharm": {
     "name": "#%%\n"
    }
   }
  },
  {
   "cell_type": "markdown",
   "source": [
    "Solution 3:  Approximation using a simulation"
   ],
   "metadata": {
    "collapsed": false,
    "pycharm": {
     "name": "#%% md\n"
    }
   }
  },
  {
   "cell_type": "code",
   "execution_count": 4,
   "outputs": [
    {
     "data": {
      "text/plain": "0.8444"
     },
     "execution_count": 4,
     "metadata": {},
     "output_type": "execute_result"
    }
   ],
   "source": [
    "from random import choices\n",
    "from statistics import mean\n",
    "\n",
    "def trial():\n",
    "    return choices(('Python', 'Ruby'), (p, q), k=n).count('Python')\n",
    "\n",
    "mean(trial() <= k for i in range(10_000))"
   ],
   "metadata": {
    "collapsed": false,
    "pycharm": {
     "name": "#%%\n"
    }
   }
  },
  {
   "cell_type": "markdown",
   "source": [
    "For more on Solution 1, see:\n",
    "\n",
    "https://statisticshowto.com/difference-binompdf-binomcdf/\n",
    "\n",
    "For more on Solution 2, see:\n",
    "\n",
    "https://statisticshowto.com/probability-and-statistics/binomial-theorem/normal-approximation-to-the-binomial/\n",
    "\n",
    "For more on Solution 3, see:\n",
    "\n",
    "https://docs.python.org/3/library/random.html#examples\n",
    "\n",
    "\n"
   ],
   "metadata": {
    "collapsed": false,
    "pycharm": {
     "name": "#%% md\n"
    }
   }
  }
 ],
 "metadata": {
  "kernelspec": {
   "name": "pycharm-d2eb47b4",
   "language": "python",
   "display_name": "PyCharm (github-pages)"
  },
  "language_info": {
   "codemirror_mode": {
    "name": "ipython",
    "version": 2
   },
   "file_extension": ".py",
   "mimetype": "text/x-python",
   "name": "python",
   "nbconvert_exporter": "python",
   "pygments_lexer": "ipython2",
   "version": "2.7.6"
  }
 },
 "nbformat": 4,
 "nbformat_minor": 0
}