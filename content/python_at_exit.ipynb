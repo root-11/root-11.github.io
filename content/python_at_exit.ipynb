{
 "cells": [
  {
   "attachments": {},
   "cell_type": "markdown",
   "metadata": {},
   "source": [
    "# Controlling python at exit\n",
    "\n",
    "Here's the textbook recipe\n",
    "\n",
    "```python\n",
    "import atexit\n",
    "\n",
    "\n",
    "PYTHON_EXITING = False\n",
    "\n",
    "\n",
    "def _exit():\n",
    "    print(\"SETTING PYTHON AT EXIT\")\n",
    "    global PYTHON_EXITING\n",
    "    PYTHON_EXITING = True\n",
    "\n",
    "\n",
    "atexit.register(_exit)\n",
    "\n",
    "\n",
    "class DummyThread:\n",
    "    def __init__(self, name) -> None:\n",
    "        self.name = name\n",
    "\n",
    "    def __del__(self):\n",
    "        if PYTHON_EXITING:\n",
    "            print(\"PYTHON AT EXIT\")\n",
    "        print(\"__del__\", self.name)\n",
    "\n",
    "\n",
    "foo1 = DummyThread(\"1\")\n",
    "foo2 = DummyThread(\"2\")\n",
    "\n",
    "del foo1\n",
    "```\n",
    "\n",
    "output:\n",
    "\n",
    "```text\n",
    "__del__ 1\n",
    "SETTING PYTHON AT EXIT\n",
    "PYTHON AT EXIT\n",
    "__del__ 2\n",
    "```\n"
   ]
  }
 ],
 "metadata": {
  "language_info": {
   "name": "python"
  },
  "orig_nbformat": 4
 },
 "nbformat": 4,
 "nbformat_minor": 2
}
