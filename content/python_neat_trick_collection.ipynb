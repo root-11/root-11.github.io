{
 "cells": [
  {
   "cell_type": "markdown",
   "metadata": {
    "collapsed": true,
    "pycharm": {
     "name": "#%% md\n"
    }
   },
   "source": [
    "# Python trick collection\n",
    "\n",
    "Inspired Ned Batchelder when he posted a python 27 version of `__cmp__` on twitter, made me think it's about time to start a small collection of neat 1-line python tricks.\n",
    " More inspirations are welcome - just submit an issue or pull request.\n",
    "\n",
    "## Number magic\n",
    "\n",
    "Here's the inspiration (thanks Ned):\n",
    "\n",
    "<blockquote class=\"twitter-tweet\"><p lang=\"en\" dir=\"ltr\">A slightly tricky variant: <a href=\"https://t.co/nxFQfMp2iv\">https://t.co/nxFQfMp2iv</a></p>&mdash; Ned Batchelder (@nedbat) <a href=\"https://twitter.com/nedbat/status/1470062745794101252?ref_src=twsrc%5Etfw\">December 12, 2021</a></blockquote> <script async src=\"https://platform.twitter.com/widgets.js\" charset=\"utf-8\"></script>\n"
   ]
  },
  {
   "cell_type": "code",
   "execution_count": 26,
   "outputs": [],
   "source": [
    "def cmp(a, b) -> int:\n",
    "    \"\"\" compare two numbers as in python 2\n",
    "\n",
    "    :returns\n",
    "        -1 if a < b\n",
    "        0 if a==b\n",
    "        1 if a>b\n",
    "    \"\"\"\n",
    "    return (a > b) - (a < b)"
   ],
   "metadata": {
    "collapsed": false,
    "pycharm": {
     "name": "#%%\n"
    }
   }
  },
  {
   "cell_type": "markdown",
   "source": [
    "This was followed by Robert Smallshire with the comment:\n",
    "\n",
    "    I use this all the time.\n",
    "\n",
    "\n",
    "<blockquote class=\"twitter-tweet\"><p lang=\"da\" dir=\"ltr\">&gt;&gt;&gt; def sign_symbol(n):<br>... return (&#39;&#39;, &#39;+&#39;, &#39;-&#39;)[(n &gt; 0) - (n &lt; 0)]<br>... <br>&gt;&gt;&gt; sign_symbol(5)<br>&#39;+&#39;<br>&gt;&gt;&gt; sign_symbol(-5)<br>&#39;-&#39;<br>&gt;&gt;&gt; sign_symbol(0)<br>&#39;&#39;</p>&mdash; Robert Smallshire (@robsmallshire) <a href=\"https://twitter.com/robsmallshire/status/1470061656373923849?ref_src=twsrc%5Etfw\">December 12, 2021</a></blockquote> <script async src=\"https://platform.twitter.com/widgets.js\" charset=\"utf-8\"></script>\n",
    "\n",
    "What I really like about Robert's function is the joint use of pythons index as a computed value.\n",
    "\n",
    "Think about this given that most people would write:"
   ],
   "metadata": {
    "collapsed": false,
    "pycharm": {
     "name": "#%% md\n"
    }
   }
  },
  {
   "cell_type": "code",
   "execution_count": 27,
   "outputs": [],
   "source": [
    "def sign_symbol(n):\n",
    "    if n > 0:\n",
    "        return '+'\n",
    "    elif n == 0:\n",
    "        return ''\n",
    "    else:\n",
    "        return '-'"
   ],
   "metadata": {
    "collapsed": false,
    "pycharm": {
     "name": "#%%\n"
    }
   }
  },
  {
   "cell_type": "markdown",
   "source": [
    "But Roberts use is so much simpler:"
   ],
   "metadata": {
    "collapsed": false,
    "pycharm": {
     "name": "#%% md\n"
    }
   }
  },
  {
   "cell_type": "code",
   "execution_count": 28,
   "outputs": [],
   "source": [
    "def sign_symbol(n):\n",
    "    return ('','+','-')[(n>0)-(n<0)]"
   ],
   "metadata": {
    "collapsed": false,
    "pycharm": {
     "name": "#%%\n"
    }
   }
  },
  {
   "cell_type": "code",
   "execution_count": 29,
   "outputs": [
    {
     "data": {
      "text/plain": "('+', '-', '')"
     },
     "execution_count": 29,
     "metadata": {},
     "output_type": "execute_result"
    }
   ],
   "source": [
    "sign_symbol(5), sign_symbol(-5), sign_symbol(0)"
   ],
   "metadata": {
    "collapsed": false,
    "pycharm": {
     "name": "#%%\n"
    }
   }
  },
  {
   "cell_type": "markdown",
   "source": [
    "\n",
    "## Dictionaries\n",
    "\n",
    "I've seen other neat tricks like this for dictionaries."
   ],
   "metadata": {
    "collapsed": false,
    "pycharm": {
     "name": "#%% md\n"
    }
   }
  },
  {
   "cell_type": "code",
   "execution_count": 30,
   "outputs": [],
   "source": [
    "def reorder_alphabetically(**kwargs):\n",
    "    return {k:v for k,v in zip(sorted(kwargs),sorted(kwargs.values()))}"
   ],
   "metadata": {
    "collapsed": false,
    "pycharm": {
     "name": "#%%\n"
    }
   }
  },
  {
   "cell_type": "code",
   "execution_count": 31,
   "outputs": [
    {
     "data": {
      "text/plain": "{'a': 1, 'b': 2, 'c': 3}"
     },
     "execution_count": 31,
     "metadata": {},
     "output_type": "execute_result"
    }
   ],
   "source": [
    "reorder_alphabetically(a=3,b=1,c=2)"
   ],
   "metadata": {
    "collapsed": false,
    "pycharm": {
     "name": "#%%\n"
    }
   }
  },
  {
   "cell_type": "markdown",
   "source": [
    "Accessing nested dictionaries using the dot notation"
   ],
   "metadata": {
    "collapsed": false,
    "pycharm": {
     "name": "#%% md\n"
    }
   }
  },
  {
   "cell_type": "code",
   "execution_count": 32,
   "outputs": [],
   "source": [
    "def get(d, keys):\n",
    "    focus = d\n",
    "    for key in keys.split(\".\"):\n",
    "        focus = focus[key]\n",
    "    return focus"
   ],
   "metadata": {
    "collapsed": false,
    "pycharm": {
     "name": "#%%\n"
    }
   }
  },
  {
   "cell_type": "code",
   "execution_count": 33,
   "outputs": [
    {
     "data": {
      "text/plain": "1"
     },
     "execution_count": 33,
     "metadata": {},
     "output_type": "execute_result"
    }
   ],
   "source": [
    "d = {\n",
    "    'zero': {\"null\": {'binary': 0}},\n",
    "    'one': {\"eins\": {'binary': 1}, \"uno\": {'binary': 1}},\n",
    "    'two': {\"zwei\": {'binary': 10}, \"duo\": {'binary': 10}, \"to\":{'binary': 10}}\n",
    "}\n",
    "\n",
    "get(d, \"one.eins.binary\")"
   ],
   "metadata": {
    "collapsed": false,
    "pycharm": {
     "name": "#%%\n"
    }
   }
  },
  {
   "cell_type": "code",
   "execution_count": 34,
   "outputs": [
    {
     "data": {
      "text/plain": "{'binary': 1}"
     },
     "execution_count": 34,
     "metadata": {},
     "output_type": "execute_result"
    }
   ],
   "source": [
    "get(d, \"one.eins\")"
   ],
   "metadata": {
    "collapsed": false,
    "pycharm": {
     "name": "#%%\n"
    }
   }
  },
  {
   "cell_type": "markdown",
   "source": [
    "Get the key of the largest/smallest value in a dictionary"
   ],
   "metadata": {
    "collapsed": false,
    "pycharm": {
     "name": "#%% md\n"
    }
   }
  },
  {
   "cell_type": "code",
   "execution_count": 35,
   "outputs": [
    {
     "data": {
      "text/plain": "'c'"
     },
     "execution_count": 35,
     "metadata": {},
     "output_type": "execute_result"
    }
   ],
   "source": [
    "a_dictionary = {\"a\": 1, \"b\": 2, \"c\": 3}\n",
    "\n",
    "max(a_dictionary, key=a_dictionary.get)"
   ],
   "metadata": {
    "collapsed": false,
    "pycharm": {
     "name": "#%%\n"
    }
   }
  },
  {
   "cell_type": "markdown",
   "source": [
    "A two-way fault friendly dictionary"
   ],
   "metadata": {
    "collapsed": false
   }
  },
  {
   "cell_type": "code",
   "execution_count": 36,
   "outputs": [],
   "source": [
    "from collections import defaultdict\n",
    "class TwoWayDict(object):\n",
    "    def __init__(self):\n",
    "        self.k_v = {}\n",
    "        self.v_k = defaultdict(set)\n",
    "\n",
    "    def __setitem__(self, key, value):\n",
    "        self.k_v[key]=value\n",
    "        self.v_k[value].add(key)\n",
    "\n",
    "    def __getitem__(self, item):\n",
    "        return self.k_v[item]\n",
    "\n",
    "    def __delitem__(self, key):\n",
    "        value = self.k_v.pop(key)\n",
    "        z = self.v_k[value]\n",
    "        z.remove(key)\n",
    "        if not self.v_k[value]:\n",
    "            del self.v_k[value]\n",
    "\n",
    "    def get_by_value(self,value):\n",
    "        \"\"\" returns the keys associated with a value\"\"\"\n",
    "        return self.v_k[value]\n",
    "\n",
    "    def del_by_value(self, value):\n",
    "        z = self.v_k.pop(value)\n",
    "        for k in z:\n",
    "            del self.k_v[k]\n"
   ],
   "metadata": {
    "collapsed": false,
    "pycharm": {
     "name": "#%%\n"
    }
   }
  },
  {
   "cell_type": "code",
   "execution_count": 37,
   "outputs": [],
   "source": [
    "dd = TwoWayDict()"
   ],
   "metadata": {
    "collapsed": false,
    "pycharm": {
     "name": "#%%\n"
    }
   }
  },
  {
   "cell_type": "code",
   "execution_count": 38,
   "outputs": [],
   "source": [
    "dd['a']=10\n",
    "dd['b']=10\n",
    "dd['c']=11"
   ],
   "metadata": {
    "collapsed": false,
    "pycharm": {
     "name": "#%%\n"
    }
   }
  },
  {
   "cell_type": "code",
   "execution_count": 39,
   "outputs": [
    {
     "data": {
      "text/plain": "(10, 10, 11, {'a', 'b'}, {'c'})"
     },
     "execution_count": 39,
     "metadata": {},
     "output_type": "execute_result"
    }
   ],
   "source": [
    "dd['a'],dd['b'], dd['c'], dd.get_by_value(10), dd.get_by_value(11)"
   ],
   "metadata": {
    "collapsed": false,
    "pycharm": {
     "name": "#%%\n"
    }
   }
  },
  {
   "cell_type": "code",
   "execution_count": 40,
   "outputs": [],
   "source": [
    "del dd['c']"
   ],
   "metadata": {
    "collapsed": false,
    "pycharm": {
     "name": "#%%\n"
    }
   }
  },
  {
   "cell_type": "code",
   "execution_count": 41,
   "outputs": [
    {
     "data": {
      "text/plain": "(defaultdict(set, {10: {'a', 'b'}}), {'a': 10, 'b': 10})"
     },
     "execution_count": 41,
     "metadata": {},
     "output_type": "execute_result"
    }
   ],
   "source": [
    "dd.v_k, dd.k_v"
   ],
   "metadata": {
    "collapsed": false,
    "pycharm": {
     "name": "#%%\n"
    }
   }
  },
  {
   "cell_type": "code",
   "execution_count": 42,
   "outputs": [],
   "source": [
    "dd.del_by_value(10)"
   ],
   "metadata": {
    "collapsed": false,
    "pycharm": {
     "name": "#%%\n"
    }
   }
  },
  {
   "cell_type": "code",
   "execution_count": 43,
   "outputs": [
    {
     "data": {
      "text/plain": "(defaultdict(set, {}), {})"
     },
     "execution_count": 43,
     "metadata": {},
     "output_type": "execute_result"
    }
   ],
   "source": [
    "dd.v_k, dd.k_v"
   ],
   "metadata": {
    "collapsed": false,
    "pycharm": {
     "name": "#%%\n"
    }
   }
  }
 ],
 "metadata": {
  "kernelspec": {
   "name": "pycharm-d2eb47b4",
   "language": "python",
   "display_name": "PyCharm (github-pages)"
  },
  "language_info": {
   "codemirror_mode": {
    "name": "ipython",
    "version": 2
   },
   "file_extension": ".py",
   "mimetype": "text/x-python",
   "name": "python",
   "nbconvert_exporter": "python",
   "pygments_lexer": "ipython2",
   "version": "2.7.6"
  }
 },
 "nbformat": 4,
 "nbformat_minor": 0
}