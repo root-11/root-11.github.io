{
 "cells": [
  {
   "cell_type": "markdown",
   "metadata": {
    "collapsed": true,
    "pycharm": {
     "name": "#%% md\n"
    }
   },
   "source": [
    "# Python trick collection\n",
    "\n",
    "Inspired Ned Batchelder when he posted a python 27 version of `__cmp__` on twitter, made me think it's about time to start a small collection of neat 1-line python tricks.\n",
    " More inspirations are welcome - just submit an issue or pull request.\n",
    "\n",
    "## Number magic\n",
    "\n",
    "Here's the inspiration (thanks Ned):\n",
    "\n",
    "<blockquote class=\"twitter-tweet\"><p lang=\"en\" dir=\"ltr\">A slightly tricky variant: <a href=\"https://t.co/nxFQfMp2iv\">https://t.co/nxFQfMp2iv</a></p>&mdash; Ned Batchelder (@nedbat) <a href=\"https://twitter.com/nedbat/status/1470062745794101252?ref_src=twsrc%5Etfw\">December 12, 2021</a></blockquote> <script async src=\"https://platform.twitter.com/widgets.js\" charset=\"utf-8\"></script>\n"
   ]
  },
  {
   "cell_type": "code",
   "execution_count": 23,
   "metadata": {
    "collapsed": false,
    "pycharm": {
     "name": "#%%\n"
    }
   },
   "outputs": [],
   "source": [
    "def cmp(a, b) -> int:\n",
    "    \"\"\" compare two numbers as in python 2\n",
    "\n",
    "    :returns\n",
    "        -1 if a < b\n",
    "        0 if a==b\n",
    "        1 if a>b\n",
    "    \"\"\"\n",
    "    return (a > b) - (a < b)"
   ]
  },
  {
   "cell_type": "markdown",
   "metadata": {
    "collapsed": false,
    "pycharm": {
     "name": "#%% md\n"
    }
   },
   "source": [
    "This was followed by Robert Smallshire with the comment:\n",
    "\n",
    "    I use this all the time.\n",
    "\n",
    "\n",
    "<blockquote class=\"twitter-tweet\"><p lang=\"da\" dir=\"ltr\">&gt;&gt;&gt; def sign_symbol(n):<br>... return (&#39;&#39;, &#39;+&#39;, &#39;-&#39;)[(n &gt; 0) - (n &lt; 0)]<br>... <br>&gt;&gt;&gt; sign_symbol(5)<br>&#39;+&#39;<br>&gt;&gt;&gt; sign_symbol(-5)<br>&#39;-&#39;<br>&gt;&gt;&gt; sign_symbol(0)<br>&#39;&#39;</p>&mdash; Robert Smallshire (@robsmallshire) <a href=\"https://twitter.com/robsmallshire/status/1470061656373923849?ref_src=twsrc%5Etfw\">December 12, 2021</a></blockquote> <script async src=\"https://platform.twitter.com/widgets.js\" charset=\"utf-8\"></script>\n",
    "\n",
    "What I really like about Robert's function is the joint use of pythons index as a computed value.\n",
    "\n",
    "Think about this given that most people would write:"
   ]
  },
  {
   "cell_type": "code",
   "execution_count": 24,
   "metadata": {
    "collapsed": false,
    "pycharm": {
     "name": "#%%\n"
    }
   },
   "outputs": [],
   "source": [
    "def sign_symbol(n):\n",
    "    if n > 0:\n",
    "        return '+'\n",
    "    elif n == 0:\n",
    "        return ''\n",
    "    else:\n",
    "        return '-'"
   ]
  },
  {
   "cell_type": "markdown",
   "metadata": {
    "collapsed": false,
    "pycharm": {
     "name": "#%% md\n"
    }
   },
   "source": [
    "But Roberts use is so much simpler:"
   ]
  },
  {
   "cell_type": "code",
   "execution_count": 25,
   "metadata": {
    "collapsed": false,
    "pycharm": {
     "name": "#%%\n"
    }
   },
   "outputs": [],
   "source": [
    "def sign_symbol(n):\n",
    "    return ('','+','-')[(n>0)-(n<0)]"
   ]
  },
  {
   "cell_type": "code",
   "execution_count": 26,
   "metadata": {
    "collapsed": false,
    "pycharm": {
     "name": "#%%\n"
    }
   },
   "outputs": [
    {
     "data": {
      "text/plain": [
       "('+', '-', '')"
      ]
     },
     "execution_count": 26,
     "metadata": {},
     "output_type": "execute_result"
    }
   ],
   "source": [
    "sign_symbol(5), sign_symbol(-5), sign_symbol(0)"
   ]
  },
  {
   "cell_type": "markdown",
   "metadata": {
    "collapsed": false,
    "pycharm": {
     "name": "#%% md\n"
    }
   },
   "source": [
    "\n",
    "## Dictionaries\n",
    "\n",
    "I've seen other neat tricks like this for dictionaries."
   ]
  },
  {
   "cell_type": "code",
   "execution_count": 27,
   "metadata": {
    "collapsed": false,
    "pycharm": {
     "name": "#%%\n"
    }
   },
   "outputs": [],
   "source": [
    "def reorder_alphabetically(**kwargs):\n",
    "    return {k:v for k,v in zip(sorted(kwargs),sorted(kwargs.values()))}"
   ]
  },
  {
   "cell_type": "code",
   "execution_count": 28,
   "metadata": {
    "collapsed": false,
    "pycharm": {
     "name": "#%%\n"
    }
   },
   "outputs": [
    {
     "data": {
      "text/plain": [
       "{'a': 1, 'b': 2, 'c': 3}"
      ]
     },
     "execution_count": 28,
     "metadata": {},
     "output_type": "execute_result"
    }
   ],
   "source": [
    "reorder_alphabetically(a=3,b=1,c=2)"
   ]
  },
  {
   "cell_type": "markdown",
   "metadata": {
    "collapsed": false,
    "pycharm": {
     "name": "#%% md\n"
    }
   },
   "source": [
    "Accessing nested dictionaries using the dot notation"
   ]
  },
  {
   "cell_type": "code",
   "execution_count": 29,
   "metadata": {
    "collapsed": false,
    "pycharm": {
     "name": "#%%\n"
    }
   },
   "outputs": [],
   "source": [
    "def get(d, keys):\n",
    "    focus = d\n",
    "    for key in keys.split(\".\"):\n",
    "        focus = focus[key]\n",
    "    return focus"
   ]
  },
  {
   "cell_type": "code",
   "execution_count": 30,
   "metadata": {
    "collapsed": false,
    "pycharm": {
     "name": "#%%\n"
    }
   },
   "outputs": [
    {
     "data": {
      "text/plain": [
       "1"
      ]
     },
     "execution_count": 30,
     "metadata": {},
     "output_type": "execute_result"
    }
   ],
   "source": [
    "d = {\n",
    "    'zero': {\"null\": {'binary': 0}},\n",
    "    'one': {\"eins\": {'binary': 1}, \"uno\": {'binary': 1}},\n",
    "    'two': {\"zwei\": {'binary': 10}, \"duo\": {'binary': 10}, \"to\":{'binary': 10}}\n",
    "}\n",
    "\n",
    "get(d, \"one.eins.binary\")"
   ]
  },
  {
   "cell_type": "code",
   "execution_count": 31,
   "metadata": {
    "collapsed": false,
    "pycharm": {
     "name": "#%%\n"
    }
   },
   "outputs": [
    {
     "data": {
      "text/plain": [
       "{'binary': 1}"
      ]
     },
     "execution_count": 31,
     "metadata": {},
     "output_type": "execute_result"
    }
   ],
   "source": [
    "get(d, \"one.eins\")"
   ]
  },
  {
   "cell_type": "markdown",
   "metadata": {
    "collapsed": false,
    "pycharm": {
     "name": "#%% md\n"
    }
   },
   "source": [
    "Get the key of the largest/smallest value in a dictionary"
   ]
  },
  {
   "cell_type": "code",
   "execution_count": 32,
   "metadata": {
    "collapsed": false,
    "pycharm": {
     "name": "#%%\n"
    }
   },
   "outputs": [
    {
     "data": {
      "text/plain": [
       "'c'"
      ]
     },
     "execution_count": 32,
     "metadata": {},
     "output_type": "execute_result"
    }
   ],
   "source": [
    "a_dictionary = {\"a\": 1, \"b\": 2, \"c\": 3}\n",
    "\n",
    "max(a_dictionary, key=a_dictionary.get)"
   ]
  },
  {
   "cell_type": "markdown",
   "metadata": {
    "collapsed": false
   },
   "source": [
    "A two-way fault friendly dictionary"
   ]
  },
  {
   "cell_type": "code",
   "execution_count": 33,
   "metadata": {
    "collapsed": false,
    "pycharm": {
     "name": "#%%\n"
    }
   },
   "outputs": [],
   "source": [
    "from collections import defaultdict\n",
    "class TwoWayDict(object):\n",
    "    def __init__(self):\n",
    "        self.k_v = {}\n",
    "        self.v_k = defaultdict(set)\n",
    "\n",
    "    def __setitem__(self, key, value):\n",
    "        self.k_v[key]=value\n",
    "        self.v_k[value].add(key)\n",
    "\n",
    "    def __getitem__(self, item):\n",
    "        return self.k_v[item]\n",
    "\n",
    "    def __delitem__(self, key):\n",
    "        value = self.k_v.pop(key)\n",
    "        z = self.v_k[value]\n",
    "        z.remove(key)\n",
    "        if not self.v_k[value]:\n",
    "            del self.v_k[value]\n",
    "\n",
    "    def get_by_value(self,value):\n",
    "        \"\"\" returns the keys associated with a value\"\"\"\n",
    "        return self.v_k[value]\n",
    "\n",
    "    def del_by_value(self, value):\n",
    "        z = self.v_k.pop(value)\n",
    "        for k in z:\n",
    "            del self.k_v[k]\n"
   ]
  },
  {
   "cell_type": "code",
   "execution_count": 34,
   "metadata": {
    "collapsed": false,
    "pycharm": {
     "name": "#%%\n"
    }
   },
   "outputs": [],
   "source": [
    "dd = TwoWayDict()"
   ]
  },
  {
   "cell_type": "code",
   "execution_count": 35,
   "metadata": {
    "collapsed": false,
    "pycharm": {
     "name": "#%%\n"
    }
   },
   "outputs": [],
   "source": [
    "dd['a']=10\n",
    "dd['b']=10\n",
    "dd['c']=11"
   ]
  },
  {
   "cell_type": "code",
   "execution_count": 36,
   "metadata": {
    "collapsed": false,
    "pycharm": {
     "name": "#%%\n"
    }
   },
   "outputs": [
    {
     "data": {
      "text/plain": [
       "(10, 10, 11, {'a', 'b'}, {'c'})"
      ]
     },
     "execution_count": 36,
     "metadata": {},
     "output_type": "execute_result"
    }
   ],
   "source": [
    "dd['a'],dd['b'], dd['c'], dd.get_by_value(10), dd.get_by_value(11)"
   ]
  },
  {
   "cell_type": "code",
   "execution_count": 37,
   "metadata": {
    "collapsed": false,
    "pycharm": {
     "name": "#%%\n"
    }
   },
   "outputs": [],
   "source": [
    "del dd['c']"
   ]
  },
  {
   "cell_type": "code",
   "execution_count": 38,
   "metadata": {
    "collapsed": false,
    "pycharm": {
     "name": "#%%\n"
    }
   },
   "outputs": [
    {
     "data": {
      "text/plain": [
       "(defaultdict(set, {10: {'a', 'b'}}), {'a': 10, 'b': 10})"
      ]
     },
     "execution_count": 38,
     "metadata": {},
     "output_type": "execute_result"
    }
   ],
   "source": [
    "dd.v_k, dd.k_v"
   ]
  },
  {
   "cell_type": "code",
   "execution_count": 39,
   "metadata": {
    "collapsed": false,
    "pycharm": {
     "name": "#%%\n"
    }
   },
   "outputs": [],
   "source": [
    "dd.del_by_value(10)"
   ]
  },
  {
   "cell_type": "code",
   "execution_count": 40,
   "metadata": {
    "collapsed": false,
    "pycharm": {
     "name": "#%%\n"
    }
   },
   "outputs": [
    {
     "data": {
      "text/plain": [
       "(defaultdict(set, {}), {})"
      ]
     },
     "execution_count": 40,
     "metadata": {},
     "output_type": "execute_result"
    }
   ],
   "source": [
    "dd.v_k, dd.k_v"
   ]
  },
  {
   "cell_type": "markdown",
   "metadata": {},
   "source": [
    "To unpack a list of tuples use `zip(*...)`"
   ]
  },
  {
   "cell_type": "code",
   "execution_count": 41,
   "metadata": {},
   "outputs": [
    {
     "name": "stdout",
     "output_type": "stream",
     "text": [
      "(1, 4)\n",
      "(1, 5)\n",
      "(1, 6)\n",
      "(2, 4)\n",
      "(2, 5)\n",
      "(2, 6)\n",
      "(3, 4)\n",
      "(3, 5)\n",
      "(3, 6)\n"
     ]
    }
   ],
   "source": [
    "import itertools\n",
    "for i in itertools.product([1,2,3],[4,5,6]):\n",
    "    print(i)"
   ]
  },
  {
   "cell_type": "code",
   "execution_count": 42,
   "metadata": {},
   "outputs": [
    {
     "data": {
      "text/plain": [
       "((1, 1, 1, 2, 2, 2, 3, 3, 3), (4, 5, 6, 4, 5, 6, 4, 5, 6))"
      ]
     },
     "execution_count": 42,
     "metadata": {},
     "output_type": "execute_result"
    }
   ],
   "source": [
    "x,y = zip(*itertools.product([1,2,3],[4,5,6]))       \n",
    "x,y\n"
   ]
  },
  {
   "attachments": {},
   "cell_type": "markdown",
   "metadata": {},
   "source": [
    "Adding two dicts:"
   ]
  },
  {
   "cell_type": "code",
   "execution_count": 43,
   "metadata": {},
   "outputs": [
    {
     "name": "stdout",
     "output_type": "stream",
     "text": [
      "{'both1': 11, 'only_x': 100, 'both2': 22}\n",
      "{'both1': 11, 'both2': 22}\n",
      "{'both1': 11, 'only_x': 100, 'both2': 22, 'only_y': 200}\n"
     ]
    }
   ],
   "source": [
    "x = {'both1': 1, 'both2': 2, 'only_x': 100}\n",
    "y = {'both1': 10, 'both2': 20, 'only_y': 200}\n",
    "\n",
    "print( {k: x.get(k, 0) + y.get(k, 0) for k in set(x)} )\n",
    "print( {k: x.get(k, 0) + y.get(k, 0) for k in set(x) & set(y)} )\n",
    "print( {k: x.get(k, 0) + y.get(k, 0) for k in set(x) | set(y)} )"
   ]
  },
  {
   "attachments": {},
   "cell_type": "markdown",
   "metadata": {},
   "source": [
    "credits: https://stackoverflow.com/a/10461916/1186019"
   ]
  }
 ],
 "metadata": {
  "kernelspec": {
   "display_name": "Python 3.10.5 ('pages310')",
   "language": "python",
   "name": "python3"
  },
  "language_info": {
   "codemirror_mode": {
    "name": "ipython",
    "version": 3
   },
   "file_extension": ".py",
   "mimetype": "text/x-python",
   "name": "python",
   "nbconvert_exporter": "python",
   "pygments_lexer": "ipython3",
   "version": "3.10.8"
  },
  "vscode": {
   "interpreter": {
    "hash": "6f432a2729e41e111fc68229d0303145971e0c11421dc22cdb03f95edd20be36"
   }
  }
 },
 "nbformat": 4,
 "nbformat_minor": 0
}
