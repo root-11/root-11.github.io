{
 "cells": [
  {
   "cell_type": "markdown",
   "metadata": {},
   "source": [
    "# Comparing Pandas and Tablite's readability.\n",
    "\n",
    "First Pandas:"
   ]
  },
  {
   "cell_type": "code",
   "execution_count": 1,
   "metadata": {},
   "outputs": [
    {
     "data": {
      "text/html": [
       "<div>\n",
       "<style scoped>\n",
       "    .dataframe tbody tr th:only-of-type {\n",
       "        vertical-align: middle;\n",
       "    }\n",
       "\n",
       "    .dataframe tbody tr th {\n",
       "        vertical-align: top;\n",
       "    }\n",
       "\n",
       "    .dataframe thead th {\n",
       "        text-align: right;\n",
       "    }\n",
       "</style>\n",
       "<table border=\"1\" class=\"dataframe\">\n",
       "  <thead>\n",
       "    <tr style=\"text-align: right;\">\n",
       "      <th>Variable</th>\n",
       "      <th>Jan 2022</th>\n",
       "      <th>Feb 2022</th>\n",
       "      <th>Mar 2022</th>\n",
       "      <th>Apr 2022</th>\n",
       "      <th>May 2022</th>\n",
       "      <th>Jun 2022</th>\n",
       "      <th>Jul 2022</th>\n",
       "      <th>Aug 2022</th>\n",
       "      <th>Sep 2022</th>\n",
       "      <th>Oct 2022</th>\n",
       "      <th>Nov 2022</th>\n",
       "      <th>Dec 2022</th>\n",
       "      <th>YearTotal</th>\n",
       "    </tr>\n",
       "  </thead>\n",
       "  <tbody>\n",
       "    <tr>\n",
       "      <th>Salary</th>\n",
       "      <td>1000</td>\n",
       "      <td>1000</td>\n",
       "      <td>0</td>\n",
       "      <td>0</td>\n",
       "      <td>0</td>\n",
       "      <td>0</td>\n",
       "      <td>0</td>\n",
       "      <td>0</td>\n",
       "      <td>0</td>\n",
       "      <td>1000</td>\n",
       "      <td>1000</td>\n",
       "      <td>0</td>\n",
       "      <td>4000</td>\n",
       "    </tr>\n",
       "    <tr>\n",
       "      <th>Bonus</th>\n",
       "      <td>100</td>\n",
       "      <td>0</td>\n",
       "      <td>0</td>\n",
       "      <td>0</td>\n",
       "      <td>0</td>\n",
       "      <td>0</td>\n",
       "      <td>0</td>\n",
       "      <td>0</td>\n",
       "      <td>0</td>\n",
       "      <td>300</td>\n",
       "      <td>10</td>\n",
       "      <td>0</td>\n",
       "      <td>410</td>\n",
       "    </tr>\n",
       "    <tr>\n",
       "      <th>Taxes</th>\n",
       "      <td>-300</td>\n",
       "      <td>-300</td>\n",
       "      <td>0</td>\n",
       "      <td>0</td>\n",
       "      <td>0</td>\n",
       "      <td>0</td>\n",
       "      <td>0</td>\n",
       "      <td>0</td>\n",
       "      <td>0</td>\n",
       "      <td>-300</td>\n",
       "      <td>-300</td>\n",
       "      <td>0</td>\n",
       "      <td>-1200</td>\n",
       "    </tr>\n",
       "    <tr>\n",
       "      <th>TotalBrutto</th>\n",
       "      <td>800</td>\n",
       "      <td>700</td>\n",
       "      <td>0</td>\n",
       "      <td>0</td>\n",
       "      <td>0</td>\n",
       "      <td>0</td>\n",
       "      <td>0</td>\n",
       "      <td>0</td>\n",
       "      <td>0</td>\n",
       "      <td>1000</td>\n",
       "      <td>710</td>\n",
       "      <td>0</td>\n",
       "      <td>3210</td>\n",
       "    </tr>\n",
       "  </tbody>\n",
       "</table>\n",
       "</div>"
      ],
      "text/plain": [
       "Variable     Jan 2022  Feb 2022  Mar 2022  Apr 2022  May 2022  Jun 2022  \\\n",
       "Salary           1000      1000         0         0         0         0   \n",
       "Bonus             100         0         0         0         0         0   \n",
       "Taxes            -300      -300         0         0         0         0   \n",
       "TotalBrutto       800       700         0         0         0         0   \n",
       "\n",
       "Variable     Jul 2022  Aug 2022  Sep 2022  Oct 2022  Nov 2022  Dec 2022  \\\n",
       "Salary              0         0         0      1000      1000         0   \n",
       "Bonus               0         0         0       300        10         0   \n",
       "Taxes               0         0         0      -300      -300         0   \n",
       "TotalBrutto         0         0         0      1000       710         0   \n",
       "\n",
       "Variable     YearTotal  \n",
       "Salary            4000  \n",
       "Bonus              410  \n",
       "Taxes            -1200  \n",
       "TotalBrutto       3210  "
      ]
     },
     "execution_count": 1,
     "metadata": {},
     "output_type": "execute_result"
    }
   ],
   "source": [
    "import pandas as pd\n",
    "import datetime as dt\n",
    "\n",
    "df = pd.read_csv('csv/data.csv')\n",
    "\n",
    "df['date'] = df['Month']+' '+df['Year'].astype(str)\n",
    "\n",
    "dates_df = pd.DataFrame([d.strftime('%b %Y') for d in pd.date_range('Jan 2022','Jan 2023',freq='M')],columns=['date'])\n",
    "\n",
    "new_df = pd.pivot_table(df, values='Amount', index=['Variable'],\n",
    "                    columns=['date'], aggfunc=sum, fill_value=0).T\\\n",
    "                        .merge(dates_df,on='date',how='right').T\\\n",
    "                           .fillna(0).rename(index={'date':'Variable'}).T.set_index('Variable')\\\n",
    "                            .T.assign(YearTotal = lambda x: x.sum(axis=1).astype(int))\\\n",
    "                                .reindex(['Salary','Bonus', 'Taxes']).astype('int32')\n",
    "\n",
    "new_df.loc['TotalBrutto'] = new_df.sum()      \n",
    "new_df"
   ]
  },
  {
   "cell_type": "markdown",
   "metadata": {},
   "source": [
    "Next to no chance in correctly explaining what goes on above."
   ]
  },
  {
   "cell_type": "markdown",
   "metadata": {},
   "source": [
    "Next tablite:"
   ]
  },
  {
   "cell_type": "code",
   "execution_count": 2,
   "metadata": {},
   "outputs": [
    {
     "name": "stderr",
     "output_type": "stream",
     "text": [
      "splitting data.csv for multiprocessing: 100%|██████████| 13/13 [00:00<00:00, 4333.30lines/s]\n",
      "100%|██████████| 1/1 [00:00<00:00,  1.87tasks/s]\n",
      "creating sort index: 100%|██████████| 1/1 [00:00<00:00, 118.50it/s]\n"
     ]
    },
    {
     "data": {
      "text/html": [
       "<div><table border=1><tr><th>#</th><th>Variable</th><th>2022-01</th><th>2022-02</th><th>2022-03</th><th>2022-04</th><th>2022-05</th><th>2022-06</th><th>2022-07</th><th>2022-08</th><th>2022-09</th><th>2022-10</th><th>2022-11</th><th>2022-12</th><th>YearTotal</th></tr><tr><th>row</th><th>str</th><th>int</th><th>int</th><th>int</th><th>int</th><th>int</th><th>int</th><th>int</th><th>int</th><th>int</th><th>int</th><th>int</th><th>int</th><th>int</th></tr><tr><td>0</td><td>Salary</td><td>1000</td><td>1000</td><td>0</td><td>0</td><td>0</td><td>0</td><td>0</td><td>0</td><td>0</td><td>1000</td><td>1000</td><td>0</td><td>4000</td></tr><tr><td>1</td><td>Bonus</td><td>100</td><td>0</td><td>0</td><td>0</td><td>0</td><td>0</td><td>0</td><td>0</td><td>0</td><td>300</td><td>10</td><td>0</td><td>-1200</td></tr><tr><td>2</td><td>Taxes</td><td>-300</td><td>-300</td><td>0</td><td>0</td><td>0</td><td>0</td><td>0</td><td>0</td><td>0</td><td>-300</td><td>-300</td><td>0</td><td>410</td></tr><tr><td>3</td><td>TotalBrutto</td><td>800</td><td>700</td><td>0</td><td>0</td><td>0</td><td>0</td><td>0</td><td>0</td><td>0</td><td>1000</td><td>710</td><td>0</td><td>3210</td></tr></table></div>"
      ],
      "text/plain": [
       "Table(14 columns, 4 rows)"
      ]
     },
     "execution_count": 2,
     "metadata": {},
     "output_type": "execute_result"
    }
   ],
   "source": [
    "from tablite import Table, GroupBy\n",
    "from datetime import datetime,date\n",
    "Table.reset_storage()\n",
    "\n",
    "# 1. Import the data\n",
    "df = Table.import_file('csv/data.csv', import_as='csv')  \n",
    "\n",
    "# 2. create the joined month-year field by adding datetime str.\n",
    "df['date'] = [datetime.strptime(f\"{m} {y}\", '%b %Y').date() for m,y in zip(df['Month'], df['Year'])]  \n",
    "\n",
    "# 3. add zeros for blanks.\n",
    "var_order = ['Salary','Bonus', 'Taxes']\n",
    "for month in range(1,12+1):  \n",
    "    for variable in var_order:\n",
    "        dt = date(2022,month,1)\n",
    "        df.add_rows(\"John Henry\", dt.strftime('%b'), 2022, variable, 0, dt)  \n",
    "\n",
    "# 4. sort by date (not in reverse order), as the tablite pivot keeps the order.\n",
    "df = df.sort(date=False)  \n",
    "\n",
    "# 5. create the pivot.\n",
    "pivot = df.pivot(rows=['Variable'], columns=['date'], functions=[('Amount', GroupBy.sum)])  \n",
    "\n",
    "# 6. remove extra column\n",
    "del pivot['function']  \n",
    "\n",
    "# 7. rename the columns from (date=2022-01-01) to 2022-01\n",
    "for column_name in pivot.columns[1:]:  \n",
    "    new_name = column_name[6:13]\n",
    "    pivot[new_name] = pivot[column_name][:]\n",
    "    del pivot[column_name]\n",
    "\n",
    "# 8. reindex so that taxes are at the bottom.\n",
    "sorted_pivot = pivot.reindex(index=[var_order.index(v) for v in list(pivot['Variable'])])  \n",
    "\n",
    "# 9. create the YearTotal column\n",
    "sorted_pivot['YearTotal'] = [sum(r[1:]) for r in pivot.rows] \n",
    "\n",
    "# 10. Add TotalBrutto.\n",
    "sorted_pivot.add_rows([\"TotalBrutto\"] + [sum(sorted_pivot[c]) for c in sorted_pivot.columns[1:]])  \n",
    "\n",
    "sorted_pivot  # show it."
   ]
  },
  {
   "cell_type": "markdown",
   "metadata": {},
   "source": [
    "Pretty much self explanatory."
   ]
  },
  {
   "cell_type": "markdown",
   "metadata": {},
   "source": []
  }
 ],
 "metadata": {
  "kernelspec": {
   "display_name": "Python 3.10.5 ('pages310')",
   "language": "python",
   "name": "python3"
  },
  "language_info": {
   "codemirror_mode": {
    "name": "ipython",
    "version": 3
   },
   "file_extension": ".py",
   "mimetype": "text/x-python",
   "name": "python",
   "nbconvert_exporter": "python",
   "pygments_lexer": "ipython3",
   "version": "3.10.5"
  },
  "orig_nbformat": 4,
  "vscode": {
   "interpreter": {
    "hash": "6f432a2729e41e111fc68229d0303145971e0c11421dc22cdb03f95edd20be36"
   }
  }
 },
 "nbformat": 4,
 "nbformat_minor": 2
}
