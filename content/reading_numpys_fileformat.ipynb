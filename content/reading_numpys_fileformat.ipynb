{
 "cells": [
  {
   "cell_type": "markdown",
   "metadata": {},
   "source": [
    "# Reading and writing numpys fileformat without np.load and np.save\n",
    "\n",
    "In the numpy manual there's a nice description of the [.npy fileformat](https://numpy.org/devdocs/reference/generated/numpy.lib.format.html#npy-format), with a note under [capabilities](https://numpy.org/devdocs/reference/generated/numpy.lib.format.html#capabilities) that says:\n",
    "\n",
    "> Is straightforward to reverse engineer.<br>Datasets often live longer than the programs that created them.<br>A competent developer should be able to create a solution in their preferred programming language to read most .npy files that they have been given without much documentation.\n",
    "\n",
    "So let's look at a numpy file:"
   ]
  },
  {
   "cell_type": "code",
   "execution_count": 1,
   "metadata": {},
   "outputs": [],
   "source": [
    "import numpy as np"
   ]
  },
  {
   "cell_type": "code",
   "execution_count": 2,
   "metadata": {},
   "outputs": [
    {
     "name": "stdout",
     "output_type": "stream",
     "text": [
      "['100' '111' '122' '133' '144' '155' '166' '177' '188' '199' 'hello'\n",
      " 'world' 'æ']\n"
     ]
    }
   ],
   "source": [
    "fn = \"my.npy\"\n",
    "arr = np.array([str(i) for i in range(100, 200, 11)] + [\"hello\", \"world\"] + [\"æ\"])\n",
    "print(arr)\n",
    "\n",
    "np.save(fn, arr)\n",
    "data = np.load(\"my.npy\")\n",
    "assert np.all(data == arr)"
   ]
  },
  {
   "cell_type": "markdown",
   "metadata": {},
   "source": [
    "No surprises here. With the print statement, we will know if we get the array right at the other end. "
   ]
  },
  {
   "cell_type": "code",
   "execution_count": 3,
   "metadata": {},
   "outputs": [
    {
     "name": "stdout",
     "output_type": "stream",
     "text": [
      "b\"\\x93NUMPY\\x01\\x00v\\x00{'descr': '<U5', 'fortran_order': False, 'shape': (13,), }                                                           \\n1\\x00\\x00\\x000\\x00\\x00\\x000\\x00\\x00\\x00\\x00\\x00\\x00\\x00\\x00\\x00\\x00\\x001\\x00\\x00\\x001\\x00\\x00\\x001\\x00\\x00\\x00\\x00\\x00\\x00\\x00\\x00\\x00\\x00\\x001\\x00\\x00\\x002\\x00\\x00\\x002\\x00\\x00\\x00\\x00\\x00\\x00\\x00\\x00\\x00\\x00\\x001\\x00\\x00\\x003\\x00\\x00\\x003\\x00\\x00\\x00\\x00\\x00\\x00\\x00\\x00\\x00\\x00\\x001\\x00\\x00\\x004\\x00\\x00\\x004\\x00\\x00\\x00\\x00\\x00\\x00\\x00\\x00\\x00\\x00\\x001\\x00\\x00\\x005\\x00\\x00\\x005\\x00\\x00\\x00\\x00\\x00\\x00\\x00\\x00\\x00\\x00\\x001\\x00\\x00\\x006\\x00\\x00\\x006\\x00\\x00\\x00\\x00\\x00\\x00\\x00\\x00\\x00\\x00\\x001\\x00\\x00\\x007\\x00\\x00\\x007\\x00\\x00\\x00\\x00\\x00\\x00\\x00\\x00\\x00\\x00\\x001\\x00\\x00\\x008\\x00\\x00\\x008\\x00\\x00\\x00\\x00\\x00\\x00\\x00\\x00\\x00\\x00\\x001\\x00\\x00\\x009\\x00\\x00\\x009\\x00\\x00\\x00\\x00\\x00\\x00\\x00\\x00\\x00\\x00\\x00h\\x00\\x00\\x00e\\x00\\x00\\x00l\\x00\\x00\\x00l\\x00\\x00\\x00o\\x00\\x00\\x00w\\x00\\x00\\x00o\\x00\\x00\\x00r\\x00\\x00\\x00l\\x00\\x00\\x00d\\x00\\x00\\x00\\xe6\\x00\\x00\\x00\\x00\\x00\\x00\\x00\\x00\\x00\\x00\\x00\\x00\\x00\\x00\\x00\\x00\\x00\\x00\\x00\"\n"
     ]
    }
   ],
   "source": [
    "with open(fn, 'rb') as f:\n",
    "    print(f.read())"
   ]
  },
  {
   "cell_type": "markdown",
   "metadata": {},
   "source": [
    "The header of the binary is also nicely humanly readable."
   ]
  },
  {
   "cell_type": "markdown",
   "metadata": {},
   "source": [
    "The [documentation](https://numpy.org/devdocs/reference/generated/numpy.lib.format.html#format-version-1-0) tells us that:\n",
    "\n",
    "> **Format Version 1.0**<br>\n",
    "> The first 6 bytes are a magic string: exactly \\x93NUMPY.<br>\n",
    "> The next 1 byte is an unsigned byte: the major version number of the file format, e.g. \\x01.<br>\n",
    "> The next 1 byte is an unsigned byte: the minor version number of the file format, e.g. \\x00. Note: the version of the file format is not tied to the version of the numpy package.<br>\n",
    "> The next 2 bytes form a little-endian unsigned short int: the length of the header data HEADER_LEN.<br>\n",
    "> The next HEADER_LEN bytes form the header data describing the array’s format. It is an ASCII string which contains a Python literal expression of a dictionary. It is terminated by a newline > (\\n) and padded with spaces (\\x20) to make the total of len(magic string) + 2 + len(length) + HEADER_LEN be evenly divisible by 64 for alignment purposes.<br>\n",
    "\n",
    "Let's write a function for that:"
   ]
  },
  {
   "cell_type": "code",
   "execution_count": 4,
   "metadata": {},
   "outputs": [],
   "source": [
    "import ast\n",
    "\n",
    "def read(fn):\n",
    "    with open(fn, \"rb\") as f:\n",
    "        arr = f.read(10)\n",
    "        magic = arr[:6]\n",
    "        major = ord(arr[6:7])\n",
    "        assert major == 1, \"tablite should never read version 2 or greater\"\n",
    "        minor = ord(arr[7:8])\n",
    "        header_len = int.from_bytes(arr[8:10], \"little\")\n",
    "        header_str = f.read(header_len)\n",
    "        header = ast.literal_eval(header_str.decode(\"ascii\"))\n",
    "\n",
    "        assert magic == b\"\\x93NUMPY\"\n",
    "        assert (len(arr) + header_len) % 64 == 0\n",
    "        assert isinstance(header, dict)\n",
    "        dtype = np.dtype(header[\"descr\"])  # dtype will be str\n",
    "        fortran_order = header[\"fortran_order\"]\n",
    "        shape = header[\"shape\"]\n",
    "        assert isinstance(fortran_order, bool)\n",
    "        assert isinstance(shape, tuple)\n",
    "        assert len(shape) == 1\n",
    "\n",
    "        array = np.ndarray(shape, dtype=dtype)\n",
    "\n",
    "        data = f.read()\n",
    "        array[:] = np.frombuffer(data, dtype=dtype)\n",
    "    return array"
   ]
  },
  {
   "cell_type": "code",
   "execution_count": 5,
   "metadata": {},
   "outputs": [
    {
     "data": {
      "text/plain": [
       "array(['100', '111', '122', '133', '144', '155', '166', '177', '188',\n",
       "       '199', 'hello', 'world', 'æ'], dtype='<U5')"
      ]
     },
     "execution_count": 5,
     "metadata": {},
     "output_type": "execute_result"
    }
   ],
   "source": [
    "new_array = read(fn)\n",
    "new_array"
   ]
  },
  {
   "cell_type": "code",
   "execution_count": 6,
   "metadata": {},
   "outputs": [],
   "source": [
    "assert np.all(arr == new_array)"
   ]
  },
  {
   "cell_type": "markdown",
   "metadata": {},
   "source": [
    "The next question is then whther can I write the fileformat?\n",
    "\n",
    "First I'll cheat a little using the numpy array, although I'll not use it later..."
   ]
  },
  {
   "cell_type": "code",
   "execution_count": 7,
   "metadata": {},
   "outputs": [],
   "source": [
    "def write(fn, arr):\n",
    "    with open(fn, \"wb\") as f:\n",
    "        magic = b\"\\x93NUMPY\"\n",
    "        major = b\"\\x01\"\n",
    "        minor = b\"\\x00\"\n",
    "        header = {\n",
    "            \"descr\": arr.dtype.str,\n",
    "            \"fortran_order\": False,\n",
    "            \"shape\": arr.shape,\n",
    "        }\n",
    "        header_str = str(header).encode(\"ascii\")\n",
    "        header_len = len(header_str)\n",
    "        padding = 64 - ((len(magic) + len(major) + len(minor) + 2 + header_len)) % 64\n",
    "        f.write(magic)\n",
    "        f.write(major)\n",
    "        f.write(minor)\n",
    "        f.write((header_len + padding).to_bytes(2, \"little\"))\n",
    "        f.write(header_str)\n",
    "        f.write(b\" \" * (padding - 1) + \"\\n\".encode(\"ascii\"))\n",
    "        f.write(arr.tobytes())"
   ]
  },
  {
   "cell_type": "code",
   "execution_count": 8,
   "metadata": {},
   "outputs": [],
   "source": [
    "with open(fn, \"rb\") as f:\n",
    "    blob = f.read()  # I read the original numpy file\n",
    "\n",
    "write(fn, arr)  # I write my file\n",
    "\n",
    "with open(fn, \"rb\") as f: # I read my file\n",
    "    blob2 = f.read()"
   ]
  },
  {
   "cell_type": "code",
   "execution_count": 9,
   "metadata": {},
   "outputs": [
    {
     "name": "stdout",
     "output_type": "stream",
     "text": [
      "b\"\\x93NUMPY\\x01\\x00v\\x00{'descr': '<U5', 'fortran_order': False, 'shape': (13,), }                                                           \\n1\\x00\\x00\\x000\\x00\\x00\\x000\\x00\\x00\\x00\\x00\\x00\\x00\\x00\\x00\\x00\\x00\\x001\\x00\\x00\\x001\\x00\\x00\\x001\\x00\\x00\\x00\\x00\\x00\\x00\\x00\\x00\\x00\\x00\\x001\\x00\\x00\\x002\\x00\\x00\\x002\\x00\\x00\\x00\\x00\\x00\\x00\\x00\\x00\\x00\\x00\\x001\\x00\\x00\\x003\\x00\\x00\\x003\\x00\\x00\\x00\\x00\\x00\\x00\\x00\\x00\\x00\\x00\\x001\\x00\\x00\\x004\\x00\\x00\\x004\\x00\\x00\\x00\\x00\\x00\\x00\\x00\\x00\\x00\\x00\\x001\\x00\\x00\\x005\\x00\\x00\\x005\\x00\\x00\\x00\\x00\\x00\\x00\\x00\\x00\\x00\\x00\\x001\\x00\\x00\\x006\\x00\\x00\\x006\\x00\\x00\\x00\\x00\\x00\\x00\\x00\\x00\\x00\\x00\\x001\\x00\\x00\\x007\\x00\\x00\\x007\\x00\\x00\\x00\\x00\\x00\\x00\\x00\\x00\\x00\\x00\\x001\\x00\\x00\\x008\\x00\\x00\\x008\\x00\\x00\\x00\\x00\\x00\\x00\\x00\\x00\\x00\\x00\\x001\\x00\\x00\\x009\\x00\\x00\\x009\\x00\\x00\\x00\\x00\\x00\\x00\\x00\\x00\\x00\\x00\\x00h\\x00\\x00\\x00e\\x00\\x00\\x00l\\x00\\x00\\x00l\\x00\\x00\\x00o\\x00\\x00\\x00w\\x00\\x00\\x00o\\x00\\x00\\x00r\\x00\\x00\\x00l\\x00\\x00\\x00d\\x00\\x00\\x00\\xe6\\x00\\x00\\x00\\x00\\x00\\x00\\x00\\x00\\x00\\x00\\x00\\x00\\x00\\x00\\x00\\x00\\x00\\x00\\x00\"\n",
      "b\"\\x93NUMPY\\x01\\x00v\\x00{'descr': '<U5', 'fortran_order': False, 'shape': (13,)}                                                             \\n1\\x00\\x00\\x000\\x00\\x00\\x000\\x00\\x00\\x00\\x00\\x00\\x00\\x00\\x00\\x00\\x00\\x001\\x00\\x00\\x001\\x00\\x00\\x001\\x00\\x00\\x00\\x00\\x00\\x00\\x00\\x00\\x00\\x00\\x001\\x00\\x00\\x002\\x00\\x00\\x002\\x00\\x00\\x00\\x00\\x00\\x00\\x00\\x00\\x00\\x00\\x001\\x00\\x00\\x003\\x00\\x00\\x003\\x00\\x00\\x00\\x00\\x00\\x00\\x00\\x00\\x00\\x00\\x001\\x00\\x00\\x004\\x00\\x00\\x004\\x00\\x00\\x00\\x00\\x00\\x00\\x00\\x00\\x00\\x00\\x001\\x00\\x00\\x005\\x00\\x00\\x005\\x00\\x00\\x00\\x00\\x00\\x00\\x00\\x00\\x00\\x00\\x001\\x00\\x00\\x006\\x00\\x00\\x006\\x00\\x00\\x00\\x00\\x00\\x00\\x00\\x00\\x00\\x00\\x001\\x00\\x00\\x007\\x00\\x00\\x007\\x00\\x00\\x00\\x00\\x00\\x00\\x00\\x00\\x00\\x00\\x001\\x00\\x00\\x008\\x00\\x00\\x008\\x00\\x00\\x00\\x00\\x00\\x00\\x00\\x00\\x00\\x00\\x001\\x00\\x00\\x009\\x00\\x00\\x009\\x00\\x00\\x00\\x00\\x00\\x00\\x00\\x00\\x00\\x00\\x00h\\x00\\x00\\x00e\\x00\\x00\\x00l\\x00\\x00\\x00l\\x00\\x00\\x00o\\x00\\x00\\x00w\\x00\\x00\\x00o\\x00\\x00\\x00r\\x00\\x00\\x00l\\x00\\x00\\x00d\\x00\\x00\\x00\\xe6\\x00\\x00\\x00\\x00\\x00\\x00\\x00\\x00\\x00\\x00\\x00\\x00\\x00\\x00\\x00\\x00\\x00\\x00\\x00\"\n"
     ]
    }
   ],
   "source": [
    "print(blob)\n",
    "print(blob2)"
   ]
  },
  {
   "cell_type": "markdown",
   "metadata": {},
   "source": [
    "The blobs look identical aside from an extra comma inserted in the numpy format.\n",
    "\n",
    "With the assertions below we know for sure:"
   ]
  },
  {
   "cell_type": "code",
   "execution_count": 10,
   "metadata": {},
   "outputs": [],
   "source": [
    "data2 = read(fn)  # i read my file\n",
    "assert np.all(data2 == arr)  # I check that the data is the same\n",
    "\n",
    "data3 = np.load(fn)  # I let numpy load my file\n",
    "assert np.all(data3 == arr)  # I check that the data is the same\n"
   ]
  },
  {
   "cell_type": "markdown",
   "metadata": {},
   "source": [
    "In the numpy documentation we can read that [the internal layout](https://numpy.org/devdocs/reference/arrays.ndarray.html#internal-memory-layout-of-an-ndarray) of an ndarray is:\n",
    "\n",
    "> a contiguous one-dimensional segment of computer memory ... combined with an indexing scheme that maps N integers into the location of an item in the block.\n",
    "> The ranges in which the indices can vary is specified by the shape of the array. How many bytes each item takes and how the bytes are interpreted is defined by the data-type object associated with the array.\n",
    "> A segment of memory is inherently 1-dimensional, and there are many different schemes for arranging the items of an N-dimensional array in a 1-dimensional block.\n",
    ">  In a strided scheme, the N-dimensional index $(n_0,n_1,...,n_{N-1})$ corresponds to the offset (in bytes): $$n_{offset} = \\sum_{k=0}^{N-1}s_{k}n_{k}$$ from the beginning of the memory block associated with the array. Here, are integers which specify the strides of the array.\n",
    "\n",
    "As I'm mainly concerned with the 1-dimensional case, I can use the python bytearray as the closest matching datastructure without having to worry about n-dimensional strides."
   ]
  },
  {
   "cell_type": "code",
   "execution_count": 31,
   "metadata": {},
   "outputs": [],
   "source": [
    "import array"
   ]
  },
  {
   "cell_type": "code",
   "execution_count": 32,
   "metadata": {},
   "outputs": [
    {
     "name": "stdout",
     "output_type": "stream",
     "text": [
      "array:    bytearray(b'\\x01\\x00\\x00\\x00\\x03\\x00\\x00\\x00\\x02\\x00\\x00\\x00\\x05\\x00\\x00\\x00\\x04\\x00\\x00\\x00')\n",
      "np.array: bytearray(b'\\x01\\x00\\x00\\x00\\x03\\x00\\x00\\x00\\x02\\x00\\x00\\x00\\x05\\x00\\x00\\x00\\x04\\x00\\x00\\x00')\n",
      "b'\\x01\\x00\\x00\\x00\\x03\\x00\\x00\\x00\\x02\\x00\\x00\\x00\\x05\\x00\\x00\\x00\\x04\\x00\\x00\\x00'\n",
      "b'\\x01\\x00\\x00\\x00\\x03\\x00\\x00\\x00\\x02\\x00\\x00\\x00\\x05\\x00\\x00\\x00\\x04\\x00\\x00\\x00'\n",
      "b'\\x01\\x03\\x02\\x05\\x04'\n"
     ]
    }
   ],
   "source": [
    "a1 = array.array('L',[1,3,2,5,4])\n",
    "a2 = np.array([1,3,2,5,4],dtype=np.int32)\n",
    "print(\"array:   \", bytearray(a1))\n",
    "print(\"np.array:\", bytearray(a2))\n",
    "\n",
    "print(a1.tobytes())\n",
    "print(a2.tobytes())\n",
    "\n",
    "# strip the numpy array\n",
    "print(a2.astype('i1').tobytes())"
   ]
  },
  {
   "cell_type": "code",
   "execution_count": 40,
   "metadata": {},
   "outputs": [
    {
     "data": {
      "text/plain": [
       "b't\\x00e\\x00x\\x00t\\x00'"
      ]
     },
     "execution_count": 40,
     "metadata": {},
     "output_type": "execute_result"
    }
   ],
   "source": [
    "text = \"text\"\n",
    "bext = text.encode(\"utf-8\")\n",
    "arrt = array.array(\"u\", text)\n",
    "arrt.tobytes()"
   ]
  },
  {
   "cell_type": "code",
   "execution_count": 48,
   "metadata": {},
   "outputs": [
    {
     "name": "stdout",
     "output_type": "stream",
     "text": [
      "b'100  111  122  133  144  155  166  177  188  199  helloworld\\xc3\\xa6    '\n"
     ]
    }
   ],
   "source": [
    "data = [str(i) for i in range(100, 200, 11)] + [\"hello\", \"world\"] + [\"æ\"]\n",
    "longest = max(len(i) for i in data)\n",
    "data2 = [i.ljust(longest) for i in data]\n",
    "bdata = b\"\".join([bytes(i, \"utf-8\") for i in data2])\n",
    "print(bdata)\n",
    "\n",
    "\n"
   ]
  },
  {
   "cell_type": "code",
   "execution_count": 49,
   "metadata": {},
   "outputs": [
    {
     "name": "stdout",
     "output_type": "stream",
     "text": [
      "b'100  '\n",
      "b'111  '\n",
      "b'122  '\n",
      "b'133  '\n",
      "b'144  '\n",
      "b'155  '\n",
      "b'166  '\n",
      "b'177  '\n",
      "b'188  '\n",
      "b'199  '\n",
      "b'hello'\n",
      "b'world'\n",
      "b'\\xc3\\xa6   '\n",
      "b' '\n"
     ]
    }
   ],
   "source": [
    "for step in range(0,len(bdata), longest):\n",
    "    print(bdata[step:step+longest])"
   ]
  },
  {
   "cell_type": "code",
   "execution_count": 50,
   "metadata": {},
   "outputs": [
    {
     "name": "stdout",
     "output_type": "stream",
     "text": [
      "100  \n",
      "111  \n",
      "122  \n",
      "133  \n",
      "144  \n",
      "155  \n",
      "166  \n",
      "177  \n",
      "188  \n",
      "199  \n",
      "hello\n",
      "world\n",
      "æ   \n",
      " \n"
     ]
    }
   ],
   "source": [
    "for step in range(0,len(bdata), longest):\n",
    "    print(bdata[step:step+longest].decode('utf-8'))"
   ]
  },
  {
   "cell_type": "markdown",
   "metadata": {},
   "source": [
    "## Conclusions?\n",
    "\n",
    "I really appreciate the beautiful simplicity of the fileformat. \n",
    "\n",
    "I think the next step for me is to read/write `.npy` from `nim`."
   ]
  },
  {
   "cell_type": "code",
   "execution_count": 11,
   "metadata": {},
   "outputs": [],
   "source": [
    "import pathlib\n",
    "pathlib.Path(fn).unlink()"
   ]
  },
  {
   "cell_type": "markdown",
   "metadata": {},
   "source": []
  }
 ],
 "metadata": {
  "kernelspec": {
   "display_name": "pages310",
   "language": "python",
   "name": "python3"
  },
  "language_info": {
   "codemirror_mode": {
    "name": "ipython",
    "version": 3
   },
   "file_extension": ".py",
   "mimetype": "text/x-python",
   "name": "python",
   "nbconvert_exporter": "python",
   "pygments_lexer": "ipython3",
   "version": "3.10.11"
  },
  "orig_nbformat": 4
 },
 "nbformat": 4,
 "nbformat_minor": 2
}
