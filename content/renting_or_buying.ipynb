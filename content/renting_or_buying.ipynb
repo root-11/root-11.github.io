{
 "cells": [
  {
   "cell_type": "markdown",
   "metadata": {},
   "source": [
    "# To buy or rent & invest? A view on the housing market.\n",
    "\n",
    "> I discovered some old notes in my archives and after a recent conversation with a friend about \"why am I renting?\" I decided to share my calculations.\n",
    "\n",
    "For Scotland, the property purchase process is similar to the rest of the UK, although there are some differences in the costs, particularly regarding the tax on property purchases, which is known as Land and Buildings Transaction Tax (LBTT) instead of Stamp Duty Land Tax (SDLT). Also, for first-time buyers, there are reliefs and thresholds that may reduce the overall tax payable. Specifically for first-time buyers in Scotland, there is a LBTT relief that increases the zero-tax threshold, which can significantly reduce the overall tax payable for properties under a certain value. However, for more expensive properties, the LBTT can still be a considerable expense. The rates are progressive, so the percentage only applies to the portion of the property price within each tax band. Let's first understand the process of purchasing a house.\n",
    "\n",
    "The typical process is:\n",
    "\n",
    "1. Budgeting and Mortgage Pre-Approval:\n",
    "    - Determine your budget, taking into account your savings and how much mortgage you can afford.\n",
    "    - It's wise to get a mortgage in principle (also known as an agreement in principle), which gives you an idea of how much a lender might offer you and shows sellers you're a serious buyer.\n",
    "\n",
    "2. Finding a Property:\n",
    "    - Start your property search online on real estate websites, with estate agents, or by looking for property ads in newspapers and local bulletins.\n",
    "    - Consider the location, type of property, size, and other essential criteria that meet your needs.\n",
    "\n",
    "3. Viewings and Making an Offer:\n",
    "    - Arrange viewings for properties you're interested in. It's often advisable to visit a property more than once at different times of the day.\n",
    "    - Once you find a suitable property, make an offer through the estate agent. The offer is usually subject to contract and any surveys you wish to have conducted.\n",
    "\n",
    "4. Hiring Solicitors and Conducting Surveys:\n",
    "    - Upon acceptance of your offer, hire a solicitor or conveyancer to handle the legal aspects of the purchase.\n",
    "    - Your mortgage lender will require a valuation survey to confirm the property's worth. You may also opt for more detailed surveys, such as a Homebuyers Report or a full structural survey, to check for any issues.\n",
    "\n",
    "5. Mortgage Formal Application:\n",
    "    - Proceed with a formal mortgage application through your chosen lender, providing all the necessary documentation and details about the property.\n",
    "\n",
    "6. Exchange of Contracts:\n",
    "    - Once the solicitors have completed all necessary checks, you'll be ready to exchange contracts with the seller. This is when you pay a deposit (usually 10% of the purchase price), and the agreement to buy and sell becomes legally binding.\n",
    "    - You'll also agree on a completion date, which is when the property officially becomes yours.\n",
    "\n",
    "7. Completion:\n",
    "    - On the completion date, your solicitor will transfer the remaining funds to the seller's solicitor, and you'll receive the keys to the property.\n",
    "    - You're now the legal owner of the property and can move in.\n",
    "\n",
    "8. Post-Completion:\n",
    "    - Your solicitor will handle the payment of Stamp Duty Land Tax (if applicable) and register you as the new owner with the Land Registry.\n",
    "\n",
    "9. Moving In:\n",
    "    - Finally, you can move into your new home. You might need to arrange for utilities, broadband, and other services to be set up or transferred to your name.\n",
    "\n",
    "\n",
    "\n",
    "## Index 100\n",
    "\n",
    "In the following calculations an index price is used where the house price is 100. This allows a proportional view of each expense relative to the purchase price. \n",
    "\n",
    "> Please note that these figures are indicative and can vary based on specific circumstances, location, property type, and market conditions. \n",
    "\n",
    "| Step                           | Description                                                                 | Indexed Cost (% of House Price) |\n",
    "|--------------------------------|-----------------------------------------------------------------------------|---------------------------------|\n",
    "| House Price                    | The purchase price of the property                                          | 100                             |\n",
    "| Deposit                        | Typically required at the exchange of contracts, often 10-20% of house price| 10-20                           |\n",
    "| Mortgage Arrangement Fees      | Fees charged by the lender to arrange the mortgage                          | 0-2                             |\n",
    "| Valuation Fee                  | The cost for the mortgage lender to value the property                      | 0.1-0.2                         |\n",
    "| Survey Costs                   | Costs for any additional surveys on the property (optional but recommended) | 0.1-0.5                         |\n",
    "| Solicitor/Conveyancing Fees    | Legal fees for the property transaction                                     | 0.5-1.5                         |\n",
    "| Stamp Duty Land Tax (SDLT)     | Tax on properties over a certain value (varies by price and buyer status)   | 0-12*                           |\n",
    "| Land Registry Fee              | Fee to register the new ownership with the Land Registry                    | 0.1-0.2                         |\n",
    "| Removal Costs                  | Costs to physically move possessions to the new property (optional)         | 0.1-0.5                         |\n",
    "| Initial Repairs/Improvements   | Any immediate work required on the property (highly variable)               | 0-5+                            |\n",
    "| Home Insurance                 | Insurance to cover the property and its contents                            | 0.1-0.3                         |\n",
    "\n",
    "*SDLT rates can vary significantly based on the property price, location (England, Wales, Scotland, or Northern Ireland each have their own rates), and whether you're a first-time buyer or own additional properties. The rates are progressive, and the percentage applies only to the portion of the property price within each tax band. \n",
    " \n",
    "**Please remember these are rough estimates and actual costs can vary. It's important to get up-to-date quotes and advice tailored to your specific situation.\n",
    "\n",
    "Over the lifetime of the mortgage, the principal & interests will have to be paid, which should be added to the overview of the costs.\n",
    "\n",
    "Let's capture some assumptions:"
   ]
  },
  {
   "cell_type": "code",
   "execution_count": 1,
   "metadata": {},
   "outputs": [
    {
     "data": {
      "text/plain": [
       "(23.099999999999998, 35.92388503370836, 59.02388503370835)"
      ]
     },
     "execution_count": 1,
     "metadata": {},
     "output_type": "execute_result"
    }
   ],
   "source": [
    "# Indexed costs without mortgage interest\n",
    "indexed_costs = {\n",
    "    \"Deposit\": 15,  # Assuming an average of 10-20%\n",
    "    \"Mortgage Arrangement Fees\": 1,  # Assuming an average\n",
    "    \"Valuation Fee\": 0.15,  # Mid-point of the range\n",
    "    \"Survey Costs\": 0.3,  # Mid-point of the range\n",
    "    \"Solicitor/Conveyancing Fees\": 1,  # Assuming an average\n",
    "    \"LBTT\": 2.5,  # Assuming a mid-point for first-time buyers, this can vary widely\n",
    "    \"Land Registry Fee\": 0.15,  # Mid-point of the range\n",
    "    \"Removal Costs\": 0.3,  # Mid-point of the range\n",
    "    \"Initial Repairs/Improvements\": 2.5,  # Assuming a mid-point, can vary widely\n",
    "    \"Home Insurance\": 0.2  # Assuming an average\n",
    "}\n",
    "\n",
    "# Summing up the indexed costs\n",
    "total_indexed_cost_without_interest = sum(indexed_costs.values())\n",
    "\n",
    "# Assuming a 25-year mortgage with an average interest rate, let's calculate the total interest paid\n",
    "# For simplicity, we'll use an average interest rate of 3% for the calculation\n",
    "\n",
    "mortgage_amount = 85  # Assuming 85% of the property value is financed, considering the 15% deposit\n",
    "\n",
    "interest_rate = 0.03  # 3% interest rate\n",
    "\n",
    "loan_term_years = 25  # 25 years loan term\n",
    "\n",
    "# Using the formula for the total amount paid for an annuity (mortgage) to calculate total interest paid\n",
    "# Total Paid = P [ r(1 + r)^n ] / [ (1 + r)^n – 1 ], where P = principal, r = monthly interest rate, n = number of payments\n",
    "# Total Interest Paid = Total Paid - Principal\n",
    "\n",
    "monthly_interest_rate = interest_rate / 12\n",
    "number_of_payments = loan_term_years * 12\n",
    "\n",
    "# We need to calculate the monthly payment first and then the total paid.\n",
    "\n",
    "monthly_payment = mortgage_amount * (monthly_interest_rate * (1 + monthly_interest_rate)**number_of_payments) / ((1 + monthly_interest_rate)**number_of_payments - 1)\n",
    "total_paid_over_term = monthly_payment * number_of_payments\n",
    "total_interest_paid = total_paid_over_term - mortgage_amount\n",
    "\n",
    "# Adding the total interest paid as an indexed cost to the total indexed cost without interest\n",
    "total_indexed_cost_with_interest = total_indexed_cost_without_interest + total_interest_paid\n",
    "\n",
    "total_indexed_cost_without_interest, total_interest_paid, total_indexed_cost_with_interest\n"
   ]
  },
  {
   "cell_type": "markdown",
   "metadata": {},
   "source": [
    "The sum of the indexed costs associated with buying a house in Scotland for a first-time buyer, excluding mortgage interest, totals to approximately 23.1% of the house price. When including the total interest paid over a 25-year mortgage term with an average interest rate of 3%, the additional indexed cost is approximately 35.9%. This brings the total indexed cost, including the mortgage interest, to approximately 59.0% of the house price, e.g. index 59.\n",
    "\n",
    "## Future value of house\n",
    "\n",
    "Over the 25 years, the house price purchased at index 100, will rise in monetary value.\n",
    "\n",
    "As property values can fluctuate greatly depending on a multitude of factors, including location, economic conditions, and changes in the housing market, a common long-term average appreciation rate used for such estimations is around 3% per year."
   ]
  },
  {
   "cell_type": "code",
   "execution_count": 2,
   "metadata": {},
   "outputs": [
    {
     "data": {
      "text/plain": [
       "209.3777929654216"
      ]
     },
     "execution_count": 2,
     "metadata": {},
     "output_type": "execute_result"
    }
   ],
   "source": [
    "annual_growth_rate = 0.03  # 3%\n",
    "future_value = 100 * (1+annual_growth_rate)**loan_term_years\n",
    "\n",
    "future_value"
   ]
  },
  {
   "cell_type": "markdown",
   "metadata": {},
   "source": [
    "Using the 3% annual appreciation rate, the compound value of the property will, after 25 years, be 209.38, relative to index 100 at the time of purchase. Whilst this may sound attractive, inflation will cause the house owners purchase power to be reduced. \n",
    "\n",
    "**Inflation**\n",
    "\n",
    "Inflation rates can vary significantly from year to year, but a common long-term average used for such calculations is about 2-3% per year. "
   ]
  },
  {
   "cell_type": "code",
   "execution_count": 3,
   "metadata": {},
   "outputs": [
    {
     "data": {
      "text/plain": [
       "53.939058944928036"
      ]
     },
     "execution_count": 3,
     "metadata": {},
     "output_type": "execute_result"
    }
   ],
   "source": [
    "\n",
    "# Assuming a 2.5% average annual inflation rate\n",
    "annual_inflation_rate = 0.025  # 2.5%\n",
    "\n",
    "# Calculating the future value of 100 units of currency in today's purchasing power after 25 years\n",
    "future_value_inflation_adjusted = 100 / (1 + annual_inflation_rate)**25\n",
    "\n",
    "future_value_inflation_adjusted"
   ]
  },
  {
   "cell_type": "markdown",
   "metadata": {},
   "source": [
    "Using 2.5% average annual inflation rate for this estimation, the amount of money spent on the house (index 100) will be 53.94 after 25 years."
   ]
  },
  {
   "cell_type": "code",
   "execution_count": 4,
   "metadata": {},
   "outputs": [
    {
     "data": {
      "text/plain": [
       "112.93641116520814"
      ]
     },
     "execution_count": 4,
     "metadata": {},
     "output_type": "execute_result"
    }
   ],
   "source": [
    "# Inflation factor calculated as the inverse of the future value in today's purchasing power due to inflation\n",
    "inflation_factor = 100 / future_value_inflation_adjusted\n",
    "\n",
    "# Adjusting the future sales value of the house for inflation\n",
    "inflation_adjusted_house_value_index = future_value / inflation_factor\n",
    "\n",
    "inflation_adjusted_house_value_index\n"
   ]
  },
  {
   "cell_type": "markdown",
   "metadata": {},
   "source": [
    "So the inflation adjusted sales value of a house purchased at index 100 will, after 25 years, have eroded from index 209.38 by the inflation factor (53.94/100) to index 112.94.\n"
   ]
  },
  {
   "cell_type": "code",
   "execution_count": 5,
   "metadata": {},
   "outputs": [
    {
     "data": {
      "text/plain": [
       "159.02388503370835"
      ]
     },
     "execution_count": 5,
     "metadata": {},
     "output_type": "execute_result"
    }
   ],
   "source": [
    "house_index = 100\n",
    "total_costs_index = house_index + total_indexed_cost_with_interest\n",
    "total_costs_index"
   ]
  },
  {
   "cell_type": "markdown",
   "metadata": {},
   "source": [
    "\n",
    "The total cost to the buyer, including the house, associated purchase costs, and interest payments, would be in the range of the house index (100) + purchase costs (around 23.1) + interest costs (59), totaling an index of 182.1.\n",
    "\n",
    "The asset's value after 25 years, adjusted for inflation, is indexed at 112.94. So, in real terms (adjusting for inflation), the buyer has paid a significant amount above the appreciated value of the house, mainly due to the interest payments over the 25 years. \n",
    "\n",
    "The essence is that the total outlay (purchase costs + interest) significantly exceeds the inflation-adjusted increase in the house's value.\n",
    "\n",
    "## The alternative to buying: Renting\n",
    "\n",
    "The alternative to buying is renting. But instead of “just” renting, the comparison requires that the person who rents invests the same amount of money into vanguards or black rocks S&P-500 index funds, instead of buying a house. Investing in a broad stock market index fund is what most pension funds do and is hence considered “safe” through portfolio diversification.\n",
    "\n",
    "**Rent payments**: Equivalent to the mortgage value of index 80-90, spread over 25 years, so that the rent is inflation adjusted. The average rent is then index 4 and for simplicity, we'll consider rent payments to be a constant expense and won't account for them in the investment calculation, as they are the cost of housing in lieu of a mortgage. Below is a chart illustrating the inflation adjusted cost of renting over 25 years.\n",
    "\n",
    "![](../content/artwork/rent_as_index_100.png)<br>\n",
    "*Example: A house purchase of £360,000 is then equivalent to £14,400 annual rent or £1,200 monthly in year 13. The same rent in year 1 is (£1,200 x 2.93/4.00) £878.28 in year 1.*\n",
    "\n",
    "**Investment in S&P 500**: Instead of buying a house, the various purchase-associated expenses and the deposit (previously calculated to index 23.1 of the house purchase price), is invested in the S&P 500 index fund in year 0. Also instead of paying for interests of the mortgage (index 35.9), annual investments are made evenly spread over 25 years.\n",
    "\n",
    "Assuming a conservative 4.5% ***inflation adjusted annual return***, the initial deposit (index 10-20) and purchase expenses invested in the S&P 500 grow to an index of approximately 69.43 over 25 years. \n",
    "The annual investments made instead of mortgage interest payments accumulate to an index of approximately 105.17.\n",
    "Combining both the initial investment and the ongoing annual investments, the total future value of the S&P 500 investment reaches an index of approximately 174.60, adjusted for inflation.\n"
   ]
  },
  {
   "cell_type": "code",
   "execution_count": 6,
   "metadata": {},
   "outputs": [
    {
     "data": {
      "text/plain": [
       "133.46375537647464"
      ]
     },
     "execution_count": 6,
     "metadata": {},
     "output_type": "execute_result"
    }
   ],
   "source": [
    "# Assumptions\n",
    "years = 25\n",
    "\n",
    "# 4.5% inflation adjusted annual return rate (real return)\n",
    "annual_return_rate = 0.045\n",
    "\n",
    "initial_deposit_and_expenses_index = 23.1  # Sum of the deposit and various purchase-associated expenses\n",
    "\n",
    "annual_investment_due_to_interest_index = total_interest_paid / 25  # Annual investment equivalent to mortgage interest, spread over 25 years\n",
    "\n",
    "# Calculate the compound investment:\n",
    "\n",
    "total_future_value_sp500_with_deposit_and_interest = initial_deposit_and_expenses_index\n",
    "\n",
    "for i in range(25):\n",
    "    dividend = total_future_value_sp500_with_deposit_and_interest * annual_return_rate\n",
    "    total_future_value_sp500_with_deposit_and_interest += annual_investment_due_to_interest_index + dividend\n",
    "\n",
    "total_future_value_sp500_with_deposit_and_interest"
   ]
  },
  {
   "cell_type": "markdown",
   "metadata": {},
   "source": [
    "The essence is that putting the same amount of money (purchase costs + interest) significantly exceeds the increase in the house's value.\n",
    "\n",
    "## Capital efficiency\n",
    "\n",
    "Capital efficiency in the context of a house purchase can be thought of as the ratio between the inflation-adjusted increase in the value of the house and the total costs incurred by the homeowner over the same period. It measures how effectively the capital invested in the house has grown over time, taking into account the costs associated with buying, maintaining, and financing the house.\n",
    "\n",
    "Capital efficiency in the context of investments refers to the value generated per unit of investment. \n",
    "\n",
    "Given the outcomes of the two scenarios we can compare their capital efficiency by looking at the final values relative to the initial investment indices.\n",
    "\n",
    "For the house purchase, the final value was an index of approximately 112.94, after accounting for all costs and adjustments for inflation over 25 years. The initial total investment (including the house, deposit, purchase-associated costs, and mortgage interest) was index 159.02.\n",
    "\n",
    "For the renting and investing scenario, the final value of the S&P 500 investments was approximately 174.6, with an initial outlay (covering the deposit, purchase-associated expenses that were instead invested, and the equivalent of mortgage interest payments spread over 25 years) of around 82.1 indices (23.1 for deposit and expenses plus an annualised 35.92 index for mortgage interest, spread over 25 years).\n",
    "\n",
    "To calculate the capital efficiency:\n",
    "\n",
    "- For the house purchase, the capital efficiency ratio would be the final house value index divided by the total investment index.\n",
    "- For the renting and investing scenario, the capital efficiency ratio would be the final investment value index divided by the total investment index.\n",
    "\n",
    "Let's calculate these ratios for a clearer comparison.\n"
   ]
  },
  {
   "cell_type": "code",
   "execution_count": 7,
   "metadata": {},
   "outputs": [
    {
     "data": {
      "text/plain": [
       "(0.7101852098586886, 1.6251515052130505)"
      ]
     },
     "execution_count": 7,
     "metadata": {},
     "output_type": "execute_result"
    }
   ],
   "source": [
    "# Calculating capital efficiency for both scenarios\n",
    "\n",
    "# House purchase scenario\n",
    "investment_house = total_costs_index  # Investment index for house purchase scenario\n",
    "final_value_house = inflation_adjusted_house_value_index  # Final value of the house, adjusted for inflation\n",
    "\n",
    "# Renting and investing scenario\n",
    "initial_investment_rent_invest = initial_deposit_and_expenses_index + total_indexed_cost_with_interest  # Initial investment index for renting and investing scenario\n",
    "final_value_rent_invest = total_future_value_sp500_with_deposit_and_interest  # Final value of the S&P 500 investment, adjusted for inflation\n",
    "\n",
    "# Capital efficiency calculations\n",
    "capital_efficiency_house = final_value_house / investment_house\n",
    "\n",
    "capital_efficiency_rent_invest = final_value_rent_invest / initial_investment_rent_invest\n",
    "\n",
    "capital_efficiency_house, capital_efficiency_rent_invest"
   ]
  },
  {
   "cell_type": "markdown",
   "metadata": {},
   "source": [
    "The capital efficiency for the house purchase scenario is approximately 0.71, indicating that for every index unit invested, the return is less than the initial investment, reflecting a decrease in value when adjusted for inflation and costs over 25 years. In contrast, the capital efficiency for renting and investing in the S&P 500 scenario is approximately 1.62, showing that for every index unit invested, the return more than doubles the initial investment, even after adjusting for inflation. \n",
    "This analysis suggests that, from a purely financial perspective and based on the assumptions made, investing in the S&P 500 over 25 years offers a significantly higher capital efficiency compared to purchasing a house."
   ]
  },
  {
   "cell_type": "code",
   "execution_count": 8,
   "metadata": {},
   "outputs": [
    {
     "data": {
      "text/plain": [
       "2.288348845699589"
      ]
     },
     "execution_count": 8,
     "metadata": {},
     "output_type": "execute_result"
    }
   ],
   "source": [
    "relative_performance = capital_efficiency_rent_invest/capital_efficiency_house\n",
    "relative_performance"
   ]
  },
  {
   "cell_type": "markdown",
   "metadata": {},
   "source": [
    "This means, in simple terms, that investment in the rent+invest strategy is ~2.3 times better than the buy-house strategy.\n",
    "\n",
    "I lieu of these calculation my friend made a very clear point:\n",
    "\n",
    "> The market conditions change, but people don't change their mentality."
   ]
  }
 ],
 "metadata": {
  "kernelspec": {
   "display_name": ".env",
   "language": "python",
   "name": "python3"
  },
  "language_info": {
   "codemirror_mode": {
    "name": "ipython",
    "version": 3
   },
   "file_extension": ".py",
   "mimetype": "text/x-python",
   "name": "python",
   "nbconvert_exporter": "python",
   "pygments_lexer": "ipython3",
   "version": "3.11.6"
  }
 },
 "nbformat": 4,
 "nbformat_minor": 2
}
