{
 "cells": [
  {
   "cell_type": "markdown",
   "metadata": {
    "collapsed": true,
    "pycharm": {
     "name": "#%% md\n"
    }
   },
   "source": [
    "# Match and replace text.\n",
    "\n",
    "Let's say some gave you a repo where a class exists with the a property `A.bb` but\n",
    "someone also decided to but in `A.b` together with `A.bbb`.\n",
    "\n",
    "You needed to refactor some names and rename `bb` to `c`.\n",
    "\n",
    "`text.replace(old,new,count)` doesn't really play well with the code:"
   ]
  },
  {
   "cell_type": "code",
   "execution_count": 1,
   "outputs": [],
   "source": [
    "text = \"\"\"\n",
    "A.b\n",
    "A.bb\n",
    "A.bbb\n",
    "\"\"\""
   ],
   "metadata": {
    "collapsed": false,
    "pycharm": {
     "name": "#%%\n"
    }
   }
  },
  {
   "cell_type": "code",
   "execution_count": 2,
   "outputs": [
    {
     "name": "stdout",
     "output_type": "stream",
     "text": [
      "\n",
      "A.b\n",
      "A.c\n",
      "A.cb\n",
      "\n"
     ]
    }
   ],
   "source": [
    "print(text.replace('bb', 'c'))"
   ],
   "metadata": {
    "collapsed": false,
    "pycharm": {
     "name": "#%%\n"
    }
   }
  },
  {
   "cell_type": "markdown",
   "source": [
    "As you can see, the property `A.bbb` became `A.cb` which defeats the purpose.\n",
    "\n",
    "You could of course include `A.bb` in the text, but that's just playing on the specific example I've been able to come up with.\n",
    "\n",
    "A better option: Include the **name space** which the text shouldn't be\n",
    "confused with.\n",
    "\n",
    "Let's start with a very generic test case:"
   ],
   "metadata": {
    "collapsed": false,
    "pycharm": {
     "name": "#%% md\n"
    }
   }
  },
  {
   "cell_type": "code",
   "execution_count": 3,
   "outputs": [],
   "source": [
    "text = '111011010110111'"
   ],
   "metadata": {
    "collapsed": false,
    "pycharm": {
     "name": "#%%\n"
    }
   }
  },
  {
   "cell_type": "markdown",
   "source": [
    "We want to replace `11` in the text with `2`, so it becomes:"
   ],
   "metadata": {
    "collapsed": false,
    "pycharm": {
     "name": "#%% md\n"
    }
   }
  },
  {
   "cell_type": "code",
   "execution_count": 4,
   "outputs": [],
   "source": [
    "text = '1110201020111'"
   ],
   "metadata": {
    "collapsed": false,
    "pycharm": {
     "name": "#%%\n"
    }
   }
  },
  {
   "cell_type": "markdown",
   "source": [
    "We could expand the test case to include replacements which are both shorter, equal to and longer than the original `11` we are looking for:"
   ],
   "metadata": {
    "collapsed": false,
    "pycharm": {
     "name": "#%% md\n"
    }
   }
  },
  {
   "cell_type": "code",
   "execution_count": 5,
   "outputs": [],
   "source": [
    "def test_1():\n",
    "    name_space = ['111', '11', '1']\n",
    "    text = '111011010110111'\n",
    "    old = '11'\n",
    "\n",
    "    expected = \"1110{n}010{n}0111\"\n",
    "    for new in ['2', '22', '222']:\n",
    "        output = replace(text, old, new, name_space)\n",
    "        assert output == expected.format(n=new)"
   ],
   "metadata": {
    "collapsed": false,
    "pycharm": {
     "name": "#%%\n"
    }
   }
  },
  {
   "cell_type": "markdown",
   "source": [
    "To satisfy the test case, we will only need the replace function:"
   ],
   "metadata": {
    "collapsed": false,
    "pycharm": {
     "name": "#%% md\n"
    }
   }
  },
  {
   "cell_type": "code",
   "execution_count": 6,
   "outputs": [],
   "source": [
    "def replace(text, old, new, name_space):\n",
    "    if name_space and old not in name_space:\n",
    "        raise ValueError(f\"{old} is not in the namespace\")\n",
    "\n",
    "    # eliminate all irrelevant names from the name_space\n",
    "    reduced_name_space = [n for n in name_space if old in n]\n",
    "    # and create a bitmap for longer names where the target is within the name\n",
    "    # but obviously shouldn't be overwritten:\n",
    "    bytemap = [0 for _ in text]\n",
    "    names = sorted(reduced_name_space, key=lambda x: len(x), reverse=True)\n",
    "    for name in names:\n",
    "        value = 2 if name == old else 1\n",
    "\n",
    "        index = 0\n",
    "        for i in range(text.count(name)):\n",
    "            index = text.index(name, index)\n",
    "            if bytemap[index] == 0:\n",
    "                for j, letter in enumerate(name):\n",
    "                    bytemap[j+index] = value\n",
    "            index += len(name)\n",
    "    # at this point the only match that has a 2 in the bitmap will be the\n",
    "    # target (looking_for)\n",
    "    if 2 not in bytemap:\n",
    "        raise ValueError(f\"{old} not found\")\n",
    "\n",
    "    new_text = []\n",
    "\n",
    "    start, end = 0, 0\n",
    "    while end < len(bytemap):\n",
    "        try:\n",
    "            end = bytemap.index(2, start)\n",
    "        except ValueError:\n",
    "            end = len(bytemap)\n",
    "        new_text.append( text[start:end] )\n",
    "\n",
    "        if end < len(bytemap):\n",
    "            new_text.append(new)\n",
    "            start = end + len(old)\n",
    "\n",
    "    return \"\".join(new_text)"
   ],
   "metadata": {
    "collapsed": false,
    "pycharm": {
     "name": "#%%\n"
    }
   }
  },
  {
   "cell_type": "markdown",
   "source": [
    "Now the test will work:"
   ],
   "metadata": {
    "collapsed": false,
    "pycharm": {
     "name": "#%% md\n"
    }
   }
  },
  {
   "cell_type": "code",
   "execution_count": 7,
   "outputs": [
    {
     "name": "stdout",
     "output_type": "stream",
     "text": [
      "11 --> 2 = 1110201020111\n",
      "11 --> 22 = 111022010220111\n",
      "11 --> 222 = 11102220102220111\n"
     ]
    }
   ],
   "source": [
    "name_space = ['111', '11', '1']\n",
    "text = '111011010110111'\n",
    "old = '11'\n",
    "\n",
    "expected = \"1110{n}010{n}0111\"\n",
    "for new in ['2', '22', '222']:\n",
    "    output = replace(text, old, new, name_space)\n",
    "    assert output == expected.format(n=new)\n",
    "    print(old, \"-->\", new, \"=\", output)"
   ],
   "metadata": {
    "collapsed": false,
    "pycharm": {
     "name": "#%%\n"
    }
   }
  },
  {
   "cell_type": "markdown",
   "source": [
    "Some comments:\n",
    "\n",
    "- The code is reasonably performant as the name_space is reduced to substrings which contain the `old` string.\n",
    "- As the search starts with the longest name that contains the substring, the risk of overwrite is zero.\n",
    "- Updating the bytemap (not bitmap) is also very efficient as we only flip a digit when we have match.\n",
    "- The search for replacements operates on \"chunks\", whereby the slicing operation doesn't duplicate the characters, but merely sets a pointer.\n",
    "- Finally we use `.join` to generate the output string.\n",
    "\n",
    "For my tooling needs, I'm satisfied."
   ],
   "metadata": {
    "collapsed": false,
    "pycharm": {
     "name": "#%% md\n"
    }
   }
  }
 ],
 "metadata": {
  "kernelspec": {
   "name": "pycharm-d2eb47b4",
   "language": "python",
   "display_name": "PyCharm (github-pages)"
  },
  "language_info": {
   "codemirror_mode": {
    "name": "ipython",
    "version": 2
   },
   "file_extension": ".py",
   "mimetype": "text/x-python",
   "name": "python",
   "nbconvert_exporter": "python",
   "pygments_lexer": "ipython2",
   "version": "2.7.6"
  }
 },
 "nbformat": 4,
 "nbformat_minor": 0
}
