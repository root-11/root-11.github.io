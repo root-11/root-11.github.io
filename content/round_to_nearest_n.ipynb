{
 "cells": [
  {
   "cell_type": "markdown",
   "metadata": {
    "collapsed": true,
    "pycharm": {
     "name": "#%% md\n"
    }
   },
   "source": [
    "# Rounding to nearest value\n",
    "\n",
    "Rounding the way it should be done."
   ]
  },
  {
   "cell_type": "code",
   "execution_count": 1,
   "outputs": [],
   "source": [
    "import math\n",
    "\n",
    "\n",
    "def xround(value, multiple=5.07, up=True):\n",
    "    \"\"\" a nicer way to round numbers.\n",
    "\n",
    "    :param value: float/integer\n",
    "    :param multiple: base of the rounding.\n",
    "    Examples:\n",
    "        multiple = 1 is the same as rounding to whole integers.\n",
    "        multiple = 0.001 is the same as rounding to 3 digits precision.\n",
    "        mulitple = 5.07 is rounding to nearest multiplier of 5.07\n",
    "    :param up: rounds up if the number is right on the threshold.\n",
    "        xround(1.5, 1, up=True) rounds to 2.\n",
    "        xround(1.5, 1, up=False) rounds to 1.\n",
    "    :return:\n",
    "    \"\"\"\n",
    "    n = int(value / multiple)\n",
    "    rounding = (value - n * multiple) / (multiple / 2)\n",
    "    if math.isclose(rounding, 1):  # dealing with floating point errors.\n",
    "        rounding = 1\n",
    "\n",
    "    if rounding == 1 and up:\n",
    "        n += 1\n",
    "    elif rounding > 1:\n",
    "        n += 1\n",
    "    else:\n",
    "        pass  # n is correct.\n",
    "    return n * multiple"
   ],
   "metadata": {
    "collapsed": false,
    "pycharm": {
     "name": "#%%\n"
    }
   }
  },
  {
   "cell_type": "code",
   "execution_count": 2,
   "outputs": [],
   "source": [
    "assert xround(1.5, 1, True) == 2\n",
    "assert xround(1.5, 1, False) == 1\n",
    "assert xround(1.2345, 0.001, True) == 1.235\n",
    "assert xround(1.2345, 0.001, False) == 1.234\n",
    "assert xround(123, 10, False) == 120\n",
    "assert xround(123, 10, True) == 120\n",
    "assert xround(123, 5.07, False) == 24 * 5.07\n"
   ],
   "metadata": {
    "collapsed": false,
    "pycharm": {
     "name": "#%%\n"
    }
   }
  }
 ],
 "metadata": {
  "kernelspec": {
   "name": "pycharm-d2eb47b4",
   "language": "python",
   "display_name": "PyCharm (github-pages)"
  },
  "language_info": {
   "codemirror_mode": {
    "name": "ipython",
    "version": 2
   },
   "file_extension": ".py",
   "mimetype": "text/x-python",
   "name": "python",
   "nbconvert_exporter": "python",
   "pygments_lexer": "ipython2",
   "version": "2.7.6"
  }
 },
 "nbformat": 4,
 "nbformat_minor": 0
}