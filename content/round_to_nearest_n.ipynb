{
 "cells": [
  {
   "cell_type": "markdown",
   "metadata": {
    "collapsed": true,
    "pycharm": {
     "name": "#%% md\n"
    }
   },
   "source": [
    "# Rounding to nearest value\n",
    "\n",
    "Rounding the way it should be done (v. 2.0)"
   ]
  },
  {
   "cell_type": "code",
   "execution_count": 1,
   "outputs": [],
   "source": [
    "import math\n",
    "\n",
    "\n",
    "def xround(value, multiple, up=None):\n",
    "    \"\"\" a nicer way to round numbers.\n",
    "\n",
    "    :param value: float/integer\n",
    "    :param multiple: base of the rounding.\n",
    "    :param up: None (default) or boolean rounds half, up or down.\n",
    "        xround(1.6, 1) rounds to 2.\n",
    "        xround(1.4, 1) rounds to 1.\n",
    "        xround(1.5, 1, up=True) rounds to 2.\n",
    "        xround(1.5, 1, up=False) rounds to 1.\n",
    "    :return: value\n",
    "\n",
    "    Examples:\n",
    "        multiple = 1 is the same as rounding to whole integers.\n",
    "        multiple = 0.001 is the same as rounding to 3 digits precision.\n",
    "        mulitple = 3.1415 is rounding to nearest multiplier of 3.1415\n",
    "\n",
    "    \"\"\"\n",
    "    low = (value // multiple) * multiple\n",
    "    high = low + multiple\n",
    "    if up is True:\n",
    "        return high\n",
    "    elif up is False:\n",
    "        return low\n",
    "    else:\n",
    "        if abs(high-value) < abs(value-low):\n",
    "            return high\n",
    "        else:\n",
    "            return low\n"
   ],
   "metadata": {
    "collapsed": false,
    "pycharm": {
     "name": "#%%\n"
    }
   }
  },
  {
   "cell_type": "code",
   "execution_count": 2,
   "outputs": [],
   "source": [
    "# round up\n",
    "assert xround(1.6, 1, True) == 2\n",
    "assert xround(1.4, 1, True) == 2\n",
    "# round down\n",
    "assert xround(1.6, 1, False) == 1\n",
    "assert xround(1.4, 1, False) == 1\n",
    "# round half\n",
    "assert xround(1.6, 1) == 2\n",
    "assert xround(1.4, 1) == 1\n",
    "\n",
    "# round half\n",
    "assert xround(16, 10) == 20\n",
    "assert xround(14, 10) == 10\n",
    "\n",
    "# round half\n",
    "assert xround(-16, 10) == -20\n",
    "assert xround(-14, 10) == -10\n",
    "\n",
    "# round to odd multiples\n",
    "assert xround(6, 3.1415, 1) == 2 * 3.1415\n",
    "\n",
    "assert xround(1.2345, 0.001, True) == 1.2349999999999999 and math.isclose(1.2349999999999999, 1.235)\n",
    "assert xround(1.2345, 0.001, False) == 1.234\n",
    "\n",
    "assert xround(123, 100, False) == 100\n",
    "assert xround(123, 100, True) == 200\n",
    "\n",
    "assert xround(123, 5.07, False) == 24 * 5.07"
   ],
   "metadata": {
    "collapsed": false,
    "pycharm": {
     "name": "#%%\n"
    }
   }
  },
  {
   "cell_type": "code",
   "execution_count": null,
   "outputs": [],
   "source": [],
   "metadata": {
    "collapsed": false,
    "pycharm": {
     "name": "#%%\n"
    }
   }
  }
 ],
 "metadata": {
  "kernelspec": {
   "name": "python3",
   "language": "python",
   "display_name": "Python 3 (ipykernel)"
  },
  "language_info": {
   "codemirror_mode": {
    "name": "ipython",
    "version": 2
   },
   "file_extension": ".py",
   "mimetype": "text/x-python",
   "name": "python",
   "nbconvert_exporter": "python",
   "pygments_lexer": "ipython2",
   "version": "2.7.6"
  }
 },
 "nbformat": 4,
 "nbformat_minor": 0
}