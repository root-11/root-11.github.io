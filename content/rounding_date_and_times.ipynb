{
 "cells": [
  {
   "cell_type": "markdown",
   "metadata": {},
   "source": [
    "# Rounding dates and times\n",
    "\n",
    "I often encounter people who struggle to merge two data sets where the datasets\n",
    "have different resolution on datetime. It really shouldn't be a\n",
    "problem, but it often comes to the choice of replacing the last value with zero or similar.\n",
    "I prefer round to floor. Here are a couple of examples:\n",
    "\n",
    "Round a date to the first of the month:  \n",
    "\n",
    "    d = date(1990, 7, 11)\n",
    "    print(d, \"-->\", floor(d, '1M'))  \n",
    "    # 1990-07-11 --> 1990-07-01\n",
    "\n",
    "\n",
    "Round a time down to the nearest 10 minute interval:\n",
    "\n",
    "\n",
    "    t = time(23,47,11)\n",
    "    print(t, \"-->\", floor(t, \"10m\"))  \n",
    "    # 23:47:11 --> 23:40:00 \n",
    "    \n",
    "Round a datetime to a whole hour:\n",
    "\n",
    "\n",
    "    d = datetime(1990, 7, 11, 23, 1, 1)\n",
    "    print(d, \"-->\", floor(d, '1h'))  \n",
    "    # 1990-07-11 23:01:01 --> 1990-07-11 23:00:00\n",
    "\n",
    "\n",
    "Round a date to first of every second month (because I can):\n",
    "\n",
    "\n",
    "    d = date(1990, 7, 11)  \n",
    "    print(d, \"-->\", floor(d, '2M'))  \n",
    "    # 1990-07-11 --> 1990-06-01\n",
    "\n",
    "## So how does it work?  \n",
    "\n",
    "There are 4 parts:\n",
    "\n",
    "\n",
    "First, setting up the reference system requires that we can detect numbers and the\n",
    "letter value used for rounding.\n"
   ]
  },
  {
   "cell_type": "code",
   "execution_count": 4,
   "metadata": {},
   "outputs": [],
   "source": [
    "numbers = set('1234567890')\n",
    "reference = {'Y': 'year', 'M': 'month', 'D': 'day', \n",
    "                'h': 'hour', 'm': 'minute', 's': \"second\", 'u': \"microsecond\"}\n",
    "reference_rank = 'usmhDMY'  # deliberately starting from the smallest value."
   ]
  },
  {
   "cell_type": "markdown",
   "metadata": {},
   "source": [
    "Second, to interpret of the rounding system now boils down to finding the first character\n",
    "and looking it up in the dictionary `reference` "
   ]
  },
  {
   "cell_type": "code",
   "execution_count": 5,
   "metadata": {},
   "outputs": [],
   "source": [
    "def get_interval_reference(interval):\n",
    "    for c in interval:\n",
    "        if c in reference:\n",
    "            return reference[c]\n",
    "    raise ValueError(f\"interval must be one of {reference.keys()}\")"
   ]
  },
  {
   "cell_type": "markdown",
   "metadata": {},
   "source": [
    "Third, interpreting the numerical value works the same way:"
   ]
  },
  {
   "cell_type": "code",
   "execution_count": 6,
   "metadata": {},
   "outputs": [],
   "source": [
    "def get_interval(interval):\n",
    "    return int(\"\".join([i for i in interval if i in numbers]))"
   ]
  },
  {
   "cell_type": "markdown",
   "metadata": {},
   "source": [
    "Fourth and final rounding the value is done easily using all datetime functions\n",
    "`replace` method. We just need to remember one thing: That all values preceding\n",
    "the rounded value must be zero. But that's it."
   ]
  },
  {
   "cell_type": "code",
   "execution_count": 7,
   "metadata": {},
   "outputs": [],
   "source": [
    "\n",
    "from datetime import date, time, datetime\n",
    "\n",
    "def floor(value, interval):\n",
    "    if not isinstance(value, (datetime, date, time)):\n",
    "        raise TypeError(f\"Got {type(value)}, expected datetime, date or time\")\n",
    "    ir = get_interval_reference(interval)  # ex. 10m --> m --> minute\n",
    "    iv = get_interval(interval)            # ex. 10m --> 10\n",
    "    v = getattr(value, ir)                 # ex. 23:47:11 --> 47\n",
    "    floor_v = (v // iv) * iv               # ex. (47 // 10) * 10 = 40\n",
    "    irv = {ir: floor_v}                    # ex. {minute: 40}\n",
    "\n",
    "    for c in reference_rank:  \n",
    "        lower_reference = reference[c]\n",
    "        if lower_reference == ir:\n",
    "            return value.replace(**irv)\n",
    "        if hasattr(value, lower_reference):\n",
    "            min_value = getattr(value.min, lower_reference)\n",
    "            value = value.replace(**{lower_reference: min_value})"
   ]
  },
  {
   "cell_type": "markdown",
   "metadata": {},
   "source": [
    "\n",
    "Here are all the examples computed anew:"
   ]
  },
  {
   "cell_type": "code",
   "execution_count": 8,
   "metadata": {},
   "outputs": [
    {
     "name": "stdout",
     "output_type": "stream",
     "text": [
      "1990-07-11 --> 1990-07-01\n"
     ]
    }
   ],
   "source": [
    "d = date(1990, 7, 11)\n",
    "print(d, \"-->\", floor(d, '1M'))  "
   ]
  },
  {
   "cell_type": "code",
   "execution_count": 9,
   "metadata": {},
   "outputs": [
    {
     "name": "stdout",
     "output_type": "stream",
     "text": [
      "23:47:11 --> 23:40:00\n"
     ]
    }
   ],
   "source": [
    "t = time(23,47,11)\n",
    "print(t, \"-->\", floor(t, \"10m\"))  "
   ]
  },
  {
   "cell_type": "code",
   "execution_count": 10,
   "metadata": {},
   "outputs": [
    {
     "name": "stdout",
     "output_type": "stream",
     "text": [
      "1990-07-11 23:01:01 --> 1990-07-11 23:00:00\n"
     ]
    }
   ],
   "source": [
    "d = datetime(1990, 7, 11, 23, 1, 1)\n",
    "print(d, \"-->\", floor(d, '1h'))  "
   ]
  },
  {
   "cell_type": "code",
   "execution_count": 11,
   "metadata": {},
   "outputs": [
    {
     "name": "stdout",
     "output_type": "stream",
     "text": [
      "1990-07-11 --> 1990-06-01\n"
     ]
    }
   ],
   "source": [
    "d = date(1990, 7, 11)  \n",
    "print(d, \"-->\", floor(d, '2M'))  "
   ]
  },
  {
   "cell_type": "code",
   "execution_count": null,
   "metadata": {},
   "outputs": [],
   "source": []
  }
 ],
 "metadata": {
  "interpreter": {
   "hash": "c4df837ac4477c7435bbd736fb9ba2c8df232961013baf2c3c9d338fc856bbbf"
  },
  "kernelspec": {
   "display_name": "Python 3.6.7 64-bit ('python36': conda)",
   "name": "python3"
  },
  "language_info": {
   "codemirror_mode": {
    "name": "ipython",
    "version": 3
   },
   "file_extension": ".py",
   "mimetype": "text/x-python",
   "name": "python",
   "nbconvert_exporter": "python",
   "pygments_lexer": "ipython3",
   "version": "3.6.7"
  },
  "orig_nbformat": 4
 },
 "nbformat": 4,
 "nbformat_minor": 2
}
