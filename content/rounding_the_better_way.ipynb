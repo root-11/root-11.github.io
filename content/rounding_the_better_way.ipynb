{
 "cells": [
  {
   "cell_type": "markdown",
   "metadata": {},
   "source": [
    "# Rounding the better way. v.2.0\n",
    "\n",
    "In previous posts I wrote about [rounding to nearest multiple](https://github.com/root-11/root-11.github.io/blob/master/content/round_to_nearest_n.ipynb) and [rounding of dates and times](https://github.com/root-11/root-11.github.io/blob/master/content/rounding_date_and_times.ipynb)\n",
    "\n",
    "Here is version 2.0 of that: It rounds `floats`, `ints` and `datetimes`."
   ]
  },
  {
   "cell_type": "code",
   "execution_count": 1,
   "metadata": {},
   "outputs": [],
   "source": [
    "from datetime import date, datetime, time, timedelta, timezone\n",
    "epoch = datetime(2000,1,1,0,0,0,0,timezone.utc)\n",
    "epoch_no_tz = datetime(2000,1,1,0,0,0,0)\n",
    "\n",
    "def xround(value, multiple, up=None):\n",
    "    \"\"\"a nicer way to round numbers.\n",
    "\n",
    "    :param value: float, integer or datetime to be rounded.\n",
    "    :param multiple: float, integer or timedelta to be used as the base of the rounding.\n",
    "    :param up: None (default) or boolean rounds half, up or down.\n",
    "        round(1.6, 1) rounds to 2.\n",
    "        round(1.4, 1) rounds to 1.\n",
    "        round(1.5, 1, up=True) rounds to 2.\n",
    "        round(1.5, 1, up=False) rounds to 1.\n",
    "    :return: rounded value\n",
    "\n",
    "    Examples:\n",
    "\n",
    "    [1] multiple = 1 is the same as rounding to whole integers.\n",
    "    [2] multiple = 0.001 is the same as rounding to 3 digits precision.\n",
    "    [3] mulitple = 3.1415 is rounding to nearest multiplier of 3.1415\n",
    "    [4] value = datetime(2022,8,18,11,14,53,440)\n",
    "    [5] multiple = timedelta(hours=0.5)\n",
    "    [6] xround(value,multiple) is datetime(2022,8,18,11,0)\n",
    "    \"\"\"\n",
    "    epoch = 0\n",
    "    if isinstance(value, (datetime)) and isinstance(multiple, timedelta):\n",
    "        if value.tzinfo is None:\n",
    "            epoch = epoch_no_tz\n",
    "        else:\n",
    "            epoch = epoch\n",
    "\n",
    "    value2 = value - epoch\n",
    "    if value2 == 0:\n",
    "        return value2\n",
    "\n",
    "    low = (value2 // multiple) * multiple\n",
    "    high = low + multiple\n",
    "    if up is True:\n",
    "        return high + epoch\n",
    "    elif up is False:\n",
    "        return low + epoch\n",
    "    else:\n",
    "        if abs((high + epoch) - value) < abs(value - (low + epoch)):\n",
    "            return high + epoch\n",
    "        else:\n",
    "            return low + epoch"
   ]
  },
  {
   "cell_type": "code",
   "execution_count": 2,
   "metadata": {},
   "outputs": [
    {
     "data": {
      "text/plain": [
       "0"
      ]
     },
     "execution_count": 2,
     "metadata": {},
     "output_type": "execute_result"
    }
   ],
   "source": [
    "xround(0,1,up=True)"
   ]
  },
  {
   "cell_type": "markdown",
   "metadata": {},
   "source": [
    "And now to the tests."
   ]
  },
  {
   "cell_type": "code",
   "execution_count": 3,
   "metadata": {},
   "outputs": [],
   "source": [
    "import math\n",
    "# round up\n",
    "assert xround(0,1,True) == 0\n",
    "assert xround(1.6, 1, True) == 2\n",
    "assert xround(1.4, 1, True) == 2\n",
    "# round down\n",
    "assert xround(0,1,False) == 0\n",
    "assert xround(1.6, 1, False) == 1\n",
    "assert xround(1.4, 1, False) == 1\n",
    "# round half\n",
    "assert xround(0,1) == 0\n",
    "assert xround(1.6, 1) == 2\n",
    "assert xround(1.4, 1) == 1\n",
    "\n",
    "# round half\n",
    "assert xround(16, 10) == 20\n",
    "assert xround(14, 10) == 10\n",
    "\n",
    "# round half\n",
    "assert xround(-16, 10) == -20\n",
    "assert xround(-14, 10) == -10\n",
    "\n",
    "# round to odd multiples\n",
    "assert xround(6, 3.1415, 1) == 2 * 3.1415\n",
    "\n",
    "assert xround(1.2345, 0.001, True) == 1.2349999999999999 and math.isclose(1.2349999999999999, 1.235)\n",
    "assert xround(1.2345, 0.001, False) == 1.234\n",
    "\n",
    "assert xround(123, 100, False) == 100\n",
    "assert xround(123, 100, True) == 200\n",
    "\n",
    "assert xround(123, 5.07, False) == 24 * 5.07\n",
    "\n",
    "dt = datetime(2022,8,18,11,14,53,440)\n",
    "\n",
    "td = timedelta(hours=0.5)    \n",
    "assert xround(dt,td, up=False) == datetime(2022,8,18,11,0)\n",
    "assert xround(dt,td, up=None) == datetime(2022,8,18,11,0)\n",
    "assert xround(dt,td, up=True) == datetime(2022,8,18,11,30)\n",
    "\n",
    "td = timedelta(hours=24)\n",
    "assert xround(dt,td, up=False) == datetime(2022,8,18)\n",
    "assert xround(dt,td, up=None) == datetime(2022,8,18)\n",
    "assert xround(dt,td, up=True) == datetime(2022,8,19)\n",
    "\n",
    "\n",
    "td = timedelta(days=0.5)\n",
    "assert xround(dt,td, up=False) == datetime(2022,8,18)\n",
    "assert xround(dt,td, up=None) == datetime(2022,8,18,12)\n",
    "assert xround(dt,td, up=True) == datetime(2022,8,18,12)\n",
    "\n",
    "td = timedelta(days=1.5)\n",
    "assert xround(dt,td, up=False) == datetime(2022,8,18)\n",
    "assert xround(dt,td, up=None) == datetime(2022,8,18)\n",
    "assert xround(dt,td, up=True) == datetime(2022,8,19,12)\n",
    "\n",
    "td = timedelta(seconds=0.5)\n",
    "assert xround(dt,td, up=False) == datetime(2022,8,18,11,14,53,0)\n",
    "assert xround(dt,td, up=None) == datetime(2022,8,18,11,14,53,0)\n",
    "assert xround(dt,td, up=True) == datetime(2022,8,18,11,14,53,500000)\n",
    "\n",
    "td = timedelta(seconds=40000)\n",
    "assert xround(dt,td, up=False) == datetime(2022,8,18,6,40)\n",
    "assert xround(dt,td, up=None) == datetime(2022,8,18,6,40)\n",
    "assert xround(dt,td, up=True) == datetime(2022,8,18,17,46,40)"
   ]
  },
  {
   "cell_type": "markdown",
   "metadata": {},
   "source": [
    "Here's an example determining intervals:"
   ]
  },
  {
   "cell_type": "code",
   "execution_count": 4,
   "metadata": {},
   "outputs": [
    {
     "name": "stdout",
     "output_type": "stream",
     "text": [
      "2022-08-17 00:00:00 < 2022-08-18 06:40:00 < 2022-08-19 00:00:00\n",
      "2022-08-17 00:00:00 < 2022-08-18 18:40:00 < 2022-08-19 00:00:00\n",
      "2022-08-19 00:00:00 < 2022-08-19 06:40:00 < 2022-08-21 00:00:00\n",
      "2022-08-19 00:00:00 < 2022-08-19 18:40:00 < 2022-08-21 00:00:00\n",
      "2022-08-19 00:00:00 < 2022-08-20 06:40:00 < 2022-08-21 00:00:00\n",
      "2022-08-19 00:00:00 < 2022-08-20 18:40:00 < 2022-08-21 00:00:00\n",
      "2022-08-21 00:00:00 < 2022-08-21 06:40:00 < 2022-08-23 00:00:00\n",
      "2022-08-21 00:00:00 < 2022-08-21 18:40:00 < 2022-08-23 00:00:00\n",
      "2022-08-21 00:00:00 < 2022-08-22 06:40:00 < 2022-08-23 00:00:00\n",
      "2022-08-21 00:00:00 < 2022-08-22 18:40:00 < 2022-08-23 00:00:00\n"
     ]
    }
   ],
   "source": [
    "td = timedelta(days=2)\n",
    "for i in range(10):\n",
    "    b = datetime(2022,8,18,6,40) + timedelta(days=i*12/24)\n",
    "    a = xround(b, td, up=False)\n",
    "    c = xround(b, td, up=True)\n",
    "    print(a,\"<\",b, \"<\", c)"
   ]
  },
  {
   "cell_type": "code",
   "execution_count": null,
   "metadata": {},
   "outputs": [],
   "source": []
  }
 ],
 "metadata": {
  "kernelspec": {
   "display_name": "Python 3.10.5 ('pages310')",
   "language": "python",
   "name": "python3"
  },
  "language_info": {
   "codemirror_mode": {
    "name": "ipython",
    "version": 3
   },
   "file_extension": ".py",
   "mimetype": "text/x-python",
   "name": "python",
   "nbconvert_exporter": "python",
   "pygments_lexer": "ipython3",
   "version": "3.10.8"
  },
  "orig_nbformat": 4,
  "vscode": {
   "interpreter": {
    "hash": "6f432a2729e41e111fc68229d0303145971e0c11421dc22cdb03f95edd20be36"
   }
  }
 },
 "nbformat": 4,
 "nbformat_minor": 2
}
