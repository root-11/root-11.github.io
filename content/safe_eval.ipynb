{
 "cells": [
  {
   "cell_type": "markdown",
   "metadata": {},
   "source": [
    "# Safe parsing for `eval`\n",
    "\n",
    "We often want to allow users to execute arbitrary command-like statements without having \n",
    "to write a parser form scratch and at the same time worry that the user might attempt\n",
    "something malicious.\n",
    "\n",
    "Let's start with an example where the user who knows nothing of python needs to perform \n",
    "some math using a custom function, where the data source is a table and the function \n",
    "needs to be performed on each row.\n",
    "\n",
    "| # | A | B | C | D |\n",
    "|---|---|---|---|---|\n",
    "|1|123| 2 | 32|321|\n",
    "|2|133| 2.1 | 33|123|\n",
    "|3|143| 3.1e4 | 34|111|\n",
    "|4|163| 3 | 35|222|\n",
    "|5|143| 4 | 36|333|\n",
    "|6|123| 4 | 37|444|\n",
    "\n",
    "The user defines the function for column **`E`** as:  \n",
    "\n",
    "    `func = \"(int(round(('A'*'B)+('C'*'A') + 4, 0)) + max('D, 'B))/'A'\"`\n",
    "\n",
    "When looping over the table, we want to add column `E` to the table as the result of the function.  \n",
    "To do so, we will need to:  \n",
    "\n",
    "1. check the function for malicious content.\n",
    "2. if okay, evaluate the function and return the result.\n",
    "\n",
    "We start with the table:"
   ]
  },
  {
   "cell_type": "code",
   "execution_count": 1,
   "metadata": {},
   "outputs": [],
   "source": [
    "table = {\n",
    "    0: ['A',   'B', 'C', 'D'],\n",
    "    1: [123,     2,  32, 321],\n",
    "    2: [133,   2.1,  33, 123],\n",
    "    3: [143, 3.1e4,  34, 111],\n",
    "    4: [163,     3,  35, 222],\n",
    "    5: [143,     4,  36, 333],\n",
    "    6: [123,     4,  37, 444],\n",
    "}"
   ]
  },
  {
   "cell_type": "markdown",
   "metadata": {},
   "source": [
    "and the function provided by the user:\n"
   ]
  },
  {
   "cell_type": "code",
   "execution_count": 2,
   "metadata": {},
   "outputs": [],
   "source": [
    "func = \"(int(round(('A'*'B)+('C'*'A') + 4, 0)) + max('D, 'B))/'A'\"\n",
    "new_column_name = \"E\""
   ]
  },
  {
   "cell_type": "markdown",
   "metadata": {},
   "source": [
    "With the following filters, we can check the function by seeing\n",
    "if anything is left after pruning the function.\n"
   ]
  },
  {
   "cell_type": "markdown",
   "metadata": {},
   "source": [
    "## Part 1: The slow way."
   ]
  },
  {
   "cell_type": "markdown",
   "metadata": {},
   "source": [
    "\n",
    "First we need the filters, with the longest word first, so we don't accidentally\n",
    "remove a shorter word that is a sub-string in a longer word, like for example\n",
    "`round` which is permitted in `rounddown`:"
   ]
  },
  {
   "cell_type": "code",
   "execution_count": 3,
   "metadata": {},
   "outputs": [],
   "source": [
    "operators = [\"max\", \"min\", \"int\", \"round\", \"+\", \"-\", \"/\", \"*\", \"(\", \")\", \" \", \",\", \"'\", '\"']\n",
    "operators.sort(key=lambda x: len(x), reverse=True)  # guarantees longest word first.\n",
    "numbers = list('1234567890e.')\n",
    "permitted = operators + numbers"
   ]
  },
  {
   "cell_type": "markdown",
   "metadata": {},
   "source": [
    "The pruning function is straight forward:\n"
   ]
  },
  {
   "cell_type": "code",
   "execution_count": 4,
   "metadata": {},
   "outputs": [],
   "source": [
    "def strip(text, replacements):\n",
    "    for word in replacements:\n",
    "        text = text.replace(word, \"\")\n",
    "        if not text:\n",
    "            break\n",
    "    return text"
   ]
  },
  {
   "cell_type": "markdown",
   "metadata": {},
   "source": [
    "Now we can check the function and raise a value error if it is malformed using something like:\n",
    "\n",
    "```\n",
    "table_headers = table[0]\n",
    "\n",
    "remainder = strip(func)\n",
    "if remainder:\n",
    "    raise ValueError(f\"Bad sign near '{remainder}' in '{func}'\")\n",
    "```\n"
   ]
  },
  {
   "cell_type": "markdown",
   "metadata": {},
   "source": [
    "At this point we now know the function is not malicious, but we don't know if any\n",
    "combination of column names and data can produce malicious content.\n",
    "\n",
    "To process the rows, we will therefore have to substitute each heading with data\n",
    "and check it in the same manner. To do so we need a short helper:"
   ]
  },
  {
   "cell_type": "code",
   "execution_count": 5,
   "metadata": {},
   "outputs": [],
   "source": [
    "def replace(text, dictionary):\n",
    "    for k, v in dictionary.items():\n",
    "        text = text.replace(k, str(v))\n",
    "    return text"
   ]
  },
  {
   "cell_type": "markdown",
   "metadata": {},
   "source": []
  },
  {
   "cell_type": "markdown",
   "metadata": {},
   "source": [
    "The user defined function can now be processed by:\n",
    "\n",
    "1. checking the UDF for invalid content.\n",
    "2. processing each row, by:\n",
    "3. replacing the headers to values from the row.\n",
    "4. getting rid of the remaining text marks.\n",
    "5. check that no malicious content is left in the string\n",
    "6. evaluate the string as if it was math and update the table with the calculated value.\n",
    "\n",
    "Like this:\n"
   ]
  },
  {
   "cell_type": "code",
   "execution_count": 6,
   "metadata": {},
   "outputs": [],
   "source": [
    "def evaluate_custom_expression(user_defined_function, new_column_name, table):\n",
    "    \"\"\"\n",
    "    :param user_defined_function:\n",
    "    :param new_column_name:\n",
    "    :param table:\n",
    "    :return:\n",
    "    \"\"\"\n",
    "\n",
    "    table_headers = table[0]\n",
    "    table[0] += [new_column_name]\n",
    "\n",
    "    remainder = strip(user_defined_function, table_headers + permitted)\n",
    "    if remainder:\n",
    "        raise ValueError(f\"Bad sign near '{strip(func, table_headers + permitted)}' in '{user_defined_function}'\")\n",
    "\n",
    "    for row_index in (i for i in table if i > 0):\n",
    "        data = {k: str(v) for k, v in zip(table_headers, table[row_index])}\n",
    "        new_func = strip(replace(func, data), [\"'\", '\"'])  # replace column names with values and remove text marks.\n",
    "\n",
    "        if strip(new_func, permitted):  # check that no malicious content is left in the string\n",
    "            raise ValueError(f\"Bad sign near '{strip(new_func, permitted)}' in '{func}'\")\n",
    "\n",
    "        table[row_index] += [eval(new_func)]  # evaluate the string as if it was math.\n"
   ]
  },
  {
   "cell_type": "markdown",
   "metadata": {},
   "source": [
    "Example"
   ]
  },
  {
   "cell_type": "code",
   "execution_count": 7,
   "metadata": {},
   "outputs": [
    {
     "name": "stdout",
     "output_type": "stream",
     "text": [
      "0 : ['A', 'B', 'C', 'D', 'E']\n",
      "1 : [123, 2, 32, 321, 36.642276422764226]\n",
      "2 : [133, 2.1, 33, 123, 36.05263157894737]\n",
      "3 : [143, 31000.0, 34, 111, 31250.81118881119]\n",
      "4 : [163, 3, 35, 222, 39.38650306748466]\n",
      "5 : [143, 4, 36, 333, 42.35664335664335]\n",
      "6 : [123, 4, 37, 444, 44.642276422764226]\n"
     ]
    }
   ],
   "source": [
    "evaluate_custom_expression(func, new_column_name, table)\n",
    "for k, v in table.items():\n",
    "    print(k, \":\", v)"
   ]
  },
  {
   "cell_type": "markdown",
   "metadata": {},
   "source": [
    "## Part 2: The faster way.\n",
    "\n",
    "However there is a better way.\n",
    "\n",
    "The code above practically parses the function every time. What if we only parsed the content once?\n",
    "\n",
    "Let's try:"
   ]
  },
  {
   "cell_type": "code",
   "execution_count": 8,
   "metadata": {},
   "outputs": [],
   "source": [
    "import ast  # python interpreters abstract syntax tree.\n",
    "\n",
    "def expression_interpreter(expression, columns):\n",
    "    # using python's compiler.\n",
    "    req_columns = \",\".join(columns)\n",
    "    # Fix expression, which will also throws syntax error if heading has space in line 420\n",
    "\n",
    "    script = f\"def f({req_columns}):\\n    return {expression}\"\n",
    "    tree = ast.parse(script)\n",
    "    code = compile(tree, filename=\"blah\", mode=\"exec\")\n",
    "    namespace = {**globals(), **locals()}\n",
    "    exec(code, namespace)\n",
    "    f = namespace[\"f\"]\n",
    "    if not callable(f):\n",
    "        raise ValueError(f\"The expression could not be parsed: {expression}\")\n",
    "    return f"
   ]
  },
  {
   "cell_type": "markdown",
   "metadata": {},
   "source": [
    "Now we have the ability to transfer an expression into an interpreted python function.\n",
    "\n",
    "Let's try it out:"
   ]
  },
  {
   "cell_type": "code",
   "execution_count": 9,
   "metadata": {},
   "outputs": [
    {
     "name": "stdout",
     "output_type": "stream",
     "text": [
      "<function f at 0x7f28b43553a0>\n"
     ]
    }
   ],
   "source": [
    "func = \"(int(round((A*B)+(C*A) + 4, 0)) + max(D, B))/A\"\n",
    "udf = expression_interpreter(func, ['A','B','C','D'])\n",
    "print(udf)\n"
   ]
  },
  {
   "cell_type": "code",
   "execution_count": 10,
   "metadata": {},
   "outputs": [
    {
     "name": "stdout",
     "output_type": "stream",
     "text": [
      "(A, B, C, D)\n"
     ]
    }
   ],
   "source": [
    "from inspect import signature\n",
    "print(signature(udf))"
   ]
  },
  {
   "cell_type": "code",
   "execution_count": 11,
   "metadata": {},
   "outputs": [
    {
     "data": {
      "text/plain": [
       "36.642276422764226"
      ]
     },
     "execution_count": 11,
     "metadata": {},
     "output_type": "execute_result"
    }
   ],
   "source": [
    "udf(123, 2, 32, 321)  # expected: 36.642276422764226"
   ]
  },
  {
   "cell_type": "markdown",
   "metadata": {},
   "source": [
    "We can now rerun our function with the revised function:"
   ]
  },
  {
   "cell_type": "code",
   "execution_count": 12,
   "metadata": {},
   "outputs": [],
   "source": [
    "def evaluate_custom_expression(new_column_name, table):\n",
    "    \"\"\"\n",
    "    :param user_defined_function:\n",
    "    :param new_column_name:\n",
    "    :param table:\n",
    "    :return:\n",
    "    \"\"\"\n",
    "    table_headers = table[0]\n",
    "    table[0] += [new_column_name]\n",
    "\n",
    "    keys = str(signature(udf))\n",
    "\n",
    "    for row_index in (i for i in table if i > 0):\n",
    "        data = {k: v for k, v in zip(table_headers, table[row_index])if k in keys}\n",
    "        table[row_index] += [udf(**data)]  # evaluate the string as if it was math."
   ]
  },
  {
   "cell_type": "code",
   "execution_count": 13,
   "metadata": {},
   "outputs": [
    {
     "name": "stdout",
     "output_type": "stream",
     "text": [
      "0 : ['A', 'B', 'C', 'D', 'E', 'F']\n",
      "1 : [123, 2, 32, 321, 36.642276422764226, 36.642276422764226]\n",
      "2 : [133, 2.1, 33, 123, 36.05263157894737, 36.05263157894737]\n",
      "3 : [143, 31000.0, 34, 111, 31250.81118881119, 31250.81118881119]\n",
      "4 : [163, 3, 35, 222, 39.38650306748466, 39.38650306748466]\n",
      "5 : [143, 4, 36, 333, 42.35664335664335, 42.35664335664335]\n",
      "6 : [123, 4, 37, 444, 44.642276422764226, 44.642276422764226]\n"
     ]
    }
   ],
   "source": [
    "evaluate_custom_expression('F', table)\n",
    "for k, v in table.items():\n",
    "    print(k, \":\", v)"
   ]
  },
  {
   "cell_type": "markdown",
   "metadata": {},
   "source": [
    "As you see from the print above, the table now has the column `\"F\"` with the exact same value as before, but it doesn't parse every line.\n",
    "\n",
    "**Note**: You still have to scrub the expression for illegal items as in part 1."
   ]
  },
  {
   "cell_type": "markdown",
   "metadata": {},
   "source": []
  }
 ],
 "metadata": {
  "interpreter": {
   "hash": "c4df837ac4477c7435bbd736fb9ba2c8df232961013baf2c3c9d338fc856bbbf"
  },
  "kernelspec": {
   "display_name": "Python 3.6.7 64-bit ('python36': conda)",
   "name": "python3"
  },
  "language_info": {
   "codemirror_mode": {
    "name": "ipython",
    "version": 3
   },
   "file_extension": ".py",
   "mimetype": "text/x-python",
   "name": "python",
   "nbconvert_exporter": "python",
   "pygments_lexer": "ipython3",
   "version": "3.11.6"
  },
  "orig_nbformat": 4
 },
 "nbformat": 4,
 "nbformat_minor": 2
}
