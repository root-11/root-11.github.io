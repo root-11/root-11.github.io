{
 "cells": [
  {
   "attachments": {},
   "cell_type": "markdown",
   "metadata": {},
   "source": [
    "# Scheduling under uncertainty\n",
    "\n"
   ]
  },
  {
   "cell_type": "code",
   "execution_count": null,
   "metadata": {},
   "outputs": [],
   "source": [
    "class Job(object):\n",
    "    def __init__(self, start, end, size):\n",
    "        self.start = start\n",
    "        self.end = end\n",
    "        self.size = size\n",
    "        \n",
    "\n",
    "def is_valid(sequence):\n",
    "    assert all(isinstance(i, Job) for i in sequence)\n",
    "    begin = None\n",
    "    for item in sequence:\n",
    "        assert isinstance(item, Job)\n",
    "        start = item.start if begin is None else max (begin, item.start)\n",
    "        end = start + item.size\n",
    "        if start > item.start:\n",
    "            return False\n",
    "        if end > item.end:\n",
    "            return False\n",
    "    return True\n",
    "\n",
    "def create_schedule(jobs):\n",
    "\n",
    "    job_queue = [ ([0], 0) ]\n",
    "    while job_queue:\n",
    "        seq, order_index = job_queue.pop()\n",
    "\n",
    "        if len(seq) == len(jobs):\n",
    "            if is_valid([jobs[ix] for ix in seq]):\n",
    "                break\n",
    "            else:\n",
    "                continue\n",
    "        new_order_index = order_index+1\n",
    "        \n",
    "        end,start = None,None\n",
    "        for ix in seq + [order_index]:\n",
    "            job = jobs[ix]\n",
    "            start = min(job.start,start) if start is not None else job.start\n",
    "            end = max(job.end, end) if end is not None else end\n",
    "        \n",
    "        for i in range(len(seq)+1):\n",
    "            new_seq = seq[:]  # shallow copy\n",
    "            new_seq.insert(i, new_order_index)\n",
    "\n",
    "            if is_valid([jobs[ix] for ix in seq]):\n",
    "                job_queue.append( (new_seq, new_order_index) )\n",
    "            else:\n",
    "                pass\n",
    "    if not len(seq)==len(jobs):\n",
    "        raise ValueError(\"No valid schedule found\")\n",
    "    \n",
    "    schedule = []\n",
    "    begin = None\n",
    "    for index in seq:\n",
    "        job = jobs[ix]\n",
    "        start = job.start if begin is None else max(job.start, begin)\n",
    "        end = start + job.size\n",
    "        begin = end\n",
    "        schedule.append()\n"
   ]
  }
 ],
 "metadata": {
  "language_info": {
   "name": "python"
  },
  "orig_nbformat": 4
 },
 "nbformat": 4,
 "nbformat_minor": 2
}
