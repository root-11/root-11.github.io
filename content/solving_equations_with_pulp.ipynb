{
 "cells": [
  {
   "cell_type": "markdown",
   "metadata": {
    "collapsed": true,
    "pycharm": {
     "name": "#%% md\n"
    }
   },
   "source": [
    "# Solving equations with help from PuLP\n"
   ]
  },
  {
   "cell_type": "code",
   "execution_count": 1,
   "outputs": [
    {
     "name": "stdout",
     "output_type": "stream",
     "text": [
      "knapsack:\n",
      "MAXIMIZE\n",
      "100*x1 + 60*x2 + 70*x3 + 15*x4 + 15*x5 + 0\n",
      "SUBJECT TO\n",
      "_C1: 52 x1 + 23 x2 + 35 x3 + 15 x4 + 7 x5 <= 60\n",
      "\n",
      "VARIABLES\n",
      "0 <= x1 <= 1 Integer\n",
      "0 <= x2 <= 1 Integer\n",
      "0 <= x3 <= 1 Integer\n",
      "0 <= x4 <= 1 Integer\n",
      "0 <= x5 <= 1 Integer\n",
      "\n",
      "x1 = 0.0\n",
      "x2 = 1.0\n",
      "x3 = 1.0\n",
      "x4 = 0.0\n",
      "x5 = 0.0\n"
     ]
    }
   ],
   "source": [
    "from pulp import *  # bad habit!\n",
    "\n",
    "# KNAPSACK PROBLEM.\n",
    "\n",
    "# maximize:\n",
    "#   z = 100*x_1 + 60*x_2 + 70*x_3 + 15*x_4 + 15*x_5\n",
    "\n",
    "# subject to limits:\n",
    "#   52*x_1 + 23*x_2 + 35*x_3 + 15*x_4 + 7*x_5 <= 60\n",
    "#      X_1                                    in {0,1}\n",
    "#               x_2                           in {0,1}\n",
    "#                        x_3                  in {0,1}\n",
    "#                                 x_4         in {0,1}\n",
    "#                                         x_5 in {0,1}\n",
    "\n",
    "x1 = LpVariable(\"x1\", cat=const.LpBinary)\n",
    "x2 = LpVariable(\"x2\", cat=const.LpBinary)\n",
    "x3 = LpVariable(\"x3\", cat=const.LpBinary)\n",
    "x4 = LpVariable(\"x4\", cat=const.LpBinary)\n",
    "x5 = LpVariable(\"x5\", cat=const.LpBinary)\n",
    "\n",
    "problem = LpProblem(\"knapsack\", LpMaximize)\n",
    "# objective function\n",
    "problem += 100*x1 + 60*x2 + 70*x3 + 15*x4 + 15*x5, \"value\"\n",
    "# constraints\n",
    "problem += 52*x1 + 23*x2 + 35*x3 + 15*x4 + 7*x5 <= 60\n",
    "\n",
    "print(problem)\n",
    "problem.solve()\n",
    "for v in problem.variables():\n",
    "    print(v.name, \"=\", value(v))\n",
    "\n",
    "\n",
    "\n",
    "\n",
    "\n",
    "\n"
   ],
   "metadata": {
    "collapsed": false,
    "pycharm": {
     "name": "#%%\n"
    }
   }
  }
 ],
 "metadata": {
  "kernelspec": {
   "name": "pycharm-d2eb47b4",
   "language": "python",
   "display_name": "PyCharm (github-pages)"
  },
  "language_info": {
   "codemirror_mode": {
    "name": "ipython",
    "version": 2
   },
   "file_extension": ".py",
   "mimetype": "text/x-python",
   "name": "python",
   "nbconvert_exporter": "python",
   "pygments_lexer": "ipython2",
   "version": "2.7.6"
  }
 },
 "nbformat": 4,
 "nbformat_minor": 0
}