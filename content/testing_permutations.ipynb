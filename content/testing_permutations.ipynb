{
 "cells": [
  {
   "cell_type": "markdown",
   "metadata": {
    "collapsed": true,
    "pycharm": {
     "name": "#%% md\n"
    }
   },
   "source": [
    "# How to test for permutations?\n",
    "\n",
    "I ran into a problem: If a test validly can return any of a number of valid permutations, what is the easiest way to check that the permutation is valid?\n",
    "\n",
    "Here's an example from the [Traffic Jam Solver](https://github.com/root-11/graph-theory) from [graph-theory](https://pypi.org/project/graph-theory/):"
   ]
  },
  {
   "cell_type": "code",
   "execution_count": 1,
   "metadata": {
    "pycharm": {
     "is_executing": true,
     "name": "#%%\n"
    }
   },
   "outputs": [],
   "source": [
    "sequence_A = [{2: (3, 4)}, {1: (1, 2)}, {2: (4, 1)}, {1: (2, 3)}]\n",
    "sequence_B = [{2: (3, 2)}, {1: (1, 4)}, {1: (4, 3)}, {2: (2, 1)}]"
   ]
  },
  {
   "cell_type": "markdown",
   "metadata": {
    "pycharm": {
     "name": "#%% md\n"
    }
   },
   "source": [
    "Is sequence_A the same as sequence_B?\n",
    "\n",
    "- In sequence_A vehicle 1 is sent via [1,2,3] and vehicle 2 is sent via [3,4,1].\n",
    "- In sequence_B vehicle 1 is sent via [1,4,3] and vehicle 2 is sent via [3,2,1].\n",
    "\n",
    "![roundabout](artwork/tjs_roundabout.png)\n",
    "\n",
    "Both solutions are valid as they are permutations of going clockwise or counter clock wise through roundabout.\n",
    "\n",
    "So how can we test for permutations without having to generate all valid solutions?\n",
    "\n",
    "I got an idea: Each step in the sequence represents an edge (\"from,to\"), so by creating a graph and comparing the edges, the job should be simple:"
   ]
  },
  {
   "cell_type": "code",
   "execution_count": 2,
   "metadata": {
    "pycharm": {
     "name": "#%%\n"
    }
   },
   "outputs": [
    {
     "name": "stdout",
     "output_type": "stream",
     "text": [
      "Requirement already satisfied: graph-theory in c:\\users\\madsenbj\\anaconda3\\envs\\github-pages\\lib\\site-packages (2021.8.22.41289)\n",
      "Note: you may need to restart the kernel to use updated packages.\n"
     ]
    }
   ],
   "source": [
    "%pip install graph-theory"
   ]
  },
  {
   "cell_type": "code",
   "execution_count": 3,
   "metadata": {
    "pycharm": {
     "is_executing": true,
     "name": "#%%\n"
    }
   },
   "outputs": [],
   "source": [
    "from graph import Graph"
   ]
  },
  {
   "cell_type": "code",
   "execution_count": 4,
   "metadata": {
    "pycharm": {
     "name": "#%%\n"
    }
   },
   "outputs": [],
   "source": [
    "A = Graph()\n",
    "for d in sequence_A:\n",
    "    for k,v in d.items():\n",
    "        A.add_edge(*v, bidirectional=True)"
   ]
  },
  {
   "cell_type": "code",
   "execution_count": 5,
   "metadata": {},
   "outputs": [],
   "source": [
    "B = Graph()\n",
    "for d in sequence_A:\n",
    "    for k,v in d.items():\n",
    "        B.add_edge(*v, bidirectional=True)"
   ]
  },
  {
   "cell_type": "code",
   "execution_count": 6,
   "metadata": {},
   "outputs": [
    {
     "name": "stdout",
     "output_type": "stream",
     "text": [
      "(1, 2, 1) == (1, 2, 1) ? --> True\n",
      "(1, 4, 1) == (1, 4, 1) ? --> True\n",
      "(2, 1, 1) == (2, 1, 1) ? --> True\n",
      "(2, 3, 1) == (2, 3, 1) ? --> True\n",
      "(3, 2, 1) == (3, 2, 1) ? --> True\n",
      "(3, 4, 1) == (3, 4, 1) ? --> True\n",
      "(4, 1, 1) == (4, 1, 1) ? --> True\n",
      "(4, 3, 1) == (4, 3, 1) ? --> True\n"
     ]
    }
   ],
   "source": [
    "for edge1, edge2 in zip(sorted(A.edges()), sorted(B.edges())):\n",
    "    print(edge1,\"==\", edge2,\"? -->\", edge1==edge2)"
   ]
  },
  {
   "cell_type": "markdown",
   "metadata": {},
   "source": [
    "We can therefore - in simple terms - just compare the two graphs:"
   ]
  },
  {
   "cell_type": "code",
   "execution_count": 7,
   "metadata": {},
   "outputs": [
    {
     "data": {
      "text/plain": [
       "True"
      ]
     },
     "execution_count": 7,
     "metadata": {},
     "output_type": "execute_result"
    }
   ],
   "source": [
    "A == B"
   ]
  },
  {
   "cell_type": "markdown",
   "metadata": {},
   "source": [
    "A classic?"
   ]
  }
 ],
 "metadata": {
  "kernelspec": {
   "display_name": "PyCharm (github-pages)",
   "language": "python",
   "name": "pycharm-d2eb47b4"
  },
  "language_info": {
   "codemirror_mode": {
    "name": "ipython",
    "version": 3
   },
   "file_extension": ".py",
   "mimetype": "text/x-python",
   "name": "python",
   "nbconvert_exporter": "python",
   "pygments_lexer": "ipython3",
   "version": "3.9.7"
  }
 },
 "nbformat": 4,
 "nbformat_minor": 1
}