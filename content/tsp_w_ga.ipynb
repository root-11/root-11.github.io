{
 "cells": [
  {
   "cell_type": "markdown",
   "metadata": {},
   "source": [
    "# Solving TSP with Genetic Algorithm (GA)\n",
    "\n",
    "Understanding the principles of genes and mutation as the driving mechanism\n",
    "for evolution is common today. Less common is the availability of a minimal\n",
    "viable [example](example.py), that showcases the method.  \n",
    "So here's an example I've used to enlighten friends, where I deliberately\n",
    "deviate from pep-8 to introduce imports only when they're needed.\n",
    "\n",
    "To solve the Traveling Salesmans Problem (TSP), we need cities to travel to, \n",
    "and to keep the world simple, we have only `x` and `y` to worry about, and\n",
    "use a straight line distance:"
   ]
  },
  {
   "cell_type": "code",
   "execution_count": 3,
   "metadata": {},
   "outputs": [],
   "source": [
    "from collections import namedtuple\n",
    "\n",
    "City = namedtuple(\"City\", [\"x\", \"y\", \"id\"])\n",
    "\n",
    "def distance(a, b):\n",
    "    return ((a.x - b.x) ** 2 + (a.y - b.y) ** 2) ** (1 / 2)"
   ]
  },
  {
   "cell_type": "markdown",
   "metadata": {},
   "source": [
    "With this out of the way, the next element is a map: \n",
    "\n",
    "1. We want to keep the cities in a dictionary, for easy of lookup.\n",
    "2. We want the cities to be on the map, so we set a max `x` and a max `y` value.\n",
    "2. We want to be able to generate the cities somewhat random."
   ]
  },
  {
   "cell_type": "code",
   "execution_count": 2,
   "metadata": {},
   "outputs": [],
   "source": [
    "import random\n",
    "random.seed(43)  # set the seed for repeatability.\n",
    "\n",
    "def make_map(n_cities, x_max=1200, y_max=600):\n",
    "    cities = {}\n",
    "    for city in range(n_cities):\n",
    "        x, y = random.randint(0, x_max), random.randint(0, y_max)\n",
    "        c = City(x, y, id=f\"{x},{y}\")\n",
    "        cities[c.id] = c\n",
    "    return cities"
   ]
  },
  {
   "cell_type": "markdown",
   "metadata": {},
   "source": [
    "We can now make with any number of cities in a single line:\n"
   ]
  },
  {
   "cell_type": "code",
   "execution_count": 4,
   "metadata": {},
   "outputs": [],
   "source": [
    "city_map = make_map(n_cities=5)"
   ]
  },
  {
   "cell_type": "markdown",
   "metadata": {},
   "source": [
    "Making a random route visiting all cities, should also be easy, as we can choose\n",
    "any random sequence that contains all towns:\n"
   ]
  },
  {
   "cell_type": "code",
   "execution_count": 5,
   "metadata": {},
   "outputs": [],
   "source": [
    "def make_random_route(city_map):\n",
    "    \"\"\" creates a random route. \"\"\"\n",
    "    cities = list(city_map)\n",
    "    random.shuffle(cities)\n",
    "    return cities "
   ]
  },
  {
   "cell_type": "markdown",
   "metadata": {},
   "source": [
    "To determine which of two routes is the shorter, it is nice to have a function \n",
    "that does the work for us. Just remember one thing:  \n",
    "The TSP returns to start after traveling through all cities, so the distance\n",
    "must include the consideration that it returns to start after all cities have\n",
    "been visited."
   ]
  },
  {
   "cell_type": "code",
   "execution_count": 6,
   "metadata": {},
   "outputs": [],
   "source": [
    "def route_length(citymap, route):\n",
    "    dist = 0.0\n",
    "    a = route[0]\n",
    "    for b in route[1:] + route[:1]:\n",
    "        city_a, city_b = citymap[a], citymap[b]\n",
    "        dist += distance(city_a, city_b)\n",
    "        a = b\n",
    "    return int(dist)"
   ]
  },
  {
   "cell_type": "markdown",
   "metadata": {},
   "source": [
    "Let's make a helper to look at it:\n"
   ]
  },
  {
   "cell_type": "code",
   "execution_count": 7,
   "metadata": {},
   "outputs": [],
   "source": [
    "from matplotlib import pyplot as plt\n",
    "from itertools import count\n",
    "map_no = count() \n",
    "\n",
    "def plot(citymap, route):\n",
    "    plt.figure()\n",
    "    xs = [c.x for c in citymap.values()]\n",
    "    ys = [c.y for c in citymap.values()]\n",
    "\n",
    "    plt.plot(xs, ys, 'o')\n",
    "\n",
    "    a = route[0]\n",
    "    for b in route[1:] + route[:1]:\n",
    "        city_a, city_b = citymap[a], citymap[b]\n",
    "        plt.plot([city_a.x, city_b.x], [city_a.y, city_b.y], 'bo-', clip_on=False)\n",
    "        a = b\n",
    "\n",
    "    plt.title(\"({}) length: {:,}\".format(next(map_no), route_length(citymap, route)))\n",
    "    plt.show()\n"
   ]
  },
  {
   "cell_type": "markdown",
   "metadata": {},
   "source": [
    "Then plot it:\n"
   ]
  },
  {
   "cell_type": "code",
   "execution_count": 8,
   "metadata": {},
   "outputs": [
    {
     "data": {
      "image/png": "[encoded data removed]",
      "text/plain": [
       "<Figure size 432x288 with 1 Axes>"
      ]
     },
     "metadata": {
      "needs_background": "light"
     },
     "output_type": "display_data"
    }
   ],
   "source": [
    "first_route = make_random_route(city_map)\n",
    "plot(city_map, first_route)"
   ]
  },
  {
   "cell_type": "markdown",
   "metadata": {},
   "source": [
    "From this point we can **_mutate_** our `first_route` simply by changing the order\n",
    "in which we visit the different cities. It would work this way:\n",
    "\n",
    "If we have 9 cities as a list like this:\n",
    "\n",
    "    [1,2,3,4,5,6,7,8,9]\n",
    "   \n",
    "We can select a random index point in the list and swap the numbers in the position \n",
    "before and after the index point \n",
    "\n",
    "    [1,2,3,4,5,6,7,8,9]\n",
    "             ^--- here.\n",
    "\n",
    "The position with the one after:\n",
    "\n",
    "before \\[1,2,3,4,_**5,6**_,7,8,9]\n",
    "after  \\[1,2,3,4,_**6,5**_,7,8,9]\n",
    "\n",
    "We can express this change as a very simple function:"
   ]
  },
  {
   "cell_type": "code",
   "execution_count": 9,
   "metadata": {},
   "outputs": [],
   "source": [
    "def mutate(route):\n",
    "    new_route = route[:]   # copy the route\n",
    "    cut = random.randint(1, len(route)-2)  # select the index point.\n",
    "    new_route[cut], new_route[cut+1] = route[cut+1], route[cut]  # swap the values.\n",
    "    return new_route"
   ]
  },
  {
   "cell_type": "markdown",
   "metadata": {},
   "source": [
    "The one thing that remains to be discussed is the relationship between fitness\n",
    "and evolution. We want the \"fittest\" to be the shortest path.  \n",
    "\n",
    "Lets' try it out and check if the new route is better. Spoiler alert: It won't be."
   ]
  },
  {
   "cell_type": "code",
   "execution_count": 10,
   "metadata": {},
   "outputs": [
    {
     "data": {
      "image/png": "[encoded data removed]",
      "text/plain": [
       "<Figure size 432x288 with 1 Axes>"
      ]
     },
     "metadata": {
      "needs_background": "light"
     },
     "output_type": "display_data"
    }
   ],
   "source": [
    "new_route = mutate(first_route)\n",
    "plot(city_map, new_route)"
   ]
  },
  {
   "cell_type": "code",
   "execution_count": 11,
   "metadata": {},
   "outputs": [
    {
     "name": "stdout",
     "output_type": "stream",
     "text": [
      "distance before: 2701 , distance after: 3480\n"
     ]
    }
   ],
   "source": [
    "before = route_length(city_map, first_route)\n",
    "after = route_length(city_map, new_route)\n",
    "print(\"distance before:\", before, \", distance after:\", after)"
   ]
  },
  {
   "cell_type": "markdown",
   "metadata": {},
   "source": [
    "As you observe, the mutation is not better than the first randomly created \n",
    "route. This leads us to acknowledge that randomised evolution is quite wasteful, \n",
    "despite that it can find a good solution. To overcome this we require retention\n",
    "of the _fittest_ solution:"
   ]
  },
  {
   "cell_type": "code",
   "execution_count": 12,
   "metadata": {},
   "outputs": [
    {
     "name": "stdout",
     "output_type": "stream",
     "text": [
      "shortest distance after 30 : 2285\n"
     ]
    },
    {
     "data": {
      "image/png": "[encoded data removed]",
      "text/plain": [
       "<Figure size 432x288 with 1 Axes>"
      ]
     },
     "metadata": {
      "needs_background": "light"
     },
     "output_type": "display_data"
    }
   ],
   "source": [
    "generations = 30                               # number of generations to explore\n",
    "shortest_distance = float('inf')\n",
    "\n",
    "for _ in range(generations):\n",
    "    new_route = mutate(first_route)            # make mutation\n",
    "    dist = route_length(city_map, new_route)   # measure fitness.\n",
    "    if dist < shortest_distance:               # retain fittest solution.\n",
    "        first_route = new_route\n",
    "        shortest_distance = dist\n",
    "\n",
    "print(\"shortest distance after\", generations, \":\", shortest_distance)\n",
    "plot(city_map, first_route)"
   ]
  },
  {
   "cell_type": "markdown",
   "metadata": {},
   "source": [
    "The for loop will now generate solutions, test their fitness and retain the better.  \n",
    "Each iteration will look like this:\n",
    "\n",
    "![ga_tsp](artwork/ga_tsp.gif) \n",
    "\n",
    "\n",
    "And the winner is:\n",
    "\n",
    "![3](artwork/myplot3.png)"
   ]
  }
 ],
 "metadata": {
  "interpreter": {
   "hash": "c4df837ac4477c7435bbd736fb9ba2c8df232961013baf2c3c9d338fc856bbbf"
  },
  "kernelspec": {
   "display_name": "Python 3.6.7 64-bit ('python36': conda)",
   "name": "python3"
  },
  "language_info": {
   "codemirror_mode": {
    "name": "ipython",
    "version": 3
   },
   "file_extension": ".py",
   "mimetype": "text/x-python",
   "name": "python",
   "nbconvert_exporter": "python",
   "pygments_lexer": "ipython3",
   "version": "3.6.7"
  },
  "orig_nbformat": 4
 },
 "nbformat": 4,
 "nbformat_minor": 2
}
