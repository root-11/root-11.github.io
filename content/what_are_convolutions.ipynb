{
 "cells": [
  {
   "attachments": {},
   "cell_type": "markdown",
   "metadata": {},
   "source": [
    "# What are convolutions?\n",
    "\n",
    "A useful method for both transforming probabilities and differential equations to something useful.\n",
    "\n",
    "Start here: [A nice video from 3 blue 1 brown](https://youtu.be/KuXjwB4LzSA)\n",
    "\n",
    "![](content/artwork/3blue1brown-what-is-a-convolution.png)\n",
    "\n",
    "\n",
    "The remainder are sloppy notes that require more love than I can provide today."
   ]
  },
  {
   "attachments": {},
   "cell_type": "markdown",
   "metadata": {},
   "source": [
    "In signal processing, multidimensional discrete convolution refers to the mathematical operation between two functions f and g on an n-dimensional lattice that produces a third function, also of n-dimensions. Multidimensional discrete convolution is the discrete analog of the multidimensional convolution of functions on Euclidean space. [wiki](https://en.wikipedia.org/wiki/Multidimensional_discrete_convolution)\n",
    "\n",
    "If `a` and `b` are two lists, then the convolution of `a` and `b` are: \n",
    "$$\n",
    "(a * b) = \\sum_{i=1}^{n} a_i \\cdot b_{n-1}\n",
    "$$\n",
    "\n",
    "Note that `b` is reversed, as the convolution calculates the diagonal sum of the cartesion product.\n",
    "\n",
    "Example:\n",
    "\n",
    "$$\n",
    "(1,2,3)* (4,5,6) = (1*4, 2*4+1*5, 3*4+2*5+1*6, 3*5+2*6, 3*6) = (4,13,28,27,18)\n",
    "$$\n",
    "\n",
    "This method of using convolve is particularly useful when multiplying two polynomials:\n",
    "\n",
    "$$\n",
    "(1+2x+3x^2)(4+5x+6x2) = 4+ 13x + 28x^2 + 27x^3 + 18x^4\n",
    "$$\n",
    "\n",
    "The application of convolutions is straight forward, thanks to `numpy` and `scipy.signal`\n"
   ]
  },
  {
   "cell_type": "code",
   "execution_count": 1,
   "metadata": {},
   "outputs": [],
   "source": [
    "import numpy as np\n",
    "import scipy.signal"
   ]
  },
  {
   "cell_type": "code",
   "execution_count": 2,
   "metadata": {},
   "outputs": [],
   "source": [
    "\n",
    "arr1 = np.random.random(10000)\n",
    "arr2 = np.random.random(10000)"
   ]
  },
  {
   "cell_type": "code",
   "execution_count": 3,
   "metadata": {},
   "outputs": [
    {
     "name": "stdout",
     "output_type": "stream",
     "text": [
      "12.7 ms ± 153 µs per loop (mean ± std. dev. of 7 runs, 100 loops each)\n"
     ]
    }
   ],
   "source": [
    "%%timeit\n",
    "one = np.convolve(arr1, arr2)"
   ]
  },
  {
   "cell_type": "code",
   "execution_count": 4,
   "metadata": {},
   "outputs": [
    {
     "name": "stdout",
     "output_type": "stream",
     "text": [
      "385 µs ± 2.52 µs per loop (mean ± std. dev. of 7 runs, 1,000 loops each)\n"
     ]
    }
   ],
   "source": [
    "%%timeit\n",
    "two = scipy.signal.fftconvolve(arr1,arr2)  # Uses fast fourier transformation."
   ]
  },
  {
   "cell_type": "code",
   "execution_count": 5,
   "metadata": {},
   "outputs": [
    {
     "data": {
      "text/plain": [
       "array([0.50463307, 0.44964624, 0.92836526, ..., 0.34637847, 0.43631255,\n",
       "       0.15162397])"
      ]
     },
     "execution_count": 5,
     "metadata": {},
     "output_type": "execute_result"
    }
   ],
   "source": [
    "one = np.convolve(arr1, arr2)\n",
    "one"
   ]
  },
  {
   "cell_type": "code",
   "execution_count": 6,
   "metadata": {},
   "outputs": [
    {
     "data": {
      "text/plain": [
       "array([0.50463307, 0.44964624, 0.92836526, ..., 0.34637847, 0.43631255,\n",
       "       0.15162397])"
      ]
     },
     "execution_count": 6,
     "metadata": {},
     "output_type": "execute_result"
    }
   ],
   "source": [
    "two = scipy.signal.fftconvolve(arr1,arr2)\n",
    "two"
   ]
  },
  {
   "cell_type": "code",
   "execution_count": 7,
   "metadata": {},
   "outputs": [
    {
     "data": {
      "text/plain": [
       "True"
      ]
     },
     "execution_count": 7,
     "metadata": {},
     "output_type": "execute_result"
    }
   ],
   "source": [
    "np.allclose(one,two)  # test if same shape, elements have close enough values"
   ]
  },
  {
   "cell_type": "markdown",
   "metadata": {},
   "source": []
  }
 ],
 "metadata": {
  "kernelspec": {
   "display_name": "pages310",
   "language": "python",
   "name": "python3"
  },
  "language_info": {
   "codemirror_mode": {
    "name": "ipython",
    "version": 3
   },
   "file_extension": ".py",
   "mimetype": "text/x-python",
   "name": "python",
   "nbconvert_exporter": "python",
   "pygments_lexer": "ipython3",
   "version": "3.10.8"
  },
  "orig_nbformat": 4,
  "vscode": {
   "interpreter": {
    "hash": "6f432a2729e41e111fc68229d0303145971e0c11421dc22cdb03f95edd20be36"
   }
  }
 },
 "nbformat": 4,
 "nbformat_minor": 2
}
