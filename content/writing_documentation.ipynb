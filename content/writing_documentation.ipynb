{
 "cells": [
  {
   "cell_type": "markdown",
   "metadata": {},
   "source": [
    "# Writing documentation.\n",
    "\n",
    "My repo of jupyter notes has developed itself into a decent collection of useful stuff.\n",
    "\n",
    "I chose jupyter notebooks because I came to the simple recognition that reproduction of notes was not possible unless it also was executable.\n",
    "\n",
    "The past two days I've looked at writing documentation with various tools and found that [JupyterBook](https://jupyterbook.org/en/stable/intro.html) was exactly what I was looking for. What turned out to be even more convincing is that Jupyter book's documentation is a JupyterBook!\n",
    "\n",
    "The tutorial is very easy to digest:\n",
    "\n",
    "1. In an isolated environment execute: `pip install -U jupyter-book`\n",
    "2. Then create the boilerplate book: `jupyter-book create mynewbook/`\n",
    "3. Edit `mynewbook/_config.yml` for title, author, etc.\n",
    "4. Edit `mynewbook/_toc.yml` for table of contents which can be:\n",
    "   1. markdown.md - which is common markdown. \n",
    "   2. notebooks.ipynb  - The classic notebook format.\n",
    "   3. [MyST markdown notebooks.md](https://jupyterbook.org/en/stable/content/myst.html)  - A human readable flat text format on jupyter notebooks.\n",
    "5. Then build the book using: `jupyter-book build mybookname/`\n",
    "   1. If you are rebuilding and can't see your latest changes, use: `jupyter-book build --all mybookname/` as jupyterbook caches unchanged files.\n",
    "   2. If everything seems wrong use: `jupyter-book clean -a mybookname` followed by `jupyter-book build mybookname/`.\n",
    "\n",
    "That's it."
   ]
  },
  {
   "cell_type": "markdown",
   "metadata": {},
   "source": [
    "The next step is to convert this collection using `ghb-import` to publish the book [automatically](https://jupyterbook.org/en/stable/start/publish.html) on push."
   ]
  }
 ],
 "metadata": {
  "kernelspec": {
   "display_name": "Python 3.10.8 ('pages310')",
   "language": "python",
   "name": "python3"
  },
  "language_info": {
   "name": "python",
   "version": "3.10.8"
  },
  "orig_nbformat": 4,
  "vscode": {
   "interpreter": {
    "hash": "6f432a2729e41e111fc68229d0303145971e0c11421dc22cdb03f95edd20be36"
   }
  }
 },
 "nbformat": 4,
 "nbformat_minor": 2
}
