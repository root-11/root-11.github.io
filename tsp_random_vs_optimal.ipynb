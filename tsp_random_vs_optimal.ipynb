{
 "cells": [
  {
   "attachments": {},
   "cell_type": "markdown",
   "metadata": {},
   "source": [
    "# Scheduling: Is it worth it?\n",
    "\n",
    "In the most generic form - what does one gain from scheduling?\n",
    "\n",
    "Since all scheduling problems are some form of TSP problem, a fair comparison is the difference between randomly visiting all cities, compared to visiting them in the most efficient manner.\n",
    "\n",
    "Let's do a simulation!"
   ]
  },
  {
   "cell_type": "code",
   "execution_count": 1,
   "metadata": {},
   "outputs": [],
   "source": [
    "import random\n",
    "random.seed(42)\n",
    "from graph import Graph\n",
    "from graph.random import random_xy_graph\n",
    "import itertools\n"
   ]
  },
  {
   "attachments": {},
   "cell_type": "markdown",
   "metadata": {},
   "source": [
    "First I'll create a random x,y graph"
   ]
  },
  {
   "cell_type": "code",
   "execution_count": 2,
   "metadata": {},
   "outputs": [
    {
     "name": "stdout",
     "output_type": "stream",
     "text": [
      "[(655, 58), (26, 380), (282, 126), (229, 72), (755, 53), (693, 380), (559, 45), (605, 217), (33, 16), (96, 112), (239, 259), (617, 14), (575, 102), (734, 333), (719, 280), (430, 113), (460, 302), (285, 4), (778, 82), (715, 217)]\n"
     ]
    }
   ],
   "source": [
    "g = random_xy_graph(nodes=20, x_max=800, y_max=400)  # a fully connected graph.\n",
    "print(g.nodes())"
   ]
  },
  {
   "attachments": {},
   "cell_type": "markdown",
   "metadata": {},
   "source": [
    "Then I'll simplify it to use simple node id's whilst keeping the pytagoran distance."
   ]
  },
  {
   "cell_type": "code",
   "execution_count": 3,
   "metadata": {},
   "outputs": [],
   "source": [
    "def simplify(graph):\n",
    "    \"\"\" helper that simplifies the xy to mere node ids.\"\"\"\n",
    "    d = {}\n",
    "    cnt = itertools.count(1)\n",
    "    c2 = []\n",
    "    for s, e, dst in graph.edges():\n",
    "        if s not in d:\n",
    "            d[s] = next(cnt)\n",
    "        if e not in d:\n",
    "            d[e] = next(cnt)\n",
    "        c2.append((d[s], d[e], dst))\n",
    "\n",
    "    g = Graph(from_list=c2)\n",
    "    return g\n",
    "\n",
    "\n",
    "g = simplify(g)"
   ]
  },
  {
   "attachments": {},
   "cell_type": "markdown",
   "metadata": {},
   "source": [
    "As the third step I'll compute a circuit in the graph based on:\n",
    "\n",
    "1. Randomly connect from one node to another.\n",
    "2. Connect to the nearest neighbour."
   ]
  },
  {
   "cell_type": "code",
   "execution_count": 4,
   "metadata": {},
   "outputs": [],
   "source": [
    "def circuit(g, nn=False):\n",
    "    assert isinstance(g, Graph)\n",
    "    start = random.choice(g.nodes())\n",
    "    path = [start]\n",
    "    q = [start]\n",
    "    while q:\n",
    "        n = q.pop(0)\n",
    "        n2s = [(d,s,e) for s,e,d in g.edges(from_node=n) if e not in path]\n",
    "        if not n2s:\n",
    "            return path\n",
    "\n",
    "        if nn:\n",
    "            n2s.sort()  # nearest on top.\n",
    "\n",
    "        d,s,e = n2s[0]\n",
    "        q.append(e)\n",
    "        path.append(e)"
   ]
  },
  {
   "attachments": {},
   "cell_type": "markdown",
   "metadata": {},
   "source": [
    "Now I can run my most basic comparison:"
   ]
  },
  {
   "cell_type": "code",
   "execution_count": 5,
   "metadata": {},
   "outputs": [
    {
     "name": "stdout",
     "output_type": "stream",
     "text": [
      "Length of random circuit: 5791.51737465096\n"
     ]
    }
   ],
   "source": [
    "random_circuit = circuit(g)\n",
    "print(\"Length of random circuit:\", g.distance_from_path(random_circuit))"
   ]
  },
  {
   "cell_type": "code",
   "execution_count": 6,
   "metadata": {},
   "outputs": [
    {
     "name": "stdout",
     "output_type": "stream",
     "text": [
      "Length of nearest neighbour circuit: 2471.6650590127306\n"
     ]
    }
   ],
   "source": [
    "\n",
    "nn_circuit = circuit(g, nn=True)\n",
    "print(\"Length of nearest neighbour circuit:\", g.distance_from_path(nn_circuit))"
   ]
  },
  {
   "cell_type": "code",
   "execution_count": 7,
   "metadata": {},
   "outputs": [
    {
     "name": "stdout",
     "output_type": "stream",
     "text": [
      "Length of TSP circuit: 2718.145963654061\n"
     ]
    }
   ],
   "source": [
    "optimal_distance, optimal_circuit = g.solve_tsp()\n",
    "print(\"Length of TSP circuit:\", optimal_distance)"
   ]
  },
  {
   "attachments": {},
   "cell_type": "markdown",
   "metadata": {},
   "source": [
    "To emphasize:\n",
    "\n",
    "| circuit | length | N | % |\n",
    "|---|---|---|---|\n",
    "| Random circuit | 7060 | 2.597 | 100.00% |\n",
    "| NN circuit | 3073 | 1.131 | 43.53% |\n",
    "| Optimal circuit | 2718 | 1.000 | 38.49% |"
   ]
  },
  {
   "attachments": {},
   "cell_type": "markdown",
   "metadata": {},
   "source": [
    "Let's check how this adds up at scale:"
   ]
  },
  {
   "cell_type": "code",
   "execution_count": 8,
   "metadata": {},
   "outputs": [],
   "source": [
    "results = {'nc': [], 'r': [], 'nn': [], 'o': [] }\n",
    "for node_count in range(5,400,10):\n",
    "    results['nc'].append(node_count)\n",
    "\n",
    "    g = random_xy_graph(nodes=node_count, x_max=800, y_max=400)  # a fully connected graph.\n",
    "    g = simplify(g)\n",
    "    random_circuit = circuit(g)\n",
    "    \n",
    "    results['r'].append(g.distance_from_path(random_circuit))\n",
    "    \n",
    "    nn_circuit = circuit(g, nn=True)\n",
    "    results['nn'].append(g.distance_from_path(nn_circuit))\n",
    "\n",
    "    optimal_distance, optimal_circuit = g.solve_tsp()\n",
    "    results['o'].append(optimal_distance)\n"
   ]
  },
  {
   "attachments": {},
   "cell_type": "markdown",
   "metadata": {},
   "source": [
    "And let's add a little pretty chart:"
   ]
  },
  {
   "cell_type": "code",
   "execution_count": 9,
   "metadata": {},
   "outputs": [],
   "source": [
    "import matplotlib.pyplot as plt\n",
    "import numpy as np"
   ]
  },
  {
   "cell_type": "code",
   "execution_count": 10,
   "metadata": {},
   "outputs": [
    {
     "data": {
      "image/png": "[encoded data removed]",
      "text/plain": [
       "<Figure size 432x288 with 1 Axes>"
      ]
     },
     "metadata": {
      "needs_background": "light"
     },
     "output_type": "display_data"
    }
   ],
   "source": [
    "\n",
    "plt.style.use('_mpl-gallery')\n",
    "\n",
    "# plot\n",
    "fig, ax = plt.subplots()\n",
    "\n",
    "ax.plot(results['nc'], results['r'], linewidth=2.0, label='random')\n",
    "ax.plot(results['nc'], results['nn'], linewidth=2.0, label='nn')\n",
    "ax.plot(results['nc'], results['o'], linewidth=2.0, label='optimal')\n",
    "ax.legend()\n",
    "\n",
    "plt.show()"
   ]
  },
  {
   "cell_type": "code",
   "execution_count": 11,
   "metadata": {},
   "outputs": [
    {
     "name": "stdout",
     "output_type": "stream",
     "text": [
      "The ratio between NN and Optimal retains a 1.1313931828343775 gap\n"
     ]
    }
   ],
   "source": [
    "print(\"The ratio between NN and Optimal retains a\", sum(results['nn']) / sum(results['o']), \"gap\")"
   ]
  },
  {
   "attachments": {},
   "cell_type": "markdown",
   "metadata": {},
   "source": [
    "**Conclusion: \n",
    "\n",
    "| circuit | length | N | % |\n",
    "|---|---|---|---|\n",
    "| Random circuit | n/a | n/a | n/a |\n",
    "| NN circuit | n/a | 1.131 | 100% |\n",
    "| Optimal circuit | n/a | 1.000 | 88.39% |"
   ]
  },
  {
   "cell_type": "markdown",
   "metadata": {},
   "source": []
  }
 ],
 "metadata": {
  "kernelspec": {
   "display_name": "pages310",
   "language": "python",
   "name": "python3"
  },
  "language_info": {
   "codemirror_mode": {
    "name": "ipython",
    "version": 3
   },
   "file_extension": ".py",
   "mimetype": "text/x-python",
   "name": "python",
   "nbconvert_exporter": "python",
   "pygments_lexer": "ipython3",
   "version": "3.10.8"
  },
  "orig_nbformat": 4,
  "vscode": {
   "interpreter": {
    "hash": "6f432a2729e41e111fc68229d0303145971e0c11421dc22cdb03f95edd20be36"
   }
  }
 },
 "nbformat": 4,
 "nbformat_minor": 2
}
